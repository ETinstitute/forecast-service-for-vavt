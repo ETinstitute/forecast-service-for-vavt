{
 "cells": [
  {
   "cell_type": "markdown",
   "id": "13317d80-d0e3-4a06-a9a8-074aec7cc1a1",
   "metadata": {},
   "source": [
    "# Пример работы с прогнозным сервисом\n",
    "\n",
    "Для примера возьмем данные \"Индикатор бизнес-климата ЦБ (промышленность), пункты, Россия\""
   ]
  },
  {
   "cell_type": "code",
   "execution_count": 569,
   "id": "ef1cf8e9-d2ca-4a47-bdf0-bc1682edbd01",
   "metadata": {},
   "outputs": [],
   "source": [
    "import pandas as pd\n",
    "import numpy as np\n",
    "from datetime import date\n",
    "import plotly.graph_objects as go\n",
    "import requests\n",
    "import json"
   ]
  },
  {
   "cell_type": "code",
   "execution_count": 622,
   "id": "72bfaf0a-638e-4f48-a586-ceec8e332da4",
   "metadata": {},
   "outputs": [
    {
     "data": {
      "text/html": [
       "<div>\n",
       "<style scoped>\n",
       "    .dataframe tbody tr th:only-of-type {\n",
       "        vertical-align: middle;\n",
       "    }\n",
       "\n",
       "    .dataframe tbody tr th {\n",
       "        vertical-align: top;\n",
       "    }\n",
       "\n",
       "    .dataframe thead th {\n",
       "        text-align: right;\n",
       "    }\n",
       "</style>\n",
       "<table border=\"1\" class=\"dataframe\">\n",
       "  <thead>\n",
       "    <tr style=\"text-align: right;\">\n",
       "      <th></th>\n",
       "      <th>dataset</th>\n",
       "      <th>date</th>\n",
       "      <th>values</th>\n",
       "    </tr>\n",
       "  </thead>\n",
       "  <tbody>\n",
       "    <tr>\n",
       "      <th>0</th>\n",
       "      <td>62293</td>\n",
       "      <td>01.02.2004</td>\n",
       "      <td>1.283101</td>\n",
       "    </tr>\n",
       "    <tr>\n",
       "      <th>1</th>\n",
       "      <td>62293</td>\n",
       "      <td>01.03.2004</td>\n",
       "      <td>1.316614</td>\n",
       "    </tr>\n",
       "    <tr>\n",
       "      <th>2</th>\n",
       "      <td>62293</td>\n",
       "      <td>01.04.2004</td>\n",
       "      <td>1.544784</td>\n",
       "    </tr>\n",
       "  </tbody>\n",
       "</table>\n",
       "</div>"
      ],
      "text/plain": [
       "   dataset        date    values\n",
       "0    62293  01.02.2004  1.283101\n",
       "1    62293  01.03.2004  1.316614\n",
       "2    62293  01.04.2004  1.544784"
      ]
     },
     "execution_count": 622,
     "metadata": {},
     "output_type": "execute_result"
    }
   ],
   "source": [
    "df = pd.read_csv(f'./raw_data/Новостной идекс ЦБ, Россия — Диаграмма.csv', sep=';')\n",
    "df.columns = ['dataset', 'date', 'values']\n",
    "df.head(3)"
   ]
  },
  {
   "cell_type": "markdown",
   "id": "14a48d84-5cf6-44f6-be37-9e906c0f701e",
   "metadata": {},
   "source": [
    "возьмем все значения кроме последних трех"
   ]
  },
  {
   "cell_type": "code",
   "execution_count": 623,
   "id": "7abd085c-107c-4f1c-b249-63b7c893c17a",
   "metadata": {},
   "outputs": [],
   "source": [
    "x = list(df['date'][:-3])\n",
    "y = list(df['values'][:-3])\n",
    "\n",
    "df['date'] = pd.to_datetime(df['date'], format='%d.%m.%Y').dt.date"
   ]
  },
  {
   "cell_type": "markdown",
   "id": "4f1aa318-98f0-4e69-b692-c2d2831c7f25",
   "metadata": {},
   "source": [
    "построим график"
   ]
  },
  {
   "cell_type": "code",
   "execution_count": 624,
   "id": "5c6161f6-4e2c-48bf-af35-e818e6c840ae",
   "metadata": {},
   "outputs": [
    {
     "data": {
      "application/vnd.plotly.v1+json": {
       "config": {
        "plotlyServerURL": "https://plot.ly"
       },
       "data": [
        {
         "mode": "lines+markers",
         "type": "scatter",
         "x": [
          "2004-02-01",
          "2004-03-01",
          "2004-04-01",
          "2004-05-01",
          "2004-06-01",
          "2004-07-01",
          "2004-08-01",
          "2004-09-01",
          "2004-10-01",
          "2004-11-01",
          "2004-12-01",
          "2005-01-01",
          "2005-02-01",
          "2005-03-01",
          "2005-04-01",
          "2005-05-01",
          "2005-06-01",
          "2005-07-01",
          "2005-08-01",
          "2005-09-01",
          "2005-10-01",
          "2005-11-01",
          "2005-12-01",
          "2006-01-01",
          "2006-02-01",
          "2006-03-01",
          "2006-04-01",
          "2006-05-01",
          "2006-06-01",
          "2006-07-01",
          "2006-08-01",
          "2006-09-01",
          "2006-10-01",
          "2006-11-01",
          "2006-12-01",
          "2007-01-01",
          "2007-02-01",
          "2007-03-01",
          "2007-04-01",
          "2007-05-01",
          "2007-06-01",
          "2007-07-01",
          "2007-08-01",
          "2007-09-01",
          "2007-10-01",
          "2007-11-01",
          "2007-12-01",
          "2008-01-01",
          "2008-02-01",
          "2008-03-01",
          "2008-04-01",
          "2008-05-01",
          "2008-06-01",
          "2008-07-01",
          "2008-08-01",
          "2008-09-01",
          "2008-10-01",
          "2008-11-01",
          "2008-12-01",
          "2009-01-01",
          "2009-02-01",
          "2009-03-01",
          "2009-04-01",
          "2009-05-01",
          "2009-06-01",
          "2009-07-01",
          "2009-08-01",
          "2009-09-01",
          "2009-10-01",
          "2009-11-01",
          "2009-12-01",
          "2010-01-01",
          "2010-02-01",
          "2010-03-01",
          "2010-04-01",
          "2010-05-01",
          "2010-06-01",
          "2010-07-01",
          "2010-08-01",
          "2010-09-01",
          "2010-10-01",
          "2010-11-01",
          "2010-12-01",
          "2011-01-01",
          "2011-02-01",
          "2011-03-01",
          "2011-04-01",
          "2011-05-01",
          "2011-06-01",
          "2011-07-01",
          "2011-08-01",
          "2011-09-01",
          "2011-10-01",
          "2011-11-01",
          "2011-12-01",
          "2012-01-01",
          "2012-02-01",
          "2012-03-01",
          "2012-04-01",
          "2012-05-01",
          "2012-06-01",
          "2012-07-01",
          "2012-08-01",
          "2012-09-01",
          "2012-10-01",
          "2012-11-01",
          "2012-12-01",
          "2013-01-01",
          "2013-02-01",
          "2013-03-01",
          "2013-04-01",
          "2013-05-01",
          "2013-06-01",
          "2013-07-01",
          "2013-08-01",
          "2013-09-01",
          "2013-10-01",
          "2013-11-01",
          "2013-12-01",
          "2014-01-01",
          "2014-02-01",
          "2014-03-01",
          "2014-04-01",
          "2014-05-01",
          "2014-06-01",
          "2014-07-01",
          "2014-08-01",
          "2014-09-01",
          "2014-10-01",
          "2014-11-01",
          "2014-12-01",
          "2015-01-01",
          "2015-02-01",
          "2015-03-01",
          "2015-04-01",
          "2015-05-01",
          "2015-06-01",
          "2015-07-01",
          "2015-08-01",
          "2015-09-01",
          "2015-10-01",
          "2015-11-01",
          "2015-12-01",
          "2016-01-01",
          "2016-02-01",
          "2016-03-01",
          "2016-04-01",
          "2016-05-01",
          "2016-06-01",
          "2016-07-01",
          "2016-08-01",
          "2016-09-01",
          "2016-10-01",
          "2016-11-01",
          "2016-12-01",
          "2017-01-01",
          "2017-02-01",
          "2017-03-01",
          "2017-04-01",
          "2017-05-01",
          "2017-06-01",
          "2017-07-01",
          "2017-08-01",
          "2017-09-01",
          "2017-10-01",
          "2017-11-01",
          "2017-12-01",
          "2018-01-01",
          "2018-02-01",
          "2018-03-01",
          "2018-04-01",
          "2018-05-01",
          "2018-06-01",
          "2018-07-01",
          "2018-08-01",
          "2018-09-01",
          "2018-10-01",
          "2018-11-01",
          "2018-12-01",
          "2019-01-01",
          "2019-02-01",
          "2019-03-01",
          "2019-04-01",
          "2019-05-01",
          "2019-06-01",
          "2019-07-01",
          "2019-08-01",
          "2019-09-01",
          "2019-10-01",
          "2019-11-01",
          "2019-12-01",
          "2020-01-01",
          "2020-02-01",
          "2020-03-01",
          "2020-04-01",
          "2020-05-01",
          "2020-06-01",
          "2020-07-01",
          "2020-08-01",
          "2020-09-01",
          "2020-10-01",
          "2020-11-01",
          "2020-12-01",
          "2021-01-01",
          "2021-02-01",
          "2021-03-01",
          "2021-04-01",
          "2021-05-01",
          "2021-06-01",
          "2021-07-01",
          "2021-08-01",
          "2021-09-01",
          "2021-10-01",
          "2021-11-01",
          "2021-12-01",
          "2022-01-01",
          "2022-02-01",
          "2022-03-01",
          "2022-04-01",
          "2022-05-01",
          "2022-06-01",
          "2022-07-01",
          "2022-08-01",
          "2022-09-01",
          "2022-10-01",
          "2022-11-01",
          "2022-12-01",
          "2023-01-01",
          "2023-02-01",
          "2023-03-01",
          "2023-04-01",
          "2023-05-01",
          "2023-06-01",
          "2023-07-01",
          "2023-08-01",
          "2023-09-01",
          "2023-10-01",
          "2023-11-01",
          "2023-12-01",
          "2024-01-01",
          "2024-02-01",
          "2024-03-01",
          "2024-04-01",
          "2024-05-01",
          "2024-06-01"
         ],
         "y": [
          1.283100603,
          1.31661417,
          1.544783554,
          1.278622766,
          1.160093536,
          1.101080574,
          0.732780585,
          0.884096937,
          0.872804320999999,
          0.957035928,
          0.904076913,
          1.014126729,
          1.059926219,
          1.193956595,
          1.098423547,
          1.133131065,
          0.949182857,
          1.010832372,
          0.98289192,
          1.134742926,
          1.121468216,
          0.959813203,
          1.172443952,
          1.469945154,
          1.207031044,
          1.156306466,
          1.203012171,
          1.052193533,
          0.944872285,
          0.951847462,
          1.057824403,
          0.865998697,
          1.128095594,
          1.118115386,
          1.377785795,
          1.51920352,
          1.54853,
          1.458634118,
          1.269127368,
          1.437673103,
          1.457794778,
          1.391149239,
          1.350832424,
          0.53227393,
          0.569350471,
          0.663818987999999,
          0.79959946,
          0.738568120999999,
          0.164046271,
          0.407508092,
          0.542143446,
          0.738354992,
          0.709404612,
          0.839951426,
          0.493859521,
          0.056087347,
          -0.434632883,
          -1.760453747,
          -2.149587034,
          -2.426604339,
          -2.762068879,
          -2.80355471,
          -2.345597188,
          -2.315822511,
          -2.143552605,
          -1.483087004,
          -1.536724113,
          -1.526535775,
          -1.009848121,
          -0.849567445999999,
          -0.341146737,
          -0.230364164,
          -0.556297713,
          -0.535257557,
          0.138592708,
          0.107589975,
          -0.099636685,
          -0.109344863,
          -0.044872924,
          -0.612714467,
          -0.22545848,
          -0.07278793,
          0.189625274,
          0.266909674,
          0.218139202,
          0.207073222,
          0.0832455409999999,
          -0.095724737,
          0.357387977,
          0.318370896,
          0.460011032,
          -0.414111629,
          -0.47942821,
          -0.500621256,
          -0.369428388,
          -0.288173433,
          0.116974949,
          0.381033711,
          0.365244926,
          0.260782513,
          -0.049771636,
          -0.059039191,
          0.054757031,
          -0.214505045,
          0.342827674,
          0.131873638,
          0.412037499,
          0.367856512,
          0.380732402,
          0.545891337,
          0.51969462,
          0.257931882,
          -0.005726671,
          -0.167643343,
          -0.325892886,
          -0.276967775,
          -0.077391898,
          0.059557212,
          0.344164147999999,
          0.201234529,
          -0.034415209,
          -0.190383869,
          -0.359713861,
          -0.435737348,
          0.044413829,
          0.078807754,
          -0.329736366,
          -0.761372088,
          -0.595116797,
          -1.001335008,
          -0.974402101,
          -1.551464015,
          -1.756337226,
          -1.972269835,
          -1.53792343099999,
          -0.836182711,
          -0.845598354,
          -0.628935402,
          -0.761690482,
          -1.678045848,
          -1.167661566,
          -1.21505909,
          -0.889527245,
          -1.022556978,
          -1.672402188,
          -1.54512814199999,
          -1.12873918,
          -0.730799465999999,
          -0.558014066,
          -0.108641535,
          -0.033417964,
          -0.387667794,
          -0.525729409,
          -0.215534104,
          0.0826448479999999,
          0.392892794,
          0.510760847,
          0.729786434,
          0.913982265,
          0.87315744,
          0.822313455,
          0.526740932,
          0.346706145,
          0.315803251,
          0.79526395,
          0.753071039,
          0.542624318,
          0.699308447,
          1.137026072,
          0.685640166,
          0.481237868,
          0.457759002,
          0.479416165,
          0.201523826,
          0.230494984,
          -0.247558385,
          -0.109315008,
          -0.298918076,
          -0.014599497,
          -0.177300789,
          -0.39038259,
          -0.016582936,
          0.154189998,
          0.137494056,
          0.185526979,
          -0.112383873,
          -0.266600472,
          -0.425530127,
          0.303820559,
          0.113629596,
          0.234380499,
          0.314847379,
          -0.005065133,
          -0.013883929,
          -1.40009461,
          -2.159193958,
          -2.593329415,
          -2.404199366,
          -1.802763871,
          -1.53896427699999,
          -0.94392439,
          -0.89227994,
          -0.306239578,
          -0.037475351,
          0.415527554,
          0.805707533,
          0.722062184,
          0.922148861,
          0.816343415999999,
          1.392189327,
          1.243501705,
          1.04371663182114,
          0.9220681334709,
          0.318006472314193,
          0.0616358764406062,
          0.223207091489282,
          -0.10673817676224,
          -0.144439509633056,
          -0.265622152419797,
          -0.364826854282305,
          -0.702043961537595,
          -0.834286199496258,
          -0.505984661885646,
          -0.3144209437976,
          -0.391226943937146,
          -0.794078236658376,
          -0.817975576643949,
          -0.480049268448537,
          -0.273628107742536,
          0.0840832581336721,
          0.0011422213384214,
          0.496998797214917,
          0.641249873820179,
          0.462942009337296,
          0.60811180087446,
          0.243075136357314,
          0.425871867856003,
          0.848449821584231,
          0.460260068853364,
          0.906250853613036,
          0.862085588528884,
          0.943880220956826
         ]
        }
       ],
       "layout": {
        "autosize": true,
        "template": {
         "data": {
          "bar": [
           {
            "error_x": {
             "color": "#2a3f5f"
            },
            "error_y": {
             "color": "#2a3f5f"
            },
            "marker": {
             "line": {
              "color": "#E5ECF6",
              "width": 0.5
             },
             "pattern": {
              "fillmode": "overlay",
              "size": 10,
              "solidity": 0.2
             }
            },
            "type": "bar"
           }
          ],
          "barpolar": [
           {
            "marker": {
             "line": {
              "color": "#E5ECF6",
              "width": 0.5
             },
             "pattern": {
              "fillmode": "overlay",
              "size": 10,
              "solidity": 0.2
             }
            },
            "type": "barpolar"
           }
          ],
          "carpet": [
           {
            "aaxis": {
             "endlinecolor": "#2a3f5f",
             "gridcolor": "white",
             "linecolor": "white",
             "minorgridcolor": "white",
             "startlinecolor": "#2a3f5f"
            },
            "baxis": {
             "endlinecolor": "#2a3f5f",
             "gridcolor": "white",
             "linecolor": "white",
             "minorgridcolor": "white",
             "startlinecolor": "#2a3f5f"
            },
            "type": "carpet"
           }
          ],
          "choropleth": [
           {
            "colorbar": {
             "outlinewidth": 0,
             "ticks": ""
            },
            "type": "choropleth"
           }
          ],
          "contour": [
           {
            "colorbar": {
             "outlinewidth": 0,
             "ticks": ""
            },
            "colorscale": [
             [
              0,
              "#0d0887"
             ],
             [
              0.1111111111111111,
              "#46039f"
             ],
             [
              0.2222222222222222,
              "#7201a8"
             ],
             [
              0.3333333333333333,
              "#9c179e"
             ],
             [
              0.4444444444444444,
              "#bd3786"
             ],
             [
              0.5555555555555556,
              "#d8576b"
             ],
             [
              0.6666666666666666,
              "#ed7953"
             ],
             [
              0.7777777777777778,
              "#fb9f3a"
             ],
             [
              0.8888888888888888,
              "#fdca26"
             ],
             [
              1,
              "#f0f921"
             ]
            ],
            "type": "contour"
           }
          ],
          "contourcarpet": [
           {
            "colorbar": {
             "outlinewidth": 0,
             "ticks": ""
            },
            "type": "contourcarpet"
           }
          ],
          "heatmap": [
           {
            "colorbar": {
             "outlinewidth": 0,
             "ticks": ""
            },
            "colorscale": [
             [
              0,
              "#0d0887"
             ],
             [
              0.1111111111111111,
              "#46039f"
             ],
             [
              0.2222222222222222,
              "#7201a8"
             ],
             [
              0.3333333333333333,
              "#9c179e"
             ],
             [
              0.4444444444444444,
              "#bd3786"
             ],
             [
              0.5555555555555556,
              "#d8576b"
             ],
             [
              0.6666666666666666,
              "#ed7953"
             ],
             [
              0.7777777777777778,
              "#fb9f3a"
             ],
             [
              0.8888888888888888,
              "#fdca26"
             ],
             [
              1,
              "#f0f921"
             ]
            ],
            "type": "heatmap"
           }
          ],
          "heatmapgl": [
           {
            "colorbar": {
             "outlinewidth": 0,
             "ticks": ""
            },
            "colorscale": [
             [
              0,
              "#0d0887"
             ],
             [
              0.1111111111111111,
              "#46039f"
             ],
             [
              0.2222222222222222,
              "#7201a8"
             ],
             [
              0.3333333333333333,
              "#9c179e"
             ],
             [
              0.4444444444444444,
              "#bd3786"
             ],
             [
              0.5555555555555556,
              "#d8576b"
             ],
             [
              0.6666666666666666,
              "#ed7953"
             ],
             [
              0.7777777777777778,
              "#fb9f3a"
             ],
             [
              0.8888888888888888,
              "#fdca26"
             ],
             [
              1,
              "#f0f921"
             ]
            ],
            "type": "heatmapgl"
           }
          ],
          "histogram": [
           {
            "marker": {
             "pattern": {
              "fillmode": "overlay",
              "size": 10,
              "solidity": 0.2
             }
            },
            "type": "histogram"
           }
          ],
          "histogram2d": [
           {
            "colorbar": {
             "outlinewidth": 0,
             "ticks": ""
            },
            "colorscale": [
             [
              0,
              "#0d0887"
             ],
             [
              0.1111111111111111,
              "#46039f"
             ],
             [
              0.2222222222222222,
              "#7201a8"
             ],
             [
              0.3333333333333333,
              "#9c179e"
             ],
             [
              0.4444444444444444,
              "#bd3786"
             ],
             [
              0.5555555555555556,
              "#d8576b"
             ],
             [
              0.6666666666666666,
              "#ed7953"
             ],
             [
              0.7777777777777778,
              "#fb9f3a"
             ],
             [
              0.8888888888888888,
              "#fdca26"
             ],
             [
              1,
              "#f0f921"
             ]
            ],
            "type": "histogram2d"
           }
          ],
          "histogram2dcontour": [
           {
            "colorbar": {
             "outlinewidth": 0,
             "ticks": ""
            },
            "colorscale": [
             [
              0,
              "#0d0887"
             ],
             [
              0.1111111111111111,
              "#46039f"
             ],
             [
              0.2222222222222222,
              "#7201a8"
             ],
             [
              0.3333333333333333,
              "#9c179e"
             ],
             [
              0.4444444444444444,
              "#bd3786"
             ],
             [
              0.5555555555555556,
              "#d8576b"
             ],
             [
              0.6666666666666666,
              "#ed7953"
             ],
             [
              0.7777777777777778,
              "#fb9f3a"
             ],
             [
              0.8888888888888888,
              "#fdca26"
             ],
             [
              1,
              "#f0f921"
             ]
            ],
            "type": "histogram2dcontour"
           }
          ],
          "mesh3d": [
           {
            "colorbar": {
             "outlinewidth": 0,
             "ticks": ""
            },
            "type": "mesh3d"
           }
          ],
          "parcoords": [
           {
            "line": {
             "colorbar": {
              "outlinewidth": 0,
              "ticks": ""
             }
            },
            "type": "parcoords"
           }
          ],
          "pie": [
           {
            "automargin": true,
            "type": "pie"
           }
          ],
          "scatter": [
           {
            "fillpattern": {
             "fillmode": "overlay",
             "size": 10,
             "solidity": 0.2
            },
            "type": "scatter"
           }
          ],
          "scatter3d": [
           {
            "line": {
             "colorbar": {
              "outlinewidth": 0,
              "ticks": ""
             }
            },
            "marker": {
             "colorbar": {
              "outlinewidth": 0,
              "ticks": ""
             }
            },
            "type": "scatter3d"
           }
          ],
          "scattercarpet": [
           {
            "marker": {
             "colorbar": {
              "outlinewidth": 0,
              "ticks": ""
             }
            },
            "type": "scattercarpet"
           }
          ],
          "scattergeo": [
           {
            "marker": {
             "colorbar": {
              "outlinewidth": 0,
              "ticks": ""
             }
            },
            "type": "scattergeo"
           }
          ],
          "scattergl": [
           {
            "marker": {
             "colorbar": {
              "outlinewidth": 0,
              "ticks": ""
             }
            },
            "type": "scattergl"
           }
          ],
          "scattermapbox": [
           {
            "marker": {
             "colorbar": {
              "outlinewidth": 0,
              "ticks": ""
             }
            },
            "type": "scattermapbox"
           }
          ],
          "scatterpolar": [
           {
            "marker": {
             "colorbar": {
              "outlinewidth": 0,
              "ticks": ""
             }
            },
            "type": "scatterpolar"
           }
          ],
          "scatterpolargl": [
           {
            "marker": {
             "colorbar": {
              "outlinewidth": 0,
              "ticks": ""
             }
            },
            "type": "scatterpolargl"
           }
          ],
          "scatterternary": [
           {
            "marker": {
             "colorbar": {
              "outlinewidth": 0,
              "ticks": ""
             }
            },
            "type": "scatterternary"
           }
          ],
          "surface": [
           {
            "colorbar": {
             "outlinewidth": 0,
             "ticks": ""
            },
            "colorscale": [
             [
              0,
              "#0d0887"
             ],
             [
              0.1111111111111111,
              "#46039f"
             ],
             [
              0.2222222222222222,
              "#7201a8"
             ],
             [
              0.3333333333333333,
              "#9c179e"
             ],
             [
              0.4444444444444444,
              "#bd3786"
             ],
             [
              0.5555555555555556,
              "#d8576b"
             ],
             [
              0.6666666666666666,
              "#ed7953"
             ],
             [
              0.7777777777777778,
              "#fb9f3a"
             ],
             [
              0.8888888888888888,
              "#fdca26"
             ],
             [
              1,
              "#f0f921"
             ]
            ],
            "type": "surface"
           }
          ],
          "table": [
           {
            "cells": {
             "fill": {
              "color": "#EBF0F8"
             },
             "line": {
              "color": "white"
             }
            },
            "header": {
             "fill": {
              "color": "#C8D4E3"
             },
             "line": {
              "color": "white"
             }
            },
            "type": "table"
           }
          ]
         },
         "layout": {
          "annotationdefaults": {
           "arrowcolor": "#2a3f5f",
           "arrowhead": 0,
           "arrowwidth": 1
          },
          "autotypenumbers": "strict",
          "coloraxis": {
           "colorbar": {
            "outlinewidth": 0,
            "ticks": ""
           }
          },
          "colorscale": {
           "diverging": [
            [
             0,
             "#8e0152"
            ],
            [
             0.1,
             "#c51b7d"
            ],
            [
             0.2,
             "#de77ae"
            ],
            [
             0.3,
             "#f1b6da"
            ],
            [
             0.4,
             "#fde0ef"
            ],
            [
             0.5,
             "#f7f7f7"
            ],
            [
             0.6,
             "#e6f5d0"
            ],
            [
             0.7,
             "#b8e186"
            ],
            [
             0.8,
             "#7fbc41"
            ],
            [
             0.9,
             "#4d9221"
            ],
            [
             1,
             "#276419"
            ]
           ],
           "sequential": [
            [
             0,
             "#0d0887"
            ],
            [
             0.1111111111111111,
             "#46039f"
            ],
            [
             0.2222222222222222,
             "#7201a8"
            ],
            [
             0.3333333333333333,
             "#9c179e"
            ],
            [
             0.4444444444444444,
             "#bd3786"
            ],
            [
             0.5555555555555556,
             "#d8576b"
            ],
            [
             0.6666666666666666,
             "#ed7953"
            ],
            [
             0.7777777777777778,
             "#fb9f3a"
            ],
            [
             0.8888888888888888,
             "#fdca26"
            ],
            [
             1,
             "#f0f921"
            ]
           ],
           "sequentialminus": [
            [
             0,
             "#0d0887"
            ],
            [
             0.1111111111111111,
             "#46039f"
            ],
            [
             0.2222222222222222,
             "#7201a8"
            ],
            [
             0.3333333333333333,
             "#9c179e"
            ],
            [
             0.4444444444444444,
             "#bd3786"
            ],
            [
             0.5555555555555556,
             "#d8576b"
            ],
            [
             0.6666666666666666,
             "#ed7953"
            ],
            [
             0.7777777777777778,
             "#fb9f3a"
            ],
            [
             0.8888888888888888,
             "#fdca26"
            ],
            [
             1,
             "#f0f921"
            ]
           ]
          },
          "colorway": [
           "#636efa",
           "#EF553B",
           "#00cc96",
           "#ab63fa",
           "#FFA15A",
           "#19d3f3",
           "#FF6692",
           "#B6E880",
           "#FF97FF",
           "#FECB52"
          ],
          "font": {
           "color": "#2a3f5f"
          },
          "geo": {
           "bgcolor": "white",
           "lakecolor": "white",
           "landcolor": "#E5ECF6",
           "showlakes": true,
           "showland": true,
           "subunitcolor": "white"
          },
          "hoverlabel": {
           "align": "left"
          },
          "hovermode": "closest",
          "mapbox": {
           "style": "light"
          },
          "paper_bgcolor": "white",
          "plot_bgcolor": "#E5ECF6",
          "polar": {
           "angularaxis": {
            "gridcolor": "white",
            "linecolor": "white",
            "ticks": ""
           },
           "bgcolor": "#E5ECF6",
           "radialaxis": {
            "gridcolor": "white",
            "linecolor": "white",
            "ticks": ""
           }
          },
          "scene": {
           "xaxis": {
            "backgroundcolor": "#E5ECF6",
            "gridcolor": "white",
            "gridwidth": 2,
            "linecolor": "white",
            "showbackground": true,
            "ticks": "",
            "zerolinecolor": "white"
           },
           "yaxis": {
            "backgroundcolor": "#E5ECF6",
            "gridcolor": "white",
            "gridwidth": 2,
            "linecolor": "white",
            "showbackground": true,
            "ticks": "",
            "zerolinecolor": "white"
           },
           "zaxis": {
            "backgroundcolor": "#E5ECF6",
            "gridcolor": "white",
            "gridwidth": 2,
            "linecolor": "white",
            "showbackground": true,
            "ticks": "",
            "zerolinecolor": "white"
           }
          },
          "shapedefaults": {
           "line": {
            "color": "#2a3f5f"
           }
          },
          "ternary": {
           "aaxis": {
            "gridcolor": "white",
            "linecolor": "white",
            "ticks": ""
           },
           "baxis": {
            "gridcolor": "white",
            "linecolor": "white",
            "ticks": ""
           },
           "bgcolor": "#E5ECF6",
           "caxis": {
            "gridcolor": "white",
            "linecolor": "white",
            "ticks": ""
           }
          },
          "title": {
           "x": 0.05
          },
          "xaxis": {
           "automargin": true,
           "gridcolor": "white",
           "linecolor": "white",
           "ticks": "",
           "title": {
            "standoff": 15
           },
           "zerolinecolor": "white",
           "zerolinewidth": 2
          },
          "yaxis": {
           "automargin": true,
           "gridcolor": "white",
           "linecolor": "white",
           "ticks": "",
           "title": {
            "standoff": 15
           },
           "zerolinecolor": "white",
           "zerolinewidth": 2
          }
         }
        },
        "xaxis": {
         "autorange": true,
         "range": [
          "2002-11-14 08:16:22.8653",
          "2025-05-18 15:43:37.1347"
         ],
         "type": "date"
        },
        "yaxis": {
         "autorange": true,
         "range": [
          -3.162707331699029,
          1.907682621699029
         ],
         "type": "linear"
        }
       }
      },
      "image/png": "[encoded data removed]",
      "text/html": [
       "<div>                            <div id=\"1b14931c-4d50-4cd4-a368-0bf945b4f6e2\" class=\"plotly-graph-div\" style=\"height:525px; width:100%;\"></div>            <script type=\"text/javascript\">                require([\"plotly\"], function(Plotly) {                    window.PLOTLYENV=window.PLOTLYENV || {};                                    if (document.getElementById(\"1b14931c-4d50-4cd4-a368-0bf945b4f6e2\")) {                    Plotly.newPlot(                        \"1b14931c-4d50-4cd4-a368-0bf945b4f6e2\",                        [{\"mode\":\"lines+markers\",\"x\":[\"2004-02-01\",\"2004-03-01\",\"2004-04-01\",\"2004-05-01\",\"2004-06-01\",\"2004-07-01\",\"2004-08-01\",\"2004-09-01\",\"2004-10-01\",\"2004-11-01\",\"2004-12-01\",\"2005-01-01\",\"2005-02-01\",\"2005-03-01\",\"2005-04-01\",\"2005-05-01\",\"2005-06-01\",\"2005-07-01\",\"2005-08-01\",\"2005-09-01\",\"2005-10-01\",\"2005-11-01\",\"2005-12-01\",\"2006-01-01\",\"2006-02-01\",\"2006-03-01\",\"2006-04-01\",\"2006-05-01\",\"2006-06-01\",\"2006-07-01\",\"2006-08-01\",\"2006-09-01\",\"2006-10-01\",\"2006-11-01\",\"2006-12-01\",\"2007-01-01\",\"2007-02-01\",\"2007-03-01\",\"2007-04-01\",\"2007-05-01\",\"2007-06-01\",\"2007-07-01\",\"2007-08-01\",\"2007-09-01\",\"2007-10-01\",\"2007-11-01\",\"2007-12-01\",\"2008-01-01\",\"2008-02-01\",\"2008-03-01\",\"2008-04-01\",\"2008-05-01\",\"2008-06-01\",\"2008-07-01\",\"2008-08-01\",\"2008-09-01\",\"2008-10-01\",\"2008-11-01\",\"2008-12-01\",\"2009-01-01\",\"2009-02-01\",\"2009-03-01\",\"2009-04-01\",\"2009-05-01\",\"2009-06-01\",\"2009-07-01\",\"2009-08-01\",\"2009-09-01\",\"2009-10-01\",\"2009-11-01\",\"2009-12-01\",\"2010-01-01\",\"2010-02-01\",\"2010-03-01\",\"2010-04-01\",\"2010-05-01\",\"2010-06-01\",\"2010-07-01\",\"2010-08-01\",\"2010-09-01\",\"2010-10-01\",\"2010-11-01\",\"2010-12-01\",\"2011-01-01\",\"2011-02-01\",\"2011-03-01\",\"2011-04-01\",\"2011-05-01\",\"2011-06-01\",\"2011-07-01\",\"2011-08-01\",\"2011-09-01\",\"2011-10-01\",\"2011-11-01\",\"2011-12-01\",\"2012-01-01\",\"2012-02-01\",\"2012-03-01\",\"2012-04-01\",\"2012-05-01\",\"2012-06-01\",\"2012-07-01\",\"2012-08-01\",\"2012-09-01\",\"2012-10-01\",\"2012-11-01\",\"2012-12-01\",\"2013-01-01\",\"2013-02-01\",\"2013-03-01\",\"2013-04-01\",\"2013-05-01\",\"2013-06-01\",\"2013-07-01\",\"2013-08-01\",\"2013-09-01\",\"2013-10-01\",\"2013-11-01\",\"2013-12-01\",\"2014-01-01\",\"2014-02-01\",\"2014-03-01\",\"2014-04-01\",\"2014-05-01\",\"2014-06-01\",\"2014-07-01\",\"2014-08-01\",\"2014-09-01\",\"2014-10-01\",\"2014-11-01\",\"2014-12-01\",\"2015-01-01\",\"2015-02-01\",\"2015-03-01\",\"2015-04-01\",\"2015-05-01\",\"2015-06-01\",\"2015-07-01\",\"2015-08-01\",\"2015-09-01\",\"2015-10-01\",\"2015-11-01\",\"2015-12-01\",\"2016-01-01\",\"2016-02-01\",\"2016-03-01\",\"2016-04-01\",\"2016-05-01\",\"2016-06-01\",\"2016-07-01\",\"2016-08-01\",\"2016-09-01\",\"2016-10-01\",\"2016-11-01\",\"2016-12-01\",\"2017-01-01\",\"2017-02-01\",\"2017-03-01\",\"2017-04-01\",\"2017-05-01\",\"2017-06-01\",\"2017-07-01\",\"2017-08-01\",\"2017-09-01\",\"2017-10-01\",\"2017-11-01\",\"2017-12-01\",\"2018-01-01\",\"2018-02-01\",\"2018-03-01\",\"2018-04-01\",\"2018-05-01\",\"2018-06-01\",\"2018-07-01\",\"2018-08-01\",\"2018-09-01\",\"2018-10-01\",\"2018-11-01\",\"2018-12-01\",\"2019-01-01\",\"2019-02-01\",\"2019-03-01\",\"2019-04-01\",\"2019-05-01\",\"2019-06-01\",\"2019-07-01\",\"2019-08-01\",\"2019-09-01\",\"2019-10-01\",\"2019-11-01\",\"2019-12-01\",\"2020-01-01\",\"2020-02-01\",\"2020-03-01\",\"2020-04-01\",\"2020-05-01\",\"2020-06-01\",\"2020-07-01\",\"2020-08-01\",\"2020-09-01\",\"2020-10-01\",\"2020-11-01\",\"2020-12-01\",\"2021-01-01\",\"2021-02-01\",\"2021-03-01\",\"2021-04-01\",\"2021-05-01\",\"2021-06-01\",\"2021-07-01\",\"2021-08-01\",\"2021-09-01\",\"2021-10-01\",\"2021-11-01\",\"2021-12-01\",\"2022-01-01\",\"2022-02-01\",\"2022-03-01\",\"2022-04-01\",\"2022-05-01\",\"2022-06-01\",\"2022-07-01\",\"2022-08-01\",\"2022-09-01\",\"2022-10-01\",\"2022-11-01\",\"2022-12-01\",\"2023-01-01\",\"2023-02-01\",\"2023-03-01\",\"2023-04-01\",\"2023-05-01\",\"2023-06-01\",\"2023-07-01\",\"2023-08-01\",\"2023-09-01\",\"2023-10-01\",\"2023-11-01\",\"2023-12-01\",\"2024-01-01\",\"2024-02-01\",\"2024-03-01\",\"2024-04-01\",\"2024-05-01\",\"2024-06-01\"],\"y\":[1.283100603,1.31661417,1.544783554,1.278622766,1.160093536,1.101080574,0.732780585,0.884096937,0.872804320999999,0.957035928,0.904076913,1.014126729,1.059926219,1.193956595,1.098423547,1.133131065,0.949182857,1.010832372,0.98289192,1.134742926,1.121468216,0.959813203,1.172443952,1.469945154,1.207031044,1.156306466,1.203012171,1.052193533,0.944872285,0.951847462,1.057824403,0.865998697,1.128095594,1.118115386,1.377785795,1.51920352,1.54853,1.458634118,1.269127368,1.437673103,1.457794778,1.391149239,1.350832424,0.53227393,0.569350471,0.663818987999999,0.79959946,0.738568120999999,0.164046271,0.407508092,0.542143446,0.738354992,0.709404612,0.839951426,0.493859521,0.056087347,-0.434632883,-1.760453747,-2.149587034,-2.426604339,-2.762068879,-2.80355471,-2.345597188,-2.315822511,-2.143552605,-1.483087004,-1.536724113,-1.526535775,-1.009848121,-0.849567445999999,-0.341146737,-0.230364164,-0.556297713,-0.535257557,0.138592708,0.107589975,-0.099636685,-0.109344863,-0.044872924,-0.612714467,-0.22545848,-0.07278793,0.189625274,0.266909674,0.218139202,0.207073222,0.0832455409999999,-0.095724737,0.357387977,0.318370896,0.460011032,-0.414111629,-0.47942821,-0.500621256,-0.369428388,-0.288173433,0.116974949,0.381033711,0.365244926,0.260782513,-0.049771636,-0.059039191,0.054757031,-0.214505045,0.342827674,0.131873638,0.412037499,0.367856512,0.380732402,0.545891337,0.51969462,0.257931882,-0.005726671,-0.167643343,-0.325892886,-0.276967775,-0.077391898,0.059557212,0.344164147999999,0.201234529,-0.034415209,-0.190383869,-0.359713861,-0.435737348,0.044413829,0.078807754,-0.329736366,-0.761372088,-0.595116797,-1.001335008,-0.974402101,-1.551464015,-1.756337226,-1.972269835,-1.53792343099999,-0.836182711,-0.845598354,-0.628935402,-0.761690482,-1.678045848,-1.167661566,-1.21505909,-0.889527245,-1.022556978,-1.672402188,-1.54512814199999,-1.12873918,-0.730799465999999,-0.558014066,-0.108641535,-0.033417964,-0.387667794,-0.525729409,-0.215534104,0.0826448479999999,0.392892794,0.510760847,0.729786434,0.913982265,0.87315744,0.822313455,0.526740932,0.346706145,0.315803251,0.79526395,0.753071039,0.542624318,0.699308447,1.137026072,0.685640166,0.481237868,0.457759002,0.479416165,0.201523826,0.230494984,-0.247558385,-0.109315008,-0.298918076,-0.014599497,-0.177300789,-0.39038259,-0.016582936,0.154189998,0.137494056,0.185526979,-0.112383873,-0.266600472,-0.425530127,0.303820559,0.113629596,0.234380499,0.314847379,-0.005065133,-0.013883929,-1.40009461,-2.159193958,-2.593329415,-2.404199366,-1.802763871,-1.53896427699999,-0.94392439,-0.89227994,-0.306239578,-0.037475351,0.415527554,0.805707533,0.722062184,0.922148861,0.816343415999999,1.392189327,1.243501705,1.04371663182114,0.9220681334709,0.318006472314193,0.0616358764406062,0.223207091489282,-0.10673817676224,-0.144439509633056,-0.265622152419797,-0.364826854282305,-0.702043961537595,-0.834286199496258,-0.505984661885646,-0.3144209437976,-0.391226943937146,-0.794078236658376,-0.817975576643949,-0.480049268448537,-0.273628107742536,0.0840832581336721,0.0011422213384214,0.496998797214917,0.641249873820179,0.462942009337296,0.60811180087446,0.243075136357314,0.425871867856003,0.848449821584231,0.460260068853364,0.906250853613036,0.862085588528884,0.943880220956826],\"type\":\"scatter\"}],                        {\"template\":{\"data\":{\"histogram2dcontour\":[{\"type\":\"histogram2dcontour\",\"colorbar\":{\"outlinewidth\":0,\"ticks\":\"\"},\"colorscale\":[[0.0,\"#0d0887\"],[0.1111111111111111,\"#46039f\"],[0.2222222222222222,\"#7201a8\"],[0.3333333333333333,\"#9c179e\"],[0.4444444444444444,\"#bd3786\"],[0.5555555555555556,\"#d8576b\"],[0.6666666666666666,\"#ed7953\"],[0.7777777777777778,\"#fb9f3a\"],[0.8888888888888888,\"#fdca26\"],[1.0,\"#f0f921\"]]}],\"choropleth\":[{\"type\":\"choropleth\",\"colorbar\":{\"outlinewidth\":0,\"ticks\":\"\"}}],\"histogram2d\":[{\"type\":\"histogram2d\",\"colorbar\":{\"outlinewidth\":0,\"ticks\":\"\"},\"colorscale\":[[0.0,\"#0d0887\"],[0.1111111111111111,\"#46039f\"],[0.2222222222222222,\"#7201a8\"],[0.3333333333333333,\"#9c179e\"],[0.4444444444444444,\"#bd3786\"],[0.5555555555555556,\"#d8576b\"],[0.6666666666666666,\"#ed7953\"],[0.7777777777777778,\"#fb9f3a\"],[0.8888888888888888,\"#fdca26\"],[1.0,\"#f0f921\"]]}],\"heatmap\":[{\"type\":\"heatmap\",\"colorbar\":{\"outlinewidth\":0,\"ticks\":\"\"},\"colorscale\":[[0.0,\"#0d0887\"],[0.1111111111111111,\"#46039f\"],[0.2222222222222222,\"#7201a8\"],[0.3333333333333333,\"#9c179e\"],[0.4444444444444444,\"#bd3786\"],[0.5555555555555556,\"#d8576b\"],[0.6666666666666666,\"#ed7953\"],[0.7777777777777778,\"#fb9f3a\"],[0.8888888888888888,\"#fdca26\"],[1.0,\"#f0f921\"]]}],\"heatmapgl\":[{\"type\":\"heatmapgl\",\"colorbar\":{\"outlinewidth\":0,\"ticks\":\"\"},\"colorscale\":[[0.0,\"#0d0887\"],[0.1111111111111111,\"#46039f\"],[0.2222222222222222,\"#7201a8\"],[0.3333333333333333,\"#9c179e\"],[0.4444444444444444,\"#bd3786\"],[0.5555555555555556,\"#d8576b\"],[0.6666666666666666,\"#ed7953\"],[0.7777777777777778,\"#fb9f3a\"],[0.8888888888888888,\"#fdca26\"],[1.0,\"#f0f921\"]]}],\"contourcarpet\":[{\"type\":\"contourcarpet\",\"colorbar\":{\"outlinewidth\":0,\"ticks\":\"\"}}],\"contour\":[{\"type\":\"contour\",\"colorbar\":{\"outlinewidth\":0,\"ticks\":\"\"},\"colorscale\":[[0.0,\"#0d0887\"],[0.1111111111111111,\"#46039f\"],[0.2222222222222222,\"#7201a8\"],[0.3333333333333333,\"#9c179e\"],[0.4444444444444444,\"#bd3786\"],[0.5555555555555556,\"#d8576b\"],[0.6666666666666666,\"#ed7953\"],[0.7777777777777778,\"#fb9f3a\"],[0.8888888888888888,\"#fdca26\"],[1.0,\"#f0f921\"]]}],\"surface\":[{\"type\":\"surface\",\"colorbar\":{\"outlinewidth\":0,\"ticks\":\"\"},\"colorscale\":[[0.0,\"#0d0887\"],[0.1111111111111111,\"#46039f\"],[0.2222222222222222,\"#7201a8\"],[0.3333333333333333,\"#9c179e\"],[0.4444444444444444,\"#bd3786\"],[0.5555555555555556,\"#d8576b\"],[0.6666666666666666,\"#ed7953\"],[0.7777777777777778,\"#fb9f3a\"],[0.8888888888888888,\"#fdca26\"],[1.0,\"#f0f921\"]]}],\"mesh3d\":[{\"type\":\"mesh3d\",\"colorbar\":{\"outlinewidth\":0,\"ticks\":\"\"}}],\"scatter\":[{\"fillpattern\":{\"fillmode\":\"overlay\",\"size\":10,\"solidity\":0.2},\"type\":\"scatter\"}],\"parcoords\":[{\"type\":\"parcoords\",\"line\":{\"colorbar\":{\"outlinewidth\":0,\"ticks\":\"\"}}}],\"scatterpolargl\":[{\"type\":\"scatterpolargl\",\"marker\":{\"colorbar\":{\"outlinewidth\":0,\"ticks\":\"\"}}}],\"bar\":[{\"error_x\":{\"color\":\"#2a3f5f\"},\"error_y\":{\"color\":\"#2a3f5f\"},\"marker\":{\"line\":{\"color\":\"#E5ECF6\",\"width\":0.5},\"pattern\":{\"fillmode\":\"overlay\",\"size\":10,\"solidity\":0.2}},\"type\":\"bar\"}],\"scattergeo\":[{\"type\":\"scattergeo\",\"marker\":{\"colorbar\":{\"outlinewidth\":0,\"ticks\":\"\"}}}],\"scatterpolar\":[{\"type\":\"scatterpolar\",\"marker\":{\"colorbar\":{\"outlinewidth\":0,\"ticks\":\"\"}}}],\"histogram\":[{\"marker\":{\"pattern\":{\"fillmode\":\"overlay\",\"size\":10,\"solidity\":0.2}},\"type\":\"histogram\"}],\"scattergl\":[{\"type\":\"scattergl\",\"marker\":{\"colorbar\":{\"outlinewidth\":0,\"ticks\":\"\"}}}],\"scatter3d\":[{\"type\":\"scatter3d\",\"line\":{\"colorbar\":{\"outlinewidth\":0,\"ticks\":\"\"}},\"marker\":{\"colorbar\":{\"outlinewidth\":0,\"ticks\":\"\"}}}],\"scattermapbox\":[{\"type\":\"scattermapbox\",\"marker\":{\"colorbar\":{\"outlinewidth\":0,\"ticks\":\"\"}}}],\"scatterternary\":[{\"type\":\"scatterternary\",\"marker\":{\"colorbar\":{\"outlinewidth\":0,\"ticks\":\"\"}}}],\"scattercarpet\":[{\"type\":\"scattercarpet\",\"marker\":{\"colorbar\":{\"outlinewidth\":0,\"ticks\":\"\"}}}],\"carpet\":[{\"aaxis\":{\"endlinecolor\":\"#2a3f5f\",\"gridcolor\":\"white\",\"linecolor\":\"white\",\"minorgridcolor\":\"white\",\"startlinecolor\":\"#2a3f5f\"},\"baxis\":{\"endlinecolor\":\"#2a3f5f\",\"gridcolor\":\"white\",\"linecolor\":\"white\",\"minorgridcolor\":\"white\",\"startlinecolor\":\"#2a3f5f\"},\"type\":\"carpet\"}],\"table\":[{\"cells\":{\"fill\":{\"color\":\"#EBF0F8\"},\"line\":{\"color\":\"white\"}},\"header\":{\"fill\":{\"color\":\"#C8D4E3\"},\"line\":{\"color\":\"white\"}},\"type\":\"table\"}],\"barpolar\":[{\"marker\":{\"line\":{\"color\":\"#E5ECF6\",\"width\":0.5},\"pattern\":{\"fillmode\":\"overlay\",\"size\":10,\"solidity\":0.2}},\"type\":\"barpolar\"}],\"pie\":[{\"automargin\":true,\"type\":\"pie\"}]},\"layout\":{\"autotypenumbers\":\"strict\",\"colorway\":[\"#636efa\",\"#EF553B\",\"#00cc96\",\"#ab63fa\",\"#FFA15A\",\"#19d3f3\",\"#FF6692\",\"#B6E880\",\"#FF97FF\",\"#FECB52\"],\"font\":{\"color\":\"#2a3f5f\"},\"hovermode\":\"closest\",\"hoverlabel\":{\"align\":\"left\"},\"paper_bgcolor\":\"white\",\"plot_bgcolor\":\"#E5ECF6\",\"polar\":{\"bgcolor\":\"#E5ECF6\",\"angularaxis\":{\"gridcolor\":\"white\",\"linecolor\":\"white\",\"ticks\":\"\"},\"radialaxis\":{\"gridcolor\":\"white\",\"linecolor\":\"white\",\"ticks\":\"\"}},\"ternary\":{\"bgcolor\":\"#E5ECF6\",\"aaxis\":{\"gridcolor\":\"white\",\"linecolor\":\"white\",\"ticks\":\"\"},\"baxis\":{\"gridcolor\":\"white\",\"linecolor\":\"white\",\"ticks\":\"\"},\"caxis\":{\"gridcolor\":\"white\",\"linecolor\":\"white\",\"ticks\":\"\"}},\"coloraxis\":{\"colorbar\":{\"outlinewidth\":0,\"ticks\":\"\"}},\"colorscale\":{\"sequential\":[[0.0,\"#0d0887\"],[0.1111111111111111,\"#46039f\"],[0.2222222222222222,\"#7201a8\"],[0.3333333333333333,\"#9c179e\"],[0.4444444444444444,\"#bd3786\"],[0.5555555555555556,\"#d8576b\"],[0.6666666666666666,\"#ed7953\"],[0.7777777777777778,\"#fb9f3a\"],[0.8888888888888888,\"#fdca26\"],[1.0,\"#f0f921\"]],\"sequentialminus\":[[0.0,\"#0d0887\"],[0.1111111111111111,\"#46039f\"],[0.2222222222222222,\"#7201a8\"],[0.3333333333333333,\"#9c179e\"],[0.4444444444444444,\"#bd3786\"],[0.5555555555555556,\"#d8576b\"],[0.6666666666666666,\"#ed7953\"],[0.7777777777777778,\"#fb9f3a\"],[0.8888888888888888,\"#fdca26\"],[1.0,\"#f0f921\"]],\"diverging\":[[0,\"#8e0152\"],[0.1,\"#c51b7d\"],[0.2,\"#de77ae\"],[0.3,\"#f1b6da\"],[0.4,\"#fde0ef\"],[0.5,\"#f7f7f7\"],[0.6,\"#e6f5d0\"],[0.7,\"#b8e186\"],[0.8,\"#7fbc41\"],[0.9,\"#4d9221\"],[1,\"#276419\"]]},\"xaxis\":{\"gridcolor\":\"white\",\"linecolor\":\"white\",\"ticks\":\"\",\"title\":{\"standoff\":15},\"zerolinecolor\":\"white\",\"automargin\":true,\"zerolinewidth\":2},\"yaxis\":{\"gridcolor\":\"white\",\"linecolor\":\"white\",\"ticks\":\"\",\"title\":{\"standoff\":15},\"zerolinecolor\":\"white\",\"automargin\":true,\"zerolinewidth\":2},\"scene\":{\"xaxis\":{\"backgroundcolor\":\"#E5ECF6\",\"gridcolor\":\"white\",\"linecolor\":\"white\",\"showbackground\":true,\"ticks\":\"\",\"zerolinecolor\":\"white\",\"gridwidth\":2},\"yaxis\":{\"backgroundcolor\":\"#E5ECF6\",\"gridcolor\":\"white\",\"linecolor\":\"white\",\"showbackground\":true,\"ticks\":\"\",\"zerolinecolor\":\"white\",\"gridwidth\":2},\"zaxis\":{\"backgroundcolor\":\"#E5ECF6\",\"gridcolor\":\"white\",\"linecolor\":\"white\",\"showbackground\":true,\"ticks\":\"\",\"zerolinecolor\":\"white\",\"gridwidth\":2}},\"shapedefaults\":{\"line\":{\"color\":\"#2a3f5f\"}},\"annotationdefaults\":{\"arrowcolor\":\"#2a3f5f\",\"arrowhead\":0,\"arrowwidth\":1},\"geo\":{\"bgcolor\":\"white\",\"landcolor\":\"#E5ECF6\",\"subunitcolor\":\"white\",\"showland\":true,\"showlakes\":true,\"lakecolor\":\"white\"},\"title\":{\"x\":0.05},\"mapbox\":{\"style\":\"light\"}}}},                        {\"responsive\": true}                    ).then(function(){\n",
       "                            \n",
       "var gd = document.getElementById('1b14931c-4d50-4cd4-a368-0bf945b4f6e2');\n",
       "var x = new MutationObserver(function (mutations, observer) {{\n",
       "        var display = window.getComputedStyle(gd).display;\n",
       "        if (!display || display === 'none') {{\n",
       "            console.log([gd, 'removed!']);\n",
       "            Plotly.purge(gd);\n",
       "            observer.disconnect();\n",
       "        }}\n",
       "}});\n",
       "\n",
       "// Listen for the removal of the full notebook cells\n",
       "var notebookContainer = gd.closest('#notebook-container');\n",
       "if (notebookContainer) {{\n",
       "    x.observe(notebookContainer, {childList: true});\n",
       "}}\n",
       "\n",
       "// Listen for the clearing of the current output cell\n",
       "var outputEl = gd.closest('.output');\n",
       "if (outputEl) {{\n",
       "    x.observe(outputEl, {childList: true});\n",
       "}}\n",
       "\n",
       "                        })                };                });            </script>        </div>"
      ]
     },
     "metadata": {},
     "output_type": "display_data"
    }
   ],
   "source": [
    "fig = go.Figure()\n",
    "\n",
    "fig.add_trace(\n",
    "    go.Scatter(\n",
    "        x=df.date,\n",
    "        y=y,\n",
    "        mode='lines+markers'\n",
    "    )\n",
    ")\n",
    "\n",
    "fig.show()"
   ]
  },
  {
   "cell_type": "markdown",
   "id": "76927e65-af6e-475f-82ee-2260dc89bb8e",
   "metadata": {},
   "source": [
    "\n",
    "# Формирование запроса"
   ]
  },
  {
   "cell_type": "code",
   "execution_count": 630,
   "id": "3ea62f07-e55d-4644-91f6-9737265d76c0",
   "metadata": {},
   "outputs": [],
   "source": [
    "url = 'http://localhost:5051/forecast/api/v1/base'\n",
    "\n",
    "data = {\n",
    "    \"hparams\": {\n",
    "        \"lookback\": 12,\n",
    "        \"units\": 2,\n",
    "        \"n_layers\": 2,\n",
    "        \"batch_size\": 5,\n",
    "        \"epochs\": 100,\n",
    "        \"learning_rate\": 0.0001\n",
    "    },\n",
    "    \"target\": {\n",
    "        \"values\": y,\n",
    "        \"dates\": x\n",
    "    }\n",
    "}"
   ]
  },
  {
   "cell_type": "markdown",
   "id": "20ea5497-3cd9-4014-a7c3-ffb58d08b2e4",
   "metadata": {},
   "source": [
    "# Отправка запроса"
   ]
  },
  {
   "cell_type": "code",
   "execution_count": 631,
   "id": "78fd7ceb-473d-40b7-a25d-82264524a2a5",
   "metadata": {},
   "outputs": [
    {
     "data": {
      "text/plain": [
       "200"
      ]
     },
     "execution_count": 631,
     "metadata": {},
     "output_type": "execute_result"
    }
   ],
   "source": [
    "response = requests.post(url, json=data)\n",
    "response.status_code"
   ]
  },
  {
   "cell_type": "markdown",
   "id": "8f72a6a8-b709-464f-af86-7c58593fd0b4",
   "metadata": {},
   "source": [
    "Смотрим формат ответа"
   ]
  },
  {
   "cell_type": "code",
   "execution_count": 632,
   "id": "a1d3422b-a487-4154-849e-d0def6ff6bec",
   "metadata": {},
   "outputs": [
    {
     "data": {
      "text/plain": [
       "{'previous': [0.7139173150062561,\n",
       "  0.7620782852172852,\n",
       "  0.7286993861198425,\n",
       "  0.7413562536239624,\n",
       "  0.6667520403862,\n",
       "  0.6938835978507996,\n",
       "  0.6818661689758301,\n",
       "  0.7419289946556091,\n",
       "  0.7371723651885986,\n",
       "  0.6715922951698303,\n",
       "  0.7549558877944946,\n",
       "  0.8358073234558105,\n",
       "  0.7662994861602783,\n",
       "  0.7494661211967468,\n",
       "  0.765010416507721,\n",
       "  0.7108511924743652,\n",
       "  0.6647696495056152,\n",
       "  0.6679717302322388,\n",
       "  0.7130872011184692,\n",
       "  0.6264435052871704,\n",
       "  0.7395583987236023,\n",
       "  0.7359567880630493,\n",
       "  0.8145368695259094,\n",
       "  0.8459745645523071,\n",
       "  0.851658046245575,\n",
       "  0.8333585262298584,\n",
       "  0.7852789163589478,\n",
       "  0.8287038803100586,\n",
       "  0.833175003528595,\n",
       "  0.8178129196166992,\n",
       "  0.8077220320701599,\n",
       "  0.41674530506134033,\n",
       "  0.4440813362598419,\n",
       "  0.5090654492378235,\n",
       "  0.5910326242446899,\n",
       "  0.5558179020881653,\n",
       "  0.09141548722982407,\n",
       "  0.31717321276664734,\n",
       "  0.42412328720092773,\n",
       "  0.5556904077529907,\n",
       "  0.5380592942237854,\n",
       "  0.6129044890403748,\n",
       "  0.38732901215553284,\n",
       "  -0.01962072029709816,\n",
       "  -0.5487708449363708,\n",
       "  -1.3863416910171509,\n",
       "  -1.4730660915374756,\n",
       "  -1.5138310194015503,\n",
       "  -1.5478259325027466,\n",
       "  -1.5511419773101807,\n",
       "  -1.5033084154129028,\n",
       "  -1.4991706609725952,\n",
       "  -1.4720141887664795,\n",
       "  -1.2937098741531372,\n",
       "  -1.3141359090805054,\n",
       "  -1.310356855392456,\n",
       "  -1.0461273193359375,\n",
       "  -0.92979496717453,\n",
       "  -0.450228750705719,\n",
       "  -0.3302346467971802,\n",
       "  -0.6712540984153748,\n",
       "  -0.6506216526031494,\n",
       "  0.06573531776666641,\n",
       "  0.03402020037174225,\n",
       "  -0.1870943158864975,\n",
       "  -0.19770142436027527,\n",
       "  -0.12752306461334229,\n",
       "  -0.7253139615058899,\n",
       "  -0.3248724639415741,\n",
       "  -0.15782462060451508,\n",
       "  0.11687415838241577,\n",
       "  0.19148226082324982,\n",
       "  0.14481863379478455,\n",
       "  0.13402973115444183,\n",
       "  0.008804917335510254,\n",
       "  -0.1828233152627945,\n",
       "  0.2739468216896057,\n",
       "  0.2390661984682083,\n",
       "  0.36048996448516846,\n",
       "  -0.5274227857589722,\n",
       "  -0.5947253108024597,\n",
       "  -0.6161332726478577,\n",
       "  -0.4803687334060669,\n",
       "  -0.3931669592857361,\n",
       "  0.04366927966475487,\n",
       "  0.2945651412010193,\n",
       "  0.28084197640419006,\n",
       "  0.18570134043693542,\n",
       "  -0.13282932341098785,\n",
       "  -0.14288152754306793,\n",
       "  -0.021020669490098953,\n",
       "  -0.31289130449295044,\n",
       "  0.2610540986061096,\n",
       "  0.05890137702226639,\n",
       "  0.3209902048110962,\n",
       "  0.283124178647995,\n",
       "  0.29430490732192993,\n",
       "  0.4269057810306549,\n",
       "  0.40723496675491333,\n",
       "  0.18300367891788483,\n",
       "  -0.08532547205686569,\n",
       "  -0.26154953241348267,\n",
       "  -0.43387213349342346,\n",
       "  -0.38101279735565186,\n",
       "  -0.162835955619812,\n",
       "  -0.01597253605723381,\n",
       "  0.26224368810653687,\n",
       "  0.12830829620361328,\n",
       "  -0.1162131205201149,\n",
       "  -0.28647521138191223,\n",
       "  -0.4700446128845215,\n",
       "  -0.5499146580696106,\n",
       "  -0.031927864998579025,\n",
       "  0.004180639982223511,\n",
       "  -0.4379996657371521,\n",
       "  -0.8581098318099976,\n",
       "  -0.7086548805236816,\n",
       "  -1.0403966903686523,\n",
       "  -1.0219396352767944,\n",
       "  -1.3195219039916992,\n",
       "  -1.3851836919784546,\n",
       "  -1.4386500120162964,\n",
       "  -1.3145778179168701,\n",
       "  -0.9192661046981812,\n",
       "  -0.9266859889030457,\n",
       "  -0.7405011057853699,\n",
       "  -0.8583784699440002,\n",
       "  -1.3620108366012573,\n",
       "  -1.1436078548431396,\n",
       "  -1.1697720289230347,\n",
       "  -0.9604793190956116,\n",
       "  -1.0545903444290161,\n",
       "  -1.3602527379989624,\n",
       "  -1.3172186613082886,\n",
       "  -1.121073603630066,\n",
       "  -0.8320018649101257,\n",
       "  -0.6729262471199036,\n",
       "  -0.19693264365196228,\n",
       "  -0.11513596028089523,\n",
       "  -0.49966496229171753,\n",
       "  -0.6411979794502258,\n",
       "  -0.3140173554420471,\n",
       "  0.00817946344614029,\n",
       "  0.3047550320625305,\n",
       "  0.40040844678878784,\n",
       "  0.5505346059799194,\n",
       "  0.6502283215522766,\n",
       "  0.6300863027572632,\n",
       "  0.6034799218177795,\n",
       "  0.4125768840312958,\n",
       "  0.2645028531551361,\n",
       "  0.23673401772975922,\n",
       "  0.5886168479919434,\n",
       "  0.5644230246543884,\n",
       "  0.4244807958602905,\n",
       "  0.5317685008049011,\n",
       "  0.7427380084991455,\n",
       "  0.5231337547302246,\n",
       "  0.37742143869400024,\n",
       "  0.3586738705635071,\n",
       "  0.37598156929016113,\n",
       "  0.12859226763248444,\n",
       "  0.1567789912223816,\n",
       "  -0.349006325006485,\n",
       "  -0.19766880571842194,\n",
       "  -0.4047963619232178,\n",
       "  -0.09485524147748947,\n",
       "  -0.2721361517906189,\n",
       "  -0.5025269389152527,\n",
       "  -0.09698846191167831,\n",
       "  0.08151131868362427,\n",
       "  0.06461937725543976,\n",
       "  0.11281942576169968,\n",
       "  -0.20102395117282867,\n",
       "  -0.369746595621109,\n",
       "  -0.5393229722976685,\n",
       "  0.2257908135652542,\n",
       "  0.04023450240492821,\n",
       "  0.16052113473415375,\n",
       "  0.23586466908454895,\n",
       "  -0.08461583405733109,\n",
       "  -0.09408589452505112,\n",
       "  -1.2594029903411865,\n",
       "  -1.474724531173706,\n",
       "  -1.532463550567627,\n",
       "  -1.5110243558883667,\n",
       "  -1.3979090452194214,\n",
       "  -1.3149607181549072,\n",
       "  -1.000448226928711,\n",
       "  -0.9625517725944519,\n",
       "  -0.41270577907562256,\n",
       "  -0.11952004581689835,\n",
       "  0.32392096519470215,\n",
       "  0.5944145917892456,\n",
       "  0.5458419322967529,\n",
       "  0.6541305184364319,\n",
       "  0.6002423763275146,\n",
       "  0.8180650472640991,\n",
       "  0.777656614780426,\n",
       "  0.707452118396759,\n",
       "  0.6540921330451965,\n",
       "  0.23873546719551086,\n",
       "  -0.01378927007317543,\n",
       "  0.14973542094230652,\n",
       "  -0.1948523372411728,\n",
       "  -0.2361166924238205,\n",
       "  -0.3686824440956116,\n",
       "  -0.47548234462738037,\n",
       "  -0.8068658709526062,\n",
       "  -0.9177641272544861,\n",
       "  -0.6215149760246277,\n",
       "  -0.4215289354324341,\n",
       "  -0.5034165382385254,\n",
       "  -0.8853265047073364,\n",
       "  -0.9047419428825378,\n",
       "  -0.5953559279441833,\n",
       "  -0.3773857355117798,\n",
       "  0.009676892310380936,\n",
       "  -0.07796335965394974,\n",
       "  0.3897746801376343,\n",
       "  0.4941454231739044,\n",
       "  0.3628478944301605,\n",
       "  0.47155237197875977,\n",
       "  0.1688612550497055,\n",
       "  0.33255523443222046,\n",
       "  0.6173712611198425,\n",
       "  0.36069056391716003,\n",
       "  0.6464955806732178,\n",
       "  0.6244381070137024,\n",
       "  0.6643118858337402],\n",
       " 'next': [0.6464955730351608,\n",
       "  0.4976469859975185,\n",
       "  0.3902786240447948,\n",
       "  0.302517540541402,\n",
       "  0.22459503372423917,\n",
       "  0.1510792796557952,\n",
       "  0.0783749184891162,\n",
       "  0.003729225697286634,\n",
       "  -0.07519422422747742,\n",
       "  -0.16044338145424064,\n",
       "  -0.2536568460203192,\n",
       "  -0.3556547658740816],\n",
       " 'scores': []}"
      ]
     },
     "execution_count": 632,
     "metadata": {},
     "output_type": "execute_result"
    }
   ],
   "source": [
    "response.json()"
   ]
  },
  {
   "cell_type": "markdown",
   "id": "52b1a4c2-fab4-4699-a65a-652574da6b38",
   "metadata": {},
   "source": [
    "Получаем список значений"
   ]
  },
  {
   "cell_type": "code",
   "execution_count": 634,
   "id": "562ad733-8520-4600-91e9-22eb9a927446",
   "metadata": {},
   "outputs": [],
   "source": [
    "forecast = response.json()\n",
    "\n",
    "# прогноз модели на предыдущие значения\n",
    "train_pred = forecast['previous']\n",
    "next_pred = forecast['next']\n",
    "\n",
    "# прогноз модели на 3 месяца вперед\n",
    "# pred_y = [forecast['month_1'], forecast['month_2'], forecast['month_3']]\n",
    "# pred_y"
   ]
  },
  {
   "cell_type": "markdown",
   "id": "0bed4342-bd66-47a5-9a51-a0f4475b1607",
   "metadata": {},
   "source": [
    "Наносим на график"
   ]
  },
  {
   "cell_type": "code",
   "execution_count": 635,
   "id": "419a868f-3f92-47e0-8c54-3b4d85af0224",
   "metadata": {},
   "outputs": [
    {
     "data": {
      "application/vnd.plotly.v1+json": {
       "config": {
        "plotlyServerURL": "https://plot.ly"
       },
       "data": [
        {
         "mode": "lines+markers",
         "name": "Индикатор бизнес-климата ЦБ",
         "type": "scatter",
         "x": [
          "2004-02-01T00:00:00",
          "2004-03-01T00:00:00",
          "2004-04-01T00:00:00",
          "2004-05-01T00:00:00",
          "2004-06-01T00:00:00",
          "2004-07-01T00:00:00",
          "2004-08-01T00:00:00",
          "2004-09-01T00:00:00",
          "2004-10-01T00:00:00",
          "2004-11-01T00:00:00",
          "2004-12-01T00:00:00",
          "2005-01-01T00:00:00",
          "2005-02-01T00:00:00",
          "2005-03-01T00:00:00",
          "2005-04-01T00:00:00",
          "2005-05-01T00:00:00",
          "2005-06-01T00:00:00",
          "2005-07-01T00:00:00",
          "2005-08-01T00:00:00",
          "2005-09-01T00:00:00",
          "2005-10-01T00:00:00",
          "2005-11-01T00:00:00",
          "2005-12-01T00:00:00",
          "2006-01-01T00:00:00",
          "2006-02-01T00:00:00",
          "2006-03-01T00:00:00",
          "2006-04-01T00:00:00",
          "2006-05-01T00:00:00",
          "2006-06-01T00:00:00",
          "2006-07-01T00:00:00",
          "2006-08-01T00:00:00",
          "2006-09-01T00:00:00",
          "2006-10-01T00:00:00",
          "2006-11-01T00:00:00",
          "2006-12-01T00:00:00",
          "2007-01-01T00:00:00",
          "2007-02-01T00:00:00",
          "2007-03-01T00:00:00",
          "2007-04-01T00:00:00",
          "2007-05-01T00:00:00",
          "2007-06-01T00:00:00",
          "2007-07-01T00:00:00",
          "2007-08-01T00:00:00",
          "2007-09-01T00:00:00",
          "2007-10-01T00:00:00",
          "2007-11-01T00:00:00",
          "2007-12-01T00:00:00",
          "2008-01-01T00:00:00",
          "2008-02-01T00:00:00",
          "2008-03-01T00:00:00",
          "2008-04-01T00:00:00",
          "2008-05-01T00:00:00",
          "2008-06-01T00:00:00",
          "2008-07-01T00:00:00",
          "2008-08-01T00:00:00",
          "2008-09-01T00:00:00",
          "2008-10-01T00:00:00",
          "2008-11-01T00:00:00",
          "2008-12-01T00:00:00",
          "2009-01-01T00:00:00",
          "2009-02-01T00:00:00",
          "2009-03-01T00:00:00",
          "2009-04-01T00:00:00",
          "2009-05-01T00:00:00",
          "2009-06-01T00:00:00",
          "2009-07-01T00:00:00",
          "2009-08-01T00:00:00",
          "2009-09-01T00:00:00",
          "2009-10-01T00:00:00",
          "2009-11-01T00:00:00",
          "2009-12-01T00:00:00",
          "2010-01-01T00:00:00",
          "2010-02-01T00:00:00",
          "2010-03-01T00:00:00",
          "2010-04-01T00:00:00",
          "2010-05-01T00:00:00",
          "2010-06-01T00:00:00",
          "2010-07-01T00:00:00",
          "2010-08-01T00:00:00",
          "2010-09-01T00:00:00",
          "2010-10-01T00:00:00",
          "2010-11-01T00:00:00",
          "2010-12-01T00:00:00",
          "2011-01-01T00:00:00",
          "2011-02-01T00:00:00",
          "2011-03-01T00:00:00",
          "2011-04-01T00:00:00",
          "2011-05-01T00:00:00",
          "2011-06-01T00:00:00",
          "2011-07-01T00:00:00",
          "2011-08-01T00:00:00",
          "2011-09-01T00:00:00",
          "2011-10-01T00:00:00",
          "2011-11-01T00:00:00",
          "2011-12-01T00:00:00",
          "2012-01-01T00:00:00",
          "2012-02-01T00:00:00",
          "2012-03-01T00:00:00",
          "2012-04-01T00:00:00",
          "2012-05-01T00:00:00",
          "2012-06-01T00:00:00",
          "2012-07-01T00:00:00",
          "2012-08-01T00:00:00",
          "2012-09-01T00:00:00",
          "2012-10-01T00:00:00",
          "2012-11-01T00:00:00",
          "2012-12-01T00:00:00",
          "2013-01-01T00:00:00",
          "2013-02-01T00:00:00",
          "2013-03-01T00:00:00",
          "2013-04-01T00:00:00",
          "2013-05-01T00:00:00",
          "2013-06-01T00:00:00",
          "2013-07-01T00:00:00",
          "2013-08-01T00:00:00",
          "2013-09-01T00:00:00",
          "2013-10-01T00:00:00",
          "2013-11-01T00:00:00",
          "2013-12-01T00:00:00",
          "2014-01-01T00:00:00",
          "2014-02-01T00:00:00",
          "2014-03-01T00:00:00",
          "2014-04-01T00:00:00",
          "2014-05-01T00:00:00",
          "2014-06-01T00:00:00",
          "2014-07-01T00:00:00",
          "2014-08-01T00:00:00",
          "2014-09-01T00:00:00",
          "2014-10-01T00:00:00",
          "2014-11-01T00:00:00",
          "2014-12-01T00:00:00",
          "2015-01-01T00:00:00",
          "2015-02-01T00:00:00",
          "2015-03-01T00:00:00",
          "2015-04-01T00:00:00",
          "2015-05-01T00:00:00",
          "2015-06-01T00:00:00",
          "2015-07-01T00:00:00",
          "2015-08-01T00:00:00",
          "2015-09-01T00:00:00",
          "2015-10-01T00:00:00",
          "2015-11-01T00:00:00",
          "2015-12-01T00:00:00",
          "2016-01-01T00:00:00",
          "2016-02-01T00:00:00",
          "2016-03-01T00:00:00",
          "2016-04-01T00:00:00",
          "2016-05-01T00:00:00",
          "2016-06-01T00:00:00",
          "2016-07-01T00:00:00",
          "2016-08-01T00:00:00",
          "2016-09-01T00:00:00",
          "2016-10-01T00:00:00",
          "2016-11-01T00:00:00",
          "2016-12-01T00:00:00",
          "2017-01-01T00:00:00",
          "2017-02-01T00:00:00",
          "2017-03-01T00:00:00",
          "2017-04-01T00:00:00",
          "2017-05-01T00:00:00",
          "2017-06-01T00:00:00",
          "2017-07-01T00:00:00",
          "2017-08-01T00:00:00",
          "2017-09-01T00:00:00",
          "2017-10-01T00:00:00",
          "2017-11-01T00:00:00",
          "2017-12-01T00:00:00",
          "2018-01-01T00:00:00",
          "2018-02-01T00:00:00",
          "2018-03-01T00:00:00",
          "2018-04-01T00:00:00",
          "2018-05-01T00:00:00",
          "2018-06-01T00:00:00",
          "2018-07-01T00:00:00",
          "2018-08-01T00:00:00",
          "2018-09-01T00:00:00",
          "2018-10-01T00:00:00",
          "2018-11-01T00:00:00",
          "2018-12-01T00:00:00",
          "2019-01-01T00:00:00",
          "2019-02-01T00:00:00",
          "2019-03-01T00:00:00",
          "2019-04-01T00:00:00",
          "2019-05-01T00:00:00",
          "2019-06-01T00:00:00",
          "2019-07-01T00:00:00",
          "2019-08-01T00:00:00",
          "2019-09-01T00:00:00",
          "2019-10-01T00:00:00",
          "2019-11-01T00:00:00",
          "2019-12-01T00:00:00",
          "2020-01-01T00:00:00",
          "2020-02-01T00:00:00",
          "2020-03-01T00:00:00",
          "2020-04-01T00:00:00",
          "2020-05-01T00:00:00",
          "2020-06-01T00:00:00",
          "2020-07-01T00:00:00",
          "2020-08-01T00:00:00",
          "2020-09-01T00:00:00",
          "2020-10-01T00:00:00",
          "2020-11-01T00:00:00",
          "2020-12-01T00:00:00",
          "2021-01-01T00:00:00",
          "2021-02-01T00:00:00",
          "2021-03-01T00:00:00",
          "2021-04-01T00:00:00",
          "2021-05-01T00:00:00",
          "2021-06-01T00:00:00",
          "2021-07-01T00:00:00",
          "2021-08-01T00:00:00",
          "2021-09-01T00:00:00",
          "2021-10-01T00:00:00",
          "2021-11-01T00:00:00",
          "2021-12-01T00:00:00",
          "2022-01-01T00:00:00",
          "2022-02-01T00:00:00",
          "2022-03-01T00:00:00",
          "2022-04-01T00:00:00",
          "2022-05-01T00:00:00",
          "2022-06-01T00:00:00",
          "2022-07-01T00:00:00",
          "2022-08-01T00:00:00",
          "2022-09-01T00:00:00",
          "2022-10-01T00:00:00",
          "2022-11-01T00:00:00",
          "2022-12-01T00:00:00",
          "2023-01-01T00:00:00",
          "2023-02-01T00:00:00",
          "2023-03-01T00:00:00",
          "2023-04-01T00:00:00",
          "2023-05-01T00:00:00",
          "2023-06-01T00:00:00",
          "2023-07-01T00:00:00",
          "2023-08-01T00:00:00",
          "2023-09-01T00:00:00",
          "2023-10-01T00:00:00",
          "2023-11-01T00:00:00",
          "2023-12-01T00:00:00",
          "2024-01-01T00:00:00",
          "2024-02-01T00:00:00",
          "2024-03-01T00:00:00"
         ],
         "y": [
          1.283100603,
          1.31661417,
          1.544783554,
          1.278622766,
          1.160093536,
          1.101080574,
          0.732780585,
          0.884096937,
          0.872804320999999,
          0.957035928,
          0.904076913,
          1.014126729,
          1.059926219,
          1.193956595,
          1.098423547,
          1.133131065,
          0.949182857,
          1.010832372,
          0.98289192,
          1.134742926,
          1.121468216,
          0.959813203,
          1.172443952,
          1.469945154,
          1.207031044,
          1.156306466,
          1.203012171,
          1.052193533,
          0.944872285,
          0.951847462,
          1.057824403,
          0.865998697,
          1.128095594,
          1.118115386,
          1.377785795,
          1.51920352,
          1.54853,
          1.458634118,
          1.269127368,
          1.437673103,
          1.457794778,
          1.391149239,
          1.350832424,
          0.53227393,
          0.569350471,
          0.663818987999999,
          0.79959946,
          0.738568120999999,
          0.164046271,
          0.407508092,
          0.542143446,
          0.738354992,
          0.709404612,
          0.839951426,
          0.493859521,
          0.056087347,
          -0.434632883,
          -1.760453747,
          -2.149587034,
          -2.426604339,
          -2.762068879,
          -2.80355471,
          -2.345597188,
          -2.315822511,
          -2.143552605,
          -1.483087004,
          -1.536724113,
          -1.526535775,
          -1.009848121,
          -0.849567445999999,
          -0.341146737,
          -0.230364164,
          -0.556297713,
          -0.535257557,
          0.138592708,
          0.107589975,
          -0.099636685,
          -0.109344863,
          -0.044872924,
          -0.612714467,
          -0.22545848,
          -0.07278793,
          0.189625274,
          0.266909674,
          0.218139202,
          0.207073222,
          0.0832455409999999,
          -0.095724737,
          0.357387977,
          0.318370896,
          0.460011032,
          -0.414111629,
          -0.47942821,
          -0.500621256,
          -0.369428388,
          -0.288173433,
          0.116974949,
          0.381033711,
          0.365244926,
          0.260782513,
          -0.049771636,
          -0.059039191,
          0.054757031,
          -0.214505045,
          0.342827674,
          0.131873638,
          0.412037499,
          0.367856512,
          0.380732402,
          0.545891337,
          0.51969462,
          0.257931882,
          -0.005726671,
          -0.167643343,
          -0.325892886,
          -0.276967775,
          -0.077391898,
          0.059557212,
          0.344164147999999,
          0.201234529,
          -0.034415209,
          -0.190383869,
          -0.359713861,
          -0.435737348,
          0.044413829,
          0.078807754,
          -0.329736366,
          -0.761372088,
          -0.595116797,
          -1.001335008,
          -0.974402101,
          -1.551464015,
          -1.756337226,
          -1.972269835,
          -1.53792343099999,
          -0.836182711,
          -0.845598354,
          -0.628935402,
          -0.761690482,
          -1.678045848,
          -1.167661566,
          -1.21505909,
          -0.889527245,
          -1.022556978,
          -1.672402188,
          -1.54512814199999,
          -1.12873918,
          -0.730799465999999,
          -0.558014066,
          -0.108641535,
          -0.033417964,
          -0.387667794,
          -0.525729409,
          -0.215534104,
          0.0826448479999999,
          0.392892794,
          0.510760847,
          0.729786434,
          0.913982265,
          0.87315744,
          0.822313455,
          0.526740932,
          0.346706145,
          0.315803251,
          0.79526395,
          0.753071039,
          0.542624318,
          0.699308447,
          1.137026072,
          0.685640166,
          0.481237868,
          0.457759002,
          0.479416165,
          0.201523826,
          0.230494984,
          -0.247558385,
          -0.109315008,
          -0.298918076,
          -0.014599497,
          -0.177300789,
          -0.39038259,
          -0.016582936,
          0.154189998,
          0.137494056,
          0.185526979,
          -0.112383873,
          -0.266600472,
          -0.425530127,
          0.303820559,
          0.113629596,
          0.234380499,
          0.314847379,
          -0.005065133,
          -0.013883929,
          -1.40009461,
          -2.159193958,
          -2.593329415,
          -2.404199366,
          -1.802763871,
          -1.53896427699999,
          -0.94392439,
          -0.89227994,
          -0.306239578,
          -0.037475351,
          0.415527554,
          0.805707533,
          0.722062184,
          0.922148861,
          0.816343415999999,
          1.392189327,
          1.243501705,
          1.04371663182114,
          0.9220681334709,
          0.318006472314193,
          0.0616358764406062,
          0.223207091489282,
          -0.10673817676224,
          -0.144439509633056,
          -0.265622152419797,
          -0.364826854282305,
          -0.702043961537595,
          -0.834286199496258,
          -0.505984661885646,
          -0.3144209437976,
          -0.391226943937146,
          -0.794078236658376,
          -0.817975576643949,
          -0.480049268448537,
          -0.273628107742536,
          0.0840832581336721,
          0.0011422213384214,
          0.496998797214917,
          0.641249873820179,
          0.462942009337296,
          0.60811180087446,
          0.243075136357314,
          0.425871867856003,
          0.848449821584231,
          0.460260068853364,
          0.906250853613036,
          0.862085588528884,
          0.943880220956826
         ]
        },
        {
         "mode": "lines+markers",
         "name": "Прогноз",
         "type": "scatter",
         "x": [
          "2005-02-01T00:00:00",
          "2005-03-01T00:00:00",
          "2005-04-01T00:00:00",
          "2005-05-01T00:00:00",
          "2005-06-01T00:00:00",
          "2005-07-01T00:00:00",
          "2005-08-01T00:00:00",
          "2005-09-01T00:00:00",
          "2005-10-01T00:00:00",
          "2005-11-01T00:00:00",
          "2005-12-01T00:00:00",
          "2006-01-01T00:00:00",
          "2006-02-01T00:00:00",
          "2006-03-01T00:00:00",
          "2006-04-01T00:00:00",
          "2006-05-01T00:00:00",
          "2006-06-01T00:00:00",
          "2006-07-01T00:00:00",
          "2006-08-01T00:00:00",
          "2006-09-01T00:00:00",
          "2006-10-01T00:00:00",
          "2006-11-01T00:00:00",
          "2006-12-01T00:00:00",
          "2007-01-01T00:00:00",
          "2007-02-01T00:00:00",
          "2007-03-01T00:00:00",
          "2007-04-01T00:00:00",
          "2007-05-01T00:00:00",
          "2007-06-01T00:00:00",
          "2007-07-01T00:00:00",
          "2007-08-01T00:00:00",
          "2007-09-01T00:00:00",
          "2007-10-01T00:00:00",
          "2007-11-01T00:00:00",
          "2007-12-01T00:00:00",
          "2008-01-01T00:00:00",
          "2008-02-01T00:00:00",
          "2008-03-01T00:00:00",
          "2008-04-01T00:00:00",
          "2008-05-01T00:00:00",
          "2008-06-01T00:00:00",
          "2008-07-01T00:00:00",
          "2008-08-01T00:00:00",
          "2008-09-01T00:00:00",
          "2008-10-01T00:00:00",
          "2008-11-01T00:00:00",
          "2008-12-01T00:00:00",
          "2009-01-01T00:00:00",
          "2009-02-01T00:00:00",
          "2009-03-01T00:00:00",
          "2009-04-01T00:00:00",
          "2009-05-01T00:00:00",
          "2009-06-01T00:00:00",
          "2009-07-01T00:00:00",
          "2009-08-01T00:00:00",
          "2009-09-01T00:00:00",
          "2009-10-01T00:00:00",
          "2009-11-01T00:00:00",
          "2009-12-01T00:00:00",
          "2010-01-01T00:00:00",
          "2010-02-01T00:00:00",
          "2010-03-01T00:00:00",
          "2010-04-01T00:00:00",
          "2010-05-01T00:00:00",
          "2010-06-01T00:00:00",
          "2010-07-01T00:00:00",
          "2010-08-01T00:00:00",
          "2010-09-01T00:00:00",
          "2010-10-01T00:00:00",
          "2010-11-01T00:00:00",
          "2010-12-01T00:00:00",
          "2011-01-01T00:00:00",
          "2011-02-01T00:00:00",
          "2011-03-01T00:00:00",
          "2011-04-01T00:00:00",
          "2011-05-01T00:00:00",
          "2011-06-01T00:00:00",
          "2011-07-01T00:00:00",
          "2011-08-01T00:00:00",
          "2011-09-01T00:00:00",
          "2011-10-01T00:00:00",
          "2011-11-01T00:00:00",
          "2011-12-01T00:00:00",
          "2012-01-01T00:00:00",
          "2012-02-01T00:00:00",
          "2012-03-01T00:00:00",
          "2012-04-01T00:00:00",
          "2012-05-01T00:00:00",
          "2012-06-01T00:00:00",
          "2012-07-01T00:00:00",
          "2012-08-01T00:00:00",
          "2012-09-01T00:00:00",
          "2012-10-01T00:00:00",
          "2012-11-01T00:00:00",
          "2012-12-01T00:00:00",
          "2013-01-01T00:00:00",
          "2013-02-01T00:00:00",
          "2013-03-01T00:00:00",
          "2013-04-01T00:00:00",
          "2013-05-01T00:00:00",
          "2013-06-01T00:00:00",
          "2013-07-01T00:00:00",
          "2013-08-01T00:00:00",
          "2013-09-01T00:00:00",
          "2013-10-01T00:00:00",
          "2013-11-01T00:00:00",
          "2013-12-01T00:00:00",
          "2014-01-01T00:00:00",
          "2014-02-01T00:00:00",
          "2014-03-01T00:00:00",
          "2014-04-01T00:00:00",
          "2014-05-01T00:00:00",
          "2014-06-01T00:00:00",
          "2014-07-01T00:00:00",
          "2014-08-01T00:00:00",
          "2014-09-01T00:00:00",
          "2014-10-01T00:00:00",
          "2014-11-01T00:00:00",
          "2014-12-01T00:00:00",
          "2015-01-01T00:00:00",
          "2015-02-01T00:00:00",
          "2015-03-01T00:00:00",
          "2015-04-01T00:00:00",
          "2015-05-01T00:00:00",
          "2015-06-01T00:00:00",
          "2015-07-01T00:00:00",
          "2015-08-01T00:00:00",
          "2015-09-01T00:00:00",
          "2015-10-01T00:00:00",
          "2015-11-01T00:00:00",
          "2015-12-01T00:00:00",
          "2016-01-01T00:00:00",
          "2016-02-01T00:00:00",
          "2016-03-01T00:00:00",
          "2016-04-01T00:00:00",
          "2016-05-01T00:00:00",
          "2016-06-01T00:00:00",
          "2016-07-01T00:00:00",
          "2016-08-01T00:00:00",
          "2016-09-01T00:00:00",
          "2016-10-01T00:00:00",
          "2016-11-01T00:00:00",
          "2016-12-01T00:00:00",
          "2017-01-01T00:00:00",
          "2017-02-01T00:00:00",
          "2017-03-01T00:00:00",
          "2017-04-01T00:00:00",
          "2017-05-01T00:00:00",
          "2017-06-01T00:00:00",
          "2017-07-01T00:00:00",
          "2017-08-01T00:00:00",
          "2017-09-01T00:00:00",
          "2017-10-01T00:00:00",
          "2017-11-01T00:00:00",
          "2017-12-01T00:00:00",
          "2018-01-01T00:00:00",
          "2018-02-01T00:00:00",
          "2018-03-01T00:00:00",
          "2018-04-01T00:00:00",
          "2018-05-01T00:00:00",
          "2018-06-01T00:00:00",
          "2018-07-01T00:00:00",
          "2018-08-01T00:00:00",
          "2018-09-01T00:00:00",
          "2018-10-01T00:00:00",
          "2018-11-01T00:00:00",
          "2018-12-01T00:00:00",
          "2019-01-01T00:00:00",
          "2019-02-01T00:00:00",
          "2019-03-01T00:00:00",
          "2019-04-01T00:00:00",
          "2019-05-01T00:00:00",
          "2019-06-01T00:00:00",
          "2019-07-01T00:00:00",
          "2019-08-01T00:00:00",
          "2019-09-01T00:00:00",
          "2019-10-01T00:00:00",
          "2019-11-01T00:00:00",
          "2019-12-01T00:00:00",
          "2020-01-01T00:00:00",
          "2020-02-01T00:00:00",
          "2020-03-01T00:00:00",
          "2020-04-01T00:00:00",
          "2020-05-01T00:00:00",
          "2020-06-01T00:00:00",
          "2020-07-01T00:00:00",
          "2020-08-01T00:00:00",
          "2020-09-01T00:00:00",
          "2020-10-01T00:00:00",
          "2020-11-01T00:00:00",
          "2020-12-01T00:00:00",
          "2021-01-01T00:00:00",
          "2021-02-01T00:00:00",
          "2021-03-01T00:00:00",
          "2021-04-01T00:00:00",
          "2021-05-01T00:00:00",
          "2021-06-01T00:00:00",
          "2021-07-01T00:00:00",
          "2021-08-01T00:00:00",
          "2021-09-01T00:00:00",
          "2021-10-01T00:00:00",
          "2021-11-01T00:00:00",
          "2021-12-01T00:00:00",
          "2022-01-01T00:00:00",
          "2022-02-01T00:00:00",
          "2022-03-01T00:00:00",
          "2022-04-01T00:00:00",
          "2022-05-01T00:00:00",
          "2022-06-01T00:00:00",
          "2022-07-01T00:00:00",
          "2022-08-01T00:00:00",
          "2022-09-01T00:00:00",
          "2022-10-01T00:00:00",
          "2022-11-01T00:00:00",
          "2022-12-01T00:00:00",
          "2023-01-01T00:00:00",
          "2023-02-01T00:00:00",
          "2023-03-01T00:00:00",
          "2023-04-01T00:00:00",
          "2023-05-01T00:00:00",
          "2023-06-01T00:00:00",
          "2023-07-01T00:00:00",
          "2023-08-01T00:00:00",
          "2023-09-01T00:00:00",
          "2023-10-01T00:00:00",
          "2023-11-01T00:00:00",
          "2023-12-01T00:00:00",
          "2024-01-01T00:00:00",
          "2024-02-01T00:00:00",
          "2024-03-01T00:00:00",
          "2024-04-01T00:00:00",
          "2024-05-01T00:00:00"
         ],
         "y": [
          0.7139173150062561,
          0.7620782852172852,
          0.7286993861198425,
          0.7413562536239624,
          0.6667520403862,
          0.6938835978507996,
          0.6818661689758301,
          0.7419289946556091,
          0.7371723651885986,
          0.6715922951698303,
          0.7549558877944946,
          0.8358073234558105,
          0.7662994861602783,
          0.7494661211967468,
          0.765010416507721,
          0.7108511924743652,
          0.6647696495056152,
          0.6679717302322388,
          0.7130872011184692,
          0.6264435052871704,
          0.7395583987236023,
          0.7359567880630493,
          0.8145368695259094,
          0.8459745645523071,
          0.851658046245575,
          0.8333585262298584,
          0.7852789163589478,
          0.8287038803100586,
          0.833175003528595,
          0.8178129196166992,
          0.8077220320701599,
          0.41674530506134033,
          0.4440813362598419,
          0.5090654492378235,
          0.5910326242446899,
          0.5558179020881653,
          0.09141548722982407,
          0.31717321276664734,
          0.42412328720092773,
          0.5556904077529907,
          0.5380592942237854,
          0.6129044890403748,
          0.38732901215553284,
          -0.01962072029709816,
          -0.5487708449363708,
          -1.3863416910171509,
          -1.4730660915374756,
          -1.5138310194015503,
          -1.5478259325027466,
          -1.5511419773101807,
          -1.5033084154129028,
          -1.4991706609725952,
          -1.4720141887664795,
          -1.2937098741531372,
          -1.3141359090805054,
          -1.310356855392456,
          -1.0461273193359375,
          -0.92979496717453,
          -0.450228750705719,
          -0.3302346467971802,
          -0.6712540984153748,
          -0.6506216526031494,
          0.06573531776666641,
          0.03402020037174225,
          -0.1870943158864975,
          -0.19770142436027527,
          -0.12752306461334229,
          -0.7253139615058899,
          -0.3248724639415741,
          -0.15782462060451508,
          0.11687415838241577,
          0.19148226082324982,
          0.14481863379478455,
          0.13402973115444183,
          0.008804917335510254,
          -0.1828233152627945,
          0.2739468216896057,
          0.2390661984682083,
          0.36048996448516846,
          -0.5274227857589722,
          -0.5947253108024597,
          -0.6161332726478577,
          -0.4803687334060669,
          -0.3931669592857361,
          0.04366927966475487,
          0.2945651412010193,
          0.28084197640419006,
          0.18570134043693542,
          -0.13282932341098785,
          -0.14288152754306793,
          -0.021020669490098953,
          -0.31289130449295044,
          0.2610540986061096,
          0.05890137702226639,
          0.3209902048110962,
          0.283124178647995,
          0.29430490732192993,
          0.4269057810306549,
          0.40723496675491333,
          0.18300367891788483,
          -0.08532547205686569,
          -0.26154953241348267,
          -0.43387213349342346,
          -0.38101279735565186,
          -0.162835955619812,
          -0.01597253605723381,
          0.26224368810653687,
          0.12830829620361328,
          -0.1162131205201149,
          -0.28647521138191223,
          -0.4700446128845215,
          -0.5499146580696106,
          -0.031927864998579025,
          0.004180639982223511,
          -0.4379996657371521,
          -0.8581098318099976,
          -0.7086548805236816,
          -1.0403966903686523,
          -1.0219396352767944,
          -1.3195219039916992,
          -1.3851836919784546,
          -1.4386500120162964,
          -1.3145778179168701,
          -0.9192661046981812,
          -0.9266859889030457,
          -0.7405011057853699,
          -0.8583784699440002,
          -1.3620108366012573,
          -1.1436078548431396,
          -1.1697720289230347,
          -0.9604793190956116,
          -1.0545903444290161,
          -1.3602527379989624,
          -1.3172186613082886,
          -1.121073603630066,
          -0.8320018649101257,
          -0.6729262471199036,
          -0.19693264365196228,
          -0.11513596028089523,
          -0.49966496229171753,
          -0.6411979794502258,
          -0.3140173554420471,
          0.00817946344614029,
          0.3047550320625305,
          0.40040844678878784,
          0.5505346059799194,
          0.6502283215522766,
          0.6300863027572632,
          0.6034799218177795,
          0.4125768840312958,
          0.2645028531551361,
          0.23673401772975922,
          0.5886168479919434,
          0.5644230246543884,
          0.4244807958602905,
          0.5317685008049011,
          0.7427380084991455,
          0.5231337547302246,
          0.37742143869400024,
          0.3586738705635071,
          0.37598156929016113,
          0.12859226763248444,
          0.1567789912223816,
          -0.349006325006485,
          -0.19766880571842194,
          -0.4047963619232178,
          -0.09485524147748947,
          -0.2721361517906189,
          -0.5025269389152527,
          -0.09698846191167831,
          0.08151131868362427,
          0.06461937725543976,
          0.11281942576169968,
          -0.20102395117282867,
          -0.369746595621109,
          -0.5393229722976685,
          0.2257908135652542,
          0.04023450240492821,
          0.16052113473415375,
          0.23586466908454895,
          -0.08461583405733109,
          -0.09408589452505112,
          -1.2594029903411865,
          -1.474724531173706,
          -1.532463550567627,
          -1.5110243558883667,
          -1.3979090452194214,
          -1.3149607181549072,
          -1.000448226928711,
          -0.9625517725944519,
          -0.41270577907562256,
          -0.11952004581689835,
          0.32392096519470215,
          0.5944145917892456,
          0.5458419322967529,
          0.6541305184364319,
          0.6002423763275146,
          0.8180650472640991,
          0.777656614780426,
          0.707452118396759,
          0.6540921330451965,
          0.23873546719551086,
          -0.01378927007317543,
          0.14973542094230652,
          -0.1948523372411728,
          -0.2361166924238205,
          -0.3686824440956116,
          -0.47548234462738037,
          -0.8068658709526062,
          -0.9177641272544861,
          -0.6215149760246277,
          -0.4215289354324341,
          -0.5034165382385254,
          -0.8853265047073364,
          -0.9047419428825378,
          -0.5953559279441833,
          -0.3773857355117798,
          0.009676892310380936,
          -0.07796335965394974,
          0.3897746801376343,
          0.4941454231739044,
          0.3628478944301605,
          0.47155237197875977,
          0.1688612550497055,
          0.33255523443222046,
          0.6173712611198425,
          0.36069056391716003,
          0.6464955806732178,
          0.6244381070137024,
          0.6643118858337402,
          0.6464955730351608,
          0.4976469859975185,
          0.3902786240447948,
          0.302517540541402,
          0.22459503372423917,
          0.1510792796557952,
          0.0783749184891162,
          0.003729225697286634,
          -0.07519422422747742,
          -0.16044338145424064,
          -0.2536568460203192,
          -0.3556547658740816
         ]
        },
        {
         "mode": "lines+markers",
         "name": "Факт",
         "type": "scatter",
         "x": [
          "2024-03-01T00:00:00",
          "2024-04-01T00:00:00",
          "2024-05-01T00:00:00",
          "2024-06-01T00:00:00"
         ],
         "y": [
          0.943880220956826,
          1.42821001374225,
          1.31947781230474,
          1.27893975748722
         ]
        }
       ],
       "layout": {
        "autosize": true,
        "template": {
         "data": {
          "bar": [
           {
            "error_x": {
             "color": "#2a3f5f"
            },
            "error_y": {
             "color": "#2a3f5f"
            },
            "marker": {
             "line": {
              "color": "#E5ECF6",
              "width": 0.5
             },
             "pattern": {
              "fillmode": "overlay",
              "size": 10,
              "solidity": 0.2
             }
            },
            "type": "bar"
           }
          ],
          "barpolar": [
           {
            "marker": {
             "line": {
              "color": "#E5ECF6",
              "width": 0.5
             },
             "pattern": {
              "fillmode": "overlay",
              "size": 10,
              "solidity": 0.2
             }
            },
            "type": "barpolar"
           }
          ],
          "carpet": [
           {
            "aaxis": {
             "endlinecolor": "#2a3f5f",
             "gridcolor": "white",
             "linecolor": "white",
             "minorgridcolor": "white",
             "startlinecolor": "#2a3f5f"
            },
            "baxis": {
             "endlinecolor": "#2a3f5f",
             "gridcolor": "white",
             "linecolor": "white",
             "minorgridcolor": "white",
             "startlinecolor": "#2a3f5f"
            },
            "type": "carpet"
           }
          ],
          "choropleth": [
           {
            "colorbar": {
             "outlinewidth": 0,
             "ticks": ""
            },
            "type": "choropleth"
           }
          ],
          "contour": [
           {
            "colorbar": {
             "outlinewidth": 0,
             "ticks": ""
            },
            "colorscale": [
             [
              0,
              "#0d0887"
             ],
             [
              0.1111111111111111,
              "#46039f"
             ],
             [
              0.2222222222222222,
              "#7201a8"
             ],
             [
              0.3333333333333333,
              "#9c179e"
             ],
             [
              0.4444444444444444,
              "#bd3786"
             ],
             [
              0.5555555555555556,
              "#d8576b"
             ],
             [
              0.6666666666666666,
              "#ed7953"
             ],
             [
              0.7777777777777778,
              "#fb9f3a"
             ],
             [
              0.8888888888888888,
              "#fdca26"
             ],
             [
              1,
              "#f0f921"
             ]
            ],
            "type": "contour"
           }
          ],
          "contourcarpet": [
           {
            "colorbar": {
             "outlinewidth": 0,
             "ticks": ""
            },
            "type": "contourcarpet"
           }
          ],
          "heatmap": [
           {
            "colorbar": {
             "outlinewidth": 0,
             "ticks": ""
            },
            "colorscale": [
             [
              0,
              "#0d0887"
             ],
             [
              0.1111111111111111,
              "#46039f"
             ],
             [
              0.2222222222222222,
              "#7201a8"
             ],
             [
              0.3333333333333333,
              "#9c179e"
             ],
             [
              0.4444444444444444,
              "#bd3786"
             ],
             [
              0.5555555555555556,
              "#d8576b"
             ],
             [
              0.6666666666666666,
              "#ed7953"
             ],
             [
              0.7777777777777778,
              "#fb9f3a"
             ],
             [
              0.8888888888888888,
              "#fdca26"
             ],
             [
              1,
              "#f0f921"
             ]
            ],
            "type": "heatmap"
           }
          ],
          "heatmapgl": [
           {
            "colorbar": {
             "outlinewidth": 0,
             "ticks": ""
            },
            "colorscale": [
             [
              0,
              "#0d0887"
             ],
             [
              0.1111111111111111,
              "#46039f"
             ],
             [
              0.2222222222222222,
              "#7201a8"
             ],
             [
              0.3333333333333333,
              "#9c179e"
             ],
             [
              0.4444444444444444,
              "#bd3786"
             ],
             [
              0.5555555555555556,
              "#d8576b"
             ],
             [
              0.6666666666666666,
              "#ed7953"
             ],
             [
              0.7777777777777778,
              "#fb9f3a"
             ],
             [
              0.8888888888888888,
              "#fdca26"
             ],
             [
              1,
              "#f0f921"
             ]
            ],
            "type": "heatmapgl"
           }
          ],
          "histogram": [
           {
            "marker": {
             "pattern": {
              "fillmode": "overlay",
              "size": 10,
              "solidity": 0.2
             }
            },
            "type": "histogram"
           }
          ],
          "histogram2d": [
           {
            "colorbar": {
             "outlinewidth": 0,
             "ticks": ""
            },
            "colorscale": [
             [
              0,
              "#0d0887"
             ],
             [
              0.1111111111111111,
              "#46039f"
             ],
             [
              0.2222222222222222,
              "#7201a8"
             ],
             [
              0.3333333333333333,
              "#9c179e"
             ],
             [
              0.4444444444444444,
              "#bd3786"
             ],
             [
              0.5555555555555556,
              "#d8576b"
             ],
             [
              0.6666666666666666,
              "#ed7953"
             ],
             [
              0.7777777777777778,
              "#fb9f3a"
             ],
             [
              0.8888888888888888,
              "#fdca26"
             ],
             [
              1,
              "#f0f921"
             ]
            ],
            "type": "histogram2d"
           }
          ],
          "histogram2dcontour": [
           {
            "colorbar": {
             "outlinewidth": 0,
             "ticks": ""
            },
            "colorscale": [
             [
              0,
              "#0d0887"
             ],
             [
              0.1111111111111111,
              "#46039f"
             ],
             [
              0.2222222222222222,
              "#7201a8"
             ],
             [
              0.3333333333333333,
              "#9c179e"
             ],
             [
              0.4444444444444444,
              "#bd3786"
             ],
             [
              0.5555555555555556,
              "#d8576b"
             ],
             [
              0.6666666666666666,
              "#ed7953"
             ],
             [
              0.7777777777777778,
              "#fb9f3a"
             ],
             [
              0.8888888888888888,
              "#fdca26"
             ],
             [
              1,
              "#f0f921"
             ]
            ],
            "type": "histogram2dcontour"
           }
          ],
          "mesh3d": [
           {
            "colorbar": {
             "outlinewidth": 0,
             "ticks": ""
            },
            "type": "mesh3d"
           }
          ],
          "parcoords": [
           {
            "line": {
             "colorbar": {
              "outlinewidth": 0,
              "ticks": ""
             }
            },
            "type": "parcoords"
           }
          ],
          "pie": [
           {
            "automargin": true,
            "type": "pie"
           }
          ],
          "scatter": [
           {
            "fillpattern": {
             "fillmode": "overlay",
             "size": 10,
             "solidity": 0.2
            },
            "type": "scatter"
           }
          ],
          "scatter3d": [
           {
            "line": {
             "colorbar": {
              "outlinewidth": 0,
              "ticks": ""
             }
            },
            "marker": {
             "colorbar": {
              "outlinewidth": 0,
              "ticks": ""
             }
            },
            "type": "scatter3d"
           }
          ],
          "scattercarpet": [
           {
            "marker": {
             "colorbar": {
              "outlinewidth": 0,
              "ticks": ""
             }
            },
            "type": "scattercarpet"
           }
          ],
          "scattergeo": [
           {
            "marker": {
             "colorbar": {
              "outlinewidth": 0,
              "ticks": ""
             }
            },
            "type": "scattergeo"
           }
          ],
          "scattergl": [
           {
            "marker": {
             "colorbar": {
              "outlinewidth": 0,
              "ticks": ""
             }
            },
            "type": "scattergl"
           }
          ],
          "scattermapbox": [
           {
            "marker": {
             "colorbar": {
              "outlinewidth": 0,
              "ticks": ""
             }
            },
            "type": "scattermapbox"
           }
          ],
          "scatterpolar": [
           {
            "marker": {
             "colorbar": {
              "outlinewidth": 0,
              "ticks": ""
             }
            },
            "type": "scatterpolar"
           }
          ],
          "scatterpolargl": [
           {
            "marker": {
             "colorbar": {
              "outlinewidth": 0,
              "ticks": ""
             }
            },
            "type": "scatterpolargl"
           }
          ],
          "scatterternary": [
           {
            "marker": {
             "colorbar": {
              "outlinewidth": 0,
              "ticks": ""
             }
            },
            "type": "scatterternary"
           }
          ],
          "surface": [
           {
            "colorbar": {
             "outlinewidth": 0,
             "ticks": ""
            },
            "colorscale": [
             [
              0,
              "#0d0887"
             ],
             [
              0.1111111111111111,
              "#46039f"
             ],
             [
              0.2222222222222222,
              "#7201a8"
             ],
             [
              0.3333333333333333,
              "#9c179e"
             ],
             [
              0.4444444444444444,
              "#bd3786"
             ],
             [
              0.5555555555555556,
              "#d8576b"
             ],
             [
              0.6666666666666666,
              "#ed7953"
             ],
             [
              0.7777777777777778,
              "#fb9f3a"
             ],
             [
              0.8888888888888888,
              "#fdca26"
             ],
             [
              1,
              "#f0f921"
             ]
            ],
            "type": "surface"
           }
          ],
          "table": [
           {
            "cells": {
             "fill": {
              "color": "#EBF0F8"
             },
             "line": {
              "color": "white"
             }
            },
            "header": {
             "fill": {
              "color": "#C8D4E3"
             },
             "line": {
              "color": "white"
             }
            },
            "type": "table"
           }
          ]
         },
         "layout": {
          "annotationdefaults": {
           "arrowcolor": "#2a3f5f",
           "arrowhead": 0,
           "arrowwidth": 1
          },
          "autotypenumbers": "strict",
          "coloraxis": {
           "colorbar": {
            "outlinewidth": 0,
            "ticks": ""
           }
          },
          "colorscale": {
           "diverging": [
            [
             0,
             "#8e0152"
            ],
            [
             0.1,
             "#c51b7d"
            ],
            [
             0.2,
             "#de77ae"
            ],
            [
             0.3,
             "#f1b6da"
            ],
            [
             0.4,
             "#fde0ef"
            ],
            [
             0.5,
             "#f7f7f7"
            ],
            [
             0.6,
             "#e6f5d0"
            ],
            [
             0.7,
             "#b8e186"
            ],
            [
             0.8,
             "#7fbc41"
            ],
            [
             0.9,
             "#4d9221"
            ],
            [
             1,
             "#276419"
            ]
           ],
           "sequential": [
            [
             0,
             "#0d0887"
            ],
            [
             0.1111111111111111,
             "#46039f"
            ],
            [
             0.2222222222222222,
             "#7201a8"
            ],
            [
             0.3333333333333333,
             "#9c179e"
            ],
            [
             0.4444444444444444,
             "#bd3786"
            ],
            [
             0.5555555555555556,
             "#d8576b"
            ],
            [
             0.6666666666666666,
             "#ed7953"
            ],
            [
             0.7777777777777778,
             "#fb9f3a"
            ],
            [
             0.8888888888888888,
             "#fdca26"
            ],
            [
             1,
             "#f0f921"
            ]
           ],
           "sequentialminus": [
            [
             0,
             "#0d0887"
            ],
            [
             0.1111111111111111,
             "#46039f"
            ],
            [
             0.2222222222222222,
             "#7201a8"
            ],
            [
             0.3333333333333333,
             "#9c179e"
            ],
            [
             0.4444444444444444,
             "#bd3786"
            ],
            [
             0.5555555555555556,
             "#d8576b"
            ],
            [
             0.6666666666666666,
             "#ed7953"
            ],
            [
             0.7777777777777778,
             "#fb9f3a"
            ],
            [
             0.8888888888888888,
             "#fdca26"
            ],
            [
             1,
             "#f0f921"
            ]
           ]
          },
          "colorway": [
           "#636efa",
           "#EF553B",
           "#00cc96",
           "#ab63fa",
           "#FFA15A",
           "#19d3f3",
           "#FF6692",
           "#B6E880",
           "#FF97FF",
           "#FECB52"
          ],
          "font": {
           "color": "#2a3f5f"
          },
          "geo": {
           "bgcolor": "white",
           "lakecolor": "white",
           "landcolor": "#E5ECF6",
           "showlakes": true,
           "showland": true,
           "subunitcolor": "white"
          },
          "hoverlabel": {
           "align": "left"
          },
          "hovermode": "closest",
          "mapbox": {
           "style": "light"
          },
          "paper_bgcolor": "white",
          "plot_bgcolor": "#E5ECF6",
          "polar": {
           "angularaxis": {
            "gridcolor": "white",
            "linecolor": "white",
            "ticks": ""
           },
           "bgcolor": "#E5ECF6",
           "radialaxis": {
            "gridcolor": "white",
            "linecolor": "white",
            "ticks": ""
           }
          },
          "scene": {
           "xaxis": {
            "backgroundcolor": "#E5ECF6",
            "gridcolor": "white",
            "gridwidth": 2,
            "linecolor": "white",
            "showbackground": true,
            "ticks": "",
            "zerolinecolor": "white"
           },
           "yaxis": {
            "backgroundcolor": "#E5ECF6",
            "gridcolor": "white",
            "gridwidth": 2,
            "linecolor": "white",
            "showbackground": true,
            "ticks": "",
            "zerolinecolor": "white"
           },
           "zaxis": {
            "backgroundcolor": "#E5ECF6",
            "gridcolor": "white",
            "gridwidth": 2,
            "linecolor": "white",
            "showbackground": true,
            "ticks": "",
            "zerolinecolor": "white"
           }
          },
          "shapedefaults": {
           "line": {
            "color": "#2a3f5f"
           }
          },
          "ternary": {
           "aaxis": {
            "gridcolor": "white",
            "linecolor": "white",
            "ticks": ""
           },
           "baxis": {
            "gridcolor": "white",
            "linecolor": "white",
            "ticks": ""
           },
           "bgcolor": "#E5ECF6",
           "caxis": {
            "gridcolor": "white",
            "linecolor": "white",
            "ticks": ""
           }
          },
          "title": {
           "x": 0.05
          },
          "xaxis": {
           "automargin": true,
           "gridcolor": "white",
           "linecolor": "white",
           "ticks": "",
           "title": {
            "standoff": 15
           },
           "zerolinecolor": "white",
           "zerolinewidth": 2
          },
          "yaxis": {
           "automargin": true,
           "gridcolor": "white",
           "linecolor": "white",
           "ticks": "",
           "title": {
            "standoff": 15
           },
           "zerolinecolor": "white",
           "zerolinewidth": 2
          }
         }
        },
        "xaxis": {
         "autorange": true,
         "range": [
          "2002-10-31 13:01:45.0065",
          "2025-09-01 10:58:14.9935"
         ],
         "showspikes": false,
         "type": "date"
        },
        "yaxis": {
         "autorange": true,
         "range": [
          -3.162707331699029,
          1.907682621699029
         ],
         "showspikes": false,
         "type": "linear"
        }
       }
      },
      "image/png": "[encoded data removed]",
      "text/html": [
       "<div>                            <div id=\"1db67155-ec0d-489a-b27c-5dce7b52d195\" class=\"plotly-graph-div\" style=\"height:525px; width:100%;\"></div>            <script type=\"text/javascript\">                require([\"plotly\"], function(Plotly) {                    window.PLOTLYENV=window.PLOTLYENV || {};                                    if (document.getElementById(\"1db67155-ec0d-489a-b27c-5dce7b52d195\")) {                    Plotly.newPlot(                        \"1db67155-ec0d-489a-b27c-5dce7b52d195\",                        [{\"mode\":\"lines+markers\",\"name\":\"\\u0418\\u043d\\u0434\\u0438\\u043a\\u0430\\u0442\\u043e\\u0440 \\u0431\\u0438\\u0437\\u043d\\u0435\\u0441-\\u043a\\u043b\\u0438\\u043c\\u0430\\u0442\\u0430 \\u0426\\u0411\",\"x\":[\"2004-02-01T00:00:00\",\"2004-03-01T00:00:00\",\"2004-04-01T00:00:00\",\"2004-05-01T00:00:00\",\"2004-06-01T00:00:00\",\"2004-07-01T00:00:00\",\"2004-08-01T00:00:00\",\"2004-09-01T00:00:00\",\"2004-10-01T00:00:00\",\"2004-11-01T00:00:00\",\"2004-12-01T00:00:00\",\"2005-01-01T00:00:00\",\"2005-02-01T00:00:00\",\"2005-03-01T00:00:00\",\"2005-04-01T00:00:00\",\"2005-05-01T00:00:00\",\"2005-06-01T00:00:00\",\"2005-07-01T00:00:00\",\"2005-08-01T00:00:00\",\"2005-09-01T00:00:00\",\"2005-10-01T00:00:00\",\"2005-11-01T00:00:00\",\"2005-12-01T00:00:00\",\"2006-01-01T00:00:00\",\"2006-02-01T00:00:00\",\"2006-03-01T00:00:00\",\"2006-04-01T00:00:00\",\"2006-05-01T00:00:00\",\"2006-06-01T00:00:00\",\"2006-07-01T00:00:00\",\"2006-08-01T00:00:00\",\"2006-09-01T00:00:00\",\"2006-10-01T00:00:00\",\"2006-11-01T00:00:00\",\"2006-12-01T00:00:00\",\"2007-01-01T00:00:00\",\"2007-02-01T00:00:00\",\"2007-03-01T00:00:00\",\"2007-04-01T00:00:00\",\"2007-05-01T00:00:00\",\"2007-06-01T00:00:00\",\"2007-07-01T00:00:00\",\"2007-08-01T00:00:00\",\"2007-09-01T00:00:00\",\"2007-10-01T00:00:00\",\"2007-11-01T00:00:00\",\"2007-12-01T00:00:00\",\"2008-01-01T00:00:00\",\"2008-02-01T00:00:00\",\"2008-03-01T00:00:00\",\"2008-04-01T00:00:00\",\"2008-05-01T00:00:00\",\"2008-06-01T00:00:00\",\"2008-07-01T00:00:00\",\"2008-08-01T00:00:00\",\"2008-09-01T00:00:00\",\"2008-10-01T00:00:00\",\"2008-11-01T00:00:00\",\"2008-12-01T00:00:00\",\"2009-01-01T00:00:00\",\"2009-02-01T00:00:00\",\"2009-03-01T00:00:00\",\"2009-04-01T00:00:00\",\"2009-05-01T00:00:00\",\"2009-06-01T00:00:00\",\"2009-07-01T00:00:00\",\"2009-08-01T00:00:00\",\"2009-09-01T00:00:00\",\"2009-10-01T00:00:00\",\"2009-11-01T00:00:00\",\"2009-12-01T00:00:00\",\"2010-01-01T00:00:00\",\"2010-02-01T00:00:00\",\"2010-03-01T00:00:00\",\"2010-04-01T00:00:00\",\"2010-05-01T00:00:00\",\"2010-06-01T00:00:00\",\"2010-07-01T00:00:00\",\"2010-08-01T00:00:00\",\"2010-09-01T00:00:00\",\"2010-10-01T00:00:00\",\"2010-11-01T00:00:00\",\"2010-12-01T00:00:00\",\"2011-01-01T00:00:00\",\"2011-02-01T00:00:00\",\"2011-03-01T00:00:00\",\"2011-04-01T00:00:00\",\"2011-05-01T00:00:00\",\"2011-06-01T00:00:00\",\"2011-07-01T00:00:00\",\"2011-08-01T00:00:00\",\"2011-09-01T00:00:00\",\"2011-10-01T00:00:00\",\"2011-11-01T00:00:00\",\"2011-12-01T00:00:00\",\"2012-01-01T00:00:00\",\"2012-02-01T00:00:00\",\"2012-03-01T00:00:00\",\"2012-04-01T00:00:00\",\"2012-05-01T00:00:00\",\"2012-06-01T00:00:00\",\"2012-07-01T00:00:00\",\"2012-08-01T00:00:00\",\"2012-09-01T00:00:00\",\"2012-10-01T00:00:00\",\"2012-11-01T00:00:00\",\"2012-12-01T00:00:00\",\"2013-01-01T00:00:00\",\"2013-02-01T00:00:00\",\"2013-03-01T00:00:00\",\"2013-04-01T00:00:00\",\"2013-05-01T00:00:00\",\"2013-06-01T00:00:00\",\"2013-07-01T00:00:00\",\"2013-08-01T00:00:00\",\"2013-09-01T00:00:00\",\"2013-10-01T00:00:00\",\"2013-11-01T00:00:00\",\"2013-12-01T00:00:00\",\"2014-01-01T00:00:00\",\"2014-02-01T00:00:00\",\"2014-03-01T00:00:00\",\"2014-04-01T00:00:00\",\"2014-05-01T00:00:00\",\"2014-06-01T00:00:00\",\"2014-07-01T00:00:00\",\"2014-08-01T00:00:00\",\"2014-09-01T00:00:00\",\"2014-10-01T00:00:00\",\"2014-11-01T00:00:00\",\"2014-12-01T00:00:00\",\"2015-01-01T00:00:00\",\"2015-02-01T00:00:00\",\"2015-03-01T00:00:00\",\"2015-04-01T00:00:00\",\"2015-05-01T00:00:00\",\"2015-06-01T00:00:00\",\"2015-07-01T00:00:00\",\"2015-08-01T00:00:00\",\"2015-09-01T00:00:00\",\"2015-10-01T00:00:00\",\"2015-11-01T00:00:00\",\"2015-12-01T00:00:00\",\"2016-01-01T00:00:00\",\"2016-02-01T00:00:00\",\"2016-03-01T00:00:00\",\"2016-04-01T00:00:00\",\"2016-05-01T00:00:00\",\"2016-06-01T00:00:00\",\"2016-07-01T00:00:00\",\"2016-08-01T00:00:00\",\"2016-09-01T00:00:00\",\"2016-10-01T00:00:00\",\"2016-11-01T00:00:00\",\"2016-12-01T00:00:00\",\"2017-01-01T00:00:00\",\"2017-02-01T00:00:00\",\"2017-03-01T00:00:00\",\"2017-04-01T00:00:00\",\"2017-05-01T00:00:00\",\"2017-06-01T00:00:00\",\"2017-07-01T00:00:00\",\"2017-08-01T00:00:00\",\"2017-09-01T00:00:00\",\"2017-10-01T00:00:00\",\"2017-11-01T00:00:00\",\"2017-12-01T00:00:00\",\"2018-01-01T00:00:00\",\"2018-02-01T00:00:00\",\"2018-03-01T00:00:00\",\"2018-04-01T00:00:00\",\"2018-05-01T00:00:00\",\"2018-06-01T00:00:00\",\"2018-07-01T00:00:00\",\"2018-08-01T00:00:00\",\"2018-09-01T00:00:00\",\"2018-10-01T00:00:00\",\"2018-11-01T00:00:00\",\"2018-12-01T00:00:00\",\"2019-01-01T00:00:00\",\"2019-02-01T00:00:00\",\"2019-03-01T00:00:00\",\"2019-04-01T00:00:00\",\"2019-05-01T00:00:00\",\"2019-06-01T00:00:00\",\"2019-07-01T00:00:00\",\"2019-08-01T00:00:00\",\"2019-09-01T00:00:00\",\"2019-10-01T00:00:00\",\"2019-11-01T00:00:00\",\"2019-12-01T00:00:00\",\"2020-01-01T00:00:00\",\"2020-02-01T00:00:00\",\"2020-03-01T00:00:00\",\"2020-04-01T00:00:00\",\"2020-05-01T00:00:00\",\"2020-06-01T00:00:00\",\"2020-07-01T00:00:00\",\"2020-08-01T00:00:00\",\"2020-09-01T00:00:00\",\"2020-10-01T00:00:00\",\"2020-11-01T00:00:00\",\"2020-12-01T00:00:00\",\"2021-01-01T00:00:00\",\"2021-02-01T00:00:00\",\"2021-03-01T00:00:00\",\"2021-04-01T00:00:00\",\"2021-05-01T00:00:00\",\"2021-06-01T00:00:00\",\"2021-07-01T00:00:00\",\"2021-08-01T00:00:00\",\"2021-09-01T00:00:00\",\"2021-10-01T00:00:00\",\"2021-11-01T00:00:00\",\"2021-12-01T00:00:00\",\"2022-01-01T00:00:00\",\"2022-02-01T00:00:00\",\"2022-03-01T00:00:00\",\"2022-04-01T00:00:00\",\"2022-05-01T00:00:00\",\"2022-06-01T00:00:00\",\"2022-07-01T00:00:00\",\"2022-08-01T00:00:00\",\"2022-09-01T00:00:00\",\"2022-10-01T00:00:00\",\"2022-11-01T00:00:00\",\"2022-12-01T00:00:00\",\"2023-01-01T00:00:00\",\"2023-02-01T00:00:00\",\"2023-03-01T00:00:00\",\"2023-04-01T00:00:00\",\"2023-05-01T00:00:00\",\"2023-06-01T00:00:00\",\"2023-07-01T00:00:00\",\"2023-08-01T00:00:00\",\"2023-09-01T00:00:00\",\"2023-10-01T00:00:00\",\"2023-11-01T00:00:00\",\"2023-12-01T00:00:00\",\"2024-01-01T00:00:00\",\"2024-02-01T00:00:00\",\"2024-03-01T00:00:00\"],\"y\":[1.283100603,1.31661417,1.544783554,1.278622766,1.160093536,1.101080574,0.732780585,0.884096937,0.872804320999999,0.957035928,0.904076913,1.014126729,1.059926219,1.193956595,1.098423547,1.133131065,0.949182857,1.010832372,0.98289192,1.134742926,1.121468216,0.959813203,1.172443952,1.469945154,1.207031044,1.156306466,1.203012171,1.052193533,0.944872285,0.951847462,1.057824403,0.865998697,1.128095594,1.118115386,1.377785795,1.51920352,1.54853,1.458634118,1.269127368,1.437673103,1.457794778,1.391149239,1.350832424,0.53227393,0.569350471,0.663818987999999,0.79959946,0.738568120999999,0.164046271,0.407508092,0.542143446,0.738354992,0.709404612,0.839951426,0.493859521,0.056087347,-0.434632883,-1.760453747,-2.149587034,-2.426604339,-2.762068879,-2.80355471,-2.345597188,-2.315822511,-2.143552605,-1.483087004,-1.536724113,-1.526535775,-1.009848121,-0.849567445999999,-0.341146737,-0.230364164,-0.556297713,-0.535257557,0.138592708,0.107589975,-0.099636685,-0.109344863,-0.044872924,-0.612714467,-0.22545848,-0.07278793,0.189625274,0.266909674,0.218139202,0.207073222,0.0832455409999999,-0.095724737,0.357387977,0.318370896,0.460011032,-0.414111629,-0.47942821,-0.500621256,-0.369428388,-0.288173433,0.116974949,0.381033711,0.365244926,0.260782513,-0.049771636,-0.059039191,0.054757031,-0.214505045,0.342827674,0.131873638,0.412037499,0.367856512,0.380732402,0.545891337,0.51969462,0.257931882,-0.005726671,-0.167643343,-0.325892886,-0.276967775,-0.077391898,0.059557212,0.344164147999999,0.201234529,-0.034415209,-0.190383869,-0.359713861,-0.435737348,0.044413829,0.078807754,-0.329736366,-0.761372088,-0.595116797,-1.001335008,-0.974402101,-1.551464015,-1.756337226,-1.972269835,-1.53792343099999,-0.836182711,-0.845598354,-0.628935402,-0.761690482,-1.678045848,-1.167661566,-1.21505909,-0.889527245,-1.022556978,-1.672402188,-1.54512814199999,-1.12873918,-0.730799465999999,-0.558014066,-0.108641535,-0.033417964,-0.387667794,-0.525729409,-0.215534104,0.0826448479999999,0.392892794,0.510760847,0.729786434,0.913982265,0.87315744,0.822313455,0.526740932,0.346706145,0.315803251,0.79526395,0.753071039,0.542624318,0.699308447,1.137026072,0.685640166,0.481237868,0.457759002,0.479416165,0.201523826,0.230494984,-0.247558385,-0.109315008,-0.298918076,-0.014599497,-0.177300789,-0.39038259,-0.016582936,0.154189998,0.137494056,0.185526979,-0.112383873,-0.266600472,-0.425530127,0.303820559,0.113629596,0.234380499,0.314847379,-0.005065133,-0.013883929,-1.40009461,-2.159193958,-2.593329415,-2.404199366,-1.802763871,-1.53896427699999,-0.94392439,-0.89227994,-0.306239578,-0.037475351,0.415527554,0.805707533,0.722062184,0.922148861,0.816343415999999,1.392189327,1.243501705,1.04371663182114,0.9220681334709,0.318006472314193,0.0616358764406062,0.223207091489282,-0.10673817676224,-0.144439509633056,-0.265622152419797,-0.364826854282305,-0.702043961537595,-0.834286199496258,-0.505984661885646,-0.3144209437976,-0.391226943937146,-0.794078236658376,-0.817975576643949,-0.480049268448537,-0.273628107742536,0.0840832581336721,0.0011422213384214,0.496998797214917,0.641249873820179,0.462942009337296,0.60811180087446,0.243075136357314,0.425871867856003,0.848449821584231,0.460260068853364,0.906250853613036,0.862085588528884,0.943880220956826],\"type\":\"scatter\"},{\"mode\":\"lines+markers\",\"name\":\"\\u041f\\u0440\\u043e\\u0433\\u043d\\u043e\\u0437\",\"x\":[\"2005-02-01T00:00:00\",\"2005-03-01T00:00:00\",\"2005-04-01T00:00:00\",\"2005-05-01T00:00:00\",\"2005-06-01T00:00:00\",\"2005-07-01T00:00:00\",\"2005-08-01T00:00:00\",\"2005-09-01T00:00:00\",\"2005-10-01T00:00:00\",\"2005-11-01T00:00:00\",\"2005-12-01T00:00:00\",\"2006-01-01T00:00:00\",\"2006-02-01T00:00:00\",\"2006-03-01T00:00:00\",\"2006-04-01T00:00:00\",\"2006-05-01T00:00:00\",\"2006-06-01T00:00:00\",\"2006-07-01T00:00:00\",\"2006-08-01T00:00:00\",\"2006-09-01T00:00:00\",\"2006-10-01T00:00:00\",\"2006-11-01T00:00:00\",\"2006-12-01T00:00:00\",\"2007-01-01T00:00:00\",\"2007-02-01T00:00:00\",\"2007-03-01T00:00:00\",\"2007-04-01T00:00:00\",\"2007-05-01T00:00:00\",\"2007-06-01T00:00:00\",\"2007-07-01T00:00:00\",\"2007-08-01T00:00:00\",\"2007-09-01T00:00:00\",\"2007-10-01T00:00:00\",\"2007-11-01T00:00:00\",\"2007-12-01T00:00:00\",\"2008-01-01T00:00:00\",\"2008-02-01T00:00:00\",\"2008-03-01T00:00:00\",\"2008-04-01T00:00:00\",\"2008-05-01T00:00:00\",\"2008-06-01T00:00:00\",\"2008-07-01T00:00:00\",\"2008-08-01T00:00:00\",\"2008-09-01T00:00:00\",\"2008-10-01T00:00:00\",\"2008-11-01T00:00:00\",\"2008-12-01T00:00:00\",\"2009-01-01T00:00:00\",\"2009-02-01T00:00:00\",\"2009-03-01T00:00:00\",\"2009-04-01T00:00:00\",\"2009-05-01T00:00:00\",\"2009-06-01T00:00:00\",\"2009-07-01T00:00:00\",\"2009-08-01T00:00:00\",\"2009-09-01T00:00:00\",\"2009-10-01T00:00:00\",\"2009-11-01T00:00:00\",\"2009-12-01T00:00:00\",\"2010-01-01T00:00:00\",\"2010-02-01T00:00:00\",\"2010-03-01T00:00:00\",\"2010-04-01T00:00:00\",\"2010-05-01T00:00:00\",\"2010-06-01T00:00:00\",\"2010-07-01T00:00:00\",\"2010-08-01T00:00:00\",\"2010-09-01T00:00:00\",\"2010-10-01T00:00:00\",\"2010-11-01T00:00:00\",\"2010-12-01T00:00:00\",\"2011-01-01T00:00:00\",\"2011-02-01T00:00:00\",\"2011-03-01T00:00:00\",\"2011-04-01T00:00:00\",\"2011-05-01T00:00:00\",\"2011-06-01T00:00:00\",\"2011-07-01T00:00:00\",\"2011-08-01T00:00:00\",\"2011-09-01T00:00:00\",\"2011-10-01T00:00:00\",\"2011-11-01T00:00:00\",\"2011-12-01T00:00:00\",\"2012-01-01T00:00:00\",\"2012-02-01T00:00:00\",\"2012-03-01T00:00:00\",\"2012-04-01T00:00:00\",\"2012-05-01T00:00:00\",\"2012-06-01T00:00:00\",\"2012-07-01T00:00:00\",\"2012-08-01T00:00:00\",\"2012-09-01T00:00:00\",\"2012-10-01T00:00:00\",\"2012-11-01T00:00:00\",\"2012-12-01T00:00:00\",\"2013-01-01T00:00:00\",\"2013-02-01T00:00:00\",\"2013-03-01T00:00:00\",\"2013-04-01T00:00:00\",\"2013-05-01T00:00:00\",\"2013-06-01T00:00:00\",\"2013-07-01T00:00:00\",\"2013-08-01T00:00:00\",\"2013-09-01T00:00:00\",\"2013-10-01T00:00:00\",\"2013-11-01T00:00:00\",\"2013-12-01T00:00:00\",\"2014-01-01T00:00:00\",\"2014-02-01T00:00:00\",\"2014-03-01T00:00:00\",\"2014-04-01T00:00:00\",\"2014-05-01T00:00:00\",\"2014-06-01T00:00:00\",\"2014-07-01T00:00:00\",\"2014-08-01T00:00:00\",\"2014-09-01T00:00:00\",\"2014-10-01T00:00:00\",\"2014-11-01T00:00:00\",\"2014-12-01T00:00:00\",\"2015-01-01T00:00:00\",\"2015-02-01T00:00:00\",\"2015-03-01T00:00:00\",\"2015-04-01T00:00:00\",\"2015-05-01T00:00:00\",\"2015-06-01T00:00:00\",\"2015-07-01T00:00:00\",\"2015-08-01T00:00:00\",\"2015-09-01T00:00:00\",\"2015-10-01T00:00:00\",\"2015-11-01T00:00:00\",\"2015-12-01T00:00:00\",\"2016-01-01T00:00:00\",\"2016-02-01T00:00:00\",\"2016-03-01T00:00:00\",\"2016-04-01T00:00:00\",\"2016-05-01T00:00:00\",\"2016-06-01T00:00:00\",\"2016-07-01T00:00:00\",\"2016-08-01T00:00:00\",\"2016-09-01T00:00:00\",\"2016-10-01T00:00:00\",\"2016-11-01T00:00:00\",\"2016-12-01T00:00:00\",\"2017-01-01T00:00:00\",\"2017-02-01T00:00:00\",\"2017-03-01T00:00:00\",\"2017-04-01T00:00:00\",\"2017-05-01T00:00:00\",\"2017-06-01T00:00:00\",\"2017-07-01T00:00:00\",\"2017-08-01T00:00:00\",\"2017-09-01T00:00:00\",\"2017-10-01T00:00:00\",\"2017-11-01T00:00:00\",\"2017-12-01T00:00:00\",\"2018-01-01T00:00:00\",\"2018-02-01T00:00:00\",\"2018-03-01T00:00:00\",\"2018-04-01T00:00:00\",\"2018-05-01T00:00:00\",\"2018-06-01T00:00:00\",\"2018-07-01T00:00:00\",\"2018-08-01T00:00:00\",\"2018-09-01T00:00:00\",\"2018-10-01T00:00:00\",\"2018-11-01T00:00:00\",\"2018-12-01T00:00:00\",\"2019-01-01T00:00:00\",\"2019-02-01T00:00:00\",\"2019-03-01T00:00:00\",\"2019-04-01T00:00:00\",\"2019-05-01T00:00:00\",\"2019-06-01T00:00:00\",\"2019-07-01T00:00:00\",\"2019-08-01T00:00:00\",\"2019-09-01T00:00:00\",\"2019-10-01T00:00:00\",\"2019-11-01T00:00:00\",\"2019-12-01T00:00:00\",\"2020-01-01T00:00:00\",\"2020-02-01T00:00:00\",\"2020-03-01T00:00:00\",\"2020-04-01T00:00:00\",\"2020-05-01T00:00:00\",\"2020-06-01T00:00:00\",\"2020-07-01T00:00:00\",\"2020-08-01T00:00:00\",\"2020-09-01T00:00:00\",\"2020-10-01T00:00:00\",\"2020-11-01T00:00:00\",\"2020-12-01T00:00:00\",\"2021-01-01T00:00:00\",\"2021-02-01T00:00:00\",\"2021-03-01T00:00:00\",\"2021-04-01T00:00:00\",\"2021-05-01T00:00:00\",\"2021-06-01T00:00:00\",\"2021-07-01T00:00:00\",\"2021-08-01T00:00:00\",\"2021-09-01T00:00:00\",\"2021-10-01T00:00:00\",\"2021-11-01T00:00:00\",\"2021-12-01T00:00:00\",\"2022-01-01T00:00:00\",\"2022-02-01T00:00:00\",\"2022-03-01T00:00:00\",\"2022-04-01T00:00:00\",\"2022-05-01T00:00:00\",\"2022-06-01T00:00:00\",\"2022-07-01T00:00:00\",\"2022-08-01T00:00:00\",\"2022-09-01T00:00:00\",\"2022-10-01T00:00:00\",\"2022-11-01T00:00:00\",\"2022-12-01T00:00:00\",\"2023-01-01T00:00:00\",\"2023-02-01T00:00:00\",\"2023-03-01T00:00:00\",\"2023-04-01T00:00:00\",\"2023-05-01T00:00:00\",\"2023-06-01T00:00:00\",\"2023-07-01T00:00:00\",\"2023-08-01T00:00:00\",\"2023-09-01T00:00:00\",\"2023-10-01T00:00:00\",\"2023-11-01T00:00:00\",\"2023-12-01T00:00:00\",\"2024-01-01T00:00:00\",\"2024-02-01T00:00:00\",\"2024-03-01T00:00:00\",\"2024-04-01T00:00:00\",\"2024-05-01T00:00:00\"],\"y\":[0.7139173150062561,0.7620782852172852,0.7286993861198425,0.7413562536239624,0.6667520403862,0.6938835978507996,0.6818661689758301,0.7419289946556091,0.7371723651885986,0.6715922951698303,0.7549558877944946,0.8358073234558105,0.7662994861602783,0.7494661211967468,0.765010416507721,0.7108511924743652,0.6647696495056152,0.6679717302322388,0.7130872011184692,0.6264435052871704,0.7395583987236023,0.7359567880630493,0.8145368695259094,0.8459745645523071,0.851658046245575,0.8333585262298584,0.7852789163589478,0.8287038803100586,0.833175003528595,0.8178129196166992,0.8077220320701599,0.41674530506134033,0.4440813362598419,0.5090654492378235,0.5910326242446899,0.5558179020881653,0.09141548722982407,0.31717321276664734,0.42412328720092773,0.5556904077529907,0.5380592942237854,0.6129044890403748,0.38732901215553284,-0.01962072029709816,-0.5487708449363708,-1.3863416910171509,-1.4730660915374756,-1.5138310194015503,-1.5478259325027466,-1.5511419773101807,-1.5033084154129028,-1.4991706609725952,-1.4720141887664795,-1.2937098741531372,-1.3141359090805054,-1.310356855392456,-1.0461273193359375,-0.92979496717453,-0.450228750705719,-0.3302346467971802,-0.6712540984153748,-0.6506216526031494,0.06573531776666641,0.03402020037174225,-0.1870943158864975,-0.19770142436027527,-0.12752306461334229,-0.7253139615058899,-0.3248724639415741,-0.15782462060451508,0.11687415838241577,0.19148226082324982,0.14481863379478455,0.13402973115444183,0.008804917335510254,-0.1828233152627945,0.2739468216896057,0.2390661984682083,0.36048996448516846,-0.5274227857589722,-0.5947253108024597,-0.6161332726478577,-0.4803687334060669,-0.3931669592857361,0.04366927966475487,0.2945651412010193,0.28084197640419006,0.18570134043693542,-0.13282932341098785,-0.14288152754306793,-0.021020669490098953,-0.31289130449295044,0.2610540986061096,0.05890137702226639,0.3209902048110962,0.283124178647995,0.29430490732192993,0.4269057810306549,0.40723496675491333,0.18300367891788483,-0.08532547205686569,-0.26154953241348267,-0.43387213349342346,-0.38101279735565186,-0.162835955619812,-0.01597253605723381,0.26224368810653687,0.12830829620361328,-0.1162131205201149,-0.28647521138191223,-0.4700446128845215,-0.5499146580696106,-0.031927864998579025,0.004180639982223511,-0.4379996657371521,-0.8581098318099976,-0.7086548805236816,-1.0403966903686523,-1.0219396352767944,-1.3195219039916992,-1.3851836919784546,-1.4386500120162964,-1.3145778179168701,-0.9192661046981812,-0.9266859889030457,-0.7405011057853699,-0.8583784699440002,-1.3620108366012573,-1.1436078548431396,-1.1697720289230347,-0.9604793190956116,-1.0545903444290161,-1.3602527379989624,-1.3172186613082886,-1.121073603630066,-0.8320018649101257,-0.6729262471199036,-0.19693264365196228,-0.11513596028089523,-0.49966496229171753,-0.6411979794502258,-0.3140173554420471,0.00817946344614029,0.3047550320625305,0.40040844678878784,0.5505346059799194,0.6502283215522766,0.6300863027572632,0.6034799218177795,0.4125768840312958,0.2645028531551361,0.23673401772975922,0.5886168479919434,0.5644230246543884,0.4244807958602905,0.5317685008049011,0.7427380084991455,0.5231337547302246,0.37742143869400024,0.3586738705635071,0.37598156929016113,0.12859226763248444,0.1567789912223816,-0.349006325006485,-0.19766880571842194,-0.4047963619232178,-0.09485524147748947,-0.2721361517906189,-0.5025269389152527,-0.09698846191167831,0.08151131868362427,0.06461937725543976,0.11281942576169968,-0.20102395117282867,-0.369746595621109,-0.5393229722976685,0.2257908135652542,0.04023450240492821,0.16052113473415375,0.23586466908454895,-0.08461583405733109,-0.09408589452505112,-1.2594029903411865,-1.474724531173706,-1.532463550567627,-1.5110243558883667,-1.3979090452194214,-1.3149607181549072,-1.000448226928711,-0.9625517725944519,-0.41270577907562256,-0.11952004581689835,0.32392096519470215,0.5944145917892456,0.5458419322967529,0.6541305184364319,0.6002423763275146,0.8180650472640991,0.777656614780426,0.707452118396759,0.6540921330451965,0.23873546719551086,-0.01378927007317543,0.14973542094230652,-0.1948523372411728,-0.2361166924238205,-0.3686824440956116,-0.47548234462738037,-0.8068658709526062,-0.9177641272544861,-0.6215149760246277,-0.4215289354324341,-0.5034165382385254,-0.8853265047073364,-0.9047419428825378,-0.5953559279441833,-0.3773857355117798,0.009676892310380936,-0.07796335965394974,0.3897746801376343,0.4941454231739044,0.3628478944301605,0.47155237197875977,0.1688612550497055,0.33255523443222046,0.6173712611198425,0.36069056391716003,0.6464955806732178,0.6244381070137024,0.6643118858337402,0.6464955730351608,0.4976469859975185,0.3902786240447948,0.302517540541402,0.22459503372423917,0.1510792796557952,0.0783749184891162,0.003729225697286634,-0.07519422422747742,-0.16044338145424064,-0.2536568460203192,-0.3556547658740816],\"type\":\"scatter\"},{\"mode\":\"lines+markers\",\"name\":\"\\u0424\\u0430\\u043a\\u0442\",\"x\":[\"2024-03-01T00:00:00\",\"2024-04-01T00:00:00\",\"2024-05-01T00:00:00\",\"2024-06-01T00:00:00\"],\"y\":[0.943880220956826,1.42821001374225,1.31947781230474,1.27893975748722],\"type\":\"scatter\"}],                        {\"template\":{\"data\":{\"histogram2dcontour\":[{\"type\":\"histogram2dcontour\",\"colorbar\":{\"outlinewidth\":0,\"ticks\":\"\"},\"colorscale\":[[0.0,\"#0d0887\"],[0.1111111111111111,\"#46039f\"],[0.2222222222222222,\"#7201a8\"],[0.3333333333333333,\"#9c179e\"],[0.4444444444444444,\"#bd3786\"],[0.5555555555555556,\"#d8576b\"],[0.6666666666666666,\"#ed7953\"],[0.7777777777777778,\"#fb9f3a\"],[0.8888888888888888,\"#fdca26\"],[1.0,\"#f0f921\"]]}],\"choropleth\":[{\"type\":\"choropleth\",\"colorbar\":{\"outlinewidth\":0,\"ticks\":\"\"}}],\"histogram2d\":[{\"type\":\"histogram2d\",\"colorbar\":{\"outlinewidth\":0,\"ticks\":\"\"},\"colorscale\":[[0.0,\"#0d0887\"],[0.1111111111111111,\"#46039f\"],[0.2222222222222222,\"#7201a8\"],[0.3333333333333333,\"#9c179e\"],[0.4444444444444444,\"#bd3786\"],[0.5555555555555556,\"#d8576b\"],[0.6666666666666666,\"#ed7953\"],[0.7777777777777778,\"#fb9f3a\"],[0.8888888888888888,\"#fdca26\"],[1.0,\"#f0f921\"]]}],\"heatmap\":[{\"type\":\"heatmap\",\"colorbar\":{\"outlinewidth\":0,\"ticks\":\"\"},\"colorscale\":[[0.0,\"#0d0887\"],[0.1111111111111111,\"#46039f\"],[0.2222222222222222,\"#7201a8\"],[0.3333333333333333,\"#9c179e\"],[0.4444444444444444,\"#bd3786\"],[0.5555555555555556,\"#d8576b\"],[0.6666666666666666,\"#ed7953\"],[0.7777777777777778,\"#fb9f3a\"],[0.8888888888888888,\"#fdca26\"],[1.0,\"#f0f921\"]]}],\"heatmapgl\":[{\"type\":\"heatmapgl\",\"colorbar\":{\"outlinewidth\":0,\"ticks\":\"\"},\"colorscale\":[[0.0,\"#0d0887\"],[0.1111111111111111,\"#46039f\"],[0.2222222222222222,\"#7201a8\"],[0.3333333333333333,\"#9c179e\"],[0.4444444444444444,\"#bd3786\"],[0.5555555555555556,\"#d8576b\"],[0.6666666666666666,\"#ed7953\"],[0.7777777777777778,\"#fb9f3a\"],[0.8888888888888888,\"#fdca26\"],[1.0,\"#f0f921\"]]}],\"contourcarpet\":[{\"type\":\"contourcarpet\",\"colorbar\":{\"outlinewidth\":0,\"ticks\":\"\"}}],\"contour\":[{\"type\":\"contour\",\"colorbar\":{\"outlinewidth\":0,\"ticks\":\"\"},\"colorscale\":[[0.0,\"#0d0887\"],[0.1111111111111111,\"#46039f\"],[0.2222222222222222,\"#7201a8\"],[0.3333333333333333,\"#9c179e\"],[0.4444444444444444,\"#bd3786\"],[0.5555555555555556,\"#d8576b\"],[0.6666666666666666,\"#ed7953\"],[0.7777777777777778,\"#fb9f3a\"],[0.8888888888888888,\"#fdca26\"],[1.0,\"#f0f921\"]]}],\"surface\":[{\"type\":\"surface\",\"colorbar\":{\"outlinewidth\":0,\"ticks\":\"\"},\"colorscale\":[[0.0,\"#0d0887\"],[0.1111111111111111,\"#46039f\"],[0.2222222222222222,\"#7201a8\"],[0.3333333333333333,\"#9c179e\"],[0.4444444444444444,\"#bd3786\"],[0.5555555555555556,\"#d8576b\"],[0.6666666666666666,\"#ed7953\"],[0.7777777777777778,\"#fb9f3a\"],[0.8888888888888888,\"#fdca26\"],[1.0,\"#f0f921\"]]}],\"mesh3d\":[{\"type\":\"mesh3d\",\"colorbar\":{\"outlinewidth\":0,\"ticks\":\"\"}}],\"scatter\":[{\"fillpattern\":{\"fillmode\":\"overlay\",\"size\":10,\"solidity\":0.2},\"type\":\"scatter\"}],\"parcoords\":[{\"type\":\"parcoords\",\"line\":{\"colorbar\":{\"outlinewidth\":0,\"ticks\":\"\"}}}],\"scatterpolargl\":[{\"type\":\"scatterpolargl\",\"marker\":{\"colorbar\":{\"outlinewidth\":0,\"ticks\":\"\"}}}],\"bar\":[{\"error_x\":{\"color\":\"#2a3f5f\"},\"error_y\":{\"color\":\"#2a3f5f\"},\"marker\":{\"line\":{\"color\":\"#E5ECF6\",\"width\":0.5},\"pattern\":{\"fillmode\":\"overlay\",\"size\":10,\"solidity\":0.2}},\"type\":\"bar\"}],\"scattergeo\":[{\"type\":\"scattergeo\",\"marker\":{\"colorbar\":{\"outlinewidth\":0,\"ticks\":\"\"}}}],\"scatterpolar\":[{\"type\":\"scatterpolar\",\"marker\":{\"colorbar\":{\"outlinewidth\":0,\"ticks\":\"\"}}}],\"histogram\":[{\"marker\":{\"pattern\":{\"fillmode\":\"overlay\",\"size\":10,\"solidity\":0.2}},\"type\":\"histogram\"}],\"scattergl\":[{\"type\":\"scattergl\",\"marker\":{\"colorbar\":{\"outlinewidth\":0,\"ticks\":\"\"}}}],\"scatter3d\":[{\"type\":\"scatter3d\",\"line\":{\"colorbar\":{\"outlinewidth\":0,\"ticks\":\"\"}},\"marker\":{\"colorbar\":{\"outlinewidth\":0,\"ticks\":\"\"}}}],\"scattermapbox\":[{\"type\":\"scattermapbox\",\"marker\":{\"colorbar\":{\"outlinewidth\":0,\"ticks\":\"\"}}}],\"scatterternary\":[{\"type\":\"scatterternary\",\"marker\":{\"colorbar\":{\"outlinewidth\":0,\"ticks\":\"\"}}}],\"scattercarpet\":[{\"type\":\"scattercarpet\",\"marker\":{\"colorbar\":{\"outlinewidth\":0,\"ticks\":\"\"}}}],\"carpet\":[{\"aaxis\":{\"endlinecolor\":\"#2a3f5f\",\"gridcolor\":\"white\",\"linecolor\":\"white\",\"minorgridcolor\":\"white\",\"startlinecolor\":\"#2a3f5f\"},\"baxis\":{\"endlinecolor\":\"#2a3f5f\",\"gridcolor\":\"white\",\"linecolor\":\"white\",\"minorgridcolor\":\"white\",\"startlinecolor\":\"#2a3f5f\"},\"type\":\"carpet\"}],\"table\":[{\"cells\":{\"fill\":{\"color\":\"#EBF0F8\"},\"line\":{\"color\":\"white\"}},\"header\":{\"fill\":{\"color\":\"#C8D4E3\"},\"line\":{\"color\":\"white\"}},\"type\":\"table\"}],\"barpolar\":[{\"marker\":{\"line\":{\"color\":\"#E5ECF6\",\"width\":0.5},\"pattern\":{\"fillmode\":\"overlay\",\"size\":10,\"solidity\":0.2}},\"type\":\"barpolar\"}],\"pie\":[{\"automargin\":true,\"type\":\"pie\"}]},\"layout\":{\"autotypenumbers\":\"strict\",\"colorway\":[\"#636efa\",\"#EF553B\",\"#00cc96\",\"#ab63fa\",\"#FFA15A\",\"#19d3f3\",\"#FF6692\",\"#B6E880\",\"#FF97FF\",\"#FECB52\"],\"font\":{\"color\":\"#2a3f5f\"},\"hovermode\":\"closest\",\"hoverlabel\":{\"align\":\"left\"},\"paper_bgcolor\":\"white\",\"plot_bgcolor\":\"#E5ECF6\",\"polar\":{\"bgcolor\":\"#E5ECF6\",\"angularaxis\":{\"gridcolor\":\"white\",\"linecolor\":\"white\",\"ticks\":\"\"},\"radialaxis\":{\"gridcolor\":\"white\",\"linecolor\":\"white\",\"ticks\":\"\"}},\"ternary\":{\"bgcolor\":\"#E5ECF6\",\"aaxis\":{\"gridcolor\":\"white\",\"linecolor\":\"white\",\"ticks\":\"\"},\"baxis\":{\"gridcolor\":\"white\",\"linecolor\":\"white\",\"ticks\":\"\"},\"caxis\":{\"gridcolor\":\"white\",\"linecolor\":\"white\",\"ticks\":\"\"}},\"coloraxis\":{\"colorbar\":{\"outlinewidth\":0,\"ticks\":\"\"}},\"colorscale\":{\"sequential\":[[0.0,\"#0d0887\"],[0.1111111111111111,\"#46039f\"],[0.2222222222222222,\"#7201a8\"],[0.3333333333333333,\"#9c179e\"],[0.4444444444444444,\"#bd3786\"],[0.5555555555555556,\"#d8576b\"],[0.6666666666666666,\"#ed7953\"],[0.7777777777777778,\"#fb9f3a\"],[0.8888888888888888,\"#fdca26\"],[1.0,\"#f0f921\"]],\"sequentialminus\":[[0.0,\"#0d0887\"],[0.1111111111111111,\"#46039f\"],[0.2222222222222222,\"#7201a8\"],[0.3333333333333333,\"#9c179e\"],[0.4444444444444444,\"#bd3786\"],[0.5555555555555556,\"#d8576b\"],[0.6666666666666666,\"#ed7953\"],[0.7777777777777778,\"#fb9f3a\"],[0.8888888888888888,\"#fdca26\"],[1.0,\"#f0f921\"]],\"diverging\":[[0,\"#8e0152\"],[0.1,\"#c51b7d\"],[0.2,\"#de77ae\"],[0.3,\"#f1b6da\"],[0.4,\"#fde0ef\"],[0.5,\"#f7f7f7\"],[0.6,\"#e6f5d0\"],[0.7,\"#b8e186\"],[0.8,\"#7fbc41\"],[0.9,\"#4d9221\"],[1,\"#276419\"]]},\"xaxis\":{\"gridcolor\":\"white\",\"linecolor\":\"white\",\"ticks\":\"\",\"title\":{\"standoff\":15},\"zerolinecolor\":\"white\",\"automargin\":true,\"zerolinewidth\":2},\"yaxis\":{\"gridcolor\":\"white\",\"linecolor\":\"white\",\"ticks\":\"\",\"title\":{\"standoff\":15},\"zerolinecolor\":\"white\",\"automargin\":true,\"zerolinewidth\":2},\"scene\":{\"xaxis\":{\"backgroundcolor\":\"#E5ECF6\",\"gridcolor\":\"white\",\"linecolor\":\"white\",\"showbackground\":true,\"ticks\":\"\",\"zerolinecolor\":\"white\",\"gridwidth\":2},\"yaxis\":{\"backgroundcolor\":\"#E5ECF6\",\"gridcolor\":\"white\",\"linecolor\":\"white\",\"showbackground\":true,\"ticks\":\"\",\"zerolinecolor\":\"white\",\"gridwidth\":2},\"zaxis\":{\"backgroundcolor\":\"#E5ECF6\",\"gridcolor\":\"white\",\"linecolor\":\"white\",\"showbackground\":true,\"ticks\":\"\",\"zerolinecolor\":\"white\",\"gridwidth\":2}},\"shapedefaults\":{\"line\":{\"color\":\"#2a3f5f\"}},\"annotationdefaults\":{\"arrowcolor\":\"#2a3f5f\",\"arrowhead\":0,\"arrowwidth\":1},\"geo\":{\"bgcolor\":\"white\",\"landcolor\":\"#E5ECF6\",\"subunitcolor\":\"white\",\"showland\":true,\"showlakes\":true,\"lakecolor\":\"white\"},\"title\":{\"x\":0.05},\"mapbox\":{\"style\":\"light\"}}}},                        {\"responsive\": true}                    ).then(function(){\n",
       "                            \n",
       "var gd = document.getElementById('1db67155-ec0d-489a-b27c-5dce7b52d195');\n",
       "var x = new MutationObserver(function (mutations, observer) {{\n",
       "        var display = window.getComputedStyle(gd).display;\n",
       "        if (!display || display === 'none') {{\n",
       "            console.log([gd, 'removed!']);\n",
       "            Plotly.purge(gd);\n",
       "            observer.disconnect();\n",
       "        }}\n",
       "}});\n",
       "\n",
       "// Listen for the removal of the full notebook cells\n",
       "var notebookContainer = gd.closest('#notebook-container');\n",
       "if (notebookContainer) {{\n",
       "    x.observe(notebookContainer, {childList: true});\n",
       "}}\n",
       "\n",
       "// Listen for the clearing of the current output cell\n",
       "var outputEl = gd.closest('.output');\n",
       "if (outputEl) {{\n",
       "    x.observe(outputEl, {childList: true});\n",
       "}}\n",
       "\n",
       "                        })                };                });            </script>        </div>"
      ]
     },
     "metadata": {},
     "output_type": "display_data"
    }
   ],
   "source": [
    "\n",
    "fig = go.Figure()\n",
    "\n",
    "fig.add_trace(\n",
    "    go.Scatter(\n",
    "        x=pd.to_datetime(x, format='%d.%m.%Y'),\n",
    "        y=y,\n",
    "        mode='lines+markers',\n",
    "        name='Индикатор бизнес-климата ЦБ'\n",
    "    )\n",
    ")\n",
    "\n",
    "fig.add_trace(\n",
    "    go.Scatter(\n",
    "        x=pd.to_datetime(df.date, format='%d.%m.%Y')[12:-1],\n",
    "        y=train_pred + next_pred\n",
    "        ,mode='lines+markers',\n",
    "        name='Прогноз'\n",
    "    )\n",
    ")\n",
    "\n",
    "fig.add_trace(\n",
    "    go.Scatter(\n",
    "        x=pd.to_datetime(df.date[-4:], format='%d.%m.%Y'),\n",
    "        y=df['values'][-4:],\n",
    "        mode='lines+markers',\n",
    "        name='Факт'\n",
    "    )\n",
    ")\n",
    "\n",
    "fig.show()"
   ]
  }
 ],
 "metadata": {
  "kernelspec": {
   "display_name": "Python 3 (ipykernel)",
   "language": "python",
   "name": "python3"
  },
  "language_info": {
   "codemirror_mode": {
    "name": "ipython",
    "version": 3
   },
   "file_extension": ".py",
   "mimetype": "text/x-python",
   "name": "python",
   "nbconvert_exporter": "python",
   "pygments_lexer": "ipython3",
   "version": "3.11.8"
  }
 },
 "nbformat": 4,
 "nbformat_minor": 5
}
