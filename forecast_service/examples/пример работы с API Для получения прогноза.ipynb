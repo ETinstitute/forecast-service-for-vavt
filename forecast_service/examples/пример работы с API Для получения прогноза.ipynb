{
 "cells": [
  {
   "cell_type": "markdown",
   "id": "9ea0f5d2-e806-4779-a71a-1a986496b691",
   "metadata": {},
   "source": [
    "# Импорт библиотек"
   ]
  },
  {
   "cell_type": "markdown",
   "id": "53cccb26-7317-4a65-8da5-650b9f32622f",
   "metadata": {},
   "source": [
    "нужны для заглушек"
   ]
  },
  {
   "cell_type": "code",
   "execution_count": 3,
   "id": "18c82202-0040-46b6-88da-bc5abea4c37a",
   "metadata": {},
   "outputs": [],
   "source": [
    "import pandas as pd\n",
    "from dataclasses import dataclass\n",
    "from pprint import pprint"
   ]
  },
  {
   "cell_type": "markdown",
   "id": "d80b6007-c7fb-4075-b7ea-77054b312dfe",
   "metadata": {},
   "source": [
    "нужны для получения данных"
   ]
  },
  {
   "cell_type": "code",
   "execution_count": 4,
   "id": "95f6f01a-f325-4589-aa87-e0f305f84262",
   "metadata": {},
   "outputs": [],
   "source": [
    "import requests\n",
    "import json"
   ]
  },
  {
   "cell_type": "markdown",
   "id": "dfdb1739-727c-4253-b1f5-083947d441ba",
   "metadata": {},
   "source": [
    "# Пример работы с сервисом\n",
    "\n",
    "Для начала работы с примером нужно локально запустить сервис либо на сервере (тогда надо будет поменять base_url)"
   ]
  },
  {
   "cell_type": "code",
   "execution_count": 52,
   "id": "6f9f8824-1273-40ce-8e27-9c7e35558df8",
   "metadata": {},
   "outputs": [],
   "source": [
    "base_url = 'http://localhost:5051/forecast/api'"
   ]
  },
  {
   "cell_type": "markdown",
   "id": "b0441f15-7565-4da5-8f1b-a7f377b90451",
   "metadata": {},
   "source": [
    "## Заглушки\n",
    "\n",
    "тут я написал классы для подобия работы с БД, им не нужно уделять внимания"
   ]
  },
  {
   "cell_type": "code",
   "execution_count": 5,
   "id": "dffa1cab-6ede-411c-861f-0f4d08fc44d6",
   "metadata": {},
   "outputs": [],
   "source": [
    "@dataclass\n",
    "class TimeSeriesDTO:\n",
    "    \"\"\"Некий DTO для общения с БД\"\"\"\n",
    "    values: list[float]\n",
    "    dates: list[str]\n",
    "\n",
    "\n",
    "class DataLake:\n",
    "    \"\"\"Подобие слоя для работы с озером даных\"\"\"\n",
    "    \n",
    "    @staticmethod\n",
    "    def get_data_by_id(dataset_uuid: str) -> TimeSeriesDTO:\n",
    "        \"\"\"\n",
    "        подобие функции, которая по id возвращает временной ряд признака из озера данных\n",
    "        \n",
    "        просто открывает csv по ключу\n",
    "        \"\"\"\n",
    "        \n",
    "        tmp = pd.read_csv(f'./raw_data/{dataset_uuid}.csv', sep=';')\n",
    "        \n",
    "        return TimeSeriesDTO(\n",
    "            values=list(tmp['values']),\n",
    "            dates=list(tmp['date'])\n",
    "        )"
   ]
  },
  {
   "cell_type": "markdown",
   "id": "319e5898-ccdb-4bbe-8a5c-25db13fd9b2a",
   "metadata": {},
   "source": [
    "# 1. Для индекса, который хотите предсказать, нужно получить список требуемых признаков\n",
    "\n",
    "_Признак - временной ряд из озера данных, который нейросеть использует для предсказания индекса. Например, для индекса промышленного производства (ИПП) это будут новостной индекс, Погрузка на сети РЖД, и так далее_\n",
    "    \n",
    "### Получить их можно по GET запросу:\n",
    "data.vavt.ru/forecast/api/v1/{имя_индекса}/features_list\n",
    "    \n",
    "- Например, для индекса промышленного производства (ipp) по GET запросу data.vavt.ru/forecast/api/v1/ipp/features_list будет такой результат:\n"
   ]
  },
  {
   "cell_type": "code",
   "execution_count": 68,
   "id": "fc798bf0-3c86-42b1-8c7a-c5de60da02fa",
   "metadata": {},
   "outputs": [
    {
     "name": "stdout",
     "output_type": "stream",
     "text": [
      "{'bussines_clim': {'dataset_uuid': '14c74eba-c1a7-4aff-a1e3-0aa473ce8062',\n",
      "                   'description': 'Индикатор бизнес-климата ЦБ '\n",
      "                                  '(промышленность), пункты, Россия'},\n",
      " 'cb_monitor': {'dataset_uuid': '7d38c0d5-6bae-4856-b92c-9858223cfa89',\n",
      "                'description': 'Оценка изменения спроса на продукцию, товары, '\n",
      "                               'услуги (промышленность), пункты, Россия'},\n",
      " 'consumer_price': {'dataset_uuid': 'f0873ac7-c29f-481b-8f47-e11c7b1b7c82',\n",
      "                    'description': 'Индекс цен на электроэнергию в первой '\n",
      "                                   'ценовой зоне, рублей за МВт/ч, Россия'},\n",
      " 'curs': {'dataset_uuid': '5e5ac82a-ab76-4567-b095-92f8064acb51',\n",
      "          'description': 'Официальный курс доллара США на заданную дату, '\n",
      "                         'устанавливаемый ежедневно'},\n",
      " 'interest_rate': {'dataset_uuid': '87d93650-33f7-44b2-96df-6d520fa76c12',\n",
      "                   'description': 'Базовая ставка - краткосрочная, %, Россия'},\n",
      " 'news': {'dataset_uuid': '423f7092-d29b-43da-8209-f100c1fc88cd',\n",
      "          'description': 'Новостной индекс ЦБ, Россия'},\n",
      " 'rzd': {'dataset_uuid': '61265b19-7635-449c-9538-b45e078fb5e9',\n",
      "         'description': 'Погрузка на сети РЖД, млн тонн, Россия'}}\n"
     ]
    }
   ],
   "source": [
    "feature_list = requests.get(url=base_url + '/v1/ipp/features_list').json()['features']\n",
    "\n",
    "pprint(feature_list)"
   ]
  },
  {
   "cell_type": "markdown",
   "id": "2eec493a-ea0f-4e4b-923e-8c5d05014e51",
   "metadata": {},
   "source": [
    "__Схема ответа для всех индексов будет одинаковая, будет меняться число признаков, их название и uuid.__\n",
    "\n",
    "В ответе вам будет полезен database_uuid и название признаков (\"news\", \"rzd\", ... )\n",
    "Описание (\"description\") может помочь убедиться, что берете и отдаете нужные данные"
   ]
  },
  {
   "cell_type": "markdown",
   "id": "48def407-f795-4651-902b-399a2c8cf2fe",
   "metadata": {},
   "source": [
    "# 2. Получаем из озера данных данные каждого индекса\n",
    "\n",
    "Важно отметить, что вся предобработка данных происходит на нашей стороне. Агрегацию по месяцам и фильтрацию по дате проводить не нужно.\n",
    "\n",
    "Нам нужно сохранить значения и временные отметки индекса. Все индексы начинаются с разного периода времени, для этого нужно их хранить чтобы правильно отрезать нужный период времени, также для агреггации ежедневных данных в помесячные"
   ]
  },
  {
   "cell_type": "code",
   "execution_count": 69,
   "id": "59b9ca92-37da-4f83-8a3d-bafe9a16569f",
   "metadata": {},
   "outputs": [],
   "source": [
    "ipp_data: TimeSeriesDTO = DataLake.get_data_by_id(\n",
    "    dataset_uuid=\"c1c92863-1827-405e-b3e4-dea782f57316\"\n",
    ")"
   ]
  },
  {
   "cell_type": "markdown",
   "id": "ec88c18b-2942-4729-bda5-acdae3b16842",
   "metadata": {},
   "source": [
    "приводим к формату в запросе"
   ]
  },
  {
   "cell_type": "code",
   "execution_count": 37,
   "id": "be0c784a-b6a3-4f80-bd9d-8aaf440fc646",
   "metadata": {},
   "outputs": [],
   "source": [
    "ipp = {\n",
    "    \"dates\": ipp_data.dates,\n",
    "    \"values\": ipp_data.values\n",
    "}"
   ]
  },
  {
   "cell_type": "markdown",
   "id": "25c21a0b-2e22-4bda-9b14-79c8f1f651aa",
   "metadata": {},
   "source": [
    "### Пример как должны выглядеть данные\n",
    "\n",
    "На примере индекса промышленного производства"
   ]
  },
  {
   "cell_type": "code",
   "execution_count": 39,
   "id": "2c753440-cccd-4f55-a4b0-e6fc0e58b319",
   "metadata": {},
   "outputs": [
    {
     "data": {
      "text/html": [
       "<div>\n",
       "<style scoped>\n",
       "    .dataframe tbody tr th:only-of-type {\n",
       "        vertical-align: middle;\n",
       "    }\n",
       "\n",
       "    .dataframe tbody tr th {\n",
       "        vertical-align: top;\n",
       "    }\n",
       "\n",
       "    .dataframe thead th {\n",
       "        text-align: right;\n",
       "    }\n",
       "</style>\n",
       "<table border=\"1\" class=\"dataframe\">\n",
       "  <thead>\n",
       "    <tr style=\"text-align: right;\">\n",
       "      <th></th>\n",
       "      <th>dates</th>\n",
       "      <th>Индекс промышленного производства</th>\n",
       "    </tr>\n",
       "  </thead>\n",
       "  <tbody>\n",
       "    <tr>\n",
       "      <th>0</th>\n",
       "      <td>31.01.2000</td>\n",
       "      <td>110.6</td>\n",
       "    </tr>\n",
       "    <tr>\n",
       "      <th>1</th>\n",
       "      <td>29.02.2000</td>\n",
       "      <td>113.3</td>\n",
       "    </tr>\n",
       "    <tr>\n",
       "      <th>2</th>\n",
       "      <td>31.03.2000</td>\n",
       "      <td>107.6</td>\n",
       "    </tr>\n",
       "    <tr>\n",
       "      <th>3</th>\n",
       "      <td>30.04.2000</td>\n",
       "      <td>117.7</td>\n",
       "    </tr>\n",
       "    <tr>\n",
       "      <th>4</th>\n",
       "      <td>31.05.2000</td>\n",
       "      <td>110.8</td>\n",
       "    </tr>\n",
       "  </tbody>\n",
       "</table>\n",
       "</div>"
      ],
      "text/plain": [
       "        dates  Индекс промышленного производства\n",
       "0  31.01.2000                              110.6\n",
       "1  29.02.2000                              113.3\n",
       "2  31.03.2000                              107.6\n",
       "3  30.04.2000                              117.7\n",
       "4  31.05.2000                              110.8"
      ]
     },
     "execution_count": 39,
     "metadata": {},
     "output_type": "execute_result"
    }
   ],
   "source": [
    "pd.DataFrame(ipp)\\\n",
    "    .rename(columns={'values': 'Индекс промышленного производства'})\\\n",
    "    .head(5)"
   ]
  },
  {
   "cell_type": "code",
   "execution_count": 24,
   "id": "2ba7f80a-4ea3-4d61-b4b5-f71f1e633fd5",
   "metadata": {},
   "outputs": [],
   "source": [
    "features = dict()\n",
    "\n",
    "for feature in feature_list.keys():\n",
    "    dataset_uuid = feature_list[feature]['dataset_uuid']\n",
    "    data: TimeSeriesDTO = DataLake.get_data_by_id(dataset_uuid)\n",
    "    \n",
    "    features[feature] = {\"dates\": data.dates, \"values\": data.values}"
   ]
  },
  {
   "cell_type": "markdown",
   "id": "5c179494-c5db-4a77-a3f0-bfb6b0235ab2",
   "metadata": {},
   "source": [
    "### Другой пример как должны выглядеть данные\n",
    "\n",
    "На примере новостного индекса ЦБ (news)"
   ]
  },
  {
   "cell_type": "code",
   "execution_count": 40,
   "id": "815d9a13-b631-4390-bba1-eb3ffb124a4e",
   "metadata": {},
   "outputs": [
    {
     "data": {
      "text/html": [
       "<div>\n",
       "<style scoped>\n",
       "    .dataframe tbody tr th:only-of-type {\n",
       "        vertical-align: middle;\n",
       "    }\n",
       "\n",
       "    .dataframe tbody tr th {\n",
       "        vertical-align: top;\n",
       "    }\n",
       "\n",
       "    .dataframe thead th {\n",
       "        text-align: right;\n",
       "    }\n",
       "</style>\n",
       "<table border=\"1\" class=\"dataframe\">\n",
       "  <thead>\n",
       "    <tr style=\"text-align: right;\">\n",
       "      <th></th>\n",
       "      <th>dates</th>\n",
       "      <th>Новостной индекс ЦБ</th>\n",
       "    </tr>\n",
       "  </thead>\n",
       "  <tbody>\n",
       "    <tr>\n",
       "      <th>0</th>\n",
       "      <td>01.02.2004</td>\n",
       "      <td>1.283101</td>\n",
       "    </tr>\n",
       "    <tr>\n",
       "      <th>1</th>\n",
       "      <td>01.03.2004</td>\n",
       "      <td>1.316614</td>\n",
       "    </tr>\n",
       "    <tr>\n",
       "      <th>2</th>\n",
       "      <td>01.04.2004</td>\n",
       "      <td>1.544784</td>\n",
       "    </tr>\n",
       "    <tr>\n",
       "      <th>3</th>\n",
       "      <td>01.05.2004</td>\n",
       "      <td>1.278623</td>\n",
       "    </tr>\n",
       "    <tr>\n",
       "      <th>4</th>\n",
       "      <td>01.06.2004</td>\n",
       "      <td>1.160094</td>\n",
       "    </tr>\n",
       "  </tbody>\n",
       "</table>\n",
       "</div>"
      ],
      "text/plain": [
       "        dates  Новостной индекс ЦБ\n",
       "0  01.02.2004             1.283101\n",
       "1  01.03.2004             1.316614\n",
       "2  01.04.2004             1.544784\n",
       "3  01.05.2004             1.278623\n",
       "4  01.06.2004             1.160094"
      ]
     },
     "execution_count": 40,
     "metadata": {},
     "output_type": "execute_result"
    }
   ],
   "source": [
    "pd.DataFrame(features['news'])\\\n",
    "    .rename(columns={'values': 'Новостной индекс ЦБ'})\\\n",
    "    .head(5)"
   ]
  },
  {
   "cell_type": "markdown",
   "id": "33aa2d75-2399-4925-bed7-76459b4f7ea3",
   "metadata": {},
   "source": [
    "Все временные ряды будут иметь такую структуру в запросе. Важно, чтобы значения и отметки времени были одной длины, иначе вернется ошибка валидации"
   ]
  },
  {
   "cell_type": "markdown",
   "id": "1012904e-3e36-4778-9b8f-686f078ab04f",
   "metadata": {},
   "source": [
    "# 3. Формируем запрос"
   ]
  },
  {
   "cell_type": "markdown",
   "id": "c19f7504-6acd-4d4e-af30-3b2293256922",
   "metadata": {},
   "source": [
    "Для этого нужно от пользователя получить список гиперпараметров модели и доверительный интервал.\n",
    "Например, для модели CatBoost они могут быть следующими:\n",
    "\n",
    "```json\n",
    "{\n",
    "    \"depth\": 3,\n",
    "    \"learning_rate\": 0.1,\n",
    "    \"l2_leaf_reg\": 0.005,\n",
    "    \"iterations\": 8\n",
    "}\n",
    "```\n",
    "\n",
    "и доверительный интервал:\n",
    "\n",
    "```json\n",
    "{\n",
    "    \"confidence_interval\": \"90%\"    \n",
    "}\n",
    "```"
   ]
  },
  {
   "cell_type": "code",
   "execution_count": 35,
   "id": "023a65dc-4413-445c-add5-5b5fe539e740",
   "metadata": {},
   "outputs": [],
   "source": [
    "catboost_params = {\n",
    "    \"depth\": 3,\n",
    "    \"learning_rate\": 0.1,\n",
    "    \"l2_leaf_reg\": 0.005,\n",
    "    \"iterations\": 8\n",
    "}\n",
    "\n",
    "confidence_interval = \"90%\""
   ]
  },
  {
   "cell_type": "code",
   "execution_count": 45,
   "id": "434ed89c-ee53-42ad-b787-5ac57b20ade1",
   "metadata": {},
   "outputs": [],
   "source": [
    "url = base_url + '/v1/ipp/catboost'\n",
    "\n",
    "data = {\n",
    "    \"hparams\":             catboost_params,     # Гиперпараметры модели\n",
    "    \"confidence_interval\": confidence_interval, # Доверительный интервал\n",
    "    \"ipp\":                 ipp,                 # Данные ИПП \n",
    "    \"features\":            features             # Данные признаков\n",
    "}"
   ]
  },
  {
   "cell_type": "markdown",
   "id": "9bbb90cc-cdda-4e07-bed3-164aa23f60df",
   "metadata": {},
   "source": [
    "# 4. Отправляем запрос"
   ]
  },
  {
   "cell_type": "code",
   "execution_count": 50,
   "id": "bcb1f8b8-7e2e-49fd-852b-d1b668a5205e",
   "metadata": {},
   "outputs": [
    {
     "name": "stdout",
     "output_type": "stream",
     "text": [
      "response.status_code = 200\n"
     ]
    }
   ],
   "source": [
    "with requests.post(url=url, json=data) as response:\n",
    "    print(f'{response.status_code = }')\n",
    "    forecast = response.json()"
   ]
  },
  {
   "cell_type": "code",
   "execution_count": 67,
   "id": "0adabddc-927a-45dc-aa84-21d013ef8532",
   "metadata": {},
   "outputs": [
    {
     "name": "stdout",
     "output_type": "stream",
     "text": [
      "{'month_1': 103.94390256741266,\n",
      " 'month_2': 103.68966678051972,\n",
      " 'month_3': 103.33691362309584,\n",
      " 'scores': [{'mape': 0.018728240386025725, 'r2_score': 0.4906602436192551},\n",
      "            {'mape': 0.03939419145058797, 'r2_score': 0.4423353444732381},\n",
      "            {'mape': 0.03835140336589936, 'r2_score': 0.45997708515783686}]}\n"
     ]
    }
   ],
   "source": [
    "pprint(forecast)"
   ]
  },
  {
   "cell_type": "code",
   "execution_count": 66,
   "id": "dadaf67c-26d8-4f0b-ad54-845b2947cc7e",
   "metadata": {},
   "outputs": [
    {
     "name": "stdout",
     "output_type": "stream",
     "text": [
      "Прогноз: \n",
      "  - на 1 месяц: 103.94390256741266\n",
      "  - на 2 месяц: 103.68966678051972\n",
      "  - на 3 месяц: 103.33691362309584\n",
      "\n",
      "Качество моделей:\n",
      "  - Модель на 1 месяц: {'mape': 0.018728240386025725, 'r2_score': 0.4906602436192551}\n",
      "  - Модель на 2 месяц: {'mape': 0.03939419145058797, 'r2_score': 0.4423353444732381}\n",
      "  - Модель на 3 месяц: {'mape': 0.03835140336589936, 'r2_score': 0.45997708515783686}\n"
     ]
    }
   ],
   "source": [
    "print('Прогноз: ')\n",
    "print(f'  - на 1 месяц: {forecast[\"month_1\"]}')\n",
    "print(f'  - на 2 месяц: {forecast[\"month_2\"]}')\n",
    "print(f'  - на 3 месяц: {forecast[\"month_3\"]}')\n",
    "print()\n",
    "print('Качество моделей:')\n",
    "print(f'  - Модель на 1 месяц: {forecast[\"scores\"][0]}')\n",
    "print(f'  - Модель на 2 месяц: {forecast[\"scores\"][1]}')\n",
    "print(f'  - Модель на 3 месяц: {forecast[\"scores\"][2]}')"
   ]
  }
 ],
 "metadata": {
  "kernelspec": {
   "display_name": "Python 3 (ipykernel)",
   "language": "python",
   "name": "python3"
  },
  "language_info": {
   "codemirror_mode": {
    "name": "ipython",
    "version": 3
   },
   "file_extension": ".py",
   "mimetype": "text/x-python",
   "name": "python",
   "nbconvert_exporter": "python",
   "pygments_lexer": "ipython3",
   "version": "3.11.8"
  }
 },
 "nbformat": 4,
 "nbformat_minor": 5
}
