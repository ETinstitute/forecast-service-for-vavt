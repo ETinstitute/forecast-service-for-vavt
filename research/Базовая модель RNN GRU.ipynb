{
 "cells": [
  {
   "cell_type": "markdown",
   "id": "b0cf98b0-1b13-4b94-9859-43189ef946a4",
   "metadata": {},
   "source": [
    "# Импорт данных\n",
    "\n",
    "На примере прогноза ИПЦ в процентах к соответствующему периоду предыдущего года"
   ]
  },
  {
   "cell_type": "code",
   "execution_count": 1,
   "id": "5f258f39-474a-4d96-9c4b-d946638d42cb",
   "metadata": {},
   "outputs": [],
   "source": [
    "import pandas as pd\n",
    "from datetime import date"
   ]
  },
  {
   "cell_type": "code",
   "execution_count": 67,
   "id": "73a0590f-fca8-42b8-98c8-2a9345ba9b22",
   "metadata": {},
   "outputs": [
    {
     "data": {
      "text/html": [
       "<div>\n",
       "<style scoped>\n",
       "    .dataframe tbody tr th:only-of-type {\n",
       "        vertical-align: middle;\n",
       "    }\n",
       "\n",
       "    .dataframe tbody tr th {\n",
       "        vertical-align: top;\n",
       "    }\n",
       "\n",
       "    .dataframe thead th {\n",
       "        text-align: right;\n",
       "    }\n",
       "</style>\n",
       "<table border=\"1\" class=\"dataframe\">\n",
       "  <thead>\n",
       "    <tr style=\"text-align: right;\">\n",
       "      <th></th>\n",
       "      <th>date</th>\n",
       "      <th>goal</th>\n",
       "    </tr>\n",
       "  </thead>\n",
       "  <tbody>\n",
       "    <tr>\n",
       "      <th>302</th>\n",
       "      <td>2024-04-30</td>\n",
       "      <td>107.8</td>\n",
       "    </tr>\n",
       "    <tr>\n",
       "      <th>301</th>\n",
       "      <td>2024-03-31</td>\n",
       "      <td>107.7</td>\n",
       "    </tr>\n",
       "    <tr>\n",
       "      <th>300</th>\n",
       "      <td>2024-02-29</td>\n",
       "      <td>107.7</td>\n",
       "    </tr>\n",
       "  </tbody>\n",
       "</table>\n",
       "</div>"
      ],
      "text/plain": [
       "           date   goal\n",
       "302  2024-04-30  107.8\n",
       "301  2024-03-31  107.7\n",
       "300  2024-02-29  107.7"
      ]
     },
     "execution_count": 67,
     "metadata": {},
     "output_type": "execute_result"
    }
   ],
   "source": [
    "df = pd.read_csv('Индекс потребительских цен, Россия — Диаграмма.csv', sep=';')\n",
    "\n",
    "df.columns = ['uuid', 'date', 'goal']\n",
    "df.drop(columns=['uuid'], inplace=True)\n",
    "df.date = pd.to_datetime(df.date, format='%d.%m.%Y').dt.date\n",
    "df = df.sort_values(by='date', ascending=False)\n",
    "\n",
    "df.head(3)"
   ]
  },
  {
   "cell_type": "markdown",
   "id": "b96a2fbe-8f2c-4689-851d-18f03f929b1e",
   "metadata": {},
   "source": [
    "# Предобработка\n",
    "\n",
    "Оставим только значения с 2014 года, т.к. до этого времени у ЦБ были другой таргет, санкций на РФ было меньше, экономика была другой и прочее"
   ]
  },
  {
   "cell_type": "code",
   "execution_count": 68,
   "id": "af1cf4ae-069f-4b3c-860b-998ef086b0b9",
   "metadata": {},
   "outputs": [],
   "source": [
    "df = df[df.date > date(year=2015, month=1, day=1)]"
   ]
  },
  {
   "cell_type": "markdown",
   "id": "ff74f411-13f7-4a69-8ad4-e5de292fcff6",
   "metadata": {},
   "source": [
    "Приведем к значениям от 0 до 1, чтобы улучшить качество нейросети. Выберем для этого один из двух нормализаторов"
   ]
  },
  {
   "cell_type": "code",
   "execution_count": 69,
   "id": "7c617e84-4624-4f96-af32-fe1bfa88580a",
   "metadata": {},
   "outputs": [],
   "source": [
    "from sklearn.preprocessing import StandardScaler"
   ]
  },
  {
   "cell_type": "code",
   "execution_count": 70,
   "id": "0d14aec1-3373-474c-b29c-132301bd3c57",
   "metadata": {},
   "outputs": [
    {
     "data": {
      "text/html": [
       "<div>\n",
       "<style scoped>\n",
       "    .dataframe tbody tr th:only-of-type {\n",
       "        vertical-align: middle;\n",
       "    }\n",
       "\n",
       "    .dataframe tbody tr th {\n",
       "        vertical-align: top;\n",
       "    }\n",
       "\n",
       "    .dataframe thead th {\n",
       "        text-align: right;\n",
       "    }\n",
       "</style>\n",
       "<table border=\"1\" class=\"dataframe\">\n",
       "  <thead>\n",
       "    <tr style=\"text-align: right;\">\n",
       "      <th></th>\n",
       "      <th>date</th>\n",
       "      <th>goal</th>\n",
       "      <th>z_goal</th>\n",
       "    </tr>\n",
       "  </thead>\n",
       "  <tbody>\n",
       "    <tr>\n",
       "      <th>302</th>\n",
       "      <td>2024-04-30</td>\n",
       "      <td>107.8</td>\n",
       "      <td>0.161025</td>\n",
       "    </tr>\n",
       "    <tr>\n",
       "      <th>301</th>\n",
       "      <td>2024-03-31</td>\n",
       "      <td>107.7</td>\n",
       "      <td>0.138869</td>\n",
       "    </tr>\n",
       "    <tr>\n",
       "      <th>300</th>\n",
       "      <td>2024-02-29</td>\n",
       "      <td>107.7</td>\n",
       "      <td>0.138869</td>\n",
       "    </tr>\n",
       "  </tbody>\n",
       "</table>\n",
       "</div>"
      ],
      "text/plain": [
       "           date   goal    z_goal\n",
       "302  2024-04-30  107.8  0.161025\n",
       "301  2024-03-31  107.7  0.138869\n",
       "300  2024-02-29  107.7  0.138869"
      ]
     },
     "execution_count": 70,
     "metadata": {},
     "output_type": "execute_result"
    }
   ],
   "source": [
    "z_transformer = StandardScaler().fit(df[['goal']])\n",
    "df['z_goal'] = z_transformer.transform(df[['goal']])\n",
    "\n",
    "df.head(3)"
   ]
  },
  {
   "cell_type": "markdown",
   "id": "92492f00-1c7b-4f78-9ead-02d5c7759050",
   "metadata": {},
   "source": [
    "и обратно переводим"
   ]
  },
  {
   "cell_type": "code",
   "execution_count": 71,
   "id": "fd8abaab-177b-4444-9003-4026e79582bd",
   "metadata": {},
   "outputs": [
    {
     "data": {
      "text/plain": [
       "array([[107.8],\n",
       "       [107.7],\n",
       "       [107.7]])"
      ]
     },
     "execution_count": 71,
     "metadata": {},
     "output_type": "execute_result"
    }
   ],
   "source": [
    "z_transformer.inverse_transform(df[['z_goal']])[:3]"
   ]
  },
  {
   "cell_type": "markdown",
   "id": "25d3313c-a4d1-4300-8aec-222018421641",
   "metadata": {},
   "source": [
    "# Создание модели"
   ]
  },
  {
   "cell_type": "code",
   "execution_count": 72,
   "id": "4e0c1575-b7a5-4420-aa1b-6227a356bd23",
   "metadata": {},
   "outputs": [],
   "source": [
    "import tensorflow as tf\n",
    "from tensorflow.keras import Sequential\n",
    "from tensorflow.keras.optimizers import Adam\n",
    "from tensorflow.keras.metrics import MeanAbsolutePercentageError\n",
    "from tensorflow.keras.layers import GRU, LSTM, BatchNormalization, Dropout, Dense, TimeDistributed"
   ]
  },
  {
   "cell_type": "markdown",
   "id": "bc4458cc-68ee-466f-88c5-7e20e6f32196",
   "metadata": {},
   "source": [
    "## Гиперпараметры модели"
   ]
  },
  {
   "cell_type": "code",
   "execution_count": 73,
   "id": "cffc5855-fd6e-42fd-bd83-3025cae532cf",
   "metadata": {},
   "outputs": [],
   "source": [
    "from dataclasses import dataclass, field"
   ]
  },
  {
   "cell_type": "code",
   "execution_count": 209,
   "id": "6eaa0489-c221-4686-a613-3f48756ae828",
   "metadata": {},
   "outputs": [],
   "source": [
    "@dataclass\n",
    "class ModelConfig:\n",
    "    lookback         = 6   # Сколько берем данных для прогноза\n",
    "    forecast_horizon = 3   # На сколько делаем прогноз\n",
    "    n_layers         = 1   # Количество слоев\n",
    "    units            = 1   # Количество нейронов на каждом слое\n",
    "    batch_size       = 64\n",
    "    dropout_rate     = 0.2\n",
    "    epochs           = 100\n",
    "    \n",
    "    input_shape: tuple = (lookback, 1)"
   ]
  },
  {
   "cell_type": "markdown",
   "id": "a13aebd2-4208-4a4b-ac1b-d0507e455421",
   "metadata": {},
   "source": [
    "## Сама модель"
   ]
  },
  {
   "cell_type": "code",
   "execution_count": 210,
   "id": "3123c011-2f60-4f9a-a83d-2fa7f4370206",
   "metadata": {},
   "outputs": [
    {
     "name": "stderr",
     "output_type": "stream",
     "text": [
      "/home/misha/.local/lib/python3.11/site-packages/keras/src/layers/rnn/rnn.py:204: UserWarning: Do not pass an `input_shape`/`input_dim` argument to a layer. When using Sequential models, prefer using an `Input(shape)` object as the first layer in the model instead.\n",
      "  super().__init__(**kwargs)\n"
     ]
    },
    {
     "data": {
      "text/html": [
       "<pre style=\"white-space:pre;overflow-x:auto;line-height:normal;font-family:Menlo,'DejaVu Sans Mono',consolas,'Courier New',monospace\"><span style=\"font-weight: bold\">Model: \"sequential_29\"</span>\n",
       "</pre>\n"
      ],
      "text/plain": [
       "\u001b[1mModel: \"sequential_29\"\u001b[0m\n"
      ]
     },
     "metadata": {},
     "output_type": "display_data"
    },
    {
     "data": {
      "text/html": [
       "<pre style=\"white-space:pre;overflow-x:auto;line-height:normal;font-family:Menlo,'DejaVu Sans Mono',consolas,'Courier New',monospace\">┏━━━━━━━━━━━━━━━━━━━━━━━━━━━━━━━━━┳━━━━━━━━━━━━━━━━━━━━━━━━┳━━━━━━━━━━━━━━━┓\n",
       "┃<span style=\"font-weight: bold\"> Layer (type)                    </span>┃<span style=\"font-weight: bold\"> Output Shape           </span>┃<span style=\"font-weight: bold\">       Param # </span>┃\n",
       "┡━━━━━━━━━━━━━━━━━━━━━━━━━━━━━━━━━╇━━━━━━━━━━━━━━━━━━━━━━━━╇━━━━━━━━━━━━━━━┩\n",
       "│ lstm_30 (<span style=\"color: #0087ff; text-decoration-color: #0087ff\">LSTM</span>)                  │ (<span style=\"color: #00d7ff; text-decoration-color: #00d7ff\">None</span>, <span style=\"color: #00af00; text-decoration-color: #00af00\">1</span>)              │            <span style=\"color: #00af00; text-decoration-color: #00af00\">12</span> │\n",
       "├─────────────────────────────────┼────────────────────────┼───────────────┤\n",
       "│ dense_25 (<span style=\"color: #0087ff; text-decoration-color: #0087ff\">Dense</span>)                │ (<span style=\"color: #00d7ff; text-decoration-color: #00d7ff\">None</span>, <span style=\"color: #00af00; text-decoration-color: #00af00\">3</span>)              │             <span style=\"color: #00af00; text-decoration-color: #00af00\">6</span> │\n",
       "└─────────────────────────────────┴────────────────────────┴───────────────┘\n",
       "</pre>\n"
      ],
      "text/plain": [
       "┏━━━━━━━━━━━━━━━━━━━━━━━━━━━━━━━━━┳━━━━━━━━━━━━━━━━━━━━━━━━┳━━━━━━━━━━━━━━━┓\n",
       "┃\u001b[1m \u001b[0m\u001b[1mLayer (type)                   \u001b[0m\u001b[1m \u001b[0m┃\u001b[1m \u001b[0m\u001b[1mOutput Shape          \u001b[0m\u001b[1m \u001b[0m┃\u001b[1m \u001b[0m\u001b[1m      Param #\u001b[0m\u001b[1m \u001b[0m┃\n",
       "┡━━━━━━━━━━━━━━━━━━━━━━━━━━━━━━━━━╇━━━━━━━━━━━━━━━━━━━━━━━━╇━━━━━━━━━━━━━━━┩\n",
       "│ lstm_30 (\u001b[38;5;33mLSTM\u001b[0m)                  │ (\u001b[38;5;45mNone\u001b[0m, \u001b[38;5;34m1\u001b[0m)              │            \u001b[38;5;34m12\u001b[0m │\n",
       "├─────────────────────────────────┼────────────────────────┼───────────────┤\n",
       "│ dense_25 (\u001b[38;5;33mDense\u001b[0m)                │ (\u001b[38;5;45mNone\u001b[0m, \u001b[38;5;34m3\u001b[0m)              │             \u001b[38;5;34m6\u001b[0m │\n",
       "└─────────────────────────────────┴────────────────────────┴───────────────┘\n"
      ]
     },
     "metadata": {},
     "output_type": "display_data"
    },
    {
     "data": {
      "text/html": [
       "<pre style=\"white-space:pre;overflow-x:auto;line-height:normal;font-family:Menlo,'DejaVu Sans Mono',consolas,'Courier New',monospace\"><span style=\"font-weight: bold\"> Total params: </span><span style=\"color: #00af00; text-decoration-color: #00af00\">18</span> (72.00 B)\n",
       "</pre>\n"
      ],
      "text/plain": [
       "\u001b[1m Total params: \u001b[0m\u001b[38;5;34m18\u001b[0m (72.00 B)\n"
      ]
     },
     "metadata": {},
     "output_type": "display_data"
    },
    {
     "data": {
      "text/html": [
       "<pre style=\"white-space:pre;overflow-x:auto;line-height:normal;font-family:Menlo,'DejaVu Sans Mono',consolas,'Courier New',monospace\"><span style=\"font-weight: bold\"> Trainable params: </span><span style=\"color: #00af00; text-decoration-color: #00af00\">18</span> (72.00 B)\n",
       "</pre>\n"
      ],
      "text/plain": [
       "\u001b[1m Trainable params: \u001b[0m\u001b[38;5;34m18\u001b[0m (72.00 B)\n"
      ]
     },
     "metadata": {},
     "output_type": "display_data"
    },
    {
     "data": {
      "text/html": [
       "<pre style=\"white-space:pre;overflow-x:auto;line-height:normal;font-family:Menlo,'DejaVu Sans Mono',consolas,'Courier New',monospace\"><span style=\"font-weight: bold\"> Non-trainable params: </span><span style=\"color: #00af00; text-decoration-color: #00af00\">0</span> (0.00 B)\n",
       "</pre>\n"
      ],
      "text/plain": [
       "\u001b[1m Non-trainable params: \u001b[0m\u001b[38;5;34m0\u001b[0m (0.00 B)\n"
      ]
     },
     "metadata": {},
     "output_type": "display_data"
    }
   ],
   "source": [
    "tf.compat.v2.random.set_seed(1)\n",
    "model = Sequential()\n",
    "\n",
    "for i in range(ModelConfig.n_layers):    \n",
    "    model.add(\n",
    "        LSTM(\n",
    "            units=ModelConfig.units,\n",
    "            return_sequences=True if (i != ModelConfig.n_layers - 1) else False,\n",
    "            input_shape=ModelConfig.input_shape\n",
    "        )\n",
    "    )\n",
    "\n",
    "model.add(Dense(units=ModelConfig.forecast_horizon, activation='linear'))\n",
    "\n",
    "model.summary()"
   ]
  },
  {
   "cell_type": "code",
   "execution_count": 211,
   "id": "7e2e3c12-a2c8-4a9c-80bb-1066b131dba6",
   "metadata": {},
   "outputs": [],
   "source": [
    "model.compile(\n",
    "    optimizer=Adam(learning_rate=0.001),\n",
    "    loss='mean_squared_error',\n",
    "    metrics=[MeanAbsolutePercentageError()]\n",
    ")"
   ]
  },
  {
   "cell_type": "markdown",
   "id": "d68ecc59-7cd5-43cf-a68f-8350aa91bd68",
   "metadata": {},
   "source": [
    "# Обучение модели"
   ]
  },
  {
   "cell_type": "code",
   "execution_count": 77,
   "id": "0e248edd-d7db-45e2-84d4-911059fbdd67",
   "metadata": {},
   "outputs": [],
   "source": [
    "import numpy as np\n",
    "from typing import Iterable\n",
    "from sklearn.model_selection import train_test_split"
   ]
  },
  {
   "cell_type": "code",
   "execution_count": 78,
   "id": "01320bcc-c714-4cac-bcea-89fc9487fc4a",
   "metadata": {},
   "outputs": [],
   "source": [
    "def prepare_rnn_data(data: Iterable, lookback: int, horizon: int) -> tuple[np.array, np.array]:\n",
    "    \"\"\"\n",
    "    Создает батчи по lookback месяцев для иксов и по horizon месяца для игреков\n",
    "    \n",
    "    Также приводит к формату данных для RNN\n",
    "    \"\"\"\n",
    "    \n",
    "    data_range = range(lookback, len(data) - horizon + 1)\n",
    "    \n",
    "    x = np.array([data[i - lookback:i] for i in data_range])\n",
    "    x = np.reshape(x, (x.shape[0], lookback, 1))\n",
    "\n",
    "    y = np.array([data[i:i + horizon] for i in data_range])\n",
    "    \n",
    "    return x, y"
   ]
  },
  {
   "cell_type": "code",
   "execution_count": 212,
   "id": "b65b963e-4859-479c-8f96-2b5562deb69c",
   "metadata": {},
   "outputs": [
    {
     "name": "stdout",
     "output_type": "stream",
     "text": [
      "X.shape = (104, 6, 1), y.shape = (104, 3)\n"
     ]
    }
   ],
   "source": [
    "X, y = prepare_rnn_data(df['z_goal'].values, ModelConfig.lookback, ModelConfig.forecast_horizon)\n",
    "\n",
    "print(f'{X.shape = }, {y.shape = }')"
   ]
  },
  {
   "cell_type": "code",
   "execution_count": 213,
   "id": "9a3f541d-aaf4-4ea3-aa8a-446b0b050b6c",
   "metadata": {},
   "outputs": [],
   "source": [
    "x_train, x_test, y_train, y_test = train_test_split(X, y, test_size=0.2, random_state=1)\n",
    "x_val, y_val = x_test[-12:], y_test[-12:]"
   ]
  },
  {
   "cell_type": "code",
   "execution_count": 214,
   "id": "834f2511-1cea-4f91-9bb4-de2b287071c0",
   "metadata": {},
   "outputs": [
    {
     "name": "stdout",
     "output_type": "stream",
     "text": [
      "Epoch 1/100\n",
      "\u001b[1m2/2\u001b[0m \u001b[32m━━━━━━━━━━━━━━━━━━━━\u001b[0m\u001b[37m\u001b[0m \u001b[1m1s\u001b[0m 158ms/step - loss: 0.7722 - mean_absolute_percentage_error: 93.0236 - val_loss: 1.4446 - val_mean_absolute_percentage_error: 92.7510\n",
      "Epoch 2/100\n",
      "\u001b[1m2/2\u001b[0m \u001b[32m━━━━━━━━━━━━━━━━━━━━\u001b[0m\u001b[37m\u001b[0m \u001b[1m0s\u001b[0m 20ms/step - loss: 0.7708 - mean_absolute_percentage_error: 93.0483 - val_loss: 1.4420 - val_mean_absolute_percentage_error: 92.6100\n",
      "Epoch 3/100\n",
      "\u001b[1m2/2\u001b[0m \u001b[32m━━━━━━━━━━━━━━━━━━━━\u001b[0m\u001b[37m\u001b[0m \u001b[1m0s\u001b[0m 20ms/step - loss: 0.7696 - mean_absolute_percentage_error: 93.0442 - val_loss: 1.4393 - val_mean_absolute_percentage_error: 92.4431\n",
      "Epoch 4/100\n",
      "\u001b[1m2/2\u001b[0m \u001b[32m━━━━━━━━━━━━━━━━━━━━\u001b[0m\u001b[37m\u001b[0m \u001b[1m0s\u001b[0m 19ms/step - loss: 0.7685 - mean_absolute_percentage_error: 93.0373 - val_loss: 1.4365 - val_mean_absolute_percentage_error: 92.2660\n",
      "Epoch 5/100\n",
      "\u001b[1m2/2\u001b[0m \u001b[32m━━━━━━━━━━━━━━━━━━━━\u001b[0m\u001b[37m\u001b[0m \u001b[1m0s\u001b[0m 20ms/step - loss: 0.7674 - mean_absolute_percentage_error: 93.0297 - val_loss: 1.4338 - val_mean_absolute_percentage_error: 92.0836\n",
      "Epoch 6/100\n",
      "\u001b[1m2/2\u001b[0m \u001b[32m━━━━━━━━━━━━━━━━━━━━\u001b[0m\u001b[37m\u001b[0m \u001b[1m0s\u001b[0m 21ms/step - loss: 0.7663 - mean_absolute_percentage_error: 93.0218 - val_loss: 1.4310 - val_mean_absolute_percentage_error: 91.8983\n",
      "Epoch 7/100\n",
      "\u001b[1m2/2\u001b[0m \u001b[32m━━━━━━━━━━━━━━━━━━━━\u001b[0m\u001b[37m\u001b[0m \u001b[1m0s\u001b[0m 19ms/step - loss: 0.7652 - mean_absolute_percentage_error: 93.0141 - val_loss: 1.4282 - val_mean_absolute_percentage_error: 91.7111\n",
      "Epoch 8/100\n",
      "\u001b[1m2/2\u001b[0m \u001b[32m━━━━━━━━━━━━━━━━━━━━\u001b[0m\u001b[37m\u001b[0m \u001b[1m0s\u001b[0m 20ms/step - loss: 0.7641 - mean_absolute_percentage_error: 93.0065 - val_loss: 1.4253 - val_mean_absolute_percentage_error: 91.5227\n",
      "Epoch 9/100\n",
      "\u001b[1m2/2\u001b[0m \u001b[32m━━━━━━━━━━━━━━━━━━━━\u001b[0m\u001b[37m\u001b[0m \u001b[1m0s\u001b[0m 44ms/step - loss: 0.7630 - mean_absolute_percentage_error: 92.9992 - val_loss: 1.4225 - val_mean_absolute_percentage_error: 91.3337\n",
      "Epoch 10/100\n",
      "\u001b[1m2/2\u001b[0m \u001b[32m━━━━━━━━━━━━━━━━━━━━\u001b[0m\u001b[37m\u001b[0m \u001b[1m0s\u001b[0m 43ms/step - loss: 0.7618 - mean_absolute_percentage_error: 92.9922 - val_loss: 1.4197 - val_mean_absolute_percentage_error: 91.1443\n",
      "Epoch 11/100\n",
      "\u001b[1m2/2\u001b[0m \u001b[32m━━━━━━━━━━━━━━━━━━━━\u001b[0m\u001b[37m\u001b[0m \u001b[1m0s\u001b[0m 31ms/step - loss: 0.7607 - mean_absolute_percentage_error: 92.9856 - val_loss: 1.4169 - val_mean_absolute_percentage_error: 90.9547\n",
      "Epoch 12/100\n",
      "\u001b[1m2/2\u001b[0m \u001b[32m━━━━━━━━━━━━━━━━━━━━\u001b[0m\u001b[37m\u001b[0m \u001b[1m0s\u001b[0m 23ms/step - loss: 0.7596 - mean_absolute_percentage_error: 92.9793 - val_loss: 1.4140 - val_mean_absolute_percentage_error: 90.7652\n",
      "Epoch 13/100\n",
      "\u001b[1m2/2\u001b[0m \u001b[32m━━━━━━━━━━━━━━━━━━━━\u001b[0m\u001b[37m\u001b[0m \u001b[1m0s\u001b[0m 19ms/step - loss: 0.7585 - mean_absolute_percentage_error: 92.9734 - val_loss: 1.4112 - val_mean_absolute_percentage_error: 90.5758\n",
      "Epoch 14/100\n",
      "\u001b[1m2/2\u001b[0m \u001b[32m━━━━━━━━━━━━━━━━━━━━\u001b[0m\u001b[37m\u001b[0m \u001b[1m0s\u001b[0m 20ms/step - loss: 0.7574 - mean_absolute_percentage_error: 92.9679 - val_loss: 1.4083 - val_mean_absolute_percentage_error: 90.3866\n",
      "Epoch 15/100\n",
      "\u001b[1m2/2\u001b[0m \u001b[32m━━━━━━━━━━━━━━━━━━━━\u001b[0m\u001b[37m\u001b[0m \u001b[1m0s\u001b[0m 19ms/step - loss: 0.7562 - mean_absolute_percentage_error: 92.9628 - val_loss: 1.4055 - val_mean_absolute_percentage_error: 90.1978\n",
      "Epoch 16/100\n",
      "\u001b[1m2/2\u001b[0m \u001b[32m━━━━━━━━━━━━━━━━━━━━\u001b[0m\u001b[37m\u001b[0m \u001b[1m0s\u001b[0m 20ms/step - loss: 0.7551 - mean_absolute_percentage_error: 92.9581 - val_loss: 1.4026 - val_mean_absolute_percentage_error: 90.0093\n",
      "Epoch 17/100\n",
      "\u001b[1m2/2\u001b[0m \u001b[32m━━━━━━━━━━━━━━━━━━━━\u001b[0m\u001b[37m\u001b[0m \u001b[1m0s\u001b[0m 19ms/step - loss: 0.7540 - mean_absolute_percentage_error: 92.9538 - val_loss: 1.3998 - val_mean_absolute_percentage_error: 89.8212\n",
      "Epoch 18/100\n",
      "\u001b[1m2/2\u001b[0m \u001b[32m━━━━━━━━━━━━━━━━━━━━\u001b[0m\u001b[37m\u001b[0m \u001b[1m0s\u001b[0m 19ms/step - loss: 0.7528 - mean_absolute_percentage_error: 92.9498 - val_loss: 1.3969 - val_mean_absolute_percentage_error: 89.6335\n",
      "Epoch 19/100\n",
      "\u001b[1m2/2\u001b[0m \u001b[32m━━━━━━━━━━━━━━━━━━━━\u001b[0m\u001b[37m\u001b[0m \u001b[1m0s\u001b[0m 20ms/step - loss: 0.7517 - mean_absolute_percentage_error: 92.9463 - val_loss: 1.3940 - val_mean_absolute_percentage_error: 89.4463\n",
      "Epoch 20/100\n",
      "\u001b[1m2/2\u001b[0m \u001b[32m━━━━━━━━━━━━━━━━━━━━\u001b[0m\u001b[37m\u001b[0m \u001b[1m0s\u001b[0m 20ms/step - loss: 0.7506 - mean_absolute_percentage_error: 92.9465 - val_loss: 1.3912 - val_mean_absolute_percentage_error: 89.2596\n",
      "Epoch 21/100\n",
      "\u001b[1m2/2\u001b[0m \u001b[32m━━━━━━━━━━━━━━━━━━━━\u001b[0m\u001b[37m\u001b[0m \u001b[1m0s\u001b[0m 54ms/step - loss: 0.7494 - mean_absolute_percentage_error: 92.9535 - val_loss: 1.3883 - val_mean_absolute_percentage_error: 89.0734\n",
      "Epoch 22/100\n",
      "\u001b[1m2/2\u001b[0m \u001b[32m━━━━━━━━━━━━━━━━━━━━\u001b[0m\u001b[37m\u001b[0m \u001b[1m0s\u001b[0m 47ms/step - loss: 0.7483 - mean_absolute_percentage_error: 92.9609 - val_loss: 1.3854 - val_mean_absolute_percentage_error: 88.8878\n",
      "Epoch 23/100\n",
      "\u001b[1m2/2\u001b[0m \u001b[32m━━━━━━━━━━━━━━━━━━━━\u001b[0m\u001b[37m\u001b[0m \u001b[1m0s\u001b[0m 31ms/step - loss: 0.7472 - mean_absolute_percentage_error: 92.9688 - val_loss: 1.3825 - val_mean_absolute_percentage_error: 88.7027\n",
      "Epoch 24/100\n",
      "\u001b[1m2/2\u001b[0m \u001b[32m━━━━━━━━━━━━━━━━━━━━\u001b[0m\u001b[37m\u001b[0m \u001b[1m0s\u001b[0m 19ms/step - loss: 0.7460 - mean_absolute_percentage_error: 92.9770 - val_loss: 1.3796 - val_mean_absolute_percentage_error: 88.5181\n",
      "Epoch 25/100\n",
      "\u001b[1m2/2\u001b[0m \u001b[32m━━━━━━━━━━━━━━━━━━━━\u001b[0m\u001b[37m\u001b[0m \u001b[1m0s\u001b[0m 20ms/step - loss: 0.7449 - mean_absolute_percentage_error: 92.9856 - val_loss: 1.3768 - val_mean_absolute_percentage_error: 88.3341\n",
      "Epoch 26/100\n",
      "\u001b[1m2/2\u001b[0m \u001b[32m━━━━━━━━━━━━━━━━━━━━\u001b[0m\u001b[37m\u001b[0m \u001b[1m0s\u001b[0m 18ms/step - loss: 0.7437 - mean_absolute_percentage_error: 92.9946 - val_loss: 1.3739 - val_mean_absolute_percentage_error: 88.1507\n",
      "Epoch 27/100\n",
      "\u001b[1m2/2\u001b[0m \u001b[32m━━━━━━━━━━━━━━━━━━━━\u001b[0m\u001b[37m\u001b[0m \u001b[1m0s\u001b[0m 22ms/step - loss: 0.7426 - mean_absolute_percentage_error: 93.0040 - val_loss: 1.3710 - val_mean_absolute_percentage_error: 87.9679\n",
      "Epoch 28/100\n",
      "\u001b[1m2/2\u001b[0m \u001b[32m━━━━━━━━━━━━━━━━━━━━\u001b[0m\u001b[37m\u001b[0m \u001b[1m0s\u001b[0m 18ms/step - loss: 0.7414 - mean_absolute_percentage_error: 93.0138 - val_loss: 1.3681 - val_mean_absolute_percentage_error: 87.7856\n",
      "Epoch 29/100\n",
      "\u001b[1m2/2\u001b[0m \u001b[32m━━━━━━━━━━━━━━━━━━━━\u001b[0m\u001b[37m\u001b[0m \u001b[1m0s\u001b[0m 20ms/step - loss: 0.7403 - mean_absolute_percentage_error: 93.0240 - val_loss: 1.3652 - val_mean_absolute_percentage_error: 87.6039\n",
      "Epoch 30/100\n",
      "\u001b[1m2/2\u001b[0m \u001b[32m━━━━━━━━━━━━━━━━━━━━\u001b[0m\u001b[37m\u001b[0m \u001b[1m0s\u001b[0m 18ms/step - loss: 0.7391 - mean_absolute_percentage_error: 93.0346 - val_loss: 1.3622 - val_mean_absolute_percentage_error: 87.4228\n",
      "Epoch 31/100\n",
      "\u001b[1m2/2\u001b[0m \u001b[32m━━━━━━━━━━━━━━━━━━━━\u001b[0m\u001b[37m\u001b[0m \u001b[1m0s\u001b[0m 21ms/step - loss: 0.7380 - mean_absolute_percentage_error: 93.0455 - val_loss: 1.3593 - val_mean_absolute_percentage_error: 87.2423\n",
      "Epoch 32/100\n",
      "\u001b[1m2/2\u001b[0m \u001b[32m━━━━━━━━━━━━━━━━━━━━\u001b[0m\u001b[37m\u001b[0m \u001b[1m0s\u001b[0m 22ms/step - loss: 0.7368 - mean_absolute_percentage_error: 93.0585 - val_loss: 1.3564 - val_mean_absolute_percentage_error: 87.0623\n",
      "Epoch 33/100\n",
      "\u001b[1m2/2\u001b[0m \u001b[32m━━━━━━━━━━━━━━━━━━━━\u001b[0m\u001b[37m\u001b[0m \u001b[1m0s\u001b[0m 23ms/step - loss: 0.7357 - mean_absolute_percentage_error: 93.0774 - val_loss: 1.3535 - val_mean_absolute_percentage_error: 86.8830\n",
      "Epoch 34/100\n",
      "\u001b[1m2/2\u001b[0m \u001b[32m━━━━━━━━━━━━━━━━━━━━\u001b[0m\u001b[37m\u001b[0m \u001b[1m0s\u001b[0m 30ms/step - loss: 0.7345 - mean_absolute_percentage_error: 93.0967 - val_loss: 1.3506 - val_mean_absolute_percentage_error: 86.7042\n",
      "Epoch 35/100\n",
      "\u001b[1m2/2\u001b[0m \u001b[32m━━━━━━━━━━━━━━━━━━━━\u001b[0m\u001b[37m\u001b[0m \u001b[1m0s\u001b[0m 27ms/step - loss: 0.7334 - mean_absolute_percentage_error: 93.1163 - val_loss: 1.3477 - val_mean_absolute_percentage_error: 86.5261\n",
      "Epoch 36/100\n",
      "\u001b[1m2/2\u001b[0m \u001b[32m━━━━━━━━━━━━━━━━━━━━\u001b[0m\u001b[37m\u001b[0m \u001b[1m0s\u001b[0m 22ms/step - loss: 0.7322 - mean_absolute_percentage_error: 93.1363 - val_loss: 1.3447 - val_mean_absolute_percentage_error: 86.3485\n",
      "Epoch 37/100\n",
      "\u001b[1m2/2\u001b[0m \u001b[32m━━━━━━━━━━━━━━━━━━━━\u001b[0m\u001b[37m\u001b[0m \u001b[1m0s\u001b[0m 18ms/step - loss: 0.7310 - mean_absolute_percentage_error: 93.1567 - val_loss: 1.3418 - val_mean_absolute_percentage_error: 86.1715\n",
      "Epoch 38/100\n",
      "\u001b[1m2/2\u001b[0m \u001b[32m━━━━━━━━━━━━━━━━━━━━\u001b[0m\u001b[37m\u001b[0m \u001b[1m0s\u001b[0m 19ms/step - loss: 0.7299 - mean_absolute_percentage_error: 93.1773 - val_loss: 1.3389 - val_mean_absolute_percentage_error: 85.9951\n",
      "Epoch 39/100\n",
      "\u001b[1m2/2\u001b[0m \u001b[32m━━━━━━━━━━━━━━━━━━━━\u001b[0m\u001b[37m\u001b[0m \u001b[1m0s\u001b[0m 20ms/step - loss: 0.7287 - mean_absolute_percentage_error: 93.1983 - val_loss: 1.3359 - val_mean_absolute_percentage_error: 85.8193\n",
      "Epoch 40/100\n",
      "\u001b[1m2/2\u001b[0m \u001b[32m━━━━━━━━━━━━━━━━━━━━\u001b[0m\u001b[37m\u001b[0m \u001b[1m0s\u001b[0m 21ms/step - loss: 0.7276 - mean_absolute_percentage_error: 93.2233 - val_loss: 1.3330 - val_mean_absolute_percentage_error: 85.6441\n",
      "Epoch 41/100\n",
      "\u001b[1m2/2\u001b[0m \u001b[32m━━━━━━━━━━━━━━━━━━━━\u001b[0m\u001b[37m\u001b[0m \u001b[1m0s\u001b[0m 23ms/step - loss: 0.7264 - mean_absolute_percentage_error: 93.2540 - val_loss: 1.3301 - val_mean_absolute_percentage_error: 85.4695\n",
      "Epoch 42/100\n",
      "\u001b[1m2/2\u001b[0m \u001b[32m━━━━━━━━━━━━━━━━━━━━\u001b[0m\u001b[37m\u001b[0m \u001b[1m0s\u001b[0m 18ms/step - loss: 0.7252 - mean_absolute_percentage_error: 93.2927 - val_loss: 1.3271 - val_mean_absolute_percentage_error: 85.2954\n",
      "Epoch 43/100\n",
      "\u001b[1m2/2\u001b[0m \u001b[32m━━━━━━━━━━━━━━━━━━━━\u001b[0m\u001b[37m\u001b[0m \u001b[1m0s\u001b[0m 21ms/step - loss: 0.7241 - mean_absolute_percentage_error: 93.3358 - val_loss: 1.3242 - val_mean_absolute_percentage_error: 85.2242\n",
      "Epoch 44/100\n",
      "\u001b[1m2/2\u001b[0m \u001b[32m━━━━━━━━━━━━━━━━━━━━\u001b[0m\u001b[37m\u001b[0m \u001b[1m0s\u001b[0m 16ms/step - loss: 0.7229 - mean_absolute_percentage_error: 93.3792 - val_loss: 1.3212 - val_mean_absolute_percentage_error: 85.1756\n",
      "Epoch 45/100\n",
      "\u001b[1m2/2\u001b[0m \u001b[32m━━━━━━━━━━━━━━━━━━━━\u001b[0m\u001b[37m\u001b[0m \u001b[1m0s\u001b[0m 17ms/step - loss: 0.7217 - mean_absolute_percentage_error: 93.4230 - val_loss: 1.3183 - val_mean_absolute_percentage_error: 85.1278\n",
      "Epoch 46/100\n",
      "\u001b[1m2/2\u001b[0m \u001b[32m━━━━━━━━━━━━━━━━━━━━\u001b[0m\u001b[37m\u001b[0m \u001b[1m0s\u001b[0m 20ms/step - loss: 0.7206 - mean_absolute_percentage_error: 93.4674 - val_loss: 1.3153 - val_mean_absolute_percentage_error: 85.0805\n",
      "Epoch 47/100\n",
      "\u001b[1m2/2\u001b[0m \u001b[32m━━━━━━━━━━━━━━━━━━━━\u001b[0m\u001b[37m\u001b[0m \u001b[1m0s\u001b[0m 16ms/step - loss: 0.7194 - mean_absolute_percentage_error: 93.5153 - val_loss: 1.3124 - val_mean_absolute_percentage_error: 85.0339\n",
      "Epoch 48/100\n",
      "\u001b[1m2/2\u001b[0m \u001b[32m━━━━━━━━━━━━━━━━━━━━\u001b[0m\u001b[37m\u001b[0m \u001b[1m0s\u001b[0m 21ms/step - loss: 0.7182 - mean_absolute_percentage_error: 93.5634 - val_loss: 1.3094 - val_mean_absolute_percentage_error: 84.9879\n",
      "Epoch 49/100\n",
      "\u001b[1m2/2\u001b[0m \u001b[32m━━━━━━━━━━━━━━━━━━━━\u001b[0m\u001b[37m\u001b[0m \u001b[1m0s\u001b[0m 17ms/step - loss: 0.7171 - mean_absolute_percentage_error: 93.6118 - val_loss: 1.3065 - val_mean_absolute_percentage_error: 84.9426\n",
      "Epoch 50/100\n",
      "\u001b[1m2/2\u001b[0m \u001b[32m━━━━━━━━━━━━━━━━━━━━\u001b[0m\u001b[37m\u001b[0m \u001b[1m0s\u001b[0m 17ms/step - loss: 0.7159 - mean_absolute_percentage_error: 93.6604 - val_loss: 1.3035 - val_mean_absolute_percentage_error: 84.8979\n",
      "Epoch 51/100\n",
      "\u001b[1m2/2\u001b[0m \u001b[32m━━━━━━━━━━━━━━━━━━━━\u001b[0m\u001b[37m\u001b[0m \u001b[1m0s\u001b[0m 17ms/step - loss: 0.7147 - mean_absolute_percentage_error: 93.7092 - val_loss: 1.3006 - val_mean_absolute_percentage_error: 84.8538\n",
      "Epoch 52/100\n",
      "\u001b[1m2/2\u001b[0m \u001b[32m━━━━━━━━━━━━━━━━━━━━\u001b[0m\u001b[37m\u001b[0m \u001b[1m0s\u001b[0m 18ms/step - loss: 0.7135 - mean_absolute_percentage_error: 93.7583 - val_loss: 1.2976 - val_mean_absolute_percentage_error: 84.8103\n",
      "Epoch 53/100\n",
      "\u001b[1m2/2\u001b[0m \u001b[32m━━━━━━━━━━━━━━━━━━━━\u001b[0m\u001b[37m\u001b[0m \u001b[1m0s\u001b[0m 21ms/step - loss: 0.7124 - mean_absolute_percentage_error: 93.8075 - val_loss: 1.2946 - val_mean_absolute_percentage_error: 84.7674\n",
      "Epoch 54/100\n",
      "\u001b[1m2/2\u001b[0m \u001b[32m━━━━━━━━━━━━━━━━━━━━\u001b[0m\u001b[37m\u001b[0m \u001b[1m0s\u001b[0m 19ms/step - loss: 0.7112 - mean_absolute_percentage_error: 93.8569 - val_loss: 1.2917 - val_mean_absolute_percentage_error: 84.7251\n",
      "Epoch 55/100\n",
      "\u001b[1m2/2\u001b[0m \u001b[32m━━━━━━━━━━━━━━━━━━━━\u001b[0m\u001b[37m\u001b[0m \u001b[1m0s\u001b[0m 31ms/step - loss: 0.7100 - mean_absolute_percentage_error: 93.9065 - val_loss: 1.2887 - val_mean_absolute_percentage_error: 84.6834\n",
      "Epoch 56/100\n",
      "\u001b[1m2/2\u001b[0m \u001b[32m━━━━━━━━━━━━━━━━━━━━\u001b[0m\u001b[37m\u001b[0m \u001b[1m0s\u001b[0m 22ms/step - loss: 0.7089 - mean_absolute_percentage_error: 93.9563 - val_loss: 1.2857 - val_mean_absolute_percentage_error: 84.6423\n",
      "Epoch 57/100\n",
      "\u001b[1m2/2\u001b[0m \u001b[32m━━━━━━━━━━━━━━━━━━━━\u001b[0m\u001b[37m\u001b[0m \u001b[1m0s\u001b[0m 19ms/step - loss: 0.7077 - mean_absolute_percentage_error: 94.0072 - val_loss: 1.2828 - val_mean_absolute_percentage_error: 84.6017\n",
      "Epoch 58/100\n",
      "\u001b[1m2/2\u001b[0m \u001b[32m━━━━━━━━━━━━━━━━━━━━\u001b[0m\u001b[37m\u001b[0m \u001b[1m0s\u001b[0m 19ms/step - loss: 0.7065 - mean_absolute_percentage_error: 94.0638 - val_loss: 1.2798 - val_mean_absolute_percentage_error: 84.5617\n",
      "Epoch 59/100\n",
      "\u001b[1m2/2\u001b[0m \u001b[32m━━━━━━━━━━━━━━━━━━━━\u001b[0m\u001b[37m\u001b[0m \u001b[1m0s\u001b[0m 29ms/step - loss: 0.7054 - mean_absolute_percentage_error: 94.1205 - val_loss: 1.2768 - val_mean_absolute_percentage_error: 84.5223\n",
      "Epoch 60/100\n",
      "\u001b[1m2/2\u001b[0m \u001b[32m━━━━━━━━━━━━━━━━━━━━\u001b[0m\u001b[37m\u001b[0m \u001b[1m0s\u001b[0m 22ms/step - loss: 0.7042 - mean_absolute_percentage_error: 94.1773 - val_loss: 1.2739 - val_mean_absolute_percentage_error: 84.4834\n",
      "Epoch 61/100\n",
      "\u001b[1m2/2\u001b[0m \u001b[32m━━━━━━━━━━━━━━━━━━━━\u001b[0m\u001b[37m\u001b[0m \u001b[1m0s\u001b[0m 17ms/step - loss: 0.7030 - mean_absolute_percentage_error: 94.2342 - val_loss: 1.2709 - val_mean_absolute_percentage_error: 84.4450\n",
      "Epoch 62/100\n",
      "\u001b[1m2/2\u001b[0m \u001b[32m━━━━━━━━━━━━━━━━━━━━\u001b[0m\u001b[37m\u001b[0m \u001b[1m0s\u001b[0m 17ms/step - loss: 0.7019 - mean_absolute_percentage_error: 94.2911 - val_loss: 1.2679 - val_mean_absolute_percentage_error: 84.4071\n",
      "Epoch 63/100\n",
      "\u001b[1m2/2\u001b[0m \u001b[32m━━━━━━━━━━━━━━━━━━━━\u001b[0m\u001b[37m\u001b[0m \u001b[1m0s\u001b[0m 17ms/step - loss: 0.7007 - mean_absolute_percentage_error: 94.3480 - val_loss: 1.2649 - val_mean_absolute_percentage_error: 84.3697\n",
      "Epoch 64/100\n",
      "\u001b[1m2/2\u001b[0m \u001b[32m━━━━━━━━━━━━━━━━━━━━\u001b[0m\u001b[37m\u001b[0m \u001b[1m0s\u001b[0m 23ms/step - loss: 0.6995 - mean_absolute_percentage_error: 94.4220 - val_loss: 1.2620 - val_mean_absolute_percentage_error: 84.3329\n",
      "Epoch 65/100\n",
      "\u001b[1m2/2\u001b[0m \u001b[32m━━━━━━━━━━━━━━━━━━━━\u001b[0m\u001b[37m\u001b[0m \u001b[1m0s\u001b[0m 20ms/step - loss: 0.6984 - mean_absolute_percentage_error: 94.5038 - val_loss: 1.2590 - val_mean_absolute_percentage_error: 84.2965\n",
      "Epoch 66/100\n",
      "\u001b[1m2/2\u001b[0m \u001b[32m━━━━━━━━━━━━━━━━━━━━\u001b[0m\u001b[37m\u001b[0m \u001b[1m0s\u001b[0m 19ms/step - loss: 0.6972 - mean_absolute_percentage_error: 94.5856 - val_loss: 1.2560 - val_mean_absolute_percentage_error: 84.2606\n",
      "Epoch 67/100\n",
      "\u001b[1m2/2\u001b[0m \u001b[32m━━━━━━━━━━━━━━━━━━━━\u001b[0m\u001b[37m\u001b[0m \u001b[1m0s\u001b[0m 19ms/step - loss: 0.6960 - mean_absolute_percentage_error: 94.6674 - val_loss: 1.2530 - val_mean_absolute_percentage_error: 84.2251\n",
      "Epoch 68/100\n",
      "\u001b[1m2/2\u001b[0m \u001b[32m━━━━━━━━━━━━━━━━━━━━\u001b[0m\u001b[37m\u001b[0m \u001b[1m0s\u001b[0m 20ms/step - loss: 0.6949 - mean_absolute_percentage_error: 94.7509 - val_loss: 1.2500 - val_mean_absolute_percentage_error: 84.1900\n",
      "Epoch 69/100\n",
      "\u001b[1m2/2\u001b[0m \u001b[32m━━━━━━━━━━━━━━━━━━━━\u001b[0m\u001b[37m\u001b[0m \u001b[1m0s\u001b[0m 30ms/step - loss: 0.6937 - mean_absolute_percentage_error: 94.8365 - val_loss: 1.2471 - val_mean_absolute_percentage_error: 84.1554\n",
      "Epoch 70/100\n",
      "\u001b[1m2/2\u001b[0m \u001b[32m━━━━━━━━━━━━━━━━━━━━\u001b[0m\u001b[37m\u001b[0m \u001b[1m0s\u001b[0m 19ms/step - loss: 0.6926 - mean_absolute_percentage_error: 94.9221 - val_loss: 1.2441 - val_mean_absolute_percentage_error: 84.1212\n",
      "Epoch 71/100\n",
      "\u001b[1m2/2\u001b[0m \u001b[32m━━━━━━━━━━━━━━━━━━━━\u001b[0m\u001b[37m\u001b[0m \u001b[1m0s\u001b[0m 21ms/step - loss: 0.6914 - mean_absolute_percentage_error: 95.0075 - val_loss: 1.2411 - val_mean_absolute_percentage_error: 84.0874\n",
      "Epoch 72/100\n",
      "\u001b[1m2/2\u001b[0m \u001b[32m━━━━━━━━━━━━━━━━━━━━\u001b[0m\u001b[37m\u001b[0m \u001b[1m0s\u001b[0m 19ms/step - loss: 0.6902 - mean_absolute_percentage_error: 95.1074 - val_loss: 1.2381 - val_mean_absolute_percentage_error: 84.0539\n",
      "Epoch 73/100\n",
      "\u001b[1m2/2\u001b[0m \u001b[32m━━━━━━━━━━━━━━━━━━━━\u001b[0m\u001b[37m\u001b[0m \u001b[1m0s\u001b[0m 25ms/step - loss: 0.6891 - mean_absolute_percentage_error: 95.2077 - val_loss: 1.2351 - val_mean_absolute_percentage_error: 84.0208\n",
      "Epoch 74/100\n",
      "\u001b[1m2/2\u001b[0m \u001b[32m━━━━━━━━━━━━━━━━━━━━\u001b[0m\u001b[37m\u001b[0m \u001b[1m0s\u001b[0m 20ms/step - loss: 0.6879 - mean_absolute_percentage_error: 95.3078 - val_loss: 1.2322 - val_mean_absolute_percentage_error: 83.9881\n",
      "Epoch 75/100\n",
      "\u001b[1m2/2\u001b[0m \u001b[32m━━━━━━━━━━━━━━━━━━━━\u001b[0m\u001b[37m\u001b[0m \u001b[1m0s\u001b[0m 19ms/step - loss: 0.6867 - mean_absolute_percentage_error: 95.4077 - val_loss: 1.2292 - val_mean_absolute_percentage_error: 83.9557\n",
      "Epoch 76/100\n",
      "\u001b[1m2/2\u001b[0m \u001b[32m━━━━━━━━━━━━━━━━━━━━\u001b[0m\u001b[37m\u001b[0m \u001b[1m0s\u001b[0m 19ms/step - loss: 0.6856 - mean_absolute_percentage_error: 95.5074 - val_loss: 1.2262 - val_mean_absolute_percentage_error: 83.9236\n",
      "Epoch 77/100\n",
      "\u001b[1m2/2\u001b[0m \u001b[32m━━━━━━━━━━━━━━━━━━━━\u001b[0m\u001b[37m\u001b[0m \u001b[1m0s\u001b[0m 22ms/step - loss: 0.6844 - mean_absolute_percentage_error: 95.6069 - val_loss: 1.2232 - val_mean_absolute_percentage_error: 83.8917\n",
      "Epoch 78/100\n",
      "\u001b[1m2/2\u001b[0m \u001b[32m━━━━━━━━━━━━━━━━━━━━\u001b[0m\u001b[37m\u001b[0m \u001b[1m0s\u001b[0m 25ms/step - loss: 0.6833 - mean_absolute_percentage_error: 95.7061 - val_loss: 1.2202 - val_mean_absolute_percentage_error: 83.8602\n",
      "Epoch 79/100\n",
      "\u001b[1m2/2\u001b[0m \u001b[32m━━━━━━━━━━━━━━━━━━━━\u001b[0m\u001b[37m\u001b[0m \u001b[1m0s\u001b[0m 21ms/step - loss: 0.6821 - mean_absolute_percentage_error: 95.8050 - val_loss: 1.2173 - val_mean_absolute_percentage_error: 83.8289\n",
      "Epoch 80/100\n",
      "\u001b[1m2/2\u001b[0m \u001b[32m━━━━━━━━━━━━━━━━━━━━\u001b[0m\u001b[37m\u001b[0m \u001b[1m0s\u001b[0m 18ms/step - loss: 0.6810 - mean_absolute_percentage_error: 95.9037 - val_loss: 1.2143 - val_mean_absolute_percentage_error: 83.7979\n",
      "Epoch 81/100\n",
      "\u001b[1m2/2\u001b[0m \u001b[32m━━━━━━━━━━━━━━━━━━━━\u001b[0m\u001b[37m\u001b[0m \u001b[1m0s\u001b[0m 18ms/step - loss: 0.6798 - mean_absolute_percentage_error: 96.0055 - val_loss: 1.2113 - val_mean_absolute_percentage_error: 83.7671\n",
      "Epoch 82/100\n",
      "\u001b[1m2/2\u001b[0m \u001b[32m━━━━━━━━━━━━━━━━━━━━\u001b[0m\u001b[37m\u001b[0m \u001b[1m0s\u001b[0m 18ms/step - loss: 0.6786 - mean_absolute_percentage_error: 96.1101 - val_loss: 1.2083 - val_mean_absolute_percentage_error: 83.7365\n",
      "Epoch 83/100\n",
      "\u001b[1m2/2\u001b[0m \u001b[32m━━━━━━━━━━━━━━━━━━━━\u001b[0m\u001b[37m\u001b[0m \u001b[1m0s\u001b[0m 18ms/step - loss: 0.6775 - mean_absolute_percentage_error: 96.2212 - val_loss: 1.2053 - val_mean_absolute_percentage_error: 83.7061\n",
      "Epoch 84/100\n",
      "\u001b[1m2/2\u001b[0m \u001b[32m━━━━━━━━━━━━━━━━━━━━\u001b[0m\u001b[37m\u001b[0m \u001b[1m0s\u001b[0m 18ms/step - loss: 0.6763 - mean_absolute_percentage_error: 96.3384 - val_loss: 1.2024 - val_mean_absolute_percentage_error: 83.6759\n",
      "Epoch 85/100\n",
      "\u001b[1m2/2\u001b[0m \u001b[32m━━━━━━━━━━━━━━━━━━━━\u001b[0m\u001b[37m\u001b[0m \u001b[1m0s\u001b[0m 18ms/step - loss: 0.6752 - mean_absolute_percentage_error: 96.4551 - val_loss: 1.1994 - val_mean_absolute_percentage_error: 83.6459\n",
      "Epoch 86/100\n",
      "\u001b[1m2/2\u001b[0m \u001b[32m━━━━━━━━━━━━━━━━━━━━\u001b[0m\u001b[37m\u001b[0m \u001b[1m0s\u001b[0m 17ms/step - loss: 0.6740 - mean_absolute_percentage_error: 96.5715 - val_loss: 1.1964 - val_mean_absolute_percentage_error: 83.6160\n",
      "Epoch 87/100\n",
      "\u001b[1m2/2\u001b[0m \u001b[32m━━━━━━━━━━━━━━━━━━━━\u001b[0m\u001b[37m\u001b[0m \u001b[1m0s\u001b[0m 22ms/step - loss: 0.6729 - mean_absolute_percentage_error: 96.6873 - val_loss: 1.1934 - val_mean_absolute_percentage_error: 83.5862\n",
      "Epoch 88/100\n",
      "\u001b[1m2/2\u001b[0m \u001b[32m━━━━━━━━━━━━━━━━━━━━\u001b[0m\u001b[37m\u001b[0m \u001b[1m0s\u001b[0m 16ms/step - loss: 0.6717 - mean_absolute_percentage_error: 96.8028 - val_loss: 1.1904 - val_mean_absolute_percentage_error: 83.5565\n",
      "Epoch 89/100\n",
      "\u001b[1m2/2\u001b[0m \u001b[32m━━━━━━━━━━━━━━━━━━━━\u001b[0m\u001b[37m\u001b[0m \u001b[1m0s\u001b[0m 25ms/step - loss: 0.6706 - mean_absolute_percentage_error: 96.9177 - val_loss: 1.1875 - val_mean_absolute_percentage_error: 83.5270\n",
      "Epoch 90/100\n",
      "\u001b[1m2/2\u001b[0m \u001b[32m━━━━━━━━━━━━━━━━━━━━\u001b[0m\u001b[37m\u001b[0m \u001b[1m0s\u001b[0m 17ms/step - loss: 0.6694 - mean_absolute_percentage_error: 97.0322 - val_loss: 1.1845 - val_mean_absolute_percentage_error: 83.4976\n",
      "Epoch 91/100\n",
      "\u001b[1m2/2\u001b[0m \u001b[32m━━━━━━━━━━━━━━━━━━━━\u001b[0m\u001b[37m\u001b[0m \u001b[1m0s\u001b[0m 19ms/step - loss: 0.6683 - mean_absolute_percentage_error: 97.1462 - val_loss: 1.1815 - val_mean_absolute_percentage_error: 83.4682\n",
      "Epoch 92/100\n",
      "\u001b[1m2/2\u001b[0m \u001b[32m━━━━━━━━━━━━━━━━━━━━\u001b[0m\u001b[37m\u001b[0m \u001b[1m0s\u001b[0m 17ms/step - loss: 0.6671 - mean_absolute_percentage_error: 97.2597 - val_loss: 1.1785 - val_mean_absolute_percentage_error: 83.4389\n",
      "Epoch 93/100\n",
      "\u001b[1m2/2\u001b[0m \u001b[32m━━━━━━━━━━━━━━━━━━━━\u001b[0m\u001b[37m\u001b[0m \u001b[1m0s\u001b[0m 17ms/step - loss: 0.6660 - mean_absolute_percentage_error: 97.3726 - val_loss: 1.1755 - val_mean_absolute_percentage_error: 83.4096\n",
      "Epoch 94/100\n",
      "\u001b[1m2/2\u001b[0m \u001b[32m━━━━━━━━━━━━━━━━━━━━\u001b[0m\u001b[37m\u001b[0m \u001b[1m0s\u001b[0m 22ms/step - loss: 0.6648 - mean_absolute_percentage_error: 97.4850 - val_loss: 1.1726 - val_mean_absolute_percentage_error: 83.3804\n",
      "Epoch 95/100\n",
      "\u001b[1m2/2\u001b[0m \u001b[32m━━━━━━━━━━━━━━━━━━━━\u001b[0m\u001b[37m\u001b[0m \u001b[1m0s\u001b[0m 22ms/step - loss: 0.6637 - mean_absolute_percentage_error: 97.5969 - val_loss: 1.1696 - val_mean_absolute_percentage_error: 83.3511\n",
      "Epoch 96/100\n",
      "\u001b[1m2/2\u001b[0m \u001b[32m━━━━━━━━━━━━━━━━━━━━\u001b[0m\u001b[37m\u001b[0m \u001b[1m0s\u001b[0m 18ms/step - loss: 0.6626 - mean_absolute_percentage_error: 97.7082 - val_loss: 1.1666 - val_mean_absolute_percentage_error: 83.3219\n",
      "Epoch 97/100\n",
      "\u001b[1m2/2\u001b[0m \u001b[32m━━━━━━━━━━━━━━━━━━━━\u001b[0m\u001b[37m\u001b[0m \u001b[1m0s\u001b[0m 17ms/step - loss: 0.6614 - mean_absolute_percentage_error: 97.8189 - val_loss: 1.1637 - val_mean_absolute_percentage_error: 83.2927\n",
      "Epoch 98/100\n",
      "\u001b[1m2/2\u001b[0m \u001b[32m━━━━━━━━━━━━━━━━━━━━\u001b[0m\u001b[37m\u001b[0m \u001b[1m0s\u001b[0m 16ms/step - loss: 0.6603 - mean_absolute_percentage_error: 97.9291 - val_loss: 1.1607 - val_mean_absolute_percentage_error: 83.2635\n",
      "Epoch 99/100\n",
      "\u001b[1m2/2\u001b[0m \u001b[32m━━━━━━━━━━━━━━━━━━━━\u001b[0m\u001b[37m\u001b[0m \u001b[1m0s\u001b[0m 24ms/step - loss: 0.6591 - mean_absolute_percentage_error: 98.0387 - val_loss: 1.1577 - val_mean_absolute_percentage_error: 83.2343\n",
      "Epoch 100/100\n",
      "\u001b[1m2/2\u001b[0m \u001b[32m━━━━━━━━━━━━━━━━━━━━\u001b[0m\u001b[37m\u001b[0m \u001b[1m0s\u001b[0m 16ms/step - loss: 0.6580 - mean_absolute_percentage_error: 98.1477 - val_loss: 1.1547 - val_mean_absolute_percentage_error: 83.2050\n"
     ]
    },
    {
     "data": {
      "text/plain": [
       "<keras.src.callbacks.history.History at 0x7f6169367e10>"
      ]
     },
     "execution_count": 214,
     "metadata": {},
     "output_type": "execute_result"
    }
   ],
   "source": [
    "model.fit(\n",
    "    x_train,\n",
    "    y_train,\n",
    "    validation_data=(x_val, y_val),\n",
    "    batch_size=ModelConfig.batch_size,\n",
    "    epochs=ModelConfig.epochs\n",
    ")"
   ]
  },
  {
   "cell_type": "markdown",
   "id": "f15c2e8d-fb7d-432f-8dd9-2535c14a1688",
   "metadata": {},
   "source": [
    "# Качество модели"
   ]
  },
  {
   "cell_type": "markdown",
   "id": "50c8f54b-b7f1-42c3-a743-b8b6e432edad",
   "metadata": {},
   "source": [
    "возьмем предпоследние 6 месяцев"
   ]
  },
  {
   "cell_type": "code",
   "execution_count": 215,
   "id": "447392dc-e559-4fd2-b208-05a1c445baa9",
   "metadata": {},
   "outputs": [
    {
     "name": "stdout",
     "output_type": "stream",
     "text": [
      "\u001b[1m1/1\u001b[0m \u001b[32m━━━━━━━━━━━━━━━━━━━━\u001b[0m\u001b[37m\u001b[0m \u001b[1m0s\u001b[0m 15ms/step - loss: 0.8658 - mean_absolute_percentage_error: 87.5163\n",
      "test loss: 0.87, test MAPE: 87.52\n"
     ]
    }
   ],
   "source": [
    "results = model.evaluate(x_test, y_test, batch_size=128)\n",
    "\n",
    "print(f'test loss: {results[0]:0.2f}, test MAPE: {results[1]:0.2f}')"
   ]
  },
  {
   "cell_type": "code",
   "execution_count": 216,
   "id": "8859a0cd-6d32-48b5-9371-0865aac8f985",
   "metadata": {},
   "outputs": [
    {
     "data": {
      "text/plain": [
       "array([-0.0826886 , -0.23777918, -0.41502556, -0.61442774, -0.83598572,\n",
       "       -1.0132321 ])"
      ]
     },
     "execution_count": 216,
     "metadata": {},
     "output_type": "execute_result"
    }
   ],
   "source": [
    "pred_last_x = df.iloc[6:12].z_goal.values\n",
    "pred_last_x"
   ]
  },
  {
   "cell_type": "markdown",
   "id": "87775cff-b009-4764-afd2-f2072809cc67",
   "metadata": {},
   "source": [
    "тогда предсказать надо будет"
   ]
  },
  {
   "cell_type": "code",
   "execution_count": 217,
   "id": "d086cf77-cd12-4bf5-b454-2f5a148421b9",
   "metadata": {},
   "outputs": [
    {
     "data": {
      "text/html": [
       "<div>\n",
       "<style scoped>\n",
       "    .dataframe tbody tr th:only-of-type {\n",
       "        vertical-align: middle;\n",
       "    }\n",
       "\n",
       "    .dataframe tbody tr th {\n",
       "        vertical-align: top;\n",
       "    }\n",
       "\n",
       "    .dataframe thead th {\n",
       "        text-align: right;\n",
       "    }\n",
       "</style>\n",
       "<table border=\"1\" class=\"dataframe\">\n",
       "  <thead>\n",
       "    <tr style=\"text-align: right;\">\n",
       "      <th></th>\n",
       "      <th>date</th>\n",
       "      <th>goal</th>\n",
       "    </tr>\n",
       "  </thead>\n",
       "  <tbody>\n",
       "    <tr>\n",
       "      <th>299</th>\n",
       "      <td>2024-01-31</td>\n",
       "      <td>107.4</td>\n",
       "    </tr>\n",
       "    <tr>\n",
       "      <th>298</th>\n",
       "      <td>2023-12-31</td>\n",
       "      <td>107.4</td>\n",
       "    </tr>\n",
       "    <tr>\n",
       "      <th>297</th>\n",
       "      <td>2023-11-30</td>\n",
       "      <td>107.5</td>\n",
       "    </tr>\n",
       "  </tbody>\n",
       "</table>\n",
       "</div>"
      ],
      "text/plain": [
       "           date   goal\n",
       "299  2024-01-31  107.4\n",
       "298  2023-12-31  107.4\n",
       "297  2023-11-30  107.5"
      ]
     },
     "execution_count": 217,
     "metadata": {},
     "output_type": "execute_result"
    }
   ],
   "source": [
    "df[['date', 'goal']].iloc[3:6]"
   ]
  },
  {
   "cell_type": "code",
   "execution_count": 218,
   "id": "a3e31ace-b2f5-4549-bb2b-7055b72a3ccd",
   "metadata": {},
   "outputs": [
    {
     "name": "stdout",
     "output_type": "stream",
     "text": [
      "\u001b[1m1/1\u001b[0m \u001b[32m━━━━━━━━━━━━━━━━━━━━\u001b[0m\u001b[37m\u001b[0m \u001b[1m0s\u001b[0m 89ms/step\n"
     ]
    },
    {
     "data": {
      "text/plain": [
       "array([[105.77394, 105.64407, 107.02989]], dtype=float32)"
      ]
     },
     "execution_count": 218,
     "metadata": {},
     "output_type": "execute_result"
    }
   ],
   "source": [
    "x = np.array([pred_last_x])\n",
    "x = np.reshape(x, (x.shape[0], ModelConfig.lookback, 1))\n",
    "\n",
    "z_transformer.inverse_transform(model.predict(x))"
   ]
  }
 ],
 "metadata": {
  "kernelspec": {
   "display_name": "Python 3 (ipykernel)",
   "language": "python",
   "name": "python3"
  },
  "language_info": {
   "codemirror_mode": {
    "name": "ipython",
    "version": 3
   },
   "file_extension": ".py",
   "mimetype": "text/x-python",
   "name": "python",
   "nbconvert_exporter": "python",
   "pygments_lexer": "ipython3",
   "version": "3.11.8"
  }
 },
 "nbformat": 4,
 "nbformat_minor": 5
}
