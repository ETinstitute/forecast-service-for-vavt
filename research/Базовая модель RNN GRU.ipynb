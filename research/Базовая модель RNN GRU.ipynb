{
 "cells": [
  {
   "cell_type": "markdown",
   "id": "b0cf98b0-1b13-4b94-9859-43189ef946a4",
   "metadata": {},
   "source": [
    "# Импорт данных\n",
    "\n",
    "На примере прогноза ИПЦ в процентах к соответствующему периоду предыдущего года"
   ]
  },
  {
   "cell_type": "code",
   "execution_count": 1,
   "id": "5f258f39-474a-4d96-9c4b-d946638d42cb",
   "metadata": {},
   "outputs": [],
   "source": [
    "import pandas as pd\n",
    "from datetime import date"
   ]
  },
  {
   "cell_type": "code",
   "execution_count": 67,
   "id": "73a0590f-fca8-42b8-98c8-2a9345ba9b22",
   "metadata": {},
   "outputs": [
    {
     "data": {
      "text/html": [
       "<div>\n",
       "<style scoped>\n",
       "    .dataframe tbody tr th:only-of-type {\n",
       "        vertical-align: middle;\n",
       "    }\n",
       "\n",
       "    .dataframe tbody tr th {\n",
       "        vertical-align: top;\n",
       "    }\n",
       "\n",
       "    .dataframe thead th {\n",
       "        text-align: right;\n",
       "    }\n",
       "</style>\n",
       "<table border=\"1\" class=\"dataframe\">\n",
       "  <thead>\n",
       "    <tr style=\"text-align: right;\">\n",
       "      <th></th>\n",
       "      <th>date</th>\n",
       "      <th>goal</th>\n",
       "    </tr>\n",
       "  </thead>\n",
       "  <tbody>\n",
       "    <tr>\n",
       "      <th>302</th>\n",
       "      <td>2024-04-30</td>\n",
       "      <td>107.8</td>\n",
       "    </tr>\n",
       "    <tr>\n",
       "      <th>301</th>\n",
       "      <td>2024-03-31</td>\n",
       "      <td>107.7</td>\n",
       "    </tr>\n",
       "    <tr>\n",
       "      <th>300</th>\n",
       "      <td>2024-02-29</td>\n",
       "      <td>107.7</td>\n",
       "    </tr>\n",
       "  </tbody>\n",
       "</table>\n",
       "</div>"
      ],
      "text/plain": [
       "           date   goal\n",
       "302  2024-04-30  107.8\n",
       "301  2024-03-31  107.7\n",
       "300  2024-02-29  107.7"
      ]
     },
     "execution_count": 67,
     "metadata": {},
     "output_type": "execute_result"
    }
   ],
   "source": [
    "df = pd.read_csv('Индекс потребительских цен, Россия — Диаграмма.csv', sep=';')\n",
    "\n",
    "df.columns = ['uuid', 'date', 'goal']\n",
    "df.drop(columns=['uuid'], inplace=True)\n",
    "df.date = pd.to_datetime(df.date, format='%d.%m.%Y').dt.date\n",
    "df = df.sort_values(by='date', ascending=False)\n",
    "\n",
    "df.head(3)"
   ]
  },
  {
   "cell_type": "markdown",
   "id": "b96a2fbe-8f2c-4689-851d-18f03f929b1e",
   "metadata": {},
   "source": [
    "# Предобработка\n",
    "\n",
    "Оставим только значения с 2014 года, т.к. до этого времени у ЦБ были другой таргет, санкций на РФ было меньше, экономика была другой и прочее"
   ]
  },
  {
   "cell_type": "code",
   "execution_count": 68,
   "id": "af1cf4ae-069f-4b3c-860b-998ef086b0b9",
   "metadata": {},
   "outputs": [],
   "source": [
    "df = df[df.date > date(year=2015, month=1, day=1)]"
   ]
  },
  {
   "cell_type": "markdown",
   "id": "ff74f411-13f7-4a69-8ad4-e5de292fcff6",
   "metadata": {},
   "source": [
    "Приведем к значениям от 0 до 1, чтобы улучшить качество нейросети. Выберем для этого один из двух нормализаторов"
   ]
  },
  {
   "cell_type": "code",
   "execution_count": 69,
   "id": "7c617e84-4624-4f96-af32-fe1bfa88580a",
   "metadata": {},
   "outputs": [],
   "source": [
    "from sklearn.preprocessing import StandardScaler"
   ]
  },
  {
   "cell_type": "code",
   "execution_count": 70,
   "id": "0d14aec1-3373-474c-b29c-132301bd3c57",
   "metadata": {},
   "outputs": [
    {
     "data": {
      "text/html": [
       "<div>\n",
       "<style scoped>\n",
       "    .dataframe tbody tr th:only-of-type {\n",
       "        vertical-align: middle;\n",
       "    }\n",
       "\n",
       "    .dataframe tbody tr th {\n",
       "        vertical-align: top;\n",
       "    }\n",
       "\n",
       "    .dataframe thead th {\n",
       "        text-align: right;\n",
       "    }\n",
       "</style>\n",
       "<table border=\"1\" class=\"dataframe\">\n",
       "  <thead>\n",
       "    <tr style=\"text-align: right;\">\n",
       "      <th></th>\n",
       "      <th>date</th>\n",
       "      <th>goal</th>\n",
       "      <th>z_goal</th>\n",
       "    </tr>\n",
       "  </thead>\n",
       "  <tbody>\n",
       "    <tr>\n",
       "      <th>302</th>\n",
       "      <td>2024-04-30</td>\n",
       "      <td>107.8</td>\n",
       "      <td>0.161025</td>\n",
       "    </tr>\n",
       "    <tr>\n",
       "      <th>301</th>\n",
       "      <td>2024-03-31</td>\n",
       "      <td>107.7</td>\n",
       "      <td>0.138869</td>\n",
       "    </tr>\n",
       "    <tr>\n",
       "      <th>300</th>\n",
       "      <td>2024-02-29</td>\n",
       "      <td>107.7</td>\n",
       "      <td>0.138869</td>\n",
       "    </tr>\n",
       "  </tbody>\n",
       "</table>\n",
       "</div>"
      ],
      "text/plain": [
       "           date   goal    z_goal\n",
       "302  2024-04-30  107.8  0.161025\n",
       "301  2024-03-31  107.7  0.138869\n",
       "300  2024-02-29  107.7  0.138869"
      ]
     },
     "execution_count": 70,
     "metadata": {},
     "output_type": "execute_result"
    }
   ],
   "source": [
    "z_transformer = StandardScaler().fit(df[['goal']])\n",
    "df['z_goal'] = z_transformer.transform(df[['goal']])\n",
    "\n",
    "df.head(3)"
   ]
  },
  {
   "cell_type": "markdown",
   "id": "92492f00-1c7b-4f78-9ead-02d5c7759050",
   "metadata": {},
   "source": [
    "и обратно переводим"
   ]
  },
  {
   "cell_type": "code",
   "execution_count": 71,
   "id": "fd8abaab-177b-4444-9003-4026e79582bd",
   "metadata": {},
   "outputs": [
    {
     "data": {
      "text/plain": [
       "array([[107.8],\n",
       "       [107.7],\n",
       "       [107.7]])"
      ]
     },
     "execution_count": 71,
     "metadata": {},
     "output_type": "execute_result"
    }
   ],
   "source": [
    "z_transformer.inverse_transform(df[['z_goal']])[:3]"
   ]
  },
  {
   "cell_type": "markdown",
   "id": "25d3313c-a4d1-4300-8aec-222018421641",
   "metadata": {},
   "source": [
    "# Создание модели"
   ]
  },
  {
   "cell_type": "code",
   "execution_count": 72,
   "id": "4e0c1575-b7a5-4420-aa1b-6227a356bd23",
   "metadata": {},
   "outputs": [],
   "source": [
    "import tensorflow as tf\n",
    "from tensorflow.keras import Sequential\n",
    "from tensorflow.keras.optimizers import Adam\n",
    "from tensorflow.keras.metrics import MeanAbsolutePercentageError\n",
    "from tensorflow.keras.layers import GRU, LSTM, BatchNormalization, Dropout, Dense, TimeDistributed"
   ]
  },
  {
   "cell_type": "markdown",
   "id": "bc4458cc-68ee-466f-88c5-7e20e6f32196",
   "metadata": {},
   "source": [
    "## Гиперпараметры модели"
   ]
  },
  {
   "cell_type": "code",
   "execution_count": 73,
   "id": "cffc5855-fd6e-42fd-bd83-3025cae532cf",
   "metadata": {},
   "outputs": [],
   "source": [
    "from dataclasses import dataclass, field"
   ]
  },
  {
   "cell_type": "code",
   "execution_count": 153,
   "id": "6eaa0489-c221-4686-a613-3f48756ae828",
   "metadata": {},
   "outputs": [],
   "source": [
    "@dataclass\n",
    "class ModelConfig:\n",
    "    lookback         = 6   # сколько берем данных для прогноза\n",
    "    forecast_horizon = 3   # на сколько делаем прогноз\n",
    "    units            = 2\n",
    "    batch_size       = 64\n",
    "    dropout_rate     = 0.2\n",
    "    epochs           = 250\n",
    "    \n",
    "    input_shape: tuple = (lookback, 1)"
   ]
  },
  {
   "cell_type": "markdown",
   "id": "a13aebd2-4208-4a4b-ac1b-d0507e455421",
   "metadata": {},
   "source": [
    "## Сама модель"
   ]
  },
  {
   "cell_type": "code",
   "execution_count": 154,
   "id": "3123c011-2f60-4f9a-a83d-2fa7f4370206",
   "metadata": {},
   "outputs": [
    {
     "name": "stderr",
     "output_type": "stream",
     "text": [
      "/home/misha/.local/lib/python3.11/site-packages/keras/src/layers/rnn/rnn.py:204: UserWarning: Do not pass an `input_shape`/`input_dim` argument to a layer. When using Sequential models, prefer using an `Input(shape)` object as the first layer in the model instead.\n",
      "  super().__init__(**kwargs)\n"
     ]
    },
    {
     "data": {
      "text/html": [
       "<pre style=\"white-space:pre;overflow-x:auto;line-height:normal;font-family:Menlo,'DejaVu Sans Mono',consolas,'Courier New',monospace\"><span style=\"font-weight: bold\">Model: \"sequential_19\"</span>\n",
       "</pre>\n"
      ],
      "text/plain": [
       "\u001b[1mModel: \"sequential_19\"\u001b[0m\n"
      ]
     },
     "metadata": {},
     "output_type": "display_data"
    },
    {
     "data": {
      "text/html": [
       "<pre style=\"white-space:pre;overflow-x:auto;line-height:normal;font-family:Menlo,'DejaVu Sans Mono',consolas,'Courier New',monospace\">┏━━━━━━━━━━━━━━━━━━━━━━━━━━━━━━━━━┳━━━━━━━━━━━━━━━━━━━━━━━━┳━━━━━━━━━━━━━━━┓\n",
       "┃<span style=\"font-weight: bold\"> Layer (type)                    </span>┃<span style=\"font-weight: bold\"> Output Shape           </span>┃<span style=\"font-weight: bold\">       Param # </span>┃\n",
       "┡━━━━━━━━━━━━━━━━━━━━━━━━━━━━━━━━━╇━━━━━━━━━━━━━━━━━━━━━━━━╇━━━━━━━━━━━━━━━┩\n",
       "│ lstm_18 (<span style=\"color: #0087ff; text-decoration-color: #0087ff\">LSTM</span>)                  │ (<span style=\"color: #00d7ff; text-decoration-color: #00d7ff\">None</span>, <span style=\"color: #00af00; text-decoration-color: #00af00\">6</span>, <span style=\"color: #00af00; text-decoration-color: #00af00\">2</span>)           │            <span style=\"color: #00af00; text-decoration-color: #00af00\">32</span> │\n",
       "├─────────────────────────────────┼────────────────────────┼───────────────┤\n",
       "│ lstm_19 (<span style=\"color: #0087ff; text-decoration-color: #0087ff\">LSTM</span>)                  │ (<span style=\"color: #00d7ff; text-decoration-color: #00d7ff\">None</span>, <span style=\"color: #00af00; text-decoration-color: #00af00\">2</span>)              │            <span style=\"color: #00af00; text-decoration-color: #00af00\">40</span> │\n",
       "├─────────────────────────────────┼────────────────────────┼───────────────┤\n",
       "│ dense_18 (<span style=\"color: #0087ff; text-decoration-color: #0087ff\">Dense</span>)                │ (<span style=\"color: #00d7ff; text-decoration-color: #00d7ff\">None</span>, <span style=\"color: #00af00; text-decoration-color: #00af00\">3</span>)              │             <span style=\"color: #00af00; text-decoration-color: #00af00\">9</span> │\n",
       "└─────────────────────────────────┴────────────────────────┴───────────────┘\n",
       "</pre>\n"
      ],
      "text/plain": [
       "┏━━━━━━━━━━━━━━━━━━━━━━━━━━━━━━━━━┳━━━━━━━━━━━━━━━━━━━━━━━━┳━━━━━━━━━━━━━━━┓\n",
       "┃\u001b[1m \u001b[0m\u001b[1mLayer (type)                   \u001b[0m\u001b[1m \u001b[0m┃\u001b[1m \u001b[0m\u001b[1mOutput Shape          \u001b[0m\u001b[1m \u001b[0m┃\u001b[1m \u001b[0m\u001b[1m      Param #\u001b[0m\u001b[1m \u001b[0m┃\n",
       "┡━━━━━━━━━━━━━━━━━━━━━━━━━━━━━━━━━╇━━━━━━━━━━━━━━━━━━━━━━━━╇━━━━━━━━━━━━━━━┩\n",
       "│ lstm_18 (\u001b[38;5;33mLSTM\u001b[0m)                  │ (\u001b[38;5;45mNone\u001b[0m, \u001b[38;5;34m6\u001b[0m, \u001b[38;5;34m2\u001b[0m)           │            \u001b[38;5;34m32\u001b[0m │\n",
       "├─────────────────────────────────┼────────────────────────┼───────────────┤\n",
       "│ lstm_19 (\u001b[38;5;33mLSTM\u001b[0m)                  │ (\u001b[38;5;45mNone\u001b[0m, \u001b[38;5;34m2\u001b[0m)              │            \u001b[38;5;34m40\u001b[0m │\n",
       "├─────────────────────────────────┼────────────────────────┼───────────────┤\n",
       "│ dense_18 (\u001b[38;5;33mDense\u001b[0m)                │ (\u001b[38;5;45mNone\u001b[0m, \u001b[38;5;34m3\u001b[0m)              │             \u001b[38;5;34m9\u001b[0m │\n",
       "└─────────────────────────────────┴────────────────────────┴───────────────┘\n"
      ]
     },
     "metadata": {},
     "output_type": "display_data"
    },
    {
     "data": {
      "text/html": [
       "<pre style=\"white-space:pre;overflow-x:auto;line-height:normal;font-family:Menlo,'DejaVu Sans Mono',consolas,'Courier New',monospace\"><span style=\"font-weight: bold\"> Total params: </span><span style=\"color: #00af00; text-decoration-color: #00af00\">81</span> (324.00 B)\n",
       "</pre>\n"
      ],
      "text/plain": [
       "\u001b[1m Total params: \u001b[0m\u001b[38;5;34m81\u001b[0m (324.00 B)\n"
      ]
     },
     "metadata": {},
     "output_type": "display_data"
    },
    {
     "data": {
      "text/html": [
       "<pre style=\"white-space:pre;overflow-x:auto;line-height:normal;font-family:Menlo,'DejaVu Sans Mono',consolas,'Courier New',monospace\"><span style=\"font-weight: bold\"> Trainable params: </span><span style=\"color: #00af00; text-decoration-color: #00af00\">81</span> (324.00 B)\n",
       "</pre>\n"
      ],
      "text/plain": [
       "\u001b[1m Trainable params: \u001b[0m\u001b[38;5;34m81\u001b[0m (324.00 B)\n"
      ]
     },
     "metadata": {},
     "output_type": "display_data"
    },
    {
     "data": {
      "text/html": [
       "<pre style=\"white-space:pre;overflow-x:auto;line-height:normal;font-family:Menlo,'DejaVu Sans Mono',consolas,'Courier New',monospace\"><span style=\"font-weight: bold\"> Non-trainable params: </span><span style=\"color: #00af00; text-decoration-color: #00af00\">0</span> (0.00 B)\n",
       "</pre>\n"
      ],
      "text/plain": [
       "\u001b[1m Non-trainable params: \u001b[0m\u001b[38;5;34m0\u001b[0m (0.00 B)\n"
      ]
     },
     "metadata": {},
     "output_type": "display_data"
    }
   ],
   "source": [
    "tf.compat.v2.random.set_seed(1)\n",
    "model = Sequential()\n",
    "\n",
    "model.add(LSTM(units=ModelConfig.units, return_sequences=True, input_shape=ModelConfig.input_shape))\n",
    "model.add(LSTM(units=ModelConfig.units, return_sequences=False, input_shape=ModelConfig.input_shape))\n",
    "model.add(Dense(units=ModelConfig.forecast_horizon, activation='linear'))\n",
    "\n",
    "model.summary()"
   ]
  },
  {
   "cell_type": "code",
   "execution_count": 156,
   "id": "7e2e3c12-a2c8-4a9c-80bb-1066b131dba6",
   "metadata": {},
   "outputs": [],
   "source": [
    "model.compile(\n",
    "    optimizer=Adam(learning_rate=0.001),\n",
    "    loss='mean_squared_error',\n",
    "    metrics=[MeanAbsolutePercentageError()]\n",
    ")"
   ]
  },
  {
   "cell_type": "markdown",
   "id": "d68ecc59-7cd5-43cf-a68f-8350aa91bd68",
   "metadata": {},
   "source": [
    "# Обучение модели"
   ]
  },
  {
   "cell_type": "code",
   "execution_count": 77,
   "id": "0e248edd-d7db-45e2-84d4-911059fbdd67",
   "metadata": {},
   "outputs": [],
   "source": [
    "import numpy as np\n",
    "from typing import Iterable\n",
    "from sklearn.model_selection import train_test_split"
   ]
  },
  {
   "cell_type": "code",
   "execution_count": 78,
   "id": "01320bcc-c714-4cac-bcea-89fc9487fc4a",
   "metadata": {},
   "outputs": [],
   "source": [
    "def prepare_rnn_data(data: Iterable, lookback: int, horizon: int) -> tuple[np.array, np.array]:\n",
    "    \"\"\"\n",
    "    Создает батчи по lookback месяцев для иксов и по horizon месяца для игреков\n",
    "    \n",
    "    Также приводит к формату данных для RNN\n",
    "    \"\"\"\n",
    "    \n",
    "    data_range = range(lookback, len(data) - horizon + 1)\n",
    "    \n",
    "    x = np.array([data[i - lookback:i] for i in data_range])\n",
    "    x = np.reshape(x, (x.shape[0], lookback, 1))\n",
    "\n",
    "    y = np.array([data[i:i + horizon] for i in data_range])\n",
    "    \n",
    "    return x, y"
   ]
  },
  {
   "cell_type": "code",
   "execution_count": 157,
   "id": "b65b963e-4859-479c-8f96-2b5562deb69c",
   "metadata": {},
   "outputs": [
    {
     "name": "stdout",
     "output_type": "stream",
     "text": [
      "X.shape = (104, 6, 1), y.shape = (104, 3)\n"
     ]
    }
   ],
   "source": [
    "X, y = prepare_rnn_data(df['z_goal'].values, ModelConfig.lookback, ModelConfig.forecast_horizon)\n",
    "\n",
    "print(f'{X.shape = }, {y.shape = }')"
   ]
  },
  {
   "cell_type": "code",
   "execution_count": 158,
   "id": "9a3f541d-aaf4-4ea3-aa8a-446b0b050b6c",
   "metadata": {},
   "outputs": [],
   "source": [
    "x_train, x_test, y_train, y_test = train_test_split(X, y, test_size=0.2, random_state=1)\n",
    "x_val, y_val = x_test[-12:], y_test[-12:]"
   ]
  },
  {
   "cell_type": "code",
   "execution_count": 159,
   "id": "834f2511-1cea-4f91-9bb4-de2b287071c0",
   "metadata": {},
   "outputs": [
    {
     "name": "stdout",
     "output_type": "stream",
     "text": [
      "Epoch 1/250\n",
      "\u001b[1m2/2\u001b[0m \u001b[32m━━━━━━━━━━━━━━━━━━━━\u001b[0m\u001b[37m\u001b[0m \u001b[1m2s\u001b[0m 231ms/step - loss: 0.9127 - mean_absolute_percentage_error: 100.8253 - val_loss: 1.6737 - val_mean_absolute_percentage_error: 98.8765\n",
      "Epoch 2/250\n",
      "\u001b[1m2/2\u001b[0m \u001b[32m━━━━━━━━━━━━━━━━━━━━\u001b[0m\u001b[37m\u001b[0m \u001b[1m0s\u001b[0m 20ms/step - loss: 0.9115 - mean_absolute_percentage_error: 100.7719 - val_loss: 1.6717 - val_mean_absolute_percentage_error: 98.7543\n",
      "Epoch 3/250\n",
      "\u001b[1m2/2\u001b[0m \u001b[32m━━━━━━━━━━━━━━━━━━━━\u001b[0m\u001b[37m\u001b[0m \u001b[1m0s\u001b[0m 22ms/step - loss: 0.9109 - mean_absolute_percentage_error: 100.6872 - val_loss: 1.6696 - val_mean_absolute_percentage_error: 98.6110\n",
      "Epoch 4/250\n",
      "\u001b[1m2/2\u001b[0m \u001b[32m━━━━━━━━━━━━━━━━━━━━\u001b[0m\u001b[37m\u001b[0m \u001b[1m0s\u001b[0m 20ms/step - loss: 0.9103 - mean_absolute_percentage_error: 100.6020 - val_loss: 1.6675 - val_mean_absolute_percentage_error: 98.4595\n",
      "Epoch 5/250\n",
      "\u001b[1m2/2\u001b[0m \u001b[32m━━━━━━━━━━━━━━━━━━━━\u001b[0m\u001b[37m\u001b[0m \u001b[1m0s\u001b[0m 23ms/step - loss: 0.9098 - mean_absolute_percentage_error: 100.5188 - val_loss: 1.6653 - val_mean_absolute_percentage_error: 98.3039\n",
      "Epoch 6/250\n",
      "\u001b[1m2/2\u001b[0m \u001b[32m━━━━━━━━━━━━━━━━━━━━\u001b[0m\u001b[37m\u001b[0m \u001b[1m0s\u001b[0m 22ms/step - loss: 0.9093 - mean_absolute_percentage_error: 100.4384 - val_loss: 1.6632 - val_mean_absolute_percentage_error: 98.1457\n",
      "Epoch 7/250\n",
      "\u001b[1m2/2\u001b[0m \u001b[32m━━━━━━━━━━━━━━━━━━━━\u001b[0m\u001b[37m\u001b[0m \u001b[1m0s\u001b[0m 22ms/step - loss: 0.9088 - mean_absolute_percentage_error: 100.3614 - val_loss: 1.6610 - val_mean_absolute_percentage_error: 97.9856\n",
      "Epoch 8/250\n",
      "\u001b[1m2/2\u001b[0m \u001b[32m━━━━━━━━━━━━━━━━━━━━\u001b[0m\u001b[37m\u001b[0m \u001b[1m0s\u001b[0m 23ms/step - loss: 0.9083 - mean_absolute_percentage_error: 100.2882 - val_loss: 1.6589 - val_mean_absolute_percentage_error: 97.8242\n",
      "Epoch 9/250\n",
      "\u001b[1m2/2\u001b[0m \u001b[32m━━━━━━━━━━━━━━━━━━━━\u001b[0m\u001b[37m\u001b[0m \u001b[1m0s\u001b[0m 21ms/step - loss: 0.9078 - mean_absolute_percentage_error: 100.2191 - val_loss: 1.6568 - val_mean_absolute_percentage_error: 97.6614\n",
      "Epoch 10/250\n",
      "\u001b[1m2/2\u001b[0m \u001b[32m━━━━━━━━━━━━━━━━━━━━\u001b[0m\u001b[37m\u001b[0m \u001b[1m0s\u001b[0m 22ms/step - loss: 0.9073 - mean_absolute_percentage_error: 100.1567 - val_loss: 1.6546 - val_mean_absolute_percentage_error: 97.4976\n",
      "Epoch 11/250\n",
      "\u001b[1m2/2\u001b[0m \u001b[32m━━━━━━━━━━━━━━━━━━━━\u001b[0m\u001b[37m\u001b[0m \u001b[1m0s\u001b[0m 22ms/step - loss: 0.9069 - mean_absolute_percentage_error: 100.1065 - val_loss: 1.6524 - val_mean_absolute_percentage_error: 97.3327\n",
      "Epoch 12/250\n",
      "\u001b[1m2/2\u001b[0m \u001b[32m━━━━━━━━━━━━━━━━━━━━\u001b[0m\u001b[37m\u001b[0m \u001b[1m0s\u001b[0m 23ms/step - loss: 0.9064 - mean_absolute_percentage_error: 100.0593 - val_loss: 1.6503 - val_mean_absolute_percentage_error: 97.1668\n",
      "Epoch 13/250\n",
      "\u001b[1m2/2\u001b[0m \u001b[32m━━━━━━━━━━━━━━━━━━━━\u001b[0m\u001b[37m\u001b[0m \u001b[1m0s\u001b[0m 27ms/step - loss: 0.9059 - mean_absolute_percentage_error: 100.0148 - val_loss: 1.6481 - val_mean_absolute_percentage_error: 97.0000\n",
      "Epoch 14/250\n",
      "\u001b[1m2/2\u001b[0m \u001b[32m━━━━━━━━━━━━━━━━━━━━\u001b[0m\u001b[37m\u001b[0m \u001b[1m0s\u001b[0m 25ms/step - loss: 0.9054 - mean_absolute_percentage_error: 99.9727 - val_loss: 1.6458 - val_mean_absolute_percentage_error: 96.8322\n",
      "Epoch 15/250\n",
      "\u001b[1m2/2\u001b[0m \u001b[32m━━━━━━━━━━━━━━━━━━━━\u001b[0m\u001b[37m\u001b[0m \u001b[1m0s\u001b[0m 40ms/step - loss: 0.9049 - mean_absolute_percentage_error: 99.9326 - val_loss: 1.6436 - val_mean_absolute_percentage_error: 96.6636\n",
      "Epoch 16/250\n",
      "\u001b[1m2/2\u001b[0m \u001b[32m━━━━━━━━━━━━━━━━━━━━\u001b[0m\u001b[37m\u001b[0m \u001b[1m0s\u001b[0m 57ms/step - loss: 0.9044 - mean_absolute_percentage_error: 99.8943 - val_loss: 1.6413 - val_mean_absolute_percentage_error: 96.4940\n",
      "Epoch 17/250\n",
      "\u001b[1m2/2\u001b[0m \u001b[32m━━━━━━━━━━━━━━━━━━━━\u001b[0m\u001b[37m\u001b[0m \u001b[1m0s\u001b[0m 27ms/step - loss: 0.9039 - mean_absolute_percentage_error: 99.8574 - val_loss: 1.6390 - val_mean_absolute_percentage_error: 96.3234\n",
      "Epoch 18/250\n",
      "\u001b[1m2/2\u001b[0m \u001b[32m━━━━━━━━━━━━━━━━━━━━\u001b[0m\u001b[37m\u001b[0m \u001b[1m0s\u001b[0m 23ms/step - loss: 0.9034 - mean_absolute_percentage_error: 99.8215 - val_loss: 1.6367 - val_mean_absolute_percentage_error: 96.1518\n",
      "Epoch 19/250\n",
      "\u001b[1m2/2\u001b[0m \u001b[32m━━━━━━━━━━━━━━━━━━━━\u001b[0m\u001b[37m\u001b[0m \u001b[1m0s\u001b[0m 29ms/step - loss: 0.9028 - mean_absolute_percentage_error: 99.7864 - val_loss: 1.6343 - val_mean_absolute_percentage_error: 95.9789\n",
      "Epoch 20/250\n",
      "\u001b[1m2/2\u001b[0m \u001b[32m━━━━━━━━━━━━━━━━━━━━\u001b[0m\u001b[37m\u001b[0m \u001b[1m0s\u001b[0m 47ms/step - loss: 0.9022 - mean_absolute_percentage_error: 99.7646 - val_loss: 1.6319 - val_mean_absolute_percentage_error: 95.8049\n",
      "Epoch 21/250\n",
      "\u001b[1m2/2\u001b[0m \u001b[32m━━━━━━━━━━━━━━━━━━━━\u001b[0m\u001b[37m\u001b[0m \u001b[1m0s\u001b[0m 17ms/step - loss: 0.9017 - mean_absolute_percentage_error: 99.7467 - val_loss: 1.6294 - val_mean_absolute_percentage_error: 95.6295\n",
      "Epoch 22/250\n",
      "\u001b[1m2/2\u001b[0m \u001b[32m━━━━━━━━━━━━━━━━━━━━\u001b[0m\u001b[37m\u001b[0m \u001b[1m0s\u001b[0m 17ms/step - loss: 0.9011 - mean_absolute_percentage_error: 99.7289 - val_loss: 1.6270 - val_mean_absolute_percentage_error: 95.4527\n",
      "Epoch 23/250\n",
      "\u001b[1m2/2\u001b[0m \u001b[32m━━━━━━━━━━━━━━━━━━━━\u001b[0m\u001b[37m\u001b[0m \u001b[1m0s\u001b[0m 18ms/step - loss: 0.9005 - mean_absolute_percentage_error: 99.7112 - val_loss: 1.6244 - val_mean_absolute_percentage_error: 95.2744\n",
      "Epoch 24/250\n",
      "\u001b[1m2/2\u001b[0m \u001b[32m━━━━━━━━━━━━━━━━━━━━\u001b[0m\u001b[37m\u001b[0m \u001b[1m0s\u001b[0m 21ms/step - loss: 0.8998 - mean_absolute_percentage_error: 99.6932 - val_loss: 1.6218 - val_mean_absolute_percentage_error: 95.0946\n",
      "Epoch 25/250\n",
      "\u001b[1m2/2\u001b[0m \u001b[32m━━━━━━━━━━━━━━━━━━━━\u001b[0m\u001b[37m\u001b[0m \u001b[1m0s\u001b[0m 19ms/step - loss: 0.8992 - mean_absolute_percentage_error: 99.6749 - val_loss: 1.6192 - val_mean_absolute_percentage_error: 94.9132\n",
      "Epoch 26/250\n",
      "\u001b[1m2/2\u001b[0m \u001b[32m━━━━━━━━━━━━━━━━━━━━\u001b[0m\u001b[37m\u001b[0m \u001b[1m0s\u001b[0m 23ms/step - loss: 0.8985 - mean_absolute_percentage_error: 99.6561 - val_loss: 1.6165 - val_mean_absolute_percentage_error: 94.7303\n",
      "Epoch 27/250\n",
      "\u001b[1m2/2\u001b[0m \u001b[32m━━━━━━━━━━━━━━━━━━━━\u001b[0m\u001b[37m\u001b[0m \u001b[1m0s\u001b[0m 21ms/step - loss: 0.8978 - mean_absolute_percentage_error: 99.6367 - val_loss: 1.6138 - val_mean_absolute_percentage_error: 94.5459\n",
      "Epoch 28/250\n",
      "\u001b[1m2/2\u001b[0m \u001b[32m━━━━━━━━━━━━━━━━━━━━\u001b[0m\u001b[37m\u001b[0m \u001b[1m0s\u001b[0m 22ms/step - loss: 0.8971 - mean_absolute_percentage_error: 99.6168 - val_loss: 1.6110 - val_mean_absolute_percentage_error: 94.3600\n",
      "Epoch 29/250\n",
      "\u001b[1m2/2\u001b[0m \u001b[32m━━━━━━━━━━━━━━━━━━━━\u001b[0m\u001b[37m\u001b[0m \u001b[1m0s\u001b[0m 22ms/step - loss: 0.8964 - mean_absolute_percentage_error: 99.5963 - val_loss: 1.6082 - val_mean_absolute_percentage_error: 94.1727\n",
      "Epoch 30/250\n",
      "\u001b[1m2/2\u001b[0m \u001b[32m━━━━━━━━━━━━━━━━━━━━\u001b[0m\u001b[37m\u001b[0m \u001b[1m0s\u001b[0m 18ms/step - loss: 0.8957 - mean_absolute_percentage_error: 99.5752 - val_loss: 1.6053 - val_mean_absolute_percentage_error: 93.9839\n",
      "Epoch 31/250\n",
      "\u001b[1m2/2\u001b[0m \u001b[32m━━━━━━━━━━━━━━━━━━━━\u001b[0m\u001b[37m\u001b[0m \u001b[1m0s\u001b[0m 20ms/step - loss: 0.8949 - mean_absolute_percentage_error: 99.5535 - val_loss: 1.6024 - val_mean_absolute_percentage_error: 93.7938\n",
      "Epoch 32/250\n",
      "\u001b[1m2/2\u001b[0m \u001b[32m━━━━━━━━━━━━━━━━━━━━\u001b[0m\u001b[37m\u001b[0m \u001b[1m0s\u001b[0m 20ms/step - loss: 0.8941 - mean_absolute_percentage_error: 99.5311 - val_loss: 1.5994 - val_mean_absolute_percentage_error: 93.6024\n",
      "Epoch 33/250\n",
      "\u001b[1m2/2\u001b[0m \u001b[32m━━━━━━━━━━━━━━━━━━━━\u001b[0m\u001b[37m\u001b[0m \u001b[1m0s\u001b[0m 21ms/step - loss: 0.8933 - mean_absolute_percentage_error: 99.5346 - val_loss: 1.5964 - val_mean_absolute_percentage_error: 93.4096\n",
      "Epoch 34/250\n",
      "\u001b[1m2/2\u001b[0m \u001b[32m━━━━━━━━━━━━━━━━━━━━\u001b[0m\u001b[37m\u001b[0m \u001b[1m0s\u001b[0m 17ms/step - loss: 0.8925 - mean_absolute_percentage_error: 99.5477 - val_loss: 1.5933 - val_mean_absolute_percentage_error: 93.2858\n",
      "Epoch 35/250\n",
      "\u001b[1m2/2\u001b[0m \u001b[32m━━━━━━━━━━━━━━━━━━━━\u001b[0m\u001b[37m\u001b[0m \u001b[1m0s\u001b[0m 19ms/step - loss: 0.8916 - mean_absolute_percentage_error: 99.5666 - val_loss: 1.5901 - val_mean_absolute_percentage_error: 93.1892\n",
      "Epoch 36/250\n",
      "\u001b[1m2/2\u001b[0m \u001b[32m━━━━━━━━━━━━━━━━━━━━\u001b[0m\u001b[37m\u001b[0m \u001b[1m0s\u001b[0m 20ms/step - loss: 0.8908 - mean_absolute_percentage_error: 99.5889 - val_loss: 1.5869 - val_mean_absolute_percentage_error: 93.0922\n",
      "Epoch 37/250\n",
      "\u001b[1m2/2\u001b[0m \u001b[32m━━━━━━━━━━━━━━━━━━━━\u001b[0m\u001b[37m\u001b[0m \u001b[1m0s\u001b[0m 18ms/step - loss: 0.8899 - mean_absolute_percentage_error: 99.6118 - val_loss: 1.5836 - val_mean_absolute_percentage_error: 92.9950\n",
      "Epoch 38/250\n",
      "\u001b[1m2/2\u001b[0m \u001b[32m━━━━━━━━━━━━━━━━━━━━\u001b[0m\u001b[37m\u001b[0m \u001b[1m0s\u001b[0m 17ms/step - loss: 0.8890 - mean_absolute_percentage_error: 99.6354 - val_loss: 1.5803 - val_mean_absolute_percentage_error: 92.8977\n",
      "Epoch 39/250\n",
      "\u001b[1m2/2\u001b[0m \u001b[32m━━━━━━━━━━━━━━━━━━━━\u001b[0m\u001b[37m\u001b[0m \u001b[1m0s\u001b[0m 22ms/step - loss: 0.8880 - mean_absolute_percentage_error: 99.6596 - val_loss: 1.5769 - val_mean_absolute_percentage_error: 92.8004\n",
      "Epoch 40/250\n",
      "\u001b[1m2/2\u001b[0m \u001b[32m━━━━━━━━━━━━━━━━━━━━\u001b[0m\u001b[37m\u001b[0m \u001b[1m0s\u001b[0m 18ms/step - loss: 0.8871 - mean_absolute_percentage_error: 99.6844 - val_loss: 1.5734 - val_mean_absolute_percentage_error: 92.7033\n",
      "Epoch 41/250\n",
      "\u001b[1m2/2\u001b[0m \u001b[32m━━━━━━━━━━━━━━━━━━━━\u001b[0m\u001b[37m\u001b[0m \u001b[1m0s\u001b[0m 18ms/step - loss: 0.8861 - mean_absolute_percentage_error: 99.7100 - val_loss: 1.5699 - val_mean_absolute_percentage_error: 92.6066\n",
      "Epoch 42/250\n",
      "\u001b[1m2/2\u001b[0m \u001b[32m━━━━━━━━━━━━━━━━━━━━\u001b[0m\u001b[37m\u001b[0m \u001b[1m0s\u001b[0m 18ms/step - loss: 0.8851 - mean_absolute_percentage_error: 99.7363 - val_loss: 1.5663 - val_mean_absolute_percentage_error: 92.5103\n",
      "Epoch 43/250\n",
      "\u001b[1m2/2\u001b[0m \u001b[32m━━━━━━━━━━━━━━━━━━━━\u001b[0m\u001b[37m\u001b[0m \u001b[1m0s\u001b[0m 20ms/step - loss: 0.8840 - mean_absolute_percentage_error: 99.7633 - val_loss: 1.5627 - val_mean_absolute_percentage_error: 92.4147\n",
      "Epoch 44/250\n",
      "\u001b[1m2/2\u001b[0m \u001b[32m━━━━━━━━━━━━━━━━━━━━\u001b[0m\u001b[37m\u001b[0m \u001b[1m0s\u001b[0m 17ms/step - loss: 0.8830 - mean_absolute_percentage_error: 99.8219 - val_loss: 1.5590 - val_mean_absolute_percentage_error: 92.3197\n",
      "Epoch 45/250\n",
      "\u001b[1m2/2\u001b[0m \u001b[32m━━━━━━━━━━━━━━━━━━━━\u001b[0m\u001b[37m\u001b[0m \u001b[1m0s\u001b[0m 17ms/step - loss: 0.8819 - mean_absolute_percentage_error: 99.8891 - val_loss: 1.5552 - val_mean_absolute_percentage_error: 92.2257\n",
      "Epoch 46/250\n",
      "\u001b[1m2/2\u001b[0m \u001b[32m━━━━━━━━━━━━━━━━━━━━\u001b[0m\u001b[37m\u001b[0m \u001b[1m0s\u001b[0m 17ms/step - loss: 0.8808 - mean_absolute_percentage_error: 99.9572 - val_loss: 1.5514 - val_mean_absolute_percentage_error: 92.1327\n",
      "Epoch 47/250\n",
      "\u001b[1m2/2\u001b[0m \u001b[32m━━━━━━━━━━━━━━━━━━━━\u001b[0m\u001b[37m\u001b[0m \u001b[1m0s\u001b[0m 18ms/step - loss: 0.8797 - mean_absolute_percentage_error: 100.0297 - val_loss: 1.5475 - val_mean_absolute_percentage_error: 92.0408\n",
      "Epoch 48/250\n",
      "\u001b[1m2/2\u001b[0m \u001b[32m━━━━━━━━━━━━━━━━━━━━\u001b[0m\u001b[37m\u001b[0m \u001b[1m0s\u001b[0m 20ms/step - loss: 0.8786 - mean_absolute_percentage_error: 100.1184 - val_loss: 1.5435 - val_mean_absolute_percentage_error: 91.9503\n",
      "Epoch 49/250\n",
      "\u001b[1m2/2\u001b[0m \u001b[32m━━━━━━━━━━━━━━━━━━━━\u001b[0m\u001b[37m\u001b[0m \u001b[1m0s\u001b[0m 21ms/step - loss: 0.8774 - mean_absolute_percentage_error: 100.2187 - val_loss: 1.5395 - val_mean_absolute_percentage_error: 91.8611\n",
      "Epoch 50/250\n",
      "\u001b[1m2/2\u001b[0m \u001b[32m━━━━━━━━━━━━━━━━━━━━\u001b[0m\u001b[37m\u001b[0m \u001b[1m0s\u001b[0m 20ms/step - loss: 0.8762 - mean_absolute_percentage_error: 100.3355 - val_loss: 1.5354 - val_mean_absolute_percentage_error: 91.7735\n",
      "Epoch 51/250\n",
      "\u001b[1m2/2\u001b[0m \u001b[32m━━━━━━━━━━━━━━━━━━━━\u001b[0m\u001b[37m\u001b[0m \u001b[1m0s\u001b[0m 18ms/step - loss: 0.8750 - mean_absolute_percentage_error: 100.4720 - val_loss: 1.5313 - val_mean_absolute_percentage_error: 91.6877\n",
      "Epoch 52/250\n",
      "\u001b[1m2/2\u001b[0m \u001b[32m━━━━━━━━━━━━━━━━━━━━\u001b[0m\u001b[37m\u001b[0m \u001b[1m0s\u001b[0m 18ms/step - loss: 0.8737 - mean_absolute_percentage_error: 100.6266 - val_loss: 1.5271 - val_mean_absolute_percentage_error: 91.6036\n",
      "Epoch 53/250\n",
      "\u001b[1m2/2\u001b[0m \u001b[32m━━━━━━━━━━━━━━━━━━━━\u001b[0m\u001b[37m\u001b[0m \u001b[1m0s\u001b[0m 20ms/step - loss: 0.8725 - mean_absolute_percentage_error: 100.8013 - val_loss: 1.5228 - val_mean_absolute_percentage_error: 91.5216\n",
      "Epoch 54/250\n",
      "\u001b[1m2/2\u001b[0m \u001b[32m━━━━━━━━━━━━━━━━━━━━\u001b[0m\u001b[37m\u001b[0m \u001b[1m0s\u001b[0m 31ms/step - loss: 0.8712 - mean_absolute_percentage_error: 100.9778 - val_loss: 1.5185 - val_mean_absolute_percentage_error: 91.4416\n",
      "Epoch 55/250\n",
      "\u001b[1m2/2\u001b[0m \u001b[32m━━━━━━━━━━━━━━━━━━━━\u001b[0m\u001b[37m\u001b[0m \u001b[1m0s\u001b[0m 35ms/step - loss: 0.8699 - mean_absolute_percentage_error: 101.1559 - val_loss: 1.5142 - val_mean_absolute_percentage_error: 91.3639\n",
      "Epoch 56/250\n",
      "\u001b[1m2/2\u001b[0m \u001b[32m━━━━━━━━━━━━━━━━━━━━\u001b[0m\u001b[37m\u001b[0m \u001b[1m0s\u001b[0m 32ms/step - loss: 0.8685 - mean_absolute_percentage_error: 101.3360 - val_loss: 1.5097 - val_mean_absolute_percentage_error: 91.2885\n",
      "Epoch 57/250\n",
      "\u001b[1m2/2\u001b[0m \u001b[32m━━━━━━━━━━━━━━━━━━━━\u001b[0m\u001b[37m\u001b[0m \u001b[1m0s\u001b[0m 21ms/step - loss: 0.8672 - mean_absolute_percentage_error: 101.5264 - val_loss: 1.5053 - val_mean_absolute_percentage_error: 91.2156\n",
      "Epoch 58/250\n",
      "\u001b[1m2/2\u001b[0m \u001b[32m━━━━━━━━━━━━━━━━━━━━\u001b[0m\u001b[37m\u001b[0m \u001b[1m0s\u001b[0m 18ms/step - loss: 0.8658 - mean_absolute_percentage_error: 101.7185 - val_loss: 1.5007 - val_mean_absolute_percentage_error: 91.1647\n",
      "Epoch 59/250\n",
      "\u001b[1m2/2\u001b[0m \u001b[32m━━━━━━━━━━━━━━━━━━━━\u001b[0m\u001b[37m\u001b[0m \u001b[1m0s\u001b[0m 18ms/step - loss: 0.8644 - mean_absolute_percentage_error: 101.9121 - val_loss: 1.4962 - val_mean_absolute_percentage_error: 91.1645\n",
      "Epoch 60/250\n",
      "\u001b[1m2/2\u001b[0m \u001b[32m━━━━━━━━━━━━━━━━━━━━\u001b[0m\u001b[37m\u001b[0m \u001b[1m0s\u001b[0m 18ms/step - loss: 0.8630 - mean_absolute_percentage_error: 102.1071 - val_loss: 1.4915 - val_mean_absolute_percentage_error: 91.1644\n",
      "Epoch 61/250\n",
      "\u001b[1m2/2\u001b[0m \u001b[32m━━━━━━━━━━━━━━━━━━━━\u001b[0m\u001b[37m\u001b[0m \u001b[1m0s\u001b[0m 18ms/step - loss: 0.8615 - mean_absolute_percentage_error: 102.3036 - val_loss: 1.4868 - val_mean_absolute_percentage_error: 91.1644\n",
      "Epoch 62/250\n",
      "\u001b[1m2/2\u001b[0m \u001b[32m━━━━━━━━━━━━━━━━━━━━\u001b[0m\u001b[37m\u001b[0m \u001b[1m0s\u001b[0m 21ms/step - loss: 0.8600 - mean_absolute_percentage_error: 102.5013 - val_loss: 1.4821 - val_mean_absolute_percentage_error: 91.1646\n",
      "Epoch 63/250\n",
      "\u001b[1m2/2\u001b[0m \u001b[32m━━━━━━━━━━━━━━━━━━━━\u001b[0m\u001b[37m\u001b[0m \u001b[1m0s\u001b[0m 17ms/step - loss: 0.8585 - mean_absolute_percentage_error: 102.7003 - val_loss: 1.4773 - val_mean_absolute_percentage_error: 91.1650\n",
      "Epoch 64/250\n",
      "\u001b[1m2/2\u001b[0m \u001b[32m━━━━━━━━━━━━━━━━━━━━\u001b[0m\u001b[37m\u001b[0m \u001b[1m0s\u001b[0m 18ms/step - loss: 0.8570 - mean_absolute_percentage_error: 102.9183 - val_loss: 1.4725 - val_mean_absolute_percentage_error: 91.1656\n",
      "Epoch 65/250\n",
      "\u001b[1m2/2\u001b[0m \u001b[32m━━━━━━━━━━━━━━━━━━━━\u001b[0m\u001b[37m\u001b[0m \u001b[1m0s\u001b[0m 17ms/step - loss: 0.8555 - mean_absolute_percentage_error: 103.1431 - val_loss: 1.4677 - val_mean_absolute_percentage_error: 91.1665\n",
      "Epoch 66/250\n",
      "\u001b[1m2/2\u001b[0m \u001b[32m━━━━━━━━━━━━━━━━━━━━\u001b[0m\u001b[37m\u001b[0m \u001b[1m0s\u001b[0m 18ms/step - loss: 0.8539 - mean_absolute_percentage_error: 103.3692 - val_loss: 1.4628 - val_mean_absolute_percentage_error: 91.1675\n",
      "Epoch 67/250\n",
      "\u001b[1m2/2\u001b[0m \u001b[32m━━━━━━━━━━━━━━━━━━━━\u001b[0m\u001b[37m\u001b[0m \u001b[1m0s\u001b[0m 21ms/step - loss: 0.8523 - mean_absolute_percentage_error: 103.5984 - val_loss: 1.4578 - val_mean_absolute_percentage_error: 91.1689\n",
      "Epoch 68/250\n",
      "\u001b[1m2/2\u001b[0m \u001b[32m━━━━━━━━━━━━━━━━━━━━\u001b[0m\u001b[37m\u001b[0m \u001b[1m0s\u001b[0m 18ms/step - loss: 0.8507 - mean_absolute_percentage_error: 103.8465 - val_loss: 1.4528 - val_mean_absolute_percentage_error: 91.1705\n",
      "Epoch 69/250\n",
      "\u001b[1m2/2\u001b[0m \u001b[32m━━━━━━━━━━━━━━━━━━━━\u001b[0m\u001b[37m\u001b[0m \u001b[1m0s\u001b[0m 19ms/step - loss: 0.8491 - mean_absolute_percentage_error: 104.0956 - val_loss: 1.4478 - val_mean_absolute_percentage_error: 91.1723\n",
      "Epoch 70/250\n",
      "\u001b[1m2/2\u001b[0m \u001b[32m━━━━━━━━━━━━━━━━━━━━\u001b[0m\u001b[37m\u001b[0m \u001b[1m0s\u001b[0m 21ms/step - loss: 0.8474 - mean_absolute_percentage_error: 104.3540 - val_loss: 1.4427 - val_mean_absolute_percentage_error: 91.1745\n",
      "Epoch 71/250\n",
      "\u001b[1m2/2\u001b[0m \u001b[32m━━━━━━━━━━━━━━━━━━━━\u001b[0m\u001b[37m\u001b[0m \u001b[1m0s\u001b[0m 18ms/step - loss: 0.8458 - mean_absolute_percentage_error: 104.6246 - val_loss: 1.4377 - val_mean_absolute_percentage_error: 91.1770\n",
      "Epoch 72/250\n",
      "\u001b[1m2/2\u001b[0m \u001b[32m━━━━━━━━━━━━━━━━━━━━\u001b[0m\u001b[37m\u001b[0m \u001b[1m0s\u001b[0m 24ms/step - loss: 0.8441 - mean_absolute_percentage_error: 104.8957 - val_loss: 1.4325 - val_mean_absolute_percentage_error: 91.1797\n",
      "Epoch 73/250\n",
      "\u001b[1m2/2\u001b[0m \u001b[32m━━━━━━━━━━━━━━━━━━━━\u001b[0m\u001b[37m\u001b[0m \u001b[1m0s\u001b[0m 18ms/step - loss: 0.8424 - mean_absolute_percentage_error: 105.1671 - val_loss: 1.4274 - val_mean_absolute_percentage_error: 91.1827\n",
      "Epoch 74/250\n",
      "\u001b[1m2/2\u001b[0m \u001b[32m━━━━━━━━━━━━━━━━━━━━\u001b[0m\u001b[37m\u001b[0m \u001b[1m0s\u001b[0m 20ms/step - loss: 0.8407 - mean_absolute_percentage_error: 105.4387 - val_loss: 1.4222 - val_mean_absolute_percentage_error: 91.1860\n",
      "Epoch 75/250\n",
      "\u001b[1m2/2\u001b[0m \u001b[32m━━━━━━━━━━━━━━━━━━━━\u001b[0m\u001b[37m\u001b[0m \u001b[1m0s\u001b[0m 18ms/step - loss: 0.8389 - mean_absolute_percentage_error: 105.7195 - val_loss: 1.4170 - val_mean_absolute_percentage_error: 91.1896\n",
      "Epoch 76/250\n",
      "\u001b[1m2/2\u001b[0m \u001b[32m━━━━━━━━━━━━━━━━━━━━\u001b[0m\u001b[37m\u001b[0m \u001b[1m0s\u001b[0m 18ms/step - loss: 0.8371 - mean_absolute_percentage_error: 106.0010 - val_loss: 1.4117 - val_mean_absolute_percentage_error: 91.1934\n",
      "Epoch 77/250\n",
      "\u001b[1m2/2\u001b[0m \u001b[32m━━━━━━━━━━━━━━━━━━━━\u001b[0m\u001b[37m\u001b[0m \u001b[1m0s\u001b[0m 18ms/step - loss: 0.8354 - mean_absolute_percentage_error: 106.2820 - val_loss: 1.4065 - val_mean_absolute_percentage_error: 91.1974\n",
      "Epoch 78/250\n",
      "\u001b[1m2/2\u001b[0m \u001b[32m━━━━━━━━━━━━━━━━━━━━\u001b[0m\u001b[37m\u001b[0m \u001b[1m0s\u001b[0m 22ms/step - loss: 0.8335 - mean_absolute_percentage_error: 106.5624 - val_loss: 1.4012 - val_mean_absolute_percentage_error: 91.2016\n",
      "Epoch 79/250\n",
      "\u001b[1m2/2\u001b[0m \u001b[32m━━━━━━━━━━━━━━━━━━━━\u001b[0m\u001b[37m\u001b[0m \u001b[1m0s\u001b[0m 18ms/step - loss: 0.8317 - mean_absolute_percentage_error: 106.8420 - val_loss: 1.3959 - val_mean_absolute_percentage_error: 91.2060\n",
      "Epoch 80/250\n",
      "\u001b[1m2/2\u001b[0m \u001b[32m━━━━━━━━━━━━━━━━━━━━\u001b[0m\u001b[37m\u001b[0m \u001b[1m0s\u001b[0m 18ms/step - loss: 0.8299 - mean_absolute_percentage_error: 107.1204 - val_loss: 1.3906 - val_mean_absolute_percentage_error: 91.2105\n",
      "Epoch 81/250\n",
      "\u001b[1m2/2\u001b[0m \u001b[32m━━━━━━━━━━━━━━━━━━━━\u001b[0m\u001b[37m\u001b[0m \u001b[1m0s\u001b[0m 18ms/step - loss: 0.8280 - mean_absolute_percentage_error: 107.3977 - val_loss: 1.3852 - val_mean_absolute_percentage_error: 91.2151\n",
      "Epoch 82/250\n",
      "\u001b[1m2/2\u001b[0m \u001b[32m━━━━━━━━━━━━━━━━━━━━\u001b[0m\u001b[37m\u001b[0m \u001b[1m0s\u001b[0m 22ms/step - loss: 0.8262 - mean_absolute_percentage_error: 107.6734 - val_loss: 1.3799 - val_mean_absolute_percentage_error: 91.2198\n",
      "Epoch 83/250\n",
      "\u001b[1m2/2\u001b[0m \u001b[32m━━━━━━━━━━━━━━━━━━━━\u001b[0m\u001b[37m\u001b[0m \u001b[1m0s\u001b[0m 19ms/step - loss: 0.8243 - mean_absolute_percentage_error: 107.9474 - val_loss: 1.3745 - val_mean_absolute_percentage_error: 91.2244\n",
      "Epoch 84/250\n",
      "\u001b[1m2/2\u001b[0m \u001b[32m━━━━━━━━━━━━━━━━━━━━\u001b[0m\u001b[37m\u001b[0m \u001b[1m0s\u001b[0m 19ms/step - loss: 0.8224 - mean_absolute_percentage_error: 108.2194 - val_loss: 1.3691 - val_mean_absolute_percentage_error: 91.2290\n",
      "Epoch 85/250\n",
      "\u001b[1m2/2\u001b[0m \u001b[32m━━━━━━━━━━━━━━━━━━━━\u001b[0m\u001b[37m\u001b[0m \u001b[1m0s\u001b[0m 34ms/step - loss: 0.8204 - mean_absolute_percentage_error: 108.4893 - val_loss: 1.3637 - val_mean_absolute_percentage_error: 91.2334\n",
      "Epoch 86/250\n",
      "\u001b[1m2/2\u001b[0m \u001b[32m━━━━━━━━━━━━━━━━━━━━\u001b[0m\u001b[37m\u001b[0m \u001b[1m0s\u001b[0m 41ms/step - loss: 0.8185 - mean_absolute_percentage_error: 108.7568 - val_loss: 1.3583 - val_mean_absolute_percentage_error: 91.2376\n",
      "Epoch 87/250\n",
      "\u001b[1m2/2\u001b[0m \u001b[32m━━━━━━━━━━━━━━━━━━━━\u001b[0m\u001b[37m\u001b[0m \u001b[1m0s\u001b[0m 21ms/step - loss: 0.8166 - mean_absolute_percentage_error: 109.0217 - val_loss: 1.3529 - val_mean_absolute_percentage_error: 91.2416\n",
      "Epoch 88/250\n",
      "\u001b[1m2/2\u001b[0m \u001b[32m━━━━━━━━━━━━━━━━━━━━\u001b[0m\u001b[37m\u001b[0m \u001b[1m0s\u001b[0m 23ms/step - loss: 0.8146 - mean_absolute_percentage_error: 109.2837 - val_loss: 1.3474 - val_mean_absolute_percentage_error: 91.2452\n",
      "Epoch 89/250\n",
      "\u001b[1m2/2\u001b[0m \u001b[32m━━━━━━━━━━━━━━━━━━━━\u001b[0m\u001b[37m\u001b[0m \u001b[1m0s\u001b[0m 26ms/step - loss: 0.8126 - mean_absolute_percentage_error: 109.5426 - val_loss: 1.3420 - val_mean_absolute_percentage_error: 91.2484\n",
      "Epoch 90/250\n",
      "\u001b[1m2/2\u001b[0m \u001b[32m━━━━━━━━━━━━━━━━━━━━\u001b[0m\u001b[37m\u001b[0m \u001b[1m0s\u001b[0m 23ms/step - loss: 0.8106 - mean_absolute_percentage_error: 109.7982 - val_loss: 1.3365 - val_mean_absolute_percentage_error: 91.2512\n",
      "Epoch 91/250\n",
      "\u001b[1m2/2\u001b[0m \u001b[32m━━━━━━━━━━━━━━━━━━━━\u001b[0m\u001b[37m\u001b[0m \u001b[1m0s\u001b[0m 19ms/step - loss: 0.8086 - mean_absolute_percentage_error: 110.0503 - val_loss: 1.3311 - val_mean_absolute_percentage_error: 91.2533\n",
      "Epoch 92/250\n",
      "\u001b[1m2/2\u001b[0m \u001b[32m━━━━━━━━━━━━━━━━━━━━\u001b[0m\u001b[37m\u001b[0m \u001b[1m0s\u001b[0m 19ms/step - loss: 0.8066 - mean_absolute_percentage_error: 110.3026 - val_loss: 1.3256 - val_mean_absolute_percentage_error: 91.2548\n",
      "Epoch 93/250\n",
      "\u001b[1m2/2\u001b[0m \u001b[32m━━━━━━━━━━━━━━━━━━━━\u001b[0m\u001b[37m\u001b[0m \u001b[1m0s\u001b[0m 19ms/step - loss: 0.8046 - mean_absolute_percentage_error: 110.5646 - val_loss: 1.3202 - val_mean_absolute_percentage_error: 91.2556\n",
      "Epoch 94/250\n",
      "\u001b[1m2/2\u001b[0m \u001b[32m━━━━━━━━━━━━━━━━━━━━\u001b[0m\u001b[37m\u001b[0m \u001b[1m0s\u001b[0m 19ms/step - loss: 0.8026 - mean_absolute_percentage_error: 110.8331 - val_loss: 1.3147 - val_mean_absolute_percentage_error: 91.2555\n",
      "Epoch 95/250\n",
      "\u001b[1m2/2\u001b[0m \u001b[32m━━━━━━━━━━━━━━━━━━━━\u001b[0m\u001b[37m\u001b[0m \u001b[1m0s\u001b[0m 25ms/step - loss: 0.8005 - mean_absolute_percentage_error: 111.0973 - val_loss: 1.3093 - val_mean_absolute_percentage_error: 91.2546\n",
      "Epoch 96/250\n",
      "\u001b[1m2/2\u001b[0m \u001b[32m━━━━━━━━━━━━━━━━━━━━\u001b[0m\u001b[37m\u001b[0m \u001b[1m0s\u001b[0m 18ms/step - loss: 0.7985 - mean_absolute_percentage_error: 111.3569 - val_loss: 1.3038 - val_mean_absolute_percentage_error: 91.2527\n",
      "Epoch 97/250\n",
      "\u001b[1m2/2\u001b[0m \u001b[32m━━━━━━━━━━━━━━━━━━━━\u001b[0m\u001b[37m\u001b[0m \u001b[1m0s\u001b[0m 18ms/step - loss: 0.7964 - mean_absolute_percentage_error: 111.6242 - val_loss: 1.2984 - val_mean_absolute_percentage_error: 91.2498\n",
      "Epoch 98/250\n",
      "\u001b[1m2/2\u001b[0m \u001b[32m━━━━━━━━━━━━━━━━━━━━\u001b[0m\u001b[37m\u001b[0m \u001b[1m0s\u001b[0m 19ms/step - loss: 0.7944 - mean_absolute_percentage_error: 111.8893 - val_loss: 1.2930 - val_mean_absolute_percentage_error: 91.2458\n",
      "Epoch 99/250\n",
      "\u001b[1m2/2\u001b[0m \u001b[32m━━━━━━━━━━━━━━━━━━━━\u001b[0m\u001b[37m\u001b[0m \u001b[1m0s\u001b[0m 24ms/step - loss: 0.7923 - mean_absolute_percentage_error: 112.1496 - val_loss: 1.2875 - val_mean_absolute_percentage_error: 91.2408\n",
      "Epoch 100/250\n",
      "\u001b[1m2/2\u001b[0m \u001b[32m━━━━━━━━━━━━━━━━━━━━\u001b[0m\u001b[37m\u001b[0m \u001b[1m0s\u001b[0m 23ms/step - loss: 0.7902 - mean_absolute_percentage_error: 112.4050 - val_loss: 1.2821 - val_mean_absolute_percentage_error: 91.2345\n",
      "Epoch 101/250\n",
      "\u001b[1m2/2\u001b[0m \u001b[32m━━━━━━━━━━━━━━━━━━━━\u001b[0m\u001b[37m\u001b[0m \u001b[1m0s\u001b[0m 18ms/step - loss: 0.7882 - mean_absolute_percentage_error: 112.6552 - val_loss: 1.2767 - val_mean_absolute_percentage_error: 91.2271\n",
      "Epoch 102/250\n",
      "\u001b[1m2/2\u001b[0m \u001b[32m━━━━━━━━━━━━━━━━━━━━\u001b[0m\u001b[37m\u001b[0m \u001b[1m0s\u001b[0m 18ms/step - loss: 0.7861 - mean_absolute_percentage_error: 112.9002 - val_loss: 1.2713 - val_mean_absolute_percentage_error: 91.2184\n",
      "Epoch 103/250\n",
      "\u001b[1m2/2\u001b[0m \u001b[32m━━━━━━━━━━━━━━━━━━━━\u001b[0m\u001b[37m\u001b[0m \u001b[1m0s\u001b[0m 23ms/step - loss: 0.7840 - mean_absolute_percentage_error: 113.1398 - val_loss: 1.2659 - val_mean_absolute_percentage_error: 91.2085\n",
      "Epoch 104/250\n",
      "\u001b[1m2/2\u001b[0m \u001b[32m━━━━━━━━━━━━━━━━━━━━\u001b[0m\u001b[37m\u001b[0m \u001b[1m0s\u001b[0m 18ms/step - loss: 0.7820 - mean_absolute_percentage_error: 113.3745 - val_loss: 1.2605 - val_mean_absolute_percentage_error: 91.1972\n",
      "Epoch 105/250\n",
      "\u001b[1m2/2\u001b[0m \u001b[32m━━━━━━━━━━━━━━━━━━━━\u001b[0m\u001b[37m\u001b[0m \u001b[1m0s\u001b[0m 18ms/step - loss: 0.7799 - mean_absolute_percentage_error: 113.6105 - val_loss: 1.2551 - val_mean_absolute_percentage_error: 91.1847\n",
      "Epoch 106/250\n",
      "\u001b[1m2/2\u001b[0m \u001b[32m━━━━━━━━━━━━━━━━━━━━\u001b[0m\u001b[37m\u001b[0m \u001b[1m0s\u001b[0m 24ms/step - loss: 0.7778 - mean_absolute_percentage_error: 113.8408 - val_loss: 1.2498 - val_mean_absolute_percentage_error: 91.1709\n",
      "Epoch 107/250\n",
      "\u001b[1m2/2\u001b[0m \u001b[32m━━━━━━━━━━━━━━━━━━━━\u001b[0m\u001b[37m\u001b[0m \u001b[1m0s\u001b[0m 29ms/step - loss: 0.7758 - mean_absolute_percentage_error: 114.0655 - val_loss: 1.2444 - val_mean_absolute_percentage_error: 91.1558\n",
      "Epoch 108/250\n",
      "\u001b[1m2/2\u001b[0m \u001b[32m━━━━━━━━━━━━━━━━━━━━\u001b[0m\u001b[37m\u001b[0m \u001b[1m0s\u001b[0m 53ms/step - loss: 0.7737 - mean_absolute_percentage_error: 114.2844 - val_loss: 1.2391 - val_mean_absolute_percentage_error: 91.1393\n",
      "Epoch 109/250\n",
      "\u001b[1m2/2\u001b[0m \u001b[32m━━━━━━━━━━━━━━━━━━━━\u001b[0m\u001b[37m\u001b[0m \u001b[1m0s\u001b[0m 27ms/step - loss: 0.7717 - mean_absolute_percentage_error: 114.4976 - val_loss: 1.2338 - val_mean_absolute_percentage_error: 91.1216\n",
      "Epoch 110/250\n",
      "\u001b[1m2/2\u001b[0m \u001b[32m━━━━━━━━━━━━━━━━━━━━\u001b[0m\u001b[37m\u001b[0m \u001b[1m0s\u001b[0m 19ms/step - loss: 0.7697 - mean_absolute_percentage_error: 114.7049 - val_loss: 1.2285 - val_mean_absolute_percentage_error: 91.1025\n",
      "Epoch 111/250\n",
      "\u001b[1m2/2\u001b[0m \u001b[32m━━━━━━━━━━━━━━━━━━━━\u001b[0m\u001b[37m\u001b[0m \u001b[1m0s\u001b[0m 20ms/step - loss: 0.7676 - mean_absolute_percentage_error: 114.9065 - val_loss: 1.2233 - val_mean_absolute_percentage_error: 91.0821\n",
      "Epoch 112/250\n",
      "\u001b[1m2/2\u001b[0m \u001b[32m━━━━━━━━━━━━━━━━━━━━\u001b[0m\u001b[37m\u001b[0m \u001b[1m0s\u001b[0m 24ms/step - loss: 0.7656 - mean_absolute_percentage_error: 115.1023 - val_loss: 1.2180 - val_mean_absolute_percentage_error: 91.0603\n",
      "Epoch 113/250\n",
      "\u001b[1m2/2\u001b[0m \u001b[32m━━━━━━━━━━━━━━━━━━━━\u001b[0m\u001b[37m\u001b[0m \u001b[1m0s\u001b[0m 18ms/step - loss: 0.7636 - mean_absolute_percentage_error: 115.2924 - val_loss: 1.2128 - val_mean_absolute_percentage_error: 91.0373\n",
      "Epoch 114/250\n",
      "\u001b[1m2/2\u001b[0m \u001b[32m━━━━━━━━━━━━━━━━━━━━\u001b[0m\u001b[37m\u001b[0m \u001b[1m0s\u001b[0m 18ms/step - loss: 0.7616 - mean_absolute_percentage_error: 115.4767 - val_loss: 1.2076 - val_mean_absolute_percentage_error: 91.0129\n",
      "Epoch 115/250\n",
      "\u001b[1m2/2\u001b[0m \u001b[32m━━━━━━━━━━━━━━━━━━━━\u001b[0m\u001b[37m\u001b[0m \u001b[1m0s\u001b[0m 19ms/step - loss: 0.7596 - mean_absolute_percentage_error: 115.6554 - val_loss: 1.2024 - val_mean_absolute_percentage_error: 90.9873\n",
      "Epoch 116/250\n",
      "\u001b[1m2/2\u001b[0m \u001b[32m━━━━━━━━━━━━━━━━━━━━\u001b[0m\u001b[37m\u001b[0m \u001b[1m0s\u001b[0m 19ms/step - loss: 0.7576 - mean_absolute_percentage_error: 115.8283 - val_loss: 1.1973 - val_mean_absolute_percentage_error: 90.9603\n",
      "Epoch 117/250\n",
      "\u001b[1m2/2\u001b[0m \u001b[32m━━━━━━━━━━━━━━━━━━━━\u001b[0m\u001b[37m\u001b[0m \u001b[1m0s\u001b[0m 18ms/step - loss: 0.7557 - mean_absolute_percentage_error: 115.9956 - val_loss: 1.1921 - val_mean_absolute_percentage_error: 90.9320\n",
      "Epoch 118/250\n",
      "\u001b[1m2/2\u001b[0m \u001b[32m━━━━━━━━━━━━━━━━━━━━\u001b[0m\u001b[37m\u001b[0m \u001b[1m0s\u001b[0m 18ms/step - loss: 0.7537 - mean_absolute_percentage_error: 116.1696 - val_loss: 1.1870 - val_mean_absolute_percentage_error: 90.9025\n",
      "Epoch 119/250\n",
      "\u001b[1m2/2\u001b[0m \u001b[32m━━━━━━━━━━━━━━━━━━━━\u001b[0m\u001b[37m\u001b[0m \u001b[1m0s\u001b[0m 18ms/step - loss: 0.7518 - mean_absolute_percentage_error: 116.3462 - val_loss: 1.1819 - val_mean_absolute_percentage_error: 90.8716\n",
      "Epoch 120/250\n",
      "\u001b[1m2/2\u001b[0m \u001b[32m━━━━━━━━━━━━━━━━━━━━\u001b[0m\u001b[37m\u001b[0m \u001b[1m0s\u001b[0m 19ms/step - loss: 0.7498 - mean_absolute_percentage_error: 116.5170 - val_loss: 1.1769 - val_mean_absolute_percentage_error: 90.8395\n",
      "Epoch 121/250\n",
      "\u001b[1m2/2\u001b[0m \u001b[32m━━━━━━━━━━━━━━━━━━━━\u001b[0m\u001b[37m\u001b[0m \u001b[1m0s\u001b[0m 26ms/step - loss: 0.7479 - mean_absolute_percentage_error: 116.6821 - val_loss: 1.1718 - val_mean_absolute_percentage_error: 90.8061\n",
      "Epoch 122/250\n",
      "\u001b[1m2/2\u001b[0m \u001b[32m━━━━━━━━━━━━━━━━━━━━\u001b[0m\u001b[37m\u001b[0m \u001b[1m0s\u001b[0m 19ms/step - loss: 0.7460 - mean_absolute_percentage_error: 116.8416 - val_loss: 1.1668 - val_mean_absolute_percentage_error: 90.7714\n",
      "Epoch 123/250\n",
      "\u001b[1m2/2\u001b[0m \u001b[32m━━━━━━━━━━━━━━━━━━━━\u001b[0m\u001b[37m\u001b[0m \u001b[1m0s\u001b[0m 19ms/step - loss: 0.7441 - mean_absolute_percentage_error: 116.9955 - val_loss: 1.1618 - val_mean_absolute_percentage_error: 90.7354\n",
      "Epoch 124/250\n",
      "\u001b[1m2/2\u001b[0m \u001b[32m━━━━━━━━━━━━━━━━━━━━\u001b[0m\u001b[37m\u001b[0m \u001b[1m0s\u001b[0m 20ms/step - loss: 0.7423 - mean_absolute_percentage_error: 117.1438 - val_loss: 1.1569 - val_mean_absolute_percentage_error: 90.6982\n",
      "Epoch 125/250\n",
      "\u001b[1m2/2\u001b[0m \u001b[32m━━━━━━━━━━━━━━━━━━━━\u001b[0m\u001b[37m\u001b[0m \u001b[1m0s\u001b[0m 25ms/step - loss: 0.7404 - mean_absolute_percentage_error: 117.2866 - val_loss: 1.1519 - val_mean_absolute_percentage_error: 90.6598\n",
      "Epoch 126/250\n",
      "\u001b[1m2/2\u001b[0m \u001b[32m━━━━━━━━━━━━━━━━━━━━\u001b[0m\u001b[37m\u001b[0m \u001b[1m0s\u001b[0m 20ms/step - loss: 0.7386 - mean_absolute_percentage_error: 117.4241 - val_loss: 1.1470 - val_mean_absolute_percentage_error: 90.6201\n",
      "Epoch 127/250\n",
      "\u001b[1m2/2\u001b[0m \u001b[32m━━━━━━━━━━━━━━━━━━━━\u001b[0m\u001b[37m\u001b[0m \u001b[1m0s\u001b[0m 18ms/step - loss: 0.7367 - mean_absolute_percentage_error: 117.5562 - val_loss: 1.1421 - val_mean_absolute_percentage_error: 90.5791\n",
      "Epoch 128/250\n",
      "\u001b[1m2/2\u001b[0m \u001b[32m━━━━━━━━━━━━━━━━━━━━\u001b[0m\u001b[37m\u001b[0m \u001b[1m0s\u001b[0m 41ms/step - loss: 0.7349 - mean_absolute_percentage_error: 117.6831 - val_loss: 1.1372 - val_mean_absolute_percentage_error: 90.5370\n",
      "Epoch 129/250\n",
      "\u001b[1m2/2\u001b[0m \u001b[32m━━━━━━━━━━━━━━━━━━━━\u001b[0m\u001b[37m\u001b[0m \u001b[1m0s\u001b[0m 23ms/step - loss: 0.7331 - mean_absolute_percentage_error: 117.8048 - val_loss: 1.1323 - val_mean_absolute_percentage_error: 90.4937\n",
      "Epoch 130/250\n",
      "\u001b[1m2/2\u001b[0m \u001b[32m━━━━━━━━━━━━━━━━━━━━\u001b[0m\u001b[37m\u001b[0m \u001b[1m0s\u001b[0m 22ms/step - loss: 0.7313 - mean_absolute_percentage_error: 117.9254 - val_loss: 1.1275 - val_mean_absolute_percentage_error: 90.4491\n",
      "Epoch 131/250\n",
      "\u001b[1m2/2\u001b[0m \u001b[32m━━━━━━━━━━━━━━━━━━━━\u001b[0m\u001b[37m\u001b[0m \u001b[1m0s\u001b[0m 18ms/step - loss: 0.7295 - mean_absolute_percentage_error: 118.0776 - val_loss: 1.1227 - val_mean_absolute_percentage_error: 90.4034\n",
      "Epoch 132/250\n",
      "\u001b[1m2/2\u001b[0m \u001b[32m━━━━━━━━━━━━━━━━━━━━\u001b[0m\u001b[37m\u001b[0m \u001b[1m0s\u001b[0m 18ms/step - loss: 0.7278 - mean_absolute_percentage_error: 118.2277 - val_loss: 1.1179 - val_mean_absolute_percentage_error: 90.3566\n",
      "Epoch 133/250\n",
      "\u001b[1m2/2\u001b[0m \u001b[32m━━━━━━━━━━━━━━━━━━━━\u001b[0m\u001b[37m\u001b[0m \u001b[1m0s\u001b[0m 19ms/step - loss: 0.7260 - mean_absolute_percentage_error: 118.3738 - val_loss: 1.1131 - val_mean_absolute_percentage_error: 90.3086\n",
      "Epoch 134/250\n",
      "\u001b[1m2/2\u001b[0m \u001b[32m━━━━━━━━━━━━━━━━━━━━\u001b[0m\u001b[37m\u001b[0m \u001b[1m0s\u001b[0m 19ms/step - loss: 0.7243 - mean_absolute_percentage_error: 118.5227 - val_loss: 1.1084 - val_mean_absolute_percentage_error: 90.2594\n",
      "Epoch 135/250\n",
      "\u001b[1m2/2\u001b[0m \u001b[32m━━━━━━━━━━━━━━━━━━━━\u001b[0m\u001b[37m\u001b[0m \u001b[1m0s\u001b[0m 19ms/step - loss: 0.7226 - mean_absolute_percentage_error: 118.6681 - val_loss: 1.1036 - val_mean_absolute_percentage_error: 90.2092\n",
      "Epoch 136/250\n",
      "\u001b[1m2/2\u001b[0m \u001b[32m━━━━━━━━━━━━━━━━━━━━\u001b[0m\u001b[37m\u001b[0m \u001b[1m0s\u001b[0m 19ms/step - loss: 0.7208 - mean_absolute_percentage_error: 118.8096 - val_loss: 1.0989 - val_mean_absolute_percentage_error: 90.1579\n",
      "Epoch 137/250\n",
      "\u001b[1m2/2\u001b[0m \u001b[32m━━━━━━━━━━━━━━━━━━━━\u001b[0m\u001b[37m\u001b[0m \u001b[1m0s\u001b[0m 24ms/step - loss: 0.7191 - mean_absolute_percentage_error: 118.9474 - val_loss: 1.0942 - val_mean_absolute_percentage_error: 90.1054\n",
      "Epoch 138/250\n",
      "\u001b[1m2/2\u001b[0m \u001b[32m━━━━━━━━━━━━━━━━━━━━\u001b[0m\u001b[37m\u001b[0m \u001b[1m0s\u001b[0m 25ms/step - loss: 0.7174 - mean_absolute_percentage_error: 119.0814 - val_loss: 1.0895 - val_mean_absolute_percentage_error: 90.0519\n",
      "Epoch 139/250\n",
      "\u001b[1m2/2\u001b[0m \u001b[32m━━━━━━━━━━━━━━━━━━━━\u001b[0m\u001b[37m\u001b[0m \u001b[1m0s\u001b[0m 26ms/step - loss: 0.7157 - mean_absolute_percentage_error: 119.2118 - val_loss: 1.0848 - val_mean_absolute_percentage_error: 89.9974\n",
      "Epoch 140/250\n",
      "\u001b[1m2/2\u001b[0m \u001b[32m━━━━━━━━━━━━━━━━━━━━\u001b[0m\u001b[37m\u001b[0m \u001b[1m0s\u001b[0m 25ms/step - loss: 0.7141 - mean_absolute_percentage_error: 119.3387 - val_loss: 1.0802 - val_mean_absolute_percentage_error: 89.9418\n",
      "Epoch 141/250\n",
      "\u001b[1m2/2\u001b[0m \u001b[32m━━━━━━━━━━━━━━━━━━━━\u001b[0m\u001b[37m\u001b[0m \u001b[1m0s\u001b[0m 19ms/step - loss: 0.7124 - mean_absolute_percentage_error: 119.4632 - val_loss: 1.0755 - val_mean_absolute_percentage_error: 89.8852\n",
      "Epoch 142/250\n",
      "\u001b[1m2/2\u001b[0m \u001b[32m━━━━━━━━━━━━━━━━━━━━\u001b[0m\u001b[37m\u001b[0m \u001b[1m0s\u001b[0m 27ms/step - loss: 0.7107 - mean_absolute_percentage_error: 119.6091 - val_loss: 1.0709 - val_mean_absolute_percentage_error: 89.8276\n",
      "Epoch 143/250\n",
      "\u001b[1m2/2\u001b[0m \u001b[32m━━━━━━━━━━━━━━━━━━━━\u001b[0m\u001b[37m\u001b[0m \u001b[1m0s\u001b[0m 19ms/step - loss: 0.7091 - mean_absolute_percentage_error: 119.7517 - val_loss: 1.0663 - val_mean_absolute_percentage_error: 89.7690\n",
      "Epoch 144/250\n",
      "\u001b[1m2/2\u001b[0m \u001b[32m━━━━━━━━━━━━━━━━━━━━\u001b[0m\u001b[37m\u001b[0m \u001b[1m0s\u001b[0m 20ms/step - loss: 0.7074 - mean_absolute_percentage_error: 119.8910 - val_loss: 1.0616 - val_mean_absolute_percentage_error: 89.7093\n",
      "Epoch 145/250\n",
      "\u001b[1m2/2\u001b[0m \u001b[32m━━━━━━━━━━━━━━━━━━━━\u001b[0m\u001b[37m\u001b[0m \u001b[1m0s\u001b[0m 18ms/step - loss: 0.7058 - mean_absolute_percentage_error: 120.0271 - val_loss: 1.0570 - val_mean_absolute_percentage_error: 89.6487\n",
      "Epoch 146/250\n",
      "\u001b[1m2/2\u001b[0m \u001b[32m━━━━━━━━━━━━━━━━━━━━\u001b[0m\u001b[37m\u001b[0m \u001b[1m0s\u001b[0m 19ms/step - loss: 0.7041 - mean_absolute_percentage_error: 120.1600 - val_loss: 1.0525 - val_mean_absolute_percentage_error: 89.5871\n",
      "Epoch 147/250\n",
      "\u001b[1m2/2\u001b[0m \u001b[32m━━━━━━━━━━━━━━━━━━━━\u001b[0m\u001b[37m\u001b[0m \u001b[1m0s\u001b[0m 37ms/step - loss: 0.7025 - mean_absolute_percentage_error: 120.2939 - val_loss: 1.0479 - val_mean_absolute_percentage_error: 89.5245\n",
      "Epoch 148/250\n",
      "\u001b[1m2/2\u001b[0m \u001b[32m━━━━━━━━━━━━━━━━━━━━\u001b[0m\u001b[37m\u001b[0m \u001b[1m0s\u001b[0m 28ms/step - loss: 0.7009 - mean_absolute_percentage_error: 120.4257 - val_loss: 1.0433 - val_mean_absolute_percentage_error: 89.4610\n",
      "Epoch 149/250\n",
      "\u001b[1m2/2\u001b[0m \u001b[32m━━━━━━━━━━━━━━━━━━━━\u001b[0m\u001b[37m\u001b[0m \u001b[1m0s\u001b[0m 20ms/step - loss: 0.6993 - mean_absolute_percentage_error: 120.5578 - val_loss: 1.0387 - val_mean_absolute_percentage_error: 89.3965\n",
      "Epoch 150/250\n",
      "\u001b[1m2/2\u001b[0m \u001b[32m━━━━━━━━━━━━━━━━━━━━\u001b[0m\u001b[37m\u001b[0m \u001b[1m0s\u001b[0m 24ms/step - loss: 0.6977 - mean_absolute_percentage_error: 120.6867 - val_loss: 1.0342 - val_mean_absolute_percentage_error: 89.3310\n",
      "Epoch 151/250\n",
      "\u001b[1m2/2\u001b[0m \u001b[32m━━━━━━━━━━━━━━━━━━━━\u001b[0m\u001b[37m\u001b[0m \u001b[1m0s\u001b[0m 31ms/step - loss: 0.6961 - mean_absolute_percentage_error: 120.8125 - val_loss: 1.0296 - val_mean_absolute_percentage_error: 89.2646\n",
      "Epoch 152/250\n",
      "\u001b[1m2/2\u001b[0m \u001b[32m━━━━━━━━━━━━━━━━━━━━\u001b[0m\u001b[37m\u001b[0m \u001b[1m0s\u001b[0m 28ms/step - loss: 0.6945 - mean_absolute_percentage_error: 120.9351 - val_loss: 1.0251 - val_mean_absolute_percentage_error: 89.1972\n",
      "Epoch 153/250\n",
      "\u001b[1m2/2\u001b[0m \u001b[32m━━━━━━━━━━━━━━━━━━━━\u001b[0m\u001b[37m\u001b[0m \u001b[1m0s\u001b[0m 18ms/step - loss: 0.6929 - mean_absolute_percentage_error: 121.0546 - val_loss: 1.0205 - val_mean_absolute_percentage_error: 89.1289\n",
      "Epoch 154/250\n",
      "\u001b[1m2/2\u001b[0m \u001b[32m━━━━━━━━━━━━━━━━━━━━\u001b[0m\u001b[37m\u001b[0m \u001b[1m0s\u001b[0m 21ms/step - loss: 0.6913 - mean_absolute_percentage_error: 121.1710 - val_loss: 1.0160 - val_mean_absolute_percentage_error: 89.0596\n",
      "Epoch 155/250\n",
      "\u001b[1m2/2\u001b[0m \u001b[32m━━━━━━━━━━━━━━━━━━━━\u001b[0m\u001b[37m\u001b[0m \u001b[1m0s\u001b[0m 27ms/step - loss: 0.6897 - mean_absolute_percentage_error: 121.2843 - val_loss: 1.0115 - val_mean_absolute_percentage_error: 88.9893\n",
      "Epoch 156/250\n",
      "\u001b[1m2/2\u001b[0m \u001b[32m━━━━━━━━━━━━━━━━━━━━\u001b[0m\u001b[37m\u001b[0m \u001b[1m0s\u001b[0m 25ms/step - loss: 0.6881 - mean_absolute_percentage_error: 121.3945 - val_loss: 1.0069 - val_mean_absolute_percentage_error: 88.9181\n",
      "Epoch 157/250\n",
      "\u001b[1m2/2\u001b[0m \u001b[32m━━━━━━━━━━━━━━━━━━━━\u001b[0m\u001b[37m\u001b[0m \u001b[1m0s\u001b[0m 23ms/step - loss: 0.6865 - mean_absolute_percentage_error: 121.5017 - val_loss: 1.0024 - val_mean_absolute_percentage_error: 88.8459\n",
      "Epoch 158/250\n",
      "\u001b[1m2/2\u001b[0m \u001b[32m━━━━━━━━━━━━━━━━━━━━\u001b[0m\u001b[37m\u001b[0m \u001b[1m0s\u001b[0m 25ms/step - loss: 0.6849 - mean_absolute_percentage_error: 121.6105 - val_loss: 0.9979 - val_mean_absolute_percentage_error: 88.7728\n",
      "Epoch 159/250\n",
      "\u001b[1m2/2\u001b[0m \u001b[32m━━━━━━━━━━━━━━━━━━━━\u001b[0m\u001b[37m\u001b[0m \u001b[1m0s\u001b[0m 25ms/step - loss: 0.6834 - mean_absolute_percentage_error: 121.7188 - val_loss: 0.9933 - val_mean_absolute_percentage_error: 88.6987\n",
      "Epoch 160/250\n",
      "\u001b[1m2/2\u001b[0m \u001b[32m━━━━━━━━━━━━━━━━━━━━\u001b[0m\u001b[37m\u001b[0m \u001b[1m0s\u001b[0m 24ms/step - loss: 0.6818 - mean_absolute_percentage_error: 121.8265 - val_loss: 0.9888 - val_mean_absolute_percentage_error: 88.6236\n",
      "Epoch 161/250\n",
      "\u001b[1m2/2\u001b[0m \u001b[32m━━━━━━━━━━━━━━━━━━━━\u001b[0m\u001b[37m\u001b[0m \u001b[1m0s\u001b[0m 27ms/step - loss: 0.6802 - mean_absolute_percentage_error: 121.9373 - val_loss: 0.9843 - val_mean_absolute_percentage_error: 88.5475\n",
      "Epoch 162/250\n",
      "\u001b[1m2/2\u001b[0m \u001b[32m━━━━━━━━━━━━━━━━━━━━\u001b[0m\u001b[37m\u001b[0m \u001b[1m0s\u001b[0m 23ms/step - loss: 0.6786 - mean_absolute_percentage_error: 122.0543 - val_loss: 0.9797 - val_mean_absolute_percentage_error: 88.4705\n",
      "Epoch 163/250\n",
      "\u001b[1m2/2\u001b[0m \u001b[32m━━━━━━━━━━━━━━━━━━━━\u001b[0m\u001b[37m\u001b[0m \u001b[1m0s\u001b[0m 21ms/step - loss: 0.6771 - mean_absolute_percentage_error: 122.1935 - val_loss: 0.9752 - val_mean_absolute_percentage_error: 88.3925\n",
      "Epoch 164/250\n",
      "\u001b[1m2/2\u001b[0m \u001b[32m━━━━━━━━━━━━━━━━━━━━\u001b[0m\u001b[37m\u001b[0m \u001b[1m0s\u001b[0m 19ms/step - loss: 0.6755 - mean_absolute_percentage_error: 122.3872 - val_loss: 0.9707 - val_mean_absolute_percentage_error: 88.3135\n",
      "Epoch 165/250\n",
      "\u001b[1m2/2\u001b[0m \u001b[32m━━━━━━━━━━━━━━━━━━━━\u001b[0m\u001b[37m\u001b[0m \u001b[1m0s\u001b[0m 32ms/step - loss: 0.6740 - mean_absolute_percentage_error: 122.5787 - val_loss: 0.9661 - val_mean_absolute_percentage_error: 88.2335\n",
      "Epoch 166/250\n",
      "\u001b[1m2/2\u001b[0m \u001b[32m━━━━━━━━━━━━━━━━━━━━\u001b[0m\u001b[37m\u001b[0m \u001b[1m0s\u001b[0m 20ms/step - loss: 0.6724 - mean_absolute_percentage_error: 122.7678 - val_loss: 0.9616 - val_mean_absolute_percentage_error: 88.1789\n",
      "Epoch 167/250\n",
      "\u001b[1m2/2\u001b[0m \u001b[32m━━━━━━━━━━━━━━━━━━━━\u001b[0m\u001b[37m\u001b[0m \u001b[1m0s\u001b[0m 27ms/step - loss: 0.6708 - mean_absolute_percentage_error: 122.9546 - val_loss: 0.9570 - val_mean_absolute_percentage_error: 88.1432\n",
      "Epoch 168/250\n",
      "\u001b[1m2/2\u001b[0m \u001b[32m━━━━━━━━━━━━━━━━━━━━\u001b[0m\u001b[37m\u001b[0m \u001b[1m0s\u001b[0m 29ms/step - loss: 0.6693 - mean_absolute_percentage_error: 123.1390 - val_loss: 0.9525 - val_mean_absolute_percentage_error: 88.1056\n",
      "Epoch 169/250\n",
      "\u001b[1m2/2\u001b[0m \u001b[32m━━━━━━━━━━━━━━━━━━━━\u001b[0m\u001b[37m\u001b[0m \u001b[1m0s\u001b[0m 29ms/step - loss: 0.6677 - mean_absolute_percentage_error: 123.3211 - val_loss: 0.9480 - val_mean_absolute_percentage_error: 88.0661\n",
      "Epoch 170/250\n",
      "\u001b[1m2/2\u001b[0m \u001b[32m━━━━━━━━━━━━━━━━━━━━\u001b[0m\u001b[37m\u001b[0m \u001b[1m0s\u001b[0m 26ms/step - loss: 0.6662 - mean_absolute_percentage_error: 123.5008 - val_loss: 0.9434 - val_mean_absolute_percentage_error: 88.0298\n",
      "Epoch 171/250\n",
      "\u001b[1m2/2\u001b[0m \u001b[32m━━━━━━━━━━━━━━━━━━━━\u001b[0m\u001b[37m\u001b[0m \u001b[1m0s\u001b[0m 30ms/step - loss: 0.6646 - mean_absolute_percentage_error: 123.6781 - val_loss: 0.9389 - val_mean_absolute_percentage_error: 88.0075\n",
      "Epoch 172/250\n",
      "\u001b[1m2/2\u001b[0m \u001b[32m━━━━━━━━━━━━━━━━━━━━\u001b[0m\u001b[37m\u001b[0m \u001b[1m0s\u001b[0m 21ms/step - loss: 0.6631 - mean_absolute_percentage_error: 123.8529 - val_loss: 0.9343 - val_mean_absolute_percentage_error: 87.9830\n",
      "Epoch 173/250\n",
      "\u001b[1m2/2\u001b[0m \u001b[32m━━━━━━━━━━━━━━━━━━━━\u001b[0m\u001b[37m\u001b[0m \u001b[1m0s\u001b[0m 27ms/step - loss: 0.6615 - mean_absolute_percentage_error: 124.0253 - val_loss: 0.9297 - val_mean_absolute_percentage_error: 87.9563\n",
      "Epoch 174/250\n",
      "\u001b[1m2/2\u001b[0m \u001b[32m━━━━━━━━━━━━━━━━━━━━\u001b[0m\u001b[37m\u001b[0m \u001b[1m0s\u001b[0m 23ms/step - loss: 0.6600 - mean_absolute_percentage_error: 124.1952 - val_loss: 0.9252 - val_mean_absolute_percentage_error: 87.9273\n",
      "Epoch 175/250\n",
      "\u001b[1m2/2\u001b[0m \u001b[32m━━━━━━━━━━━━━━━━━━━━\u001b[0m\u001b[37m\u001b[0m \u001b[1m0s\u001b[0m 20ms/step - loss: 0.6584 - mean_absolute_percentage_error: 124.3626 - val_loss: 0.9206 - val_mean_absolute_percentage_error: 87.8959\n",
      "Epoch 176/250\n",
      "\u001b[1m2/2\u001b[0m \u001b[32m━━━━━━━━━━━━━━━━━━━━\u001b[0m\u001b[37m\u001b[0m \u001b[1m0s\u001b[0m 24ms/step - loss: 0.6569 - mean_absolute_percentage_error: 124.5274 - val_loss: 0.9160 - val_mean_absolute_percentage_error: 87.8621\n",
      "Epoch 177/250\n",
      "\u001b[1m2/2\u001b[0m \u001b[32m━━━━━━━━━━━━━━━━━━━━\u001b[0m\u001b[37m\u001b[0m \u001b[1m0s\u001b[0m 20ms/step - loss: 0.6553 - mean_absolute_percentage_error: 124.6896 - val_loss: 0.9115 - val_mean_absolute_percentage_error: 87.8259\n",
      "Epoch 178/250\n",
      "\u001b[1m2/2\u001b[0m \u001b[32m━━━━━━━━━━━━━━━━━━━━\u001b[0m\u001b[37m\u001b[0m \u001b[1m0s\u001b[0m 21ms/step - loss: 0.6538 - mean_absolute_percentage_error: 124.8492 - val_loss: 0.9069 - val_mean_absolute_percentage_error: 87.7873\n",
      "Epoch 179/250\n",
      "\u001b[1m2/2\u001b[0m \u001b[32m━━━━━━━━━━━━━━━━━━━━\u001b[0m\u001b[37m\u001b[0m \u001b[1m0s\u001b[0m 21ms/step - loss: 0.6522 - mean_absolute_percentage_error: 125.0061 - val_loss: 0.9023 - val_mean_absolute_percentage_error: 87.7461\n",
      "Epoch 180/250\n",
      "\u001b[1m2/2\u001b[0m \u001b[32m━━━━━━━━━━━━━━━━━━━━\u001b[0m\u001b[37m\u001b[0m \u001b[1m0s\u001b[0m 20ms/step - loss: 0.6507 - mean_absolute_percentage_error: 125.1603 - val_loss: 0.8977 - val_mean_absolute_percentage_error: 87.7023\n",
      "Epoch 181/250\n",
      "\u001b[1m2/2\u001b[0m \u001b[32m━━━━━━━━━━━━━━━━━━━━\u001b[0m\u001b[37m\u001b[0m \u001b[1m0s\u001b[0m 21ms/step - loss: 0.6492 - mean_absolute_percentage_error: 125.3116 - val_loss: 0.8931 - val_mean_absolute_percentage_error: 87.6560\n",
      "Epoch 182/250\n",
      "\u001b[1m2/2\u001b[0m \u001b[32m━━━━━━━━━━━━━━━━━━━━\u001b[0m\u001b[37m\u001b[0m \u001b[1m0s\u001b[0m 20ms/step - loss: 0.6476 - mean_absolute_percentage_error: 125.4602 - val_loss: 0.8885 - val_mean_absolute_percentage_error: 87.6069\n",
      "Epoch 183/250\n",
      "\u001b[1m2/2\u001b[0m \u001b[32m━━━━━━━━━━━━━━━━━━━━\u001b[0m\u001b[37m\u001b[0m \u001b[1m0s\u001b[0m 19ms/step - loss: 0.6461 - mean_absolute_percentage_error: 125.6241 - val_loss: 0.8840 - val_mean_absolute_percentage_error: 87.5552\n",
      "Epoch 184/250\n",
      "\u001b[1m2/2\u001b[0m \u001b[32m━━━━━━━━━━━━━━━━━━━━\u001b[0m\u001b[37m\u001b[0m \u001b[1m0s\u001b[0m 19ms/step - loss: 0.6445 - mean_absolute_percentage_error: 125.7999 - val_loss: 0.8794 - val_mean_absolute_percentage_error: 87.5008\n",
      "Epoch 185/250\n",
      "\u001b[1m2/2\u001b[0m \u001b[32m━━━━━━━━━━━━━━━━━━━━\u001b[0m\u001b[37m\u001b[0m \u001b[1m0s\u001b[0m 20ms/step - loss: 0.6430 - mean_absolute_percentage_error: 125.9729 - val_loss: 0.8748 - val_mean_absolute_percentage_error: 87.4435\n",
      "Epoch 186/250\n",
      "\u001b[1m2/2\u001b[0m \u001b[32m━━━━━━━━━━━━━━━━━━━━\u001b[0m\u001b[37m\u001b[0m \u001b[1m0s\u001b[0m 33ms/step - loss: 0.6415 - mean_absolute_percentage_error: 126.1428 - val_loss: 0.8702 - val_mean_absolute_percentage_error: 87.3834\n",
      "Epoch 187/250\n",
      "\u001b[1m2/2\u001b[0m \u001b[32m━━━━━━━━━━━━━━━━━━━━\u001b[0m\u001b[37m\u001b[0m \u001b[1m0s\u001b[0m 39ms/step - loss: 0.6399 - mean_absolute_percentage_error: 126.3096 - val_loss: 0.8656 - val_mean_absolute_percentage_error: 87.3205\n",
      "Epoch 188/250\n",
      "\u001b[1m2/2\u001b[0m \u001b[32m━━━━━━━━━━━━━━━━━━━━\u001b[0m\u001b[37m\u001b[0m \u001b[1m0s\u001b[0m 20ms/step - loss: 0.6384 - mean_absolute_percentage_error: 126.4745 - val_loss: 0.8610 - val_mean_absolute_percentage_error: 87.2546\n",
      "Epoch 189/250\n",
      "\u001b[1m2/2\u001b[0m \u001b[32m━━━━━━━━━━━━━━━━━━━━\u001b[0m\u001b[37m\u001b[0m \u001b[1m0s\u001b[0m 20ms/step - loss: 0.6368 - mean_absolute_percentage_error: 126.6524 - val_loss: 0.8564 - val_mean_absolute_percentage_error: 87.1857\n",
      "Epoch 190/250\n",
      "\u001b[1m2/2\u001b[0m \u001b[32m━━━━━━━━━━━━━━━━━━━━\u001b[0m\u001b[37m\u001b[0m \u001b[1m0s\u001b[0m 20ms/step - loss: 0.6353 - mean_absolute_percentage_error: 126.8463 - val_loss: 0.8518 - val_mean_absolute_percentage_error: 87.1139\n",
      "Epoch 191/250\n",
      "\u001b[1m2/2\u001b[0m \u001b[32m━━━━━━━━━━━━━━━━━━━━\u001b[0m\u001b[37m\u001b[0m \u001b[1m0s\u001b[0m 18ms/step - loss: 0.6338 - mean_absolute_percentage_error: 127.0445 - val_loss: 0.8473 - val_mean_absolute_percentage_error: 87.0390\n",
      "Epoch 192/250\n",
      "\u001b[1m2/2\u001b[0m \u001b[32m━━━━━━━━━━━━━━━━━━━━\u001b[0m\u001b[37m\u001b[0m \u001b[1m0s\u001b[0m 20ms/step - loss: 0.6322 - mean_absolute_percentage_error: 127.2391 - val_loss: 0.8427 - val_mean_absolute_percentage_error: 86.9611\n",
      "Epoch 193/250\n",
      "\u001b[1m2/2\u001b[0m \u001b[32m━━━━━━━━━━━━━━━━━━━━\u001b[0m\u001b[37m\u001b[0m \u001b[1m0s\u001b[0m 23ms/step - loss: 0.6307 - mean_absolute_percentage_error: 127.4321 - val_loss: 0.8381 - val_mean_absolute_percentage_error: 86.8801\n",
      "Epoch 194/250\n",
      "\u001b[1m2/2\u001b[0m \u001b[32m━━━━━━━━━━━━━━━━━━━━\u001b[0m\u001b[37m\u001b[0m \u001b[1m0s\u001b[0m 21ms/step - loss: 0.6291 - mean_absolute_percentage_error: 127.6217 - val_loss: 0.8335 - val_mean_absolute_percentage_error: 86.7959\n",
      "Epoch 195/250\n",
      "\u001b[1m2/2\u001b[0m \u001b[32m━━━━━━━━━━━━━━━━━━━━\u001b[0m\u001b[37m\u001b[0m \u001b[1m0s\u001b[0m 21ms/step - loss: 0.6276 - mean_absolute_percentage_error: 127.8074 - val_loss: 0.8289 - val_mean_absolute_percentage_error: 86.7086\n",
      "Epoch 196/250\n",
      "\u001b[1m2/2\u001b[0m \u001b[32m━━━━━━━━━━━━━━━━━━━━\u001b[0m\u001b[37m\u001b[0m \u001b[1m0s\u001b[0m 22ms/step - loss: 0.6261 - mean_absolute_percentage_error: 127.9967 - val_loss: 0.8244 - val_mean_absolute_percentage_error: 86.6181\n",
      "Epoch 197/250\n",
      "\u001b[1m2/2\u001b[0m \u001b[32m━━━━━━━━━━━━━━━━━━━━\u001b[0m\u001b[37m\u001b[0m \u001b[1m0s\u001b[0m 19ms/step - loss: 0.6245 - mean_absolute_percentage_error: 128.1995 - val_loss: 0.8198 - val_mean_absolute_percentage_error: 86.5244\n",
      "Epoch 198/250\n",
      "\u001b[1m2/2\u001b[0m \u001b[32m━━━━━━━━━━━━━━━━━━━━\u001b[0m\u001b[37m\u001b[0m \u001b[1m0s\u001b[0m 19ms/step - loss: 0.6230 - mean_absolute_percentage_error: 128.3981 - val_loss: 0.8153 - val_mean_absolute_percentage_error: 86.4274\n",
      "Epoch 199/250\n",
      "\u001b[1m2/2\u001b[0m \u001b[32m━━━━━━━━━━━━━━━━━━━━\u001b[0m\u001b[37m\u001b[0m \u001b[1m0s\u001b[0m 62ms/step - loss: 0.6214 - mean_absolute_percentage_error: 128.5924 - val_loss: 0.8107 - val_mean_absolute_percentage_error: 86.3272\n",
      "Epoch 200/250\n",
      "\u001b[1m2/2\u001b[0m \u001b[32m━━━━━━━━━━━━━━━━━━━━\u001b[0m\u001b[37m\u001b[0m \u001b[1m0s\u001b[0m 24ms/step - loss: 0.6199 - mean_absolute_percentage_error: 128.7822 - val_loss: 0.8062 - val_mean_absolute_percentage_error: 86.2237\n",
      "Epoch 201/250\n",
      "\u001b[1m2/2\u001b[0m \u001b[32m━━━━━━━━━━━━━━━━━━━━\u001b[0m\u001b[37m\u001b[0m \u001b[1m0s\u001b[0m 30ms/step - loss: 0.6183 - mean_absolute_percentage_error: 128.9676 - val_loss: 0.8016 - val_mean_absolute_percentage_error: 86.1168\n",
      "Epoch 202/250\n",
      "\u001b[1m2/2\u001b[0m \u001b[32m━━━━━━━━━━━━━━━━━━━━\u001b[0m\u001b[37m\u001b[0m \u001b[1m0s\u001b[0m 22ms/step - loss: 0.6168 - mean_absolute_percentage_error: 129.1483 - val_loss: 0.7971 - val_mean_absolute_percentage_error: 86.0067\n",
      "Epoch 203/250\n",
      "\u001b[1m2/2\u001b[0m \u001b[32m━━━━━━━━━━━━━━━━━━━━\u001b[0m\u001b[37m\u001b[0m \u001b[1m0s\u001b[0m 23ms/step - loss: 0.6152 - mean_absolute_percentage_error: 129.3244 - val_loss: 0.7926 - val_mean_absolute_percentage_error: 85.8933\n",
      "Epoch 204/250\n",
      "\u001b[1m2/2\u001b[0m \u001b[32m━━━━━━━━━━━━━━━━━━━━\u001b[0m\u001b[37m\u001b[0m \u001b[1m0s\u001b[0m 30ms/step - loss: 0.6137 - mean_absolute_percentage_error: 129.4958 - val_loss: 0.7881 - val_mean_absolute_percentage_error: 85.7765\n",
      "Epoch 205/250\n",
      "\u001b[1m2/2\u001b[0m \u001b[32m━━━━━━━━━━━━━━━━━━━━\u001b[0m\u001b[37m\u001b[0m \u001b[1m0s\u001b[0m 27ms/step - loss: 0.6122 - mean_absolute_percentage_error: 129.6624 - val_loss: 0.7836 - val_mean_absolute_percentage_error: 85.6564\n",
      "Epoch 206/250\n",
      "\u001b[1m2/2\u001b[0m \u001b[32m━━━━━━━━━━━━━━━━━━━━\u001b[0m\u001b[37m\u001b[0m \u001b[1m0s\u001b[0m 20ms/step - loss: 0.6106 - mean_absolute_percentage_error: 129.8241 - val_loss: 0.7791 - val_mean_absolute_percentage_error: 85.5330\n",
      "Epoch 207/250\n",
      "\u001b[1m2/2\u001b[0m \u001b[32m━━━━━━━━━━━━━━━━━━━━\u001b[0m\u001b[37m\u001b[0m \u001b[1m0s\u001b[0m 22ms/step - loss: 0.6091 - mean_absolute_percentage_error: 129.9850 - val_loss: 0.7746 - val_mean_absolute_percentage_error: 85.4062\n",
      "Epoch 208/250\n",
      "\u001b[1m2/2\u001b[0m \u001b[32m━━━━━━━━━━━━━━━━━━━━\u001b[0m\u001b[37m\u001b[0m \u001b[1m0s\u001b[0m 19ms/step - loss: 0.6075 - mean_absolute_percentage_error: 130.1499 - val_loss: 0.7702 - val_mean_absolute_percentage_error: 85.2761\n",
      "Epoch 209/250\n",
      "\u001b[1m2/2\u001b[0m \u001b[32m━━━━━━━━━━━━━━━━━━━━\u001b[0m\u001b[37m\u001b[0m \u001b[1m0s\u001b[0m 26ms/step - loss: 0.6059 - mean_absolute_percentage_error: 130.3130 - val_loss: 0.7657 - val_mean_absolute_percentage_error: 85.1426\n",
      "Epoch 210/250\n",
      "\u001b[1m2/2\u001b[0m \u001b[32m━━━━━━━━━━━━━━━━━━━━\u001b[0m\u001b[37m\u001b[0m \u001b[1m0s\u001b[0m 22ms/step - loss: 0.6044 - mean_absolute_percentage_error: 130.4849 - val_loss: 0.7613 - val_mean_absolute_percentage_error: 85.0059\n",
      "Epoch 211/250\n",
      "\u001b[1m2/2\u001b[0m \u001b[32m━━━━━━━━━━━━━━━━━━━━\u001b[0m\u001b[37m\u001b[0m \u001b[1m0s\u001b[0m 27ms/step - loss: 0.6028 - mean_absolute_percentage_error: 130.6520 - val_loss: 0.7569 - val_mean_absolute_percentage_error: 84.8657\n",
      "Epoch 212/250\n",
      "\u001b[1m2/2\u001b[0m \u001b[32m━━━━━━━━━━━━━━━━━━━━\u001b[0m\u001b[37m\u001b[0m \u001b[1m0s\u001b[0m 27ms/step - loss: 0.6013 - mean_absolute_percentage_error: 130.8158 - val_loss: 0.7525 - val_mean_absolute_percentage_error: 84.7223\n",
      "Epoch 213/250\n",
      "\u001b[1m2/2\u001b[0m \u001b[32m━━━━━━━━━━━━━━━━━━━━\u001b[0m\u001b[37m\u001b[0m \u001b[1m0s\u001b[0m 20ms/step - loss: 0.5997 - mean_absolute_percentage_error: 130.9772 - val_loss: 0.7481 - val_mean_absolute_percentage_error: 84.5757\n",
      "Epoch 214/250\n",
      "\u001b[1m2/2\u001b[0m \u001b[32m━━━━━━━━━━━━━━━━━━━━\u001b[0m\u001b[37m\u001b[0m \u001b[1m0s\u001b[0m 27ms/step - loss: 0.5982 - mean_absolute_percentage_error: 131.1336 - val_loss: 0.7437 - val_mean_absolute_percentage_error: 84.4257\n",
      "Epoch 215/250\n",
      "\u001b[1m2/2\u001b[0m \u001b[32m━━━━━━━━━━━━━━━━━━━━\u001b[0m\u001b[37m\u001b[0m \u001b[1m0s\u001b[0m 21ms/step - loss: 0.5966 - mean_absolute_percentage_error: 131.2850 - val_loss: 0.7393 - val_mean_absolute_percentage_error: 84.2724\n",
      "Epoch 216/250\n",
      "\u001b[1m2/2\u001b[0m \u001b[32m━━━━━━━━━━━━━━━━━━━━\u001b[0m\u001b[37m\u001b[0m \u001b[1m0s\u001b[0m 20ms/step - loss: 0.5951 - mean_absolute_percentage_error: 131.4313 - val_loss: 0.7350 - val_mean_absolute_percentage_error: 84.1160\n",
      "Epoch 217/250\n",
      "\u001b[1m2/2\u001b[0m \u001b[32m━━━━━━━━━━━━━━━━━━━━\u001b[0m\u001b[37m\u001b[0m \u001b[1m0s\u001b[0m 21ms/step - loss: 0.5935 - mean_absolute_percentage_error: 131.5740 - val_loss: 0.7307 - val_mean_absolute_percentage_error: 83.9563\n",
      "Epoch 218/250\n",
      "\u001b[1m2/2\u001b[0m \u001b[32m━━━━━━━━━━━━━━━━━━━━\u001b[0m\u001b[37m\u001b[0m \u001b[1m0s\u001b[0m 20ms/step - loss: 0.5919 - mean_absolute_percentage_error: 131.7119 - val_loss: 0.7263 - val_mean_absolute_percentage_error: 83.7934\n",
      "Epoch 219/250\n",
      "\u001b[1m2/2\u001b[0m \u001b[32m━━━━━━━━━━━━━━━━━━━━\u001b[0m\u001b[37m\u001b[0m \u001b[1m0s\u001b[0m 19ms/step - loss: 0.5904 - mean_absolute_percentage_error: 131.8464 - val_loss: 0.7221 - val_mean_absolute_percentage_error: 83.6381\n",
      "Epoch 220/250\n",
      "\u001b[1m2/2\u001b[0m \u001b[32m━━━━━━━━━━━━━━━━━━━━\u001b[0m\u001b[37m\u001b[0m \u001b[1m0s\u001b[0m 19ms/step - loss: 0.5888 - mean_absolute_percentage_error: 131.9773 - val_loss: 0.7178 - val_mean_absolute_percentage_error: 83.4797\n",
      "Epoch 221/250\n",
      "\u001b[1m2/2\u001b[0m \u001b[32m━━━━━━━━━━━━━━━━━━━━\u001b[0m\u001b[37m\u001b[0m \u001b[1m0s\u001b[0m 20ms/step - loss: 0.5873 - mean_absolute_percentage_error: 132.1031 - val_loss: 0.7135 - val_mean_absolute_percentage_error: 83.3182\n",
      "Epoch 222/250\n",
      "\u001b[1m2/2\u001b[0m \u001b[32m━━━━━━━━━━━━━━━━━━━━\u001b[0m\u001b[37m\u001b[0m \u001b[1m0s\u001b[0m 18ms/step - loss: 0.5857 - mean_absolute_percentage_error: 132.2235 - val_loss: 0.7093 - val_mean_absolute_percentage_error: 83.1535\n",
      "Epoch 223/250\n",
      "\u001b[1m2/2\u001b[0m \u001b[32m━━━━━━━━━━━━━━━━━━━━\u001b[0m\u001b[37m\u001b[0m \u001b[1m0s\u001b[0m 19ms/step - loss: 0.5841 - mean_absolute_percentage_error: 132.3391 - val_loss: 0.7051 - val_mean_absolute_percentage_error: 82.9856\n",
      "Epoch 224/250\n",
      "\u001b[1m2/2\u001b[0m \u001b[32m━━━━━━━━━━━━━━━━━━━━\u001b[0m\u001b[37m\u001b[0m \u001b[1m0s\u001b[0m 19ms/step - loss: 0.5826 - mean_absolute_percentage_error: 132.4507 - val_loss: 0.7009 - val_mean_absolute_percentage_error: 82.8146\n",
      "Epoch 225/250\n",
      "\u001b[1m2/2\u001b[0m \u001b[32m━━━━━━━━━━━━━━━━━━━━\u001b[0m\u001b[37m\u001b[0m \u001b[1m0s\u001b[0m 27ms/step - loss: 0.5810 - mean_absolute_percentage_error: 132.5571 - val_loss: 0.6967 - val_mean_absolute_percentage_error: 82.6406\n",
      "Epoch 226/250\n",
      "\u001b[1m2/2\u001b[0m \u001b[32m━━━━━━━━━━━━━━━━━━━━\u001b[0m\u001b[37m\u001b[0m \u001b[1m0s\u001b[0m 19ms/step - loss: 0.5795 - mean_absolute_percentage_error: 132.6580 - val_loss: 0.6925 - val_mean_absolute_percentage_error: 82.4636\n",
      "Epoch 227/250\n",
      "\u001b[1m2/2\u001b[0m \u001b[32m━━━━━━━━━━━━━━━━━━━━\u001b[0m\u001b[37m\u001b[0m \u001b[1m0s\u001b[0m 19ms/step - loss: 0.5779 - mean_absolute_percentage_error: 132.7536 - val_loss: 0.6884 - val_mean_absolute_percentage_error: 82.2836\n",
      "Epoch 228/250\n",
      "\u001b[1m2/2\u001b[0m \u001b[32m━━━━━━━━━━━━━━━━━━━━\u001b[0m\u001b[37m\u001b[0m \u001b[1m0s\u001b[0m 19ms/step - loss: 0.5764 - mean_absolute_percentage_error: 132.8438 - val_loss: 0.6843 - val_mean_absolute_percentage_error: 82.1006\n",
      "Epoch 229/250\n",
      "\u001b[1m2/2\u001b[0m \u001b[32m━━━━━━━━━━━━━━━━━━━━\u001b[0m\u001b[37m\u001b[0m \u001b[1m0s\u001b[0m 20ms/step - loss: 0.5748 - mean_absolute_percentage_error: 132.9286 - val_loss: 0.6802 - val_mean_absolute_percentage_error: 81.9148\n",
      "Epoch 230/250\n",
      "\u001b[1m2/2\u001b[0m \u001b[32m━━━━━━━━━━━━━━━━━━━━\u001b[0m\u001b[37m\u001b[0m \u001b[1m0s\u001b[0m 19ms/step - loss: 0.5732 - mean_absolute_percentage_error: 133.0080 - val_loss: 0.6761 - val_mean_absolute_percentage_error: 81.7261\n",
      "Epoch 231/250\n",
      "\u001b[1m2/2\u001b[0m \u001b[32m━━━━━━━━━━━━━━━━━━━━\u001b[0m\u001b[37m\u001b[0m \u001b[1m0s\u001b[0m 19ms/step - loss: 0.5717 - mean_absolute_percentage_error: 133.0820 - val_loss: 0.6721 - val_mean_absolute_percentage_error: 81.5345\n",
      "Epoch 232/250\n",
      "\u001b[1m2/2\u001b[0m \u001b[32m━━━━━━━━━━━━━━━━━━━━\u001b[0m\u001b[37m\u001b[0m \u001b[1m0s\u001b[0m 19ms/step - loss: 0.5701 - mean_absolute_percentage_error: 133.1506 - val_loss: 0.6680 - val_mean_absolute_percentage_error: 81.3403\n",
      "Epoch 233/250\n",
      "\u001b[1m2/2\u001b[0m \u001b[32m━━━━━━━━━━━━━━━━━━━━\u001b[0m\u001b[37m\u001b[0m \u001b[1m0s\u001b[0m 20ms/step - loss: 0.5686 - mean_absolute_percentage_error: 133.2139 - val_loss: 0.6640 - val_mean_absolute_percentage_error: 81.1433\n",
      "Epoch 234/250\n",
      "\u001b[1m2/2\u001b[0m \u001b[32m━━━━━━━━━━━━━━━━━━━━\u001b[0m\u001b[37m\u001b[0m \u001b[1m0s\u001b[0m 19ms/step - loss: 0.5670 - mean_absolute_percentage_error: 133.2717 - val_loss: 0.6600 - val_mean_absolute_percentage_error: 80.9436\n",
      "Epoch 235/250\n",
      "\u001b[1m2/2\u001b[0m \u001b[32m━━━━━━━━━━━━━━━━━━━━\u001b[0m\u001b[37m\u001b[0m \u001b[1m0s\u001b[0m 20ms/step - loss: 0.5655 - mean_absolute_percentage_error: 133.3241 - val_loss: 0.6561 - val_mean_absolute_percentage_error: 80.7413\n",
      "Epoch 236/250\n",
      "\u001b[1m2/2\u001b[0m \u001b[32m━━━━━━━━━━━━━━━━━━━━\u001b[0m\u001b[37m\u001b[0m \u001b[1m0s\u001b[0m 19ms/step - loss: 0.5639 - mean_absolute_percentage_error: 133.3711 - val_loss: 0.6521 - val_mean_absolute_percentage_error: 80.5364\n",
      "Epoch 237/250\n",
      "\u001b[1m2/2\u001b[0m \u001b[32m━━━━━━━━━━━━━━━━━━━━\u001b[0m\u001b[37m\u001b[0m \u001b[1m0s\u001b[0m 19ms/step - loss: 0.5624 - mean_absolute_percentage_error: 133.4127 - val_loss: 0.6482 - val_mean_absolute_percentage_error: 80.3346\n",
      "Epoch 238/250\n",
      "\u001b[1m2/2\u001b[0m \u001b[32m━━━━━━━━━━━━━━━━━━━━\u001b[0m\u001b[37m\u001b[0m \u001b[1m0s\u001b[0m 20ms/step - loss: 0.5608 - mean_absolute_percentage_error: 133.4509 - val_loss: 0.6443 - val_mean_absolute_percentage_error: 80.1434\n",
      "Epoch 239/250\n",
      "\u001b[1m2/2\u001b[0m \u001b[32m━━━━━━━━━━━━━━━━━━━━\u001b[0m\u001b[37m\u001b[0m \u001b[1m0s\u001b[0m 20ms/step - loss: 0.5593 - mean_absolute_percentage_error: 133.4847 - val_loss: 0.6405 - val_mean_absolute_percentage_error: 79.9496\n",
      "Epoch 240/250\n",
      "\u001b[1m2/2\u001b[0m \u001b[32m━━━━━━━━━━━━━━━━━━━━\u001b[0m\u001b[37m\u001b[0m \u001b[1m0s\u001b[0m 20ms/step - loss: 0.5577 - mean_absolute_percentage_error: 133.5132 - val_loss: 0.6366 - val_mean_absolute_percentage_error: 79.7532\n",
      "Epoch 241/250\n",
      "\u001b[1m2/2\u001b[0m \u001b[32m━━━━━━━━━━━━━━━━━━━━\u001b[0m\u001b[37m\u001b[0m \u001b[1m0s\u001b[0m 26ms/step - loss: 0.5562 - mean_absolute_percentage_error: 133.5362 - val_loss: 0.6328 - val_mean_absolute_percentage_error: 79.5544\n",
      "Epoch 242/250\n",
      "\u001b[1m2/2\u001b[0m \u001b[32m━━━━━━━━━━━━━━━━━━━━\u001b[0m\u001b[37m\u001b[0m \u001b[1m0s\u001b[0m 20ms/step - loss: 0.5546 - mean_absolute_percentage_error: 133.5539 - val_loss: 0.6290 - val_mean_absolute_percentage_error: 79.3811\n",
      "Epoch 243/250\n",
      "\u001b[1m2/2\u001b[0m \u001b[32m━━━━━━━━━━━━━━━━━━━━\u001b[0m\u001b[37m\u001b[0m \u001b[1m0s\u001b[0m 20ms/step - loss: 0.5531 - mean_absolute_percentage_error: 133.5662 - val_loss: 0.6252 - val_mean_absolute_percentage_error: 79.2200\n",
      "Epoch 244/250\n",
      "\u001b[1m2/2\u001b[0m \u001b[32m━━━━━━━━━━━━━━━━━━━━\u001b[0m\u001b[37m\u001b[0m \u001b[1m0s\u001b[0m 27ms/step - loss: 0.5516 - mean_absolute_percentage_error: 133.5731 - val_loss: 0.6215 - val_mean_absolute_percentage_error: 79.0570\n",
      "Epoch 245/250\n",
      "\u001b[1m2/2\u001b[0m \u001b[32m━━━━━━━━━━━━━━━━━━━━\u001b[0m\u001b[37m\u001b[0m \u001b[1m0s\u001b[0m 22ms/step - loss: 0.5500 - mean_absolute_percentage_error: 133.5752 - val_loss: 0.6177 - val_mean_absolute_percentage_error: 78.8922\n",
      "Epoch 246/250\n",
      "\u001b[1m2/2\u001b[0m \u001b[32m━━━━━━━━━━━━━━━━━━━━\u001b[0m\u001b[37m\u001b[0m \u001b[1m0s\u001b[0m 19ms/step - loss: 0.5485 - mean_absolute_percentage_error: 133.5721 - val_loss: 0.6140 - val_mean_absolute_percentage_error: 78.7256\n",
      "Epoch 247/250\n",
      "\u001b[1m2/2\u001b[0m \u001b[32m━━━━━━━━━━━━━━━━━━━━\u001b[0m\u001b[37m\u001b[0m \u001b[1m0s\u001b[0m 20ms/step - loss: 0.5470 - mean_absolute_percentage_error: 133.5637 - val_loss: 0.6103 - val_mean_absolute_percentage_error: 78.5572\n",
      "Epoch 248/250\n",
      "\u001b[1m2/2\u001b[0m \u001b[32m━━━━━━━━━━━━━━━━━━━━\u001b[0m\u001b[37m\u001b[0m \u001b[1m0s\u001b[0m 19ms/step - loss: 0.5454 - mean_absolute_percentage_error: 133.5499 - val_loss: 0.6067 - val_mean_absolute_percentage_error: 78.3871\n",
      "Epoch 249/250\n",
      "\u001b[1m2/2\u001b[0m \u001b[32m━━━━━━━━━━━━━━━━━━━━\u001b[0m\u001b[37m\u001b[0m \u001b[1m0s\u001b[0m 27ms/step - loss: 0.5439 - mean_absolute_percentage_error: 133.5308 - val_loss: 0.6030 - val_mean_absolute_percentage_error: 78.2152\n",
      "Epoch 250/250\n",
      "\u001b[1m2/2\u001b[0m \u001b[32m━━━━━━━━━━━━━━━━━━━━\u001b[0m\u001b[37m\u001b[0m \u001b[1m0s\u001b[0m 26ms/step - loss: 0.5424 - mean_absolute_percentage_error: 133.5063 - val_loss: 0.5994 - val_mean_absolute_percentage_error: 78.0417\n"
     ]
    },
    {
     "data": {
      "text/plain": [
       "<keras.src.callbacks.history.History at 0x7f6170a12d90>"
      ]
     },
     "execution_count": 159,
     "metadata": {},
     "output_type": "execute_result"
    }
   ],
   "source": [
    "model.fit(\n",
    "    x_train,\n",
    "    y_train,\n",
    "    validation_data=(x_val, y_val),\n",
    "    batch_size=ModelConfig.batch_size,\n",
    "    epochs=ModelConfig.epochs\n",
    ")"
   ]
  },
  {
   "cell_type": "markdown",
   "id": "f15c2e8d-fb7d-432f-8dd9-2535c14a1688",
   "metadata": {},
   "source": [
    "# Качество модели"
   ]
  },
  {
   "cell_type": "markdown",
   "id": "50c8f54b-b7f1-42c3-a743-b8b6e432edad",
   "metadata": {},
   "source": [
    "возьмем предпоследние 6 месяцев"
   ]
  },
  {
   "cell_type": "code",
   "execution_count": 149,
   "id": "447392dc-e559-4fd2-b208-05a1c445baa9",
   "metadata": {},
   "outputs": [
    {
     "name": "stdout",
     "output_type": "stream",
     "text": [
      "\u001b[1m1/1\u001b[0m \u001b[32m━━━━━━━━━━━━━━━━━━━━\u001b[0m\u001b[37m\u001b[0m \u001b[1m0s\u001b[0m 14ms/step - loss: 1.2551 - mean_absolute_percentage_error: 105.0614\n",
      "test loss: 1.26, test MAPE: 105.06\n"
     ]
    }
   ],
   "source": [
    "results = model.evaluate(x_test, y_test, batch_size=128)\n",
    "\n",
    "print(f'test loss: {results[0]:0.2f}, test MAPE: {results[1]:0.2f}')"
   ]
  },
  {
   "cell_type": "code",
   "execution_count": 150,
   "id": "8859a0cd-6d32-48b5-9371-0865aac8f985",
   "metadata": {},
   "outputs": [
    {
     "data": {
      "text/plain": [
       "array([-0.0826886 , -0.23777918, -0.41502556, -0.61442774, -0.83598572,\n",
       "       -1.0132321 ])"
      ]
     },
     "execution_count": 150,
     "metadata": {},
     "output_type": "execute_result"
    }
   ],
   "source": [
    "pred_last_x = df.iloc[6:12].z_goal.values\n",
    "pred_last_x"
   ]
  },
  {
   "cell_type": "markdown",
   "id": "87775cff-b009-4764-afd2-f2072809cc67",
   "metadata": {},
   "source": [
    "тогда предсказать надо будет"
   ]
  },
  {
   "cell_type": "code",
   "execution_count": 151,
   "id": "d086cf77-cd12-4bf5-b454-2f5a148421b9",
   "metadata": {},
   "outputs": [
    {
     "data": {
      "text/html": [
       "<div>\n",
       "<style scoped>\n",
       "    .dataframe tbody tr th:only-of-type {\n",
       "        vertical-align: middle;\n",
       "    }\n",
       "\n",
       "    .dataframe tbody tr th {\n",
       "        vertical-align: top;\n",
       "    }\n",
       "\n",
       "    .dataframe thead th {\n",
       "        text-align: right;\n",
       "    }\n",
       "</style>\n",
       "<table border=\"1\" class=\"dataframe\">\n",
       "  <thead>\n",
       "    <tr style=\"text-align: right;\">\n",
       "      <th></th>\n",
       "      <th>date</th>\n",
       "      <th>goal</th>\n",
       "    </tr>\n",
       "  </thead>\n",
       "  <tbody>\n",
       "    <tr>\n",
       "      <th>299</th>\n",
       "      <td>2024-01-31</td>\n",
       "      <td>107.4</td>\n",
       "    </tr>\n",
       "    <tr>\n",
       "      <th>298</th>\n",
       "      <td>2023-12-31</td>\n",
       "      <td>107.4</td>\n",
       "    </tr>\n",
       "    <tr>\n",
       "      <th>297</th>\n",
       "      <td>2023-11-30</td>\n",
       "      <td>107.5</td>\n",
       "    </tr>\n",
       "  </tbody>\n",
       "</table>\n",
       "</div>"
      ],
      "text/plain": [
       "           date   goal\n",
       "299  2024-01-31  107.4\n",
       "298  2023-12-31  107.4\n",
       "297  2023-11-30  107.5"
      ]
     },
     "execution_count": 151,
     "metadata": {},
     "output_type": "execute_result"
    }
   ],
   "source": [
    "df[['date', 'goal']].iloc[3:6]"
   ]
  },
  {
   "cell_type": "code",
   "execution_count": 152,
   "id": "a3e31ace-b2f5-4549-bb2b-7055b72a3ccd",
   "metadata": {},
   "outputs": [
    {
     "name": "stdout",
     "output_type": "stream",
     "text": [
      "\u001b[1m1/1\u001b[0m \u001b[32m━━━━━━━━━━━━━━━━━━━━\u001b[0m\u001b[37m\u001b[0m \u001b[1m0s\u001b[0m 144ms/step\n"
     ]
    },
    {
     "data": {
      "text/plain": [
       "array([[107.42727 , 107.303024, 107.37627 ]], dtype=float32)"
      ]
     },
     "execution_count": 152,
     "metadata": {},
     "output_type": "execute_result"
    }
   ],
   "source": [
    "x = np.array([pred_last_x])\n",
    "x = np.reshape(x, (x.shape[0], ModelConfig.lookback, 1))\n",
    "\n",
    "z_transformer.inverse_transform(model.predict(x))"
   ]
  }
 ],
 "metadata": {
  "kernelspec": {
   "display_name": "Python 3 (ipykernel)",
   "language": "python",
   "name": "python3"
  },
  "language_info": {
   "codemirror_mode": {
    "name": "ipython",
    "version": 3
   },
   "file_extension": ".py",
   "mimetype": "text/x-python",
   "name": "python",
   "nbconvert_exporter": "python",
   "pygments_lexer": "ipython3",
   "version": "3.11.8"
  }
 },
 "nbformat": 4,
 "nbformat_minor": 5
}
