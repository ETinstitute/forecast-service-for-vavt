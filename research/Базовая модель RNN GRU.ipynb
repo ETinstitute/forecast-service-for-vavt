{
 "cells": [
  {
   "cell_type": "markdown",
   "id": "b0cf98b0-1b13-4b94-9859-43189ef946a4",
   "metadata": {},
   "source": [
    "# Импорт данных\n",
    "\n",
    "На примере прогноза ИПЦ в процентах к соответствующему периоду предыдущего года"
   ]
  },
  {
   "cell_type": "code",
   "execution_count": 1,
   "id": "5f258f39-474a-4d96-9c4b-d946638d42cb",
   "metadata": {},
   "outputs": [],
   "source": [
    "import pandas as pd\n",
    "from datetime import date"
   ]
  },
  {
   "cell_type": "code",
   "execution_count": 31,
   "id": "73a0590f-fca8-42b8-98c8-2a9345ba9b22",
   "metadata": {},
   "outputs": [
    {
     "data": {
      "text/html": [
       "<div>\n",
       "<style scoped>\n",
       "    .dataframe tbody tr th:only-of-type {\n",
       "        vertical-align: middle;\n",
       "    }\n",
       "\n",
       "    .dataframe tbody tr th {\n",
       "        vertical-align: top;\n",
       "    }\n",
       "\n",
       "    .dataframe thead th {\n",
       "        text-align: right;\n",
       "    }\n",
       "</style>\n",
       "<table border=\"1\" class=\"dataframe\">\n",
       "  <thead>\n",
       "    <tr style=\"text-align: right;\">\n",
       "      <th></th>\n",
       "      <th>date</th>\n",
       "      <th>goal</th>\n",
       "    </tr>\n",
       "  </thead>\n",
       "  <tbody>\n",
       "    <tr>\n",
       "      <th>302</th>\n",
       "      <td>2024-04-30</td>\n",
       "      <td>107.8</td>\n",
       "    </tr>\n",
       "    <tr>\n",
       "      <th>301</th>\n",
       "      <td>2024-03-31</td>\n",
       "      <td>107.7</td>\n",
       "    </tr>\n",
       "    <tr>\n",
       "      <th>300</th>\n",
       "      <td>2024-02-29</td>\n",
       "      <td>107.7</td>\n",
       "    </tr>\n",
       "  </tbody>\n",
       "</table>\n",
       "</div>"
      ],
      "text/plain": [
       "           date   goal\n",
       "302  2024-04-30  107.8\n",
       "301  2024-03-31  107.7\n",
       "300  2024-02-29  107.7"
      ]
     },
     "execution_count": 31,
     "metadata": {},
     "output_type": "execute_result"
    }
   ],
   "source": [
    "df = pd.read_csv('Индекс потребительских цен, Россия — Диаграмма.csv', sep=';')\n",
    "\n",
    "df.columns = ['uuid', 'date', 'goal']\n",
    "df.drop(columns=['uuid'], inplace=True)\n",
    "df.date = pd.to_datetime(df.date, format='%d.%m.%Y').dt.date\n",
    "df = df.sort_values(by='date', ascending=False)\n",
    "\n",
    "df.head(3)"
   ]
  },
  {
   "cell_type": "markdown",
   "id": "b96a2fbe-8f2c-4689-851d-18f03f929b1e",
   "metadata": {},
   "source": [
    "# Предобработка\n",
    "\n",
    "Оставим только значения с 2014 года, т.к. до этого времени у ЦБ были другой таргет, санкций на РФ было меньше, экономика была другой и прочее"
   ]
  },
  {
   "cell_type": "code",
   "execution_count": 48,
   "id": "af1cf4ae-069f-4b3c-860b-998ef086b0b9",
   "metadata": {},
   "outputs": [],
   "source": [
    "df = df[df.date > date(year=2015, month=1, day=1)]"
   ]
  },
  {
   "cell_type": "markdown",
   "id": "ff74f411-13f7-4a69-8ad4-e5de292fcff6",
   "metadata": {},
   "source": [
    "Приведем к значениям от 0 до 1, чтобы улучшить качество нейросети. Выберем для этого один из двух нормализаторов"
   ]
  },
  {
   "cell_type": "code",
   "execution_count": 35,
   "id": "7c617e84-4624-4f96-af32-fe1bfa88580a",
   "metadata": {},
   "outputs": [],
   "source": [
    "from sklearn.preprocessing import StandardScaler"
   ]
  },
  {
   "cell_type": "code",
   "execution_count": 49,
   "id": "0d14aec1-3373-474c-b29c-132301bd3c57",
   "metadata": {},
   "outputs": [
    {
     "data": {
      "text/html": [
       "<div>\n",
       "<style scoped>\n",
       "    .dataframe tbody tr th:only-of-type {\n",
       "        vertical-align: middle;\n",
       "    }\n",
       "\n",
       "    .dataframe tbody tr th {\n",
       "        vertical-align: top;\n",
       "    }\n",
       "\n",
       "    .dataframe thead th {\n",
       "        text-align: right;\n",
       "    }\n",
       "</style>\n",
       "<table border=\"1\" class=\"dataframe\">\n",
       "  <thead>\n",
       "    <tr style=\"text-align: right;\">\n",
       "      <th></th>\n",
       "      <th>date</th>\n",
       "      <th>goal</th>\n",
       "      <th>z_goal</th>\n",
       "    </tr>\n",
       "  </thead>\n",
       "  <tbody>\n",
       "    <tr>\n",
       "      <th>302</th>\n",
       "      <td>2024-04-30</td>\n",
       "      <td>107.8</td>\n",
       "      <td>0.161025</td>\n",
       "    </tr>\n",
       "    <tr>\n",
       "      <th>301</th>\n",
       "      <td>2024-03-31</td>\n",
       "      <td>107.7</td>\n",
       "      <td>0.138869</td>\n",
       "    </tr>\n",
       "    <tr>\n",
       "      <th>300</th>\n",
       "      <td>2024-02-29</td>\n",
       "      <td>107.7</td>\n",
       "      <td>0.138869</td>\n",
       "    </tr>\n",
       "  </tbody>\n",
       "</table>\n",
       "</div>"
      ],
      "text/plain": [
       "           date   goal    z_goal\n",
       "302  2024-04-30  107.8  0.161025\n",
       "301  2024-03-31  107.7  0.138869\n",
       "300  2024-02-29  107.7  0.138869"
      ]
     },
     "execution_count": 49,
     "metadata": {},
     "output_type": "execute_result"
    }
   ],
   "source": [
    "z_transformer = StandardScaler().fit(df[['goal']])\n",
    "df['z_goal'] = z_transformer.transform(df[['goal']])\n",
    "\n",
    "df.head(3)"
   ]
  },
  {
   "cell_type": "markdown",
   "id": "92492f00-1c7b-4f78-9ead-02d5c7759050",
   "metadata": {},
   "source": [
    "и обратно переводим"
   ]
  },
  {
   "cell_type": "code",
   "execution_count": 50,
   "id": "fd8abaab-177b-4444-9003-4026e79582bd",
   "metadata": {},
   "outputs": [
    {
     "data": {
      "text/plain": [
       "array([[107.8],\n",
       "       [107.7],\n",
       "       [107.7]])"
      ]
     },
     "execution_count": 50,
     "metadata": {},
     "output_type": "execute_result"
    }
   ],
   "source": [
    "z_transformer.inverse_transform(df[['z_goal']])[:3]"
   ]
  },
  {
   "cell_type": "markdown",
   "id": "25d3313c-a4d1-4300-8aec-222018421641",
   "metadata": {},
   "source": [
    "# Создание модели"
   ]
  },
  {
   "cell_type": "code",
   "execution_count": 58,
   "id": "4e0c1575-b7a5-4420-aa1b-6227a356bd23",
   "metadata": {},
   "outputs": [],
   "source": [
    "import tensorflow as tf\n",
    "from tensorflow.keras import Sequential\n",
    "from tensorflow.keras.metrics import MeanAbsolutePercentageError\n",
    "from tensorflow.keras.layers import GRU, BatchNormalization, Dropout, Dense, TimeDistributed"
   ]
  },
  {
   "cell_type": "markdown",
   "id": "bc4458cc-68ee-466f-88c5-7e20e6f32196",
   "metadata": {},
   "source": [
    "## Гиперпараметры модели"
   ]
  },
  {
   "cell_type": "code",
   "execution_count": 59,
   "id": "cffc5855-fd6e-42fd-bd83-3025cae532cf",
   "metadata": {},
   "outputs": [],
   "source": [
    "from dataclasses import dataclass, field"
   ]
  },
  {
   "cell_type": "code",
   "execution_count": 76,
   "id": "6eaa0489-c221-4686-a613-3f48756ae828",
   "metadata": {},
   "outputs": [],
   "source": [
    "@dataclass\n",
    "class ModelConfig:\n",
    "    lookback         = 6   # сколько берем данных для прогноза\n",
    "    forecast_horizon = 3   # на сколько делаем прогноз\n",
    "    batch_size       = 256\n",
    "    n_layers         = 2\n",
    "    dropout_rate     = 0.2\n",
    "    epochs           = 100\n",
    "    \n",
    "    input_shape: tuple = (lookback, 1)"
   ]
  },
  {
   "cell_type": "markdown",
   "id": "a13aebd2-4208-4a4b-ac1b-d0507e455421",
   "metadata": {},
   "source": [
    "## Сама модель"
   ]
  },
  {
   "cell_type": "code",
   "execution_count": 77,
   "id": "3123c011-2f60-4f9a-a83d-2fa7f4370206",
   "metadata": {},
   "outputs": [
    {
     "name": "stderr",
     "output_type": "stream",
     "text": [
      "/home/misha/.local/lib/python3.11/site-packages/keras/src/layers/rnn/rnn.py:204: UserWarning: Do not pass an `input_shape`/`input_dim` argument to a layer. When using Sequential models, prefer using an `Input(shape)` object as the first layer in the model instead.\n",
      "  super().__init__(**kwargs)\n"
     ]
    },
    {
     "data": {
      "text/html": [
       "<pre style=\"white-space:pre;overflow-x:auto;line-height:normal;font-family:Menlo,'DejaVu Sans Mono',consolas,'Courier New',monospace\"><span style=\"font-weight: bold\">Model: \"sequential_5\"</span>\n",
       "</pre>\n"
      ],
      "text/plain": [
       "\u001b[1mModel: \"sequential_5\"\u001b[0m\n"
      ]
     },
     "metadata": {},
     "output_type": "display_data"
    },
    {
     "data": {
      "text/html": [
       "<pre style=\"white-space:pre;overflow-x:auto;line-height:normal;font-family:Menlo,'DejaVu Sans Mono',consolas,'Courier New',monospace\">┏━━━━━━━━━━━━━━━━━━━━━━━━━━━━━━━━━┳━━━━━━━━━━━━━━━━━━━━━━━━┳━━━━━━━━━━━━━━━┓\n",
       "┃<span style=\"font-weight: bold\"> Layer (type)                    </span>┃<span style=\"font-weight: bold\"> Output Shape           </span>┃<span style=\"font-weight: bold\">       Param # </span>┃\n",
       "┡━━━━━━━━━━━━━━━━━━━━━━━━━━━━━━━━━╇━━━━━━━━━━━━━━━━━━━━━━━━╇━━━━━━━━━━━━━━━┩\n",
       "│ gru_25 (<span style=\"color: #0087ff; text-decoration-color: #0087ff\">GRU</span>)                    │ (<span style=\"color: #00d7ff; text-decoration-color: #00d7ff\">None</span>, <span style=\"color: #00af00; text-decoration-color: #00af00\">6</span>, <span style=\"color: #00af00; text-decoration-color: #00af00\">256</span>)         │       <span style=\"color: #00af00; text-decoration-color: #00af00\">198,912</span> │\n",
       "├─────────────────────────────────┼────────────────────────┼───────────────┤\n",
       "│ batch_normalization_25          │ (<span style=\"color: #00d7ff; text-decoration-color: #00d7ff\">None</span>, <span style=\"color: #00af00; text-decoration-color: #00af00\">6</span>, <span style=\"color: #00af00; text-decoration-color: #00af00\">256</span>)         │         <span style=\"color: #00af00; text-decoration-color: #00af00\">1,024</span> │\n",
       "│ (<span style=\"color: #0087ff; text-decoration-color: #0087ff\">BatchNormalization</span>)            │                        │               │\n",
       "├─────────────────────────────────┼────────────────────────┼───────────────┤\n",
       "│ dropout_25 (<span style=\"color: #0087ff; text-decoration-color: #0087ff\">Dropout</span>)            │ (<span style=\"color: #00d7ff; text-decoration-color: #00d7ff\">None</span>, <span style=\"color: #00af00; text-decoration-color: #00af00\">6</span>, <span style=\"color: #00af00; text-decoration-color: #00af00\">256</span>)         │             <span style=\"color: #00af00; text-decoration-color: #00af00\">0</span> │\n",
       "├─────────────────────────────────┼────────────────────────┼───────────────┤\n",
       "│ gru_26 (<span style=\"color: #0087ff; text-decoration-color: #0087ff\">GRU</span>)                    │ (<span style=\"color: #00d7ff; text-decoration-color: #00d7ff\">None</span>, <span style=\"color: #00af00; text-decoration-color: #00af00\">6</span>, <span style=\"color: #00af00; text-decoration-color: #00af00\">256</span>)         │       <span style=\"color: #00af00; text-decoration-color: #00af00\">394,752</span> │\n",
       "├─────────────────────────────────┼────────────────────────┼───────────────┤\n",
       "│ batch_normalization_26          │ (<span style=\"color: #00d7ff; text-decoration-color: #00d7ff\">None</span>, <span style=\"color: #00af00; text-decoration-color: #00af00\">6</span>, <span style=\"color: #00af00; text-decoration-color: #00af00\">256</span>)         │         <span style=\"color: #00af00; text-decoration-color: #00af00\">1,024</span> │\n",
       "│ (<span style=\"color: #0087ff; text-decoration-color: #0087ff\">BatchNormalization</span>)            │                        │               │\n",
       "├─────────────────────────────────┼────────────────────────┼───────────────┤\n",
       "│ dropout_26 (<span style=\"color: #0087ff; text-decoration-color: #0087ff\">Dropout</span>)            │ (<span style=\"color: #00d7ff; text-decoration-color: #00d7ff\">None</span>, <span style=\"color: #00af00; text-decoration-color: #00af00\">6</span>, <span style=\"color: #00af00; text-decoration-color: #00af00\">256</span>)         │             <span style=\"color: #00af00; text-decoration-color: #00af00\">0</span> │\n",
       "├─────────────────────────────────┼────────────────────────┼───────────────┤\n",
       "│ gru_27 (<span style=\"color: #0087ff; text-decoration-color: #0087ff\">GRU</span>)                    │ (<span style=\"color: #00d7ff; text-decoration-color: #00d7ff\">None</span>, <span style=\"color: #00af00; text-decoration-color: #00af00\">256</span>)            │       <span style=\"color: #00af00; text-decoration-color: #00af00\">394,752</span> │\n",
       "├─────────────────────────────────┼────────────────────────┼───────────────┤\n",
       "│ batch_normalization_27          │ (<span style=\"color: #00d7ff; text-decoration-color: #00d7ff\">None</span>, <span style=\"color: #00af00; text-decoration-color: #00af00\">256</span>)            │         <span style=\"color: #00af00; text-decoration-color: #00af00\">1,024</span> │\n",
       "│ (<span style=\"color: #0087ff; text-decoration-color: #0087ff\">BatchNormalization</span>)            │                        │               │\n",
       "├─────────────────────────────────┼────────────────────────┼───────────────┤\n",
       "│ dropout_27 (<span style=\"color: #0087ff; text-decoration-color: #0087ff\">Dropout</span>)            │ (<span style=\"color: #00d7ff; text-decoration-color: #00d7ff\">None</span>, <span style=\"color: #00af00; text-decoration-color: #00af00\">256</span>)            │             <span style=\"color: #00af00; text-decoration-color: #00af00\">0</span> │\n",
       "├─────────────────────────────────┼────────────────────────┼───────────────┤\n",
       "│ dense_5 (<span style=\"color: #0087ff; text-decoration-color: #0087ff\">Dense</span>)                 │ (<span style=\"color: #00d7ff; text-decoration-color: #00d7ff\">None</span>, <span style=\"color: #00af00; text-decoration-color: #00af00\">3</span>)              │           <span style=\"color: #00af00; text-decoration-color: #00af00\">771</span> │\n",
       "└─────────────────────────────────┴────────────────────────┴───────────────┘\n",
       "</pre>\n"
      ],
      "text/plain": [
       "┏━━━━━━━━━━━━━━━━━━━━━━━━━━━━━━━━━┳━━━━━━━━━━━━━━━━━━━━━━━━┳━━━━━━━━━━━━━━━┓\n",
       "┃\u001b[1m \u001b[0m\u001b[1mLayer (type)                   \u001b[0m\u001b[1m \u001b[0m┃\u001b[1m \u001b[0m\u001b[1mOutput Shape          \u001b[0m\u001b[1m \u001b[0m┃\u001b[1m \u001b[0m\u001b[1m      Param #\u001b[0m\u001b[1m \u001b[0m┃\n",
       "┡━━━━━━━━━━━━━━━━━━━━━━━━━━━━━━━━━╇━━━━━━━━━━━━━━━━━━━━━━━━╇━━━━━━━━━━━━━━━┩\n",
       "│ gru_25 (\u001b[38;5;33mGRU\u001b[0m)                    │ (\u001b[38;5;45mNone\u001b[0m, \u001b[38;5;34m6\u001b[0m, \u001b[38;5;34m256\u001b[0m)         │       \u001b[38;5;34m198,912\u001b[0m │\n",
       "├─────────────────────────────────┼────────────────────────┼───────────────┤\n",
       "│ batch_normalization_25          │ (\u001b[38;5;45mNone\u001b[0m, \u001b[38;5;34m6\u001b[0m, \u001b[38;5;34m256\u001b[0m)         │         \u001b[38;5;34m1,024\u001b[0m │\n",
       "│ (\u001b[38;5;33mBatchNormalization\u001b[0m)            │                        │               │\n",
       "├─────────────────────────────────┼────────────────────────┼───────────────┤\n",
       "│ dropout_25 (\u001b[38;5;33mDropout\u001b[0m)            │ (\u001b[38;5;45mNone\u001b[0m, \u001b[38;5;34m6\u001b[0m, \u001b[38;5;34m256\u001b[0m)         │             \u001b[38;5;34m0\u001b[0m │\n",
       "├─────────────────────────────────┼────────────────────────┼───────────────┤\n",
       "│ gru_26 (\u001b[38;5;33mGRU\u001b[0m)                    │ (\u001b[38;5;45mNone\u001b[0m, \u001b[38;5;34m6\u001b[0m, \u001b[38;5;34m256\u001b[0m)         │       \u001b[38;5;34m394,752\u001b[0m │\n",
       "├─────────────────────────────────┼────────────────────────┼───────────────┤\n",
       "│ batch_normalization_26          │ (\u001b[38;5;45mNone\u001b[0m, \u001b[38;5;34m6\u001b[0m, \u001b[38;5;34m256\u001b[0m)         │         \u001b[38;5;34m1,024\u001b[0m │\n",
       "│ (\u001b[38;5;33mBatchNormalization\u001b[0m)            │                        │               │\n",
       "├─────────────────────────────────┼────────────────────────┼───────────────┤\n",
       "│ dropout_26 (\u001b[38;5;33mDropout\u001b[0m)            │ (\u001b[38;5;45mNone\u001b[0m, \u001b[38;5;34m6\u001b[0m, \u001b[38;5;34m256\u001b[0m)         │             \u001b[38;5;34m0\u001b[0m │\n",
       "├─────────────────────────────────┼────────────────────────┼───────────────┤\n",
       "│ gru_27 (\u001b[38;5;33mGRU\u001b[0m)                    │ (\u001b[38;5;45mNone\u001b[0m, \u001b[38;5;34m256\u001b[0m)            │       \u001b[38;5;34m394,752\u001b[0m │\n",
       "├─────────────────────────────────┼────────────────────────┼───────────────┤\n",
       "│ batch_normalization_27          │ (\u001b[38;5;45mNone\u001b[0m, \u001b[38;5;34m256\u001b[0m)            │         \u001b[38;5;34m1,024\u001b[0m │\n",
       "│ (\u001b[38;5;33mBatchNormalization\u001b[0m)            │                        │               │\n",
       "├─────────────────────────────────┼────────────────────────┼───────────────┤\n",
       "│ dropout_27 (\u001b[38;5;33mDropout\u001b[0m)            │ (\u001b[38;5;45mNone\u001b[0m, \u001b[38;5;34m256\u001b[0m)            │             \u001b[38;5;34m0\u001b[0m │\n",
       "├─────────────────────────────────┼────────────────────────┼───────────────┤\n",
       "│ dense_5 (\u001b[38;5;33mDense\u001b[0m)                 │ (\u001b[38;5;45mNone\u001b[0m, \u001b[38;5;34m3\u001b[0m)              │           \u001b[38;5;34m771\u001b[0m │\n",
       "└─────────────────────────────────┴────────────────────────┴───────────────┘\n"
      ]
     },
     "metadata": {},
     "output_type": "display_data"
    },
    {
     "data": {
      "text/html": [
       "<pre style=\"white-space:pre;overflow-x:auto;line-height:normal;font-family:Menlo,'DejaVu Sans Mono',consolas,'Courier New',monospace\"><span style=\"font-weight: bold\"> Total params: </span><span style=\"color: #00af00; text-decoration-color: #00af00\">992,259</span> (3.79 MB)\n",
       "</pre>\n"
      ],
      "text/plain": [
       "\u001b[1m Total params: \u001b[0m\u001b[38;5;34m992,259\u001b[0m (3.79 MB)\n"
      ]
     },
     "metadata": {},
     "output_type": "display_data"
    },
    {
     "data": {
      "text/html": [
       "<pre style=\"white-space:pre;overflow-x:auto;line-height:normal;font-family:Menlo,'DejaVu Sans Mono',consolas,'Courier New',monospace\"><span style=\"font-weight: bold\"> Trainable params: </span><span style=\"color: #00af00; text-decoration-color: #00af00\">990,723</span> (3.78 MB)\n",
       "</pre>\n"
      ],
      "text/plain": [
       "\u001b[1m Trainable params: \u001b[0m\u001b[38;5;34m990,723\u001b[0m (3.78 MB)\n"
      ]
     },
     "metadata": {},
     "output_type": "display_data"
    },
    {
     "data": {
      "text/html": [
       "<pre style=\"white-space:pre;overflow-x:auto;line-height:normal;font-family:Menlo,'DejaVu Sans Mono',consolas,'Courier New',monospace\"><span style=\"font-weight: bold\"> Non-trainable params: </span><span style=\"color: #00af00; text-decoration-color: #00af00\">1,536</span> (6.00 KB)\n",
       "</pre>\n"
      ],
      "text/plain": [
       "\u001b[1m Non-trainable params: \u001b[0m\u001b[38;5;34m1,536\u001b[0m (6.00 KB)\n"
      ]
     },
     "metadata": {},
     "output_type": "display_data"
    }
   ],
   "source": [
    "model = Sequential()\n",
    "\n",
    "for _ in range(ModelConfig.n_layers):\n",
    "    model.add(GRU(units=ModelConfig.batch_size, return_sequences=True, input_shape=ModelConfig.input_shape))\n",
    "    model.add(BatchNormalization())\n",
    "    model.add(Dropout(ModelConfig.dropout_rate))\n",
    "\n",
    "model.add(GRU(units=ModelConfig.batch_size, return_sequences=False))\n",
    "model.add(BatchNormalization())\n",
    "model.add(Dropout(ModelConfig.dropout_rate))\n",
    "\n",
    "# model.add(Dense(units=32, activation='relu'))\n",
    "model.add(Dense(units=ModelConfig.forecast_horizon, activation='relu'))\n",
    "\n",
    "model.summary()"
   ]
  },
  {
   "cell_type": "code",
   "execution_count": 78,
   "id": "46cd4c68-3529-4125-abbe-00f97a9a0503",
   "metadata": {},
   "outputs": [],
   "source": [
    "model.compile(optimizer='adam', loss='mean_squared_error', metrics=[MeanAbsolutePercentageError()])"
   ]
  },
  {
   "cell_type": "markdown",
   "id": "d68ecc59-7cd5-43cf-a68f-8350aa91bd68",
   "metadata": {},
   "source": [
    "# Обучение модели"
   ]
  },
  {
   "cell_type": "code",
   "execution_count": 79,
   "id": "0e248edd-d7db-45e2-84d4-911059fbdd67",
   "metadata": {},
   "outputs": [],
   "source": [
    "import numpy as np\n",
    "from typing import Iterable\n",
    "from sklearn.model_selection import train_test_split"
   ]
  },
  {
   "cell_type": "code",
   "execution_count": 80,
   "id": "01320bcc-c714-4cac-bcea-89fc9487fc4a",
   "metadata": {},
   "outputs": [],
   "source": [
    "def prepare_rnn_data(data: Iterable, lookback: int, horizon: int) -> tuple[np.array, np.array]:\n",
    "    \"\"\"\n",
    "    Создает батчи по lookback месяцев для иксов и по horizon месяца для игреков\n",
    "    \n",
    "    Также приводит к формату данных для RNN\n",
    "    \"\"\"\n",
    "    \n",
    "    data_range = range(lookback, len(data) - horizon + 1)\n",
    "    \n",
    "    x = np.array([data[i - lookback:i] for i in data_range])\n",
    "    x = np.reshape(x, (x.shape[0], lookback, 1))\n",
    "\n",
    "    y = np.array([data[i:i + horizon] for i in data_range])\n",
    "    \n",
    "    return x, y"
   ]
  },
  {
   "cell_type": "code",
   "execution_count": 81,
   "id": "b65b963e-4859-479c-8f96-2b5562deb69c",
   "metadata": {},
   "outputs": [
    {
     "name": "stdout",
     "output_type": "stream",
     "text": [
      "X.shape = (104, 6, 1), y.shape = (104, 3)\n"
     ]
    }
   ],
   "source": [
    "X, y = prepare_rnn_data(df['z_goal'].values, ModelConfig.lookback, ModelConfig.forecast_horizon)\n",
    "\n",
    "print(f'{X.shape = }, {y.shape = }')"
   ]
  },
  {
   "cell_type": "code",
   "execution_count": 84,
   "id": "9a3f541d-aaf4-4ea3-aa8a-446b0b050b6c",
   "metadata": {},
   "outputs": [],
   "source": [
    "x_train, x_test, y_train, y_test = train_test_split(X, y, test_size=0.2, random_state=1)\n",
    "x_val, y_val = x_test[10:], y_test[10:]"
   ]
  },
  {
   "cell_type": "code",
   "execution_count": 85,
   "id": "834f2511-1cea-4f91-9bb4-de2b287071c0",
   "metadata": {},
   "outputs": [
    {
     "name": "stdout",
     "output_type": "stream",
     "text": [
      "Epoch 1/100\n",
      "\u001b[1m1/1\u001b[0m \u001b[32m━━━━━━━━━━━━━━━━━━━━\u001b[0m\u001b[37m\u001b[0m \u001b[1m0s\u001b[0m 102ms/step - loss: 0.5463 - mean_absolute_percentage_error: 108.2552 - val_loss: 1.8067 - val_mean_absolute_percentage_error: 100.0000\n",
      "Epoch 2/100\n",
      "\u001b[1m1/1\u001b[0m \u001b[32m━━━━━━━━━━━━━━━━━━━━\u001b[0m\u001b[37m\u001b[0m \u001b[1m0s\u001b[0m 73ms/step - loss: 0.5483 - mean_absolute_percentage_error: 89.5840 - val_loss: 1.8037 - val_mean_absolute_percentage_error: 99.9501\n",
      "Epoch 3/100\n",
      "\u001b[1m1/1\u001b[0m \u001b[32m━━━━━━━━━━━━━━━━━━━━\u001b[0m\u001b[37m\u001b[0m \u001b[1m0s\u001b[0m 75ms/step - loss: 0.6178 - mean_absolute_percentage_error: 107.1767 - val_loss: 1.7846 - val_mean_absolute_percentage_error: 99.7016\n",
      "Epoch 4/100\n",
      "\u001b[1m1/1\u001b[0m \u001b[32m━━━━━━━━━━━━━━━━━━━━\u001b[0m\u001b[37m\u001b[0m \u001b[1m0s\u001b[0m 76ms/step - loss: 0.5649 - mean_absolute_percentage_error: 95.6777 - val_loss: 1.7524 - val_mean_absolute_percentage_error: 99.2648\n",
      "Epoch 5/100\n",
      "\u001b[1m1/1\u001b[0m \u001b[32m━━━━━━━━━━━━━━━━━━━━\u001b[0m\u001b[37m\u001b[0m \u001b[1m0s\u001b[0m 83ms/step - loss: 0.6467 - mean_absolute_percentage_error: 103.9692 - val_loss: 1.7419 - val_mean_absolute_percentage_error: 99.1182\n",
      "Epoch 6/100\n",
      "\u001b[1m1/1\u001b[0m \u001b[32m━━━━━━━━━━━━━━━━━━━━\u001b[0m\u001b[37m\u001b[0m \u001b[1m0s\u001b[0m 77ms/step - loss: 0.6244 - mean_absolute_percentage_error: 107.3130 - val_loss: 1.7529 - val_mean_absolute_percentage_error: 99.2696\n",
      "Epoch 7/100\n",
      "\u001b[1m1/1\u001b[0m \u001b[32m━━━━━━━━━━━━━━━━━━━━\u001b[0m\u001b[37m\u001b[0m \u001b[1m0s\u001b[0m 75ms/step - loss: 0.6060 - mean_absolute_percentage_error: 112.1322 - val_loss: 1.7817 - val_mean_absolute_percentage_error: 99.6607\n",
      "Epoch 8/100\n",
      "\u001b[1m1/1\u001b[0m \u001b[32m━━━━━━━━━━━━━━━━━━━━\u001b[0m\u001b[37m\u001b[0m \u001b[1m0s\u001b[0m 79ms/step - loss: 0.6170 - mean_absolute_percentage_error: 104.8809 - val_loss: 1.8063 - val_mean_absolute_percentage_error: 99.9923\n",
      "Epoch 9/100\n",
      "\u001b[1m1/1\u001b[0m \u001b[32m━━━━━━━━━━━━━━━━━━━━\u001b[0m\u001b[37m\u001b[0m \u001b[1m0s\u001b[0m 75ms/step - loss: 0.5569 - mean_absolute_percentage_error: 106.0803 - val_loss: 1.8067 - val_mean_absolute_percentage_error: 100.0000\n",
      "Epoch 10/100\n",
      "\u001b[1m1/1\u001b[0m \u001b[32m━━━━━━━━━━━━━━━━━━━━\u001b[0m\u001b[37m\u001b[0m \u001b[1m0s\u001b[0m 74ms/step - loss: 0.5965 - mean_absolute_percentage_error: 96.2491 - val_loss: 1.8067 - val_mean_absolute_percentage_error: 100.0000\n",
      "Epoch 11/100\n",
      "\u001b[1m1/1\u001b[0m \u001b[32m━━━━━━━━━━━━━━━━━━━━\u001b[0m\u001b[37m\u001b[0m \u001b[1m0s\u001b[0m 78ms/step - loss: 0.5958 - mean_absolute_percentage_error: 100.9388 - val_loss: 1.8067 - val_mean_absolute_percentage_error: 100.0000\n",
      "Epoch 12/100\n",
      "\u001b[1m1/1\u001b[0m \u001b[32m━━━━━━━━━━━━━━━━━━━━\u001b[0m\u001b[37m\u001b[0m \u001b[1m0s\u001b[0m 69ms/step - loss: 0.6689 - mean_absolute_percentage_error: 123.0061 - val_loss: 1.8067 - val_mean_absolute_percentage_error: 100.0000\n",
      "Epoch 13/100\n",
      "\u001b[1m1/1\u001b[0m \u001b[32m━━━━━━━━━━━━━━━━━━━━\u001b[0m\u001b[37m\u001b[0m \u001b[1m0s\u001b[0m 80ms/step - loss: 0.6377 - mean_absolute_percentage_error: 103.3305 - val_loss: 1.8067 - val_mean_absolute_percentage_error: 100.0000\n",
      "Epoch 14/100\n",
      "\u001b[1m1/1\u001b[0m \u001b[32m━━━━━━━━━━━━━━━━━━━━\u001b[0m\u001b[37m\u001b[0m \u001b[1m0s\u001b[0m 80ms/step - loss: 0.5685 - mean_absolute_percentage_error: 94.1198 - val_loss: 1.8067 - val_mean_absolute_percentage_error: 100.0000\n",
      "Epoch 15/100\n",
      "\u001b[1m1/1\u001b[0m \u001b[32m━━━━━━━━━━━━━━━━━━━━\u001b[0m\u001b[37m\u001b[0m \u001b[1m0s\u001b[0m 70ms/step - loss: 0.6551 - mean_absolute_percentage_error: 116.2665 - val_loss: 1.8067 - val_mean_absolute_percentage_error: 100.0000\n",
      "Epoch 16/100\n",
      "\u001b[1m1/1\u001b[0m \u001b[32m━━━━━━━━━━━━━━━━━━━━\u001b[0m\u001b[37m\u001b[0m \u001b[1m0s\u001b[0m 79ms/step - loss: 0.5820 - mean_absolute_percentage_error: 104.9022 - val_loss: 1.8067 - val_mean_absolute_percentage_error: 100.0000\n",
      "Epoch 17/100\n",
      "\u001b[1m1/1\u001b[0m \u001b[32m━━━━━━━━━━━━━━━━━━━━\u001b[0m\u001b[37m\u001b[0m \u001b[1m0s\u001b[0m 71ms/step - loss: 0.6347 - mean_absolute_percentage_error: 102.7352 - val_loss: 1.7990 - val_mean_absolute_percentage_error: 99.8864\n",
      "Epoch 18/100\n",
      "\u001b[1m1/1\u001b[0m \u001b[32m━━━━━━━━━━━━━━━━━━━━\u001b[0m\u001b[37m\u001b[0m \u001b[1m0s\u001b[0m 79ms/step - loss: 0.5649 - mean_absolute_percentage_error: 95.6453 - val_loss: 1.7650 - val_mean_absolute_percentage_error: 99.4318\n",
      "Epoch 19/100\n",
      "\u001b[1m1/1\u001b[0m \u001b[32m━━━━━━━━━━━━━━━━━━━━\u001b[0m\u001b[37m\u001b[0m \u001b[1m0s\u001b[0m 78ms/step - loss: 0.6000 - mean_absolute_percentage_error: 94.5617 - val_loss: 1.7276 - val_mean_absolute_percentage_error: 98.9116\n",
      "Epoch 20/100\n",
      "\u001b[1m1/1\u001b[0m \u001b[32m━━━━━━━━━━━━━━━━━━━━\u001b[0m\u001b[37m\u001b[0m \u001b[1m0s\u001b[0m 107ms/step - loss: 0.6059 - mean_absolute_percentage_error: 104.3985 - val_loss: 1.7108 - val_mean_absolute_percentage_error: 98.6696\n",
      "Epoch 21/100\n",
      "\u001b[1m1/1\u001b[0m \u001b[32m━━━━━━━━━━━━━━━━━━━━\u001b[0m\u001b[37m\u001b[0m \u001b[1m0s\u001b[0m 146ms/step - loss: 0.6240 - mean_absolute_percentage_error: 97.0938 - val_loss: 1.6919 - val_mean_absolute_percentage_error: 98.3918\n",
      "Epoch 22/100\n",
      "\u001b[1m1/1\u001b[0m \u001b[32m━━━━━━━━━━━━━━━━━━━━\u001b[0m\u001b[37m\u001b[0m \u001b[1m0s\u001b[0m 69ms/step - loss: 0.5605 - mean_absolute_percentage_error: 97.2454 - val_loss: 1.6799 - val_mean_absolute_percentage_error: 98.2109\n",
      "Epoch 23/100\n",
      "\u001b[1m1/1\u001b[0m \u001b[32m━━━━━━━━━━━━━━━━━━━━\u001b[0m\u001b[37m\u001b[0m \u001b[1m0s\u001b[0m 76ms/step - loss: 0.6193 - mean_absolute_percentage_error: 109.0210 - val_loss: 1.6746 - val_mean_absolute_percentage_error: 98.1303\n",
      "Epoch 24/100\n",
      "\u001b[1m1/1\u001b[0m \u001b[32m━━━━━━━━━━━━━━━━━━━━\u001b[0m\u001b[37m\u001b[0m \u001b[1m0s\u001b[0m 190ms/step - loss: 0.6126 - mean_absolute_percentage_error: 113.5393 - val_loss: 1.6811 - val_mean_absolute_percentage_error: 98.2284\n",
      "Epoch 25/100\n",
      "\u001b[1m1/1\u001b[0m \u001b[32m━━━━━━━━━━━━━━━━━━━━\u001b[0m\u001b[37m\u001b[0m \u001b[1m0s\u001b[0m 78ms/step - loss: 0.5947 - mean_absolute_percentage_error: 101.3988 - val_loss: 1.6624 - val_mean_absolute_percentage_error: 97.9409\n",
      "Epoch 26/100\n",
      "\u001b[1m1/1\u001b[0m \u001b[32m━━━━━━━━━━━━━━━━━━━━\u001b[0m\u001b[37m\u001b[0m \u001b[1m0s\u001b[0m 80ms/step - loss: 0.5984 - mean_absolute_percentage_error: 101.4635 - val_loss: 1.6551 - val_mean_absolute_percentage_error: 97.8250\n",
      "Epoch 27/100\n",
      "\u001b[1m1/1\u001b[0m \u001b[32m━━━━━━━━━━━━━━━━━━━━\u001b[0m\u001b[37m\u001b[0m \u001b[1m0s\u001b[0m 78ms/step - loss: 0.5893 - mean_absolute_percentage_error: 113.9663 - val_loss: 1.6461 - val_mean_absolute_percentage_error: 97.6812\n",
      "Epoch 28/100\n",
      "\u001b[1m1/1\u001b[0m \u001b[32m━━━━━━━━━━━━━━━━━━━━\u001b[0m\u001b[37m\u001b[0m \u001b[1m0s\u001b[0m 75ms/step - loss: 0.5056 - mean_absolute_percentage_error: 97.7754 - val_loss: 1.6289 - val_mean_absolute_percentage_error: 97.4025\n",
      "Epoch 29/100\n",
      "\u001b[1m1/1\u001b[0m \u001b[32m━━━━━━━━━━━━━━━━━━━━\u001b[0m\u001b[37m\u001b[0m \u001b[1m0s\u001b[0m 79ms/step - loss: 0.5660 - mean_absolute_percentage_error: 94.3689 - val_loss: 1.6122 - val_mean_absolute_percentage_error: 97.1232\n",
      "Epoch 30/100\n",
      "\u001b[1m1/1\u001b[0m \u001b[32m━━━━━━━━━━━━━━━━━━━━\u001b[0m\u001b[37m\u001b[0m \u001b[1m0s\u001b[0m 76ms/step - loss: 0.6092 - mean_absolute_percentage_error: 108.5626 - val_loss: 1.6143 - val_mean_absolute_percentage_error: 97.1590\n",
      "Epoch 31/100\n",
      "\u001b[1m1/1\u001b[0m \u001b[32m━━━━━━━━━━━━━━━━━━━━\u001b[0m\u001b[37m\u001b[0m \u001b[1m0s\u001b[0m 78ms/step - loss: 0.5464 - mean_absolute_percentage_error: 100.9594 - val_loss: 1.6228 - val_mean_absolute_percentage_error: 97.2996\n",
      "Epoch 32/100\n",
      "\u001b[1m1/1\u001b[0m \u001b[32m━━━━━━━━━━━━━━━━━━━━\u001b[0m\u001b[37m\u001b[0m \u001b[1m0s\u001b[0m 70ms/step - loss: 0.5533 - mean_absolute_percentage_error: 97.1524 - val_loss: 1.6258 - val_mean_absolute_percentage_error: 97.3485\n",
      "Epoch 33/100\n",
      "\u001b[1m1/1\u001b[0m \u001b[32m━━━━━━━━━━━━━━━━━━━━\u001b[0m\u001b[37m\u001b[0m \u001b[1m0s\u001b[0m 73ms/step - loss: 0.5507 - mean_absolute_percentage_error: 99.8826 - val_loss: 1.6300 - val_mean_absolute_percentage_error: 97.4161\n",
      "Epoch 34/100\n",
      "\u001b[1m1/1\u001b[0m \u001b[32m━━━━━━━━━━━━━━━━━━━━\u001b[0m\u001b[37m\u001b[0m \u001b[1m0s\u001b[0m 82ms/step - loss: 0.5513 - mean_absolute_percentage_error: 104.8867 - val_loss: 1.6273 - val_mean_absolute_percentage_error: 97.3714\n",
      "Epoch 35/100\n",
      "\u001b[1m1/1\u001b[0m \u001b[32m━━━━━━━━━━━━━━━━━━━━\u001b[0m\u001b[37m\u001b[0m \u001b[1m0s\u001b[0m 69ms/step - loss: 0.6022 - mean_absolute_percentage_error: 93.7557 - val_loss: 1.6285 - val_mean_absolute_percentage_error: 97.3894\n",
      "Epoch 36/100\n",
      "\u001b[1m1/1\u001b[0m \u001b[32m━━━━━━━━━━━━━━━━━━━━\u001b[0m\u001b[37m\u001b[0m \u001b[1m0s\u001b[0m 80ms/step - loss: 0.5222 - mean_absolute_percentage_error: 97.9555 - val_loss: 1.6353 - val_mean_absolute_percentage_error: 97.4992\n",
      "Epoch 37/100\n",
      "\u001b[1m1/1\u001b[0m \u001b[32m━━━━━━━━━━━━━━━━━━━━\u001b[0m\u001b[37m\u001b[0m \u001b[1m0s\u001b[0m 73ms/step - loss: 0.5854 - mean_absolute_percentage_error: 110.6896 - val_loss: 1.6405 - val_mean_absolute_percentage_error: 97.5815\n",
      "Epoch 38/100\n",
      "\u001b[1m1/1\u001b[0m \u001b[32m━━━━━━━━━━━━━━━━━━━━\u001b[0m\u001b[37m\u001b[0m \u001b[1m0s\u001b[0m 77ms/step - loss: 0.6056 - mean_absolute_percentage_error: 109.1974 - val_loss: 1.6386 - val_mean_absolute_percentage_error: 97.5514\n",
      "Epoch 39/100\n",
      "\u001b[1m1/1\u001b[0m \u001b[32m━━━━━━━━━━━━━━━━━━━━\u001b[0m\u001b[37m\u001b[0m \u001b[1m0s\u001b[0m 77ms/step - loss: 0.5353 - mean_absolute_percentage_error: 105.4707 - val_loss: 1.6360 - val_mean_absolute_percentage_error: 97.5082\n",
      "Epoch 40/100\n",
      "\u001b[1m1/1\u001b[0m \u001b[32m━━━━━━━━━━━━━━━━━━━━\u001b[0m\u001b[37m\u001b[0m \u001b[1m0s\u001b[0m 108ms/step - loss: 0.5486 - mean_absolute_percentage_error: 110.7627 - val_loss: 1.6395 - val_mean_absolute_percentage_error: 97.5644\n",
      "Epoch 41/100\n",
      "\u001b[1m1/1\u001b[0m \u001b[32m━━━━━━━━━━━━━━━━━━━━\u001b[0m\u001b[37m\u001b[0m \u001b[1m0s\u001b[0m 127ms/step - loss: 0.5660 - mean_absolute_percentage_error: 105.5971 - val_loss: 1.6341 - val_mean_absolute_percentage_error: 97.4766\n",
      "Epoch 42/100\n",
      "\u001b[1m1/1\u001b[0m \u001b[32m━━━━━━━━━━━━━━━━━━━━\u001b[0m\u001b[37m\u001b[0m \u001b[1m0s\u001b[0m 74ms/step - loss: 0.5817 - mean_absolute_percentage_error: 105.7921 - val_loss: 1.6152 - val_mean_absolute_percentage_error: 97.1632\n",
      "Epoch 43/100\n",
      "\u001b[1m1/1\u001b[0m \u001b[32m━━━━━━━━━━━━━━━━━━━━\u001b[0m\u001b[37m\u001b[0m \u001b[1m0s\u001b[0m 83ms/step - loss: 0.6093 - mean_absolute_percentage_error: 105.5304 - val_loss: 1.6088 - val_mean_absolute_percentage_error: 97.0514\n",
      "Epoch 44/100\n",
      "\u001b[1m1/1\u001b[0m \u001b[32m━━━━━━━━━━━━━━━━━━━━\u001b[0m\u001b[37m\u001b[0m \u001b[1m0s\u001b[0m 74ms/step - loss: 0.5864 - mean_absolute_percentage_error: 111.4887 - val_loss: 1.6041 - val_mean_absolute_percentage_error: 96.9715\n",
      "Epoch 45/100\n",
      "\u001b[1m1/1\u001b[0m \u001b[32m━━━━━━━━━━━━━━━━━━━━\u001b[0m\u001b[37m\u001b[0m \u001b[1m0s\u001b[0m 68ms/step - loss: 0.5766 - mean_absolute_percentage_error: 101.7789 - val_loss: 1.6075 - val_mean_absolute_percentage_error: 97.0282\n",
      "Epoch 46/100\n",
      "\u001b[1m1/1\u001b[0m \u001b[32m━━━━━━━━━━━━━━━━━━━━\u001b[0m\u001b[37m\u001b[0m \u001b[1m0s\u001b[0m 78ms/step - loss: 0.5686 - mean_absolute_percentage_error: 112.5469 - val_loss: 1.6106 - val_mean_absolute_percentage_error: 97.0791\n",
      "Epoch 47/100\n",
      "\u001b[1m1/1\u001b[0m \u001b[32m━━━━━━━━━━━━━━━━━━━━\u001b[0m\u001b[37m\u001b[0m \u001b[1m0s\u001b[0m 75ms/step - loss: 0.5623 - mean_absolute_percentage_error: 97.0507 - val_loss: 1.6139 - val_mean_absolute_percentage_error: 97.1345\n",
      "Epoch 48/100\n",
      "\u001b[1m1/1\u001b[0m \u001b[32m━━━━━━━━━━━━━━━━━━━━\u001b[0m\u001b[37m\u001b[0m \u001b[1m0s\u001b[0m 85ms/step - loss: 0.5353 - mean_absolute_percentage_error: 103.9849 - val_loss: 1.6153 - val_mean_absolute_percentage_error: 97.1558\n",
      "Epoch 49/100\n",
      "\u001b[1m1/1\u001b[0m \u001b[32m━━━━━━━━━━━━━━━━━━━━\u001b[0m\u001b[37m\u001b[0m \u001b[1m0s\u001b[0m 80ms/step - loss: 0.5847 - mean_absolute_percentage_error: 96.4424 - val_loss: 1.6146 - val_mean_absolute_percentage_error: 97.1420\n",
      "Epoch 50/100\n",
      "\u001b[1m1/1\u001b[0m \u001b[32m━━━━━━━━━━━━━━━━━━━━\u001b[0m\u001b[37m\u001b[0m \u001b[1m0s\u001b[0m 66ms/step - loss: 0.5403 - mean_absolute_percentage_error: 101.9671 - val_loss: 1.6075 - val_mean_absolute_percentage_error: 97.0204\n",
      "Epoch 51/100\n",
      "\u001b[1m1/1\u001b[0m \u001b[32m━━━━━━━━━━━━━━━━━━━━\u001b[0m\u001b[37m\u001b[0m \u001b[1m0s\u001b[0m 71ms/step - loss: 0.5590 - mean_absolute_percentage_error: 97.5347 - val_loss: 1.6002 - val_mean_absolute_percentage_error: 96.8912\n",
      "Epoch 52/100\n",
      "\u001b[1m1/1\u001b[0m \u001b[32m━━━━━━━━━━━━━━━━━━━━\u001b[0m\u001b[37m\u001b[0m \u001b[1m0s\u001b[0m 80ms/step - loss: 0.5388 - mean_absolute_percentage_error: 97.8460 - val_loss: 1.5777 - val_mean_absolute_percentage_error: 96.4918\n",
      "Epoch 53/100\n",
      "\u001b[1m1/1\u001b[0m \u001b[32m━━━━━━━━━━━━━━━━━━━━\u001b[0m\u001b[37m\u001b[0m \u001b[1m0s\u001b[0m 74ms/step - loss: 0.5204 - mean_absolute_percentage_error: 93.4112 - val_loss: 1.5521 - val_mean_absolute_percentage_error: 96.0131\n",
      "Epoch 54/100\n",
      "\u001b[1m1/1\u001b[0m \u001b[32m━━━━━━━━━━━━━━━━━━━━\u001b[0m\u001b[37m\u001b[0m \u001b[1m0s\u001b[0m 74ms/step - loss: 0.5719 - mean_absolute_percentage_error: 95.0727 - val_loss: 1.5335 - val_mean_absolute_percentage_error: 95.6483\n",
      "Epoch 55/100\n",
      "\u001b[1m1/1\u001b[0m \u001b[32m━━━━━━━━━━━━━━━━━━━━\u001b[0m\u001b[37m\u001b[0m \u001b[1m0s\u001b[0m 81ms/step - loss: 0.5169 - mean_absolute_percentage_error: 109.7907 - val_loss: 1.5293 - val_mean_absolute_percentage_error: 95.5622\n",
      "Epoch 56/100\n",
      "\u001b[1m1/1\u001b[0m \u001b[32m━━━━━━━━━━━━━━━━━━━━\u001b[0m\u001b[37m\u001b[0m \u001b[1m0s\u001b[0m 77ms/step - loss: 0.6211 - mean_absolute_percentage_error: 108.6599 - val_loss: 1.5362 - val_mean_absolute_percentage_error: 95.6991\n",
      "Epoch 57/100\n",
      "\u001b[1m1/1\u001b[0m \u001b[32m━━━━━━━━━━━━━━━━━━━━\u001b[0m\u001b[37m\u001b[0m \u001b[1m0s\u001b[0m 82ms/step - loss: 0.5088 - mean_absolute_percentage_error: 98.7519 - val_loss: 1.5467 - val_mean_absolute_percentage_error: 95.9020\n",
      "Epoch 58/100\n",
      "\u001b[1m1/1\u001b[0m \u001b[32m━━━━━━━━━━━━━━━━━━━━\u001b[0m\u001b[37m\u001b[0m \u001b[1m0s\u001b[0m 83ms/step - loss: 0.5409 - mean_absolute_percentage_error: 92.2084 - val_loss: 1.5610 - val_mean_absolute_percentage_error: 96.1736\n",
      "Epoch 59/100\n",
      "\u001b[1m1/1\u001b[0m \u001b[32m━━━━━━━━━━━━━━━━━━━━\u001b[0m\u001b[37m\u001b[0m \u001b[1m0s\u001b[0m 82ms/step - loss: 0.5524 - mean_absolute_percentage_error: 98.3510 - val_loss: 1.5668 - val_mean_absolute_percentage_error: 96.2795\n",
      "Epoch 60/100\n",
      "\u001b[1m1/1\u001b[0m \u001b[32m━━━━━━━━━━━━━━━━━━━━\u001b[0m\u001b[37m\u001b[0m \u001b[1m0s\u001b[0m 72ms/step - loss: 0.5196 - mean_absolute_percentage_error: 98.7020 - val_loss: 1.5689 - val_mean_absolute_percentage_error: 96.3195\n",
      "Epoch 61/100\n",
      "\u001b[1m1/1\u001b[0m \u001b[32m━━━━━━━━━━━━━━━━━━━━\u001b[0m\u001b[37m\u001b[0m \u001b[1m0s\u001b[0m 71ms/step - loss: 0.5581 - mean_absolute_percentage_error: 101.9549 - val_loss: 1.5656 - val_mean_absolute_percentage_error: 96.2605\n",
      "Epoch 62/100\n",
      "\u001b[1m1/1\u001b[0m \u001b[32m━━━━━━━━━━━━━━━━━━━━\u001b[0m\u001b[37m\u001b[0m \u001b[1m0s\u001b[0m 89ms/step - loss: 0.5216 - mean_absolute_percentage_error: 97.2555 - val_loss: 1.5554 - val_mean_absolute_percentage_error: 96.0704\n",
      "Epoch 63/100\n",
      "\u001b[1m1/1\u001b[0m \u001b[32m━━━━━━━━━━━━━━━━━━━━\u001b[0m\u001b[37m\u001b[0m \u001b[1m0s\u001b[0m 71ms/step - loss: 0.5448 - mean_absolute_percentage_error: 99.4087 - val_loss: 1.5362 - val_mean_absolute_percentage_error: 95.7231\n",
      "Epoch 64/100\n",
      "\u001b[1m1/1\u001b[0m \u001b[32m━━━━━━━━━━━━━━━━━━━━\u001b[0m\u001b[37m\u001b[0m \u001b[1m0s\u001b[0m 74ms/step - loss: 0.5290 - mean_absolute_percentage_error: 109.7587 - val_loss: 1.5039 - val_mean_absolute_percentage_error: 95.1471\n",
      "Epoch 65/100\n",
      "\u001b[1m1/1\u001b[0m \u001b[32m━━━━━━━━━━━━━━━━━━━━\u001b[0m\u001b[37m\u001b[0m \u001b[1m0s\u001b[0m 78ms/step - loss: 0.5336 - mean_absolute_percentage_error: 94.1731 - val_loss: 1.4611 - val_mean_absolute_percentage_error: 94.4590\n",
      "Epoch 66/100\n",
      "\u001b[1m1/1\u001b[0m \u001b[32m━━━━━━━━━━━━━━━━━━━━\u001b[0m\u001b[37m\u001b[0m \u001b[1m0s\u001b[0m 80ms/step - loss: 0.5530 - mean_absolute_percentage_error: 95.2821 - val_loss: 1.4078 - val_mean_absolute_percentage_error: 93.6058\n",
      "Epoch 67/100\n",
      "\u001b[1m1/1\u001b[0m \u001b[32m━━━━━━━━━━━━━━━━━━━━\u001b[0m\u001b[37m\u001b[0m \u001b[1m0s\u001b[0m 74ms/step - loss: 0.5745 - mean_absolute_percentage_error: 105.3830 - val_loss: 1.3983 - val_mean_absolute_percentage_error: 93.4098\n",
      "Epoch 68/100\n",
      "\u001b[1m1/1\u001b[0m \u001b[32m━━━━━━━━━━━━━━━━━━━━\u001b[0m\u001b[37m\u001b[0m \u001b[1m0s\u001b[0m 168ms/step - loss: 0.5887 - mean_absolute_percentage_error: 108.1357 - val_loss: 1.4250 - val_mean_absolute_percentage_error: 93.7066\n",
      "Epoch 69/100\n",
      "\u001b[1m1/1\u001b[0m \u001b[32m━━━━━━━━━━━━━━━━━━━━\u001b[0m\u001b[37m\u001b[0m \u001b[1m0s\u001b[0m 77ms/step - loss: 0.5476 - mean_absolute_percentage_error: 106.3571 - val_loss: 1.4658 - val_mean_absolute_percentage_error: 94.3405\n",
      "Epoch 70/100\n",
      "\u001b[1m1/1\u001b[0m \u001b[32m━━━━━━━━━━━━━━━━━━━━\u001b[0m\u001b[37m\u001b[0m \u001b[1m0s\u001b[0m 79ms/step - loss: 0.6002 - mean_absolute_percentage_error: 109.0397 - val_loss: 1.5037 - val_mean_absolute_percentage_error: 95.0244\n",
      "Epoch 71/100\n",
      "\u001b[1m1/1\u001b[0m \u001b[32m━━━━━━━━━━━━━━━━━━━━\u001b[0m\u001b[37m\u001b[0m \u001b[1m0s\u001b[0m 77ms/step - loss: 0.5968 - mean_absolute_percentage_error: 96.0696 - val_loss: 1.5226 - val_mean_absolute_percentage_error: 95.4169\n",
      "Epoch 72/100\n",
      "\u001b[1m1/1\u001b[0m \u001b[32m━━━━━━━━━━━━━━━━━━━━\u001b[0m\u001b[37m\u001b[0m \u001b[1m0s\u001b[0m 74ms/step - loss: 0.5670 - mean_absolute_percentage_error: 98.1376 - val_loss: 1.5524 - val_mean_absolute_percentage_error: 96.0012\n",
      "Epoch 73/100\n",
      "\u001b[1m1/1\u001b[0m \u001b[32m━━━━━━━━━━━━━━━━━━━━\u001b[0m\u001b[37m\u001b[0m \u001b[1m0s\u001b[0m 73ms/step - loss: 0.5870 - mean_absolute_percentage_error: 99.7293 - val_loss: 1.5730 - val_mean_absolute_percentage_error: 96.3825\n",
      "Epoch 74/100\n",
      "\u001b[1m1/1\u001b[0m \u001b[32m━━━━━━━━━━━━━━━━━━━━\u001b[0m\u001b[37m\u001b[0m \u001b[1m0s\u001b[0m 75ms/step - loss: 0.5368 - mean_absolute_percentage_error: 94.1236 - val_loss: 1.5812 - val_mean_absolute_percentage_error: 96.5298\n",
      "Epoch 75/100\n",
      "\u001b[1m1/1\u001b[0m \u001b[32m━━━━━━━━━━━━━━━━━━━━\u001b[0m\u001b[37m\u001b[0m \u001b[1m0s\u001b[0m 71ms/step - loss: 0.5302 - mean_absolute_percentage_error: 100.9285 - val_loss: 1.5858 - val_mean_absolute_percentage_error: 96.6139\n",
      "Epoch 76/100\n",
      "\u001b[1m1/1\u001b[0m \u001b[32m━━━━━━━━━━━━━━━━━━━━\u001b[0m\u001b[37m\u001b[0m \u001b[1m0s\u001b[0m 76ms/step - loss: 0.5750 - mean_absolute_percentage_error: 93.1356 - val_loss: 1.5853 - val_mean_absolute_percentage_error: 96.6033\n",
      "Epoch 77/100\n",
      "\u001b[1m1/1\u001b[0m \u001b[32m━━━━━━━━━━━━━━━━━━━━\u001b[0m\u001b[37m\u001b[0m \u001b[1m0s\u001b[0m 93ms/step - loss: 0.5544 - mean_absolute_percentage_error: 105.4474 - val_loss: 1.5725 - val_mean_absolute_percentage_error: 96.3705\n",
      "Epoch 78/100\n",
      "\u001b[1m1/1\u001b[0m \u001b[32m━━━━━━━━━━━━━━━━━━━━\u001b[0m\u001b[37m\u001b[0m \u001b[1m0s\u001b[0m 84ms/step - loss: 0.5141 - mean_absolute_percentage_error: 97.0413 - val_loss: 1.5761 - val_mean_absolute_percentage_error: 96.4373\n",
      "Epoch 79/100\n",
      "\u001b[1m1/1\u001b[0m \u001b[32m━━━━━━━━━━━━━━━━━━━━\u001b[0m\u001b[37m\u001b[0m \u001b[1m0s\u001b[0m 75ms/step - loss: 0.5346 - mean_absolute_percentage_error: 93.6232 - val_loss: 1.5738 - val_mean_absolute_percentage_error: 96.3940\n",
      "Epoch 80/100\n",
      "\u001b[1m1/1\u001b[0m \u001b[32m━━━━━━━━━━━━━━━━━━━━\u001b[0m\u001b[37m\u001b[0m \u001b[1m0s\u001b[0m 80ms/step - loss: 0.5297 - mean_absolute_percentage_error: 106.5751 - val_loss: 1.5666 - val_mean_absolute_percentage_error: 96.2608\n",
      "Epoch 81/100\n",
      "\u001b[1m1/1\u001b[0m \u001b[32m━━━━━━━━━━━━━━━━━━━━\u001b[0m\u001b[37m\u001b[0m \u001b[1m0s\u001b[0m 73ms/step - loss: 0.5532 - mean_absolute_percentage_error: 110.8048 - val_loss: 1.5665 - val_mean_absolute_percentage_error: 96.2595\n",
      "Epoch 82/100\n",
      "\u001b[1m1/1\u001b[0m \u001b[32m━━━━━━━━━━━━━━━━━━━━\u001b[0m\u001b[37m\u001b[0m \u001b[1m0s\u001b[0m 78ms/step - loss: 0.5397 - mean_absolute_percentage_error: 102.3253 - val_loss: 1.5563 - val_mean_absolute_percentage_error: 96.0692\n",
      "Epoch 83/100\n",
      "\u001b[1m1/1\u001b[0m \u001b[32m━━━━━━━━━━━━━━━━━━━━\u001b[0m\u001b[37m\u001b[0m \u001b[1m0s\u001b[0m 75ms/step - loss: 0.5267 - mean_absolute_percentage_error: 95.1846 - val_loss: 1.5372 - val_mean_absolute_percentage_error: 95.7138\n",
      "Epoch 84/100\n",
      "\u001b[1m1/1\u001b[0m \u001b[32m━━━━━━━━━━━━━━━━━━━━\u001b[0m\u001b[37m\u001b[0m \u001b[1m0s\u001b[0m 79ms/step - loss: 0.5802 - mean_absolute_percentage_error: 102.2442 - val_loss: 1.5240 - val_mean_absolute_percentage_error: 95.4418\n",
      "Epoch 85/100\n",
      "\u001b[1m1/1\u001b[0m \u001b[32m━━━━━━━━━━━━━━━━━━━━\u001b[0m\u001b[37m\u001b[0m \u001b[1m0s\u001b[0m 73ms/step - loss: 0.5426 - mean_absolute_percentage_error: 99.9572 - val_loss: 1.5264 - val_mean_absolute_percentage_error: 95.4667\n",
      "Epoch 86/100\n",
      "\u001b[1m1/1\u001b[0m \u001b[32m━━━━━━━━━━━━━━━━━━━━\u001b[0m\u001b[37m\u001b[0m \u001b[1m0s\u001b[0m 83ms/step - loss: 0.5682 - mean_absolute_percentage_error: 102.5901 - val_loss: 1.5367 - val_mean_absolute_percentage_error: 95.6684\n",
      "Epoch 87/100\n",
      "\u001b[1m1/1\u001b[0m \u001b[32m━━━━━━━━━━━━━━━━━━━━\u001b[0m\u001b[37m\u001b[0m \u001b[1m0s\u001b[0m 92ms/step - loss: 0.5464 - mean_absolute_percentage_error: 94.9459 - val_loss: 1.5368 - val_mean_absolute_percentage_error: 95.6672\n",
      "Epoch 88/100\n",
      "\u001b[1m1/1\u001b[0m \u001b[32m━━━━━━━━━━━━━━━━━━━━\u001b[0m\u001b[37m\u001b[0m \u001b[1m0s\u001b[0m 158ms/step - loss: 0.5497 - mean_absolute_percentage_error: 102.2729 - val_loss: 1.5474 - val_mean_absolute_percentage_error: 95.8798\n",
      "Epoch 89/100\n",
      "\u001b[1m1/1\u001b[0m \u001b[32m━━━━━━━━━━━━━━━━━━━━\u001b[0m\u001b[37m\u001b[0m \u001b[1m0s\u001b[0m 84ms/step - loss: 0.5977 - mean_absolute_percentage_error: 104.3252 - val_loss: 1.5468 - val_mean_absolute_percentage_error: 95.9087\n",
      "Epoch 90/100\n",
      "\u001b[1m1/1\u001b[0m \u001b[32m━━━━━━━━━━━━━━━━━━━━\u001b[0m\u001b[37m\u001b[0m \u001b[1m0s\u001b[0m 83ms/step - loss: 0.5191 - mean_absolute_percentage_error: 100.6426 - val_loss: 1.5507 - val_mean_absolute_percentage_error: 96.0316\n",
      "Epoch 91/100\n",
      "\u001b[1m1/1\u001b[0m \u001b[32m━━━━━━━━━━━━━━━━━━━━\u001b[0m\u001b[37m\u001b[0m \u001b[1m0s\u001b[0m 84ms/step - loss: 0.5269 - mean_absolute_percentage_error: 96.7591 - val_loss: 1.5515 - val_mean_absolute_percentage_error: 96.0635\n",
      "Epoch 92/100\n",
      "\u001b[1m1/1\u001b[0m \u001b[32m━━━━━━━━━━━━━━━━━━━━\u001b[0m\u001b[37m\u001b[0m \u001b[1m0s\u001b[0m 84ms/step - loss: 0.5281 - mean_absolute_percentage_error: 105.8383 - val_loss: 1.5669 - val_mean_absolute_percentage_error: 96.3326\n",
      "Epoch 93/100\n",
      "\u001b[1m1/1\u001b[0m \u001b[32m━━━━━━━━━━━━━━━━━━━━\u001b[0m\u001b[37m\u001b[0m \u001b[1m0s\u001b[0m 76ms/step - loss: 0.5196 - mean_absolute_percentage_error: 100.0444 - val_loss: 1.5892 - val_mean_absolute_percentage_error: 96.6544\n",
      "Epoch 94/100\n",
      "\u001b[1m1/1\u001b[0m \u001b[32m━━━━━━━━━━━━━━━━━━━━\u001b[0m\u001b[37m\u001b[0m \u001b[1m0s\u001b[0m 70ms/step - loss: 0.5279 - mean_absolute_percentage_error: 104.7592 - val_loss: 1.6101 - val_mean_absolute_percentage_error: 97.0038\n",
      "Epoch 95/100\n",
      "\u001b[1m1/1\u001b[0m \u001b[32m━━━━━━━━━━━━━━━━━━━━\u001b[0m\u001b[37m\u001b[0m \u001b[1m0s\u001b[0m 72ms/step - loss: 0.5611 - mean_absolute_percentage_error: 92.9482 - val_loss: 1.6212 - val_mean_absolute_percentage_error: 97.1856\n",
      "Epoch 96/100\n",
      "\u001b[1m1/1\u001b[0m \u001b[32m━━━━━━━━━━━━━━━━━━━━\u001b[0m\u001b[37m\u001b[0m \u001b[1m0s\u001b[0m 75ms/step - loss: 0.4893 - mean_absolute_percentage_error: 92.7674 - val_loss: 1.6318 - val_mean_absolute_percentage_error: 97.3573\n",
      "Epoch 97/100\n",
      "\u001b[1m1/1\u001b[0m \u001b[32m━━━━━━━━━━━━━━━━━━━━\u001b[0m\u001b[37m\u001b[0m \u001b[1m0s\u001b[0m 85ms/step - loss: 0.5283 - mean_absolute_percentage_error: 95.2779 - val_loss: 1.6286 - val_mean_absolute_percentage_error: 97.3003\n",
      "Epoch 98/100\n",
      "\u001b[1m1/1\u001b[0m \u001b[32m━━━━━━━━━━━━━━━━━━━━\u001b[0m\u001b[37m\u001b[0m \u001b[1m0s\u001b[0m 84ms/step - loss: 0.5780 - mean_absolute_percentage_error: 99.5692 - val_loss: 1.6103 - val_mean_absolute_percentage_error: 97.0386\n",
      "Epoch 99/100\n",
      "\u001b[1m1/1\u001b[0m \u001b[32m━━━━━━━━━━━━━━━━━━━━\u001b[0m\u001b[37m\u001b[0m \u001b[1m0s\u001b[0m 77ms/step - loss: 0.5098 - mean_absolute_percentage_error: 93.2795 - val_loss: 1.5682 - val_mean_absolute_percentage_error: 96.4673\n",
      "Epoch 100/100\n",
      "\u001b[1m1/1\u001b[0m \u001b[32m━━━━━━━━━━━━━━━━━━━━\u001b[0m\u001b[37m\u001b[0m \u001b[1m0s\u001b[0m 93ms/step - loss: 0.5408 - mean_absolute_percentage_error: 102.5022 - val_loss: 1.5021 - val_mean_absolute_percentage_error: 95.5783\n"
     ]
    },
    {
     "data": {
      "text/plain": [
       "<keras.src.callbacks.history.History at 0x7fa2b6e4a750>"
      ]
     },
     "execution_count": 85,
     "metadata": {},
     "output_type": "execute_result"
    }
   ],
   "source": [
    "model.fit(\n",
    "    x_train,\n",
    "    y_train,\n",
    "    validation_data=(x_val, y_val),\n",
    "    batch_size=ModelConfig.batch_size,\n",
    "    epochs=ModelConfig.epochs\n",
    ")"
   ]
  },
  {
   "cell_type": "markdown",
   "id": "f15c2e8d-fb7d-432f-8dd9-2535c14a1688",
   "metadata": {},
   "source": [
    "# Качество модели"
   ]
  },
  {
   "cell_type": "markdown",
   "id": "50c8f54b-b7f1-42c3-a743-b8b6e432edad",
   "metadata": {},
   "source": [
    "возьмем предпоследние 6 месяцев"
   ]
  },
  {
   "cell_type": "code",
   "execution_count": 86,
   "id": "8859a0cd-6d32-48b5-9371-0865aac8f985",
   "metadata": {},
   "outputs": [
    {
     "data": {
      "text/plain": [
       "array([-0.0826886 , -0.23777918, -0.41502556, -0.61442774, -0.83598572,\n",
       "       -1.0132321 ])"
      ]
     },
     "execution_count": 86,
     "metadata": {},
     "output_type": "execute_result"
    }
   ],
   "source": [
    "pred_last_x = df.iloc[6:12].z_goal.values\n",
    "pred_last_x"
   ]
  },
  {
   "cell_type": "markdown",
   "id": "87775cff-b009-4764-afd2-f2072809cc67",
   "metadata": {},
   "source": [
    "тогда последними будут"
   ]
  },
  {
   "cell_type": "code",
   "execution_count": 87,
   "id": "d086cf77-cd12-4bf5-b454-2f5a148421b9",
   "metadata": {},
   "outputs": [
    {
     "data": {
      "text/html": [
       "<div>\n",
       "<style scoped>\n",
       "    .dataframe tbody tr th:only-of-type {\n",
       "        vertical-align: middle;\n",
       "    }\n",
       "\n",
       "    .dataframe tbody tr th {\n",
       "        vertical-align: top;\n",
       "    }\n",
       "\n",
       "    .dataframe thead th {\n",
       "        text-align: right;\n",
       "    }\n",
       "</style>\n",
       "<table border=\"1\" class=\"dataframe\">\n",
       "  <thead>\n",
       "    <tr style=\"text-align: right;\">\n",
       "      <th></th>\n",
       "      <th>date</th>\n",
       "      <th>goal</th>\n",
       "      <th>z_goal</th>\n",
       "    </tr>\n",
       "  </thead>\n",
       "  <tbody>\n",
       "    <tr>\n",
       "      <th>299</th>\n",
       "      <td>2024-01-31</td>\n",
       "      <td>107.4</td>\n",
       "      <td>0.072402</td>\n",
       "    </tr>\n",
       "    <tr>\n",
       "      <th>298</th>\n",
       "      <td>2023-12-31</td>\n",
       "      <td>107.4</td>\n",
       "      <td>0.072402</td>\n",
       "    </tr>\n",
       "    <tr>\n",
       "      <th>297</th>\n",
       "      <td>2023-11-30</td>\n",
       "      <td>107.5</td>\n",
       "      <td>0.094558</td>\n",
       "    </tr>\n",
       "  </tbody>\n",
       "</table>\n",
       "</div>"
      ],
      "text/plain": [
       "           date   goal    z_goal\n",
       "299  2024-01-31  107.4  0.072402\n",
       "298  2023-12-31  107.4  0.072402\n",
       "297  2023-11-30  107.5  0.094558"
      ]
     },
     "execution_count": 87,
     "metadata": {},
     "output_type": "execute_result"
    }
   ],
   "source": [
    "df.iloc[3:6]"
   ]
  },
  {
   "cell_type": "code",
   "execution_count": 88,
   "id": "a3e31ace-b2f5-4549-bb2b-7055b72a3ccd",
   "metadata": {},
   "outputs": [
    {
     "data": {
      "text/plain": [
       "array([[[-0.0826886 ],\n",
       "        [-0.23777918],\n",
       "        [-0.41502556],\n",
       "        [-0.61442774],\n",
       "        [-0.83598572],\n",
       "        [-1.0132321 ]]])"
      ]
     },
     "execution_count": 88,
     "metadata": {},
     "output_type": "execute_result"
    }
   ],
   "source": [
    "x = np.array([pred_last_x])\n",
    "x = np.reshape(x, (x.shape[0], ModelConfig.lookback, 1))\n",
    "x"
   ]
  },
  {
   "cell_type": "code",
   "execution_count": 89,
   "id": "76cddc83-d9cd-4ad6-8f6a-5bfb4adf0f1e",
   "metadata": {},
   "outputs": [
    {
     "name": "stdout",
     "output_type": "stream",
     "text": [
      "\u001b[1m1/1\u001b[0m \u001b[32m━━━━━━━━━━━━━━━━━━━━\u001b[0m\u001b[37m\u001b[0m \u001b[1m0s\u001b[0m 297ms/step\n"
     ]
    },
    {
     "data": {
      "text/plain": [
       "array([[107.07321, 107.07321, 107.07321]], dtype=float32)"
      ]
     },
     "execution_count": 89,
     "metadata": {},
     "output_type": "execute_result"
    }
   ],
   "source": [
    "z_transformer.inverse_transform(model.predict(x))"
   ]
  }
 ],
 "metadata": {
  "kernelspec": {
   "display_name": "Python 3 (ipykernel)",
   "language": "python",
   "name": "python3"
  },
  "language_info": {
   "codemirror_mode": {
    "name": "ipython",
    "version": 3
   },
   "file_extension": ".py",
   "mimetype": "text/x-python",
   "name": "python",
   "nbconvert_exporter": "python",
   "pygments_lexer": "ipython3",
   "version": "3.11.8"
  }
 },
 "nbformat": 4,
 "nbformat_minor": 5
}
