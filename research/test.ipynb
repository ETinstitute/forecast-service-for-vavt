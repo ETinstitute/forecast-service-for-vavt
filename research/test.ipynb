{
 "cells": [
  {
   "cell_type": "code",
   "execution_count": 1,
   "id": "43e7f8da-2e58-4f9a-8ba4-65b6586c9003",
   "metadata": {},
   "outputs": [],
   "source": [
    "import pandas as pd\n",
    "import numpy as np "
   ]
  },
  {
   "cell_type": "code",
   "execution_count": 5,
   "id": "b2274640-349e-4b3f-8dc8-66918f15110a",
   "metadata": {},
   "outputs": [],
   "source": [
    "feature_data = [\n",
    "    np.array([1, 2 ,3]),\n",
    "    np.array([4, 5 ,6]),\n",
    "    np.array([7, 8 ,9]),\n",
    "    np.array([10, 11 ,12])\n",
    "]\n",
    "\n",
    "index_data = np.array([13, 14, 15])"
   ]
  },
  {
   "cell_type": "code",
   "execution_count": 33,
   "id": "0394092c-3266-4ede-8e34-a98b2273c563",
   "metadata": {},
   "outputs": [],
   "source": [
    "from dataclasses import dataclass \n",
    "\n",
    "class DataLakeDTO:\n",
    "    ... \n",
    "\n",
    "\n",
    "class IPPDTO(DataLakeDTO):\n",
    "    @dataclass \n",
    "    class Data:    \n",
    "        news: list[float]\n",
    "        cb_monitor: list[float]\n",
    "        bussines_clim: list[float]\n",
    "        exchange_rate: list[float]\n",
    "        rzd: list[float]\n",
    "        consumer_price: list[float]\n",
    "        curs: list[float]"
   ]
  },
  {
   "cell_type": "code",
   "execution_count": 26,
   "id": "fcf89c85-e36d-4426-a15d-144ca6538311",
   "metadata": {},
   "outputs": [],
   "source": [
    "a = IPPDTO.Data(\n",
    "    news = [1, 2, 3],\n",
    "    cb_monitor = [1, 2, 3],\n",
    "    bussines_clim = [1, 2, 3],\n",
    "    exchange_rate = [1, 2, 3],\n",
    "    rzd = [1, 2, 3],\n",
    "    consumer_price = [1, 2, 3],\n",
    "    curs = [1, 2, 3]\n",
    ")"
   ]
  },
  {
   "cell_type": "code",
   "execution_count": 34,
   "id": "2417f5a8-6cd4-4f75-a74b-f93096796e6d",
   "metadata": {},
   "outputs": [],
   "source": [
    "    feature_lags = {\n",
    "        \"news\": 1,           # Новостной индекс ЦБ\n",
    "        \"consumer_price\": 0, # Индекс цен на электроэнергию в первой ценовой зоне\n",
    "        \"exchange_rate\": 6,  # Ключевая ставка \n",
    "        \"cb_monitor\": 2,     # Промышленность. Как изменился спрос на продукцию, товары, услуги?\n",
    "        \"bussines_clim\": 2,  # Индекс бизнес климата\n",
    "        \"curs\": 0,           # Курс рубля к доллару\n",
    "        \"rzd\": 1             # Поставки РЖД\n",
    "    }"
   ]
  },
  {
   "cell_type": "code",
   "execution_count": 35,
   "id": "619da3cf-b3bf-4dfe-a329-71e34b40892f",
   "metadata": {},
   "outputs": [
    {
     "name": "stdout",
     "output_type": "stream",
     "text": [
      "1\n",
      "2\n",
      "2\n",
      "6\n",
      "1\n",
      "0\n",
      "0\n"
     ]
    }
   ],
   "source": [
    "for feature in IPPDTO.Data.__dataclass_fields__:\n",
    "    print(feature_lags.get(feature, \"not found\"))"
   ]
  },
  {
   "cell_type": "code",
   "execution_count": 8,
   "id": "b9ac182f-92f8-41e1-91f6-bab1721b5bdd",
   "metadata": {},
   "outputs": [
    {
     "data": {
      "text/html": [
       "<div>\n",
       "<style scoped>\n",
       "    .dataframe tbody tr th:only-of-type {\n",
       "        vertical-align: middle;\n",
       "    }\n",
       "\n",
       "    .dataframe tbody tr th {\n",
       "        vertical-align: top;\n",
       "    }\n",
       "\n",
       "    .dataframe thead th {\n",
       "        text-align: right;\n",
       "    }\n",
       "</style>\n",
       "<table border=\"1\" class=\"dataframe\">\n",
       "  <thead>\n",
       "    <tr style=\"text-align: right;\">\n",
       "      <th></th>\n",
       "      <th>goal</th>\n",
       "      <th>feature_1</th>\n",
       "      <th>feature</th>\n",
       "    </tr>\n",
       "  </thead>\n",
       "  <tbody>\n",
       "    <tr>\n",
       "      <th>0</th>\n",
       "      <td>13</td>\n",
       "      <td>14</td>\n",
       "      <td>15</td>\n",
       "    </tr>\n",
       "    <tr>\n",
       "      <th>1</th>\n",
       "      <td>1</td>\n",
       "      <td>2</td>\n",
       "      <td>3</td>\n",
       "    </tr>\n",
       "    <tr>\n",
       "      <th>2</th>\n",
       "      <td>4</td>\n",
       "      <td>5</td>\n",
       "      <td>6</td>\n",
       "    </tr>\n",
       "    <tr>\n",
       "      <th>3</th>\n",
       "      <td>7</td>\n",
       "      <td>8</td>\n",
       "      <td>9</td>\n",
       "    </tr>\n",
       "    <tr>\n",
       "      <th>4</th>\n",
       "      <td>10</td>\n",
       "      <td>11</td>\n",
       "      <td>12</td>\n",
       "    </tr>\n",
       "  </tbody>\n",
       "</table>\n",
       "</div>"
      ],
      "text/plain": [
       "   goal  feature_1  feature\n",
       "0    13         14       15\n",
       "1     1          2        3\n",
       "2     4          5        6\n",
       "3     7          8        9\n",
       "4    10         11       12"
      ]
     },
     "execution_count": 8,
     "metadata": {},
     "output_type": "execute_result"
    }
   ],
   "source": [
    "{\n",
    "    'goal': index_data,\n",
    "    \n",
    "}\n",
    "\n",
    "pd.DataFrame([index_data] + feature_data, columns = ['goal', 'feature_1', 'feature'])"
   ]
  },
  {
   "cell_type": "code",
   "execution_count": null,
   "id": "fe30ea14-048b-42d4-894d-68a11ada6dbb",
   "metadata": {},
   "outputs": [],
   "source": []
  }
 ],
 "metadata": {
  "kernelspec": {
   "display_name": "Python 3 (ipykernel)",
   "language": "python",
   "name": "python3"
  },
  "language_info": {
   "codemirror_mode": {
    "name": "ipython",
    "version": 3
   },
   "file_extension": ".py",
   "mimetype": "text/x-python",
   "name": "python",
   "nbconvert_exporter": "python",
   "pygments_lexer": "ipython3",
   "version": "3.11.8"
  }
 },
 "nbformat": 4,
 "nbformat_minor": 5
}
